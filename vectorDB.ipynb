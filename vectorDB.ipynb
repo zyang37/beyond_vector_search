{
 "cells": [
  {
   "cell_type": "code",
   "execution_count": 1,
   "id": "409bc93a-9ba3-4c6c-b0f2-d9dd45918461",
   "metadata": {},
   "outputs": [],
   "source": [
    "import hnswlib\n",
    "import numpy as np"
   ]
  },
  {
   "cell_type": "code",
   "execution_count": 2,
   "id": "f95920b1-3436-47f0-8868-c645146cb733",
   "metadata": {},
   "outputs": [],
   "source": [
    "def sample_vector(distribution, shape, **kwargs):\n",
    "    # shape = (num_element, dim)\n",
    "    # Example usage:\n",
    "    # vec1 = sample_vector('normal', (5,), mean=0, std=1)\n",
    "    # vec2 = sample_vector('uniform', (5,), low=0, high=1)\n",
    "    if distribution == 'normal':\n",
    "        return np.random.normal(kwargs.get('mean', 0), kwargs.get('std', 1), size=shape)\n",
    "    elif distribution == 'uniform':\n",
    "        return np.random.uniform(kwargs.get('low', 0), kwargs.get('high', 1), size=shape)\n",
    "    else:\n",
    "        return \"Unsupported distribution\"\n",
    "\n",
    "def find_KNN(dataset, query_vector, k):\n",
    "    # find kNN of the given query in the dataset. query_vector should be one vector whith shape (1, ndim) or a ndim array\n",
    "    \n",
    "    # Calculate distances from query_vector to all vectors in dataset\n",
    "    distances = np.linalg.norm(np.array(dataset) - np.array(query_vector).flatten(), axis=1)\n",
    "\n",
    "    # Get the indices of the k smallest distances\n",
    "    k_indices = np.argsort(distances)[:k]\n",
    "    \n",
    "    # Get k nearest vectors and their distances\n",
    "    k_nearest_vectors = [dataset[i] for i in k_indices]\n",
    "    k_nearest_distances = [distances[i] for i in k_indices]\n",
    "    \n",
    "    return k_indices, k_nearest_vectors, k_nearest_distances\n",
    "\n",
    "def topk_vector_accuracy(topk_vectors, retrieved_vectors):\n",
    "    # return accuracy score numbers of match vector / k\n",
    "    # Count matching vectors\n",
    "    count_matches = 0\n",
    "    for gt, est in zip(topk_vectors, retrieved_vectors):\n",
    "        match = gt==est\n",
    "        if match.all(): count_matches+=1 \n",
    "    \n",
    "    # Calculate accuracy\n",
    "    k = len(topk_vectors)\n",
    "    accuracy = count_matches / k\n",
    "    return accuracy\n",
    "\n",
    "def topk_idx_accuracy(topk_idx, retrieved_idx):\n",
    "    # return accuracy score numbers of match vector / k\n",
    "    pro_topk_idx = np.int64(topk_idx.flatten())\n",
    "    pro_retrieved_idx = np.int64(retrieved_idx.flatten())\n",
    "    \n",
    "    # Count matching vectors\n",
    "    matches = pro_topk_idx==pro_retrieved_idx\n",
    "    num_matches = sum(matches.flatten())\n",
    "    # print(num_matches)\n",
    "    \n",
    "    # Calculate accuracy\n",
    "    k = len(pro_topk_idx)\n",
    "    accuracy = num_matches / k\n",
    "    return accuracy"
   ]
  },
  {
   "cell_type": "markdown",
   "id": "24bc98a0-da16-4ef4-b981-601edca5cb0a",
   "metadata": {},
   "source": [
    "## Create index for a vector dataset"
   ]
  },
  {
   "cell_type": "code",
   "execution_count": 50,
   "id": "fd3b1f85-82ee-4c5c-975a-14945147cb3b",
   "metadata": {},
   "outputs": [
    {
     "name": "stdout",
     "output_type": "stream",
     "text": [
      "current DB size: 10000\n"
     ]
    }
   ],
   "source": [
    "dim = 32\n",
    "num_elements = 10000\n",
    "k = 10\n",
    "\n",
    "# Generating sample data\n",
    "dataset = np.float32(sample_vector('normal', (num_elements, dim), mean=0, std=1))\n",
    "ids = np.arange(num_elements)\n",
    "\n",
    "# Declaring index\n",
    "p = hnswlib.Index(space = 'l2', dim = dim) # possible options are l2, cosine or ip\n",
    "\n",
    "# Initializing index - the maximum number of elements should be known beforehand\n",
    "p.init_index(max_elements = num_elements*10, ef_construction = 200, M = 16)\n",
    "\n",
    "# Element insertion (can be called several times):\n",
    "p.add_items(dataset, ids)\n",
    "\n",
    "# Controlling the recall by setting ef:\n",
    "p.set_ef(100) # ef should always be > k\n",
    "\n",
    "print(\"current DB size:\", p.get_current_count())"
   ]
  },
  {
   "cell_type": "code",
   "execution_count": 51,
   "id": "e0dfa33c-e96b-4718-a669-06ca2e1ad732",
   "metadata": {},
   "outputs": [
    {
     "name": "stdout",
     "output_type": "stream",
     "text": [
      "Top_10 Acc: 1.0\n"
     ]
    }
   ],
   "source": [
    "vec1 = sample_vector('normal', (1, dim), mean=0, std=1)\n",
    "est_idx, distances = p.knn_query(vec1, k=k)\n",
    "gt_idx, gt_vecs, gt_distances = find_KNN(dataset, vec1, k=k)\n",
    "acc = topk_idx_accuracy(est_idx, gt_idx)\n",
    "print(\"Top_{} Acc:\".format(k), acc)"
   ]
  },
  {
   "cell_type": "code",
   "execution_count": 52,
   "id": "436afb4f-26ff-4d00-850a-23db9268022d",
   "metadata": {},
   "outputs": [
    {
     "name": "stdout",
     "output_type": "stream",
     "text": [
      "1000 runs; top_10 Acc: 0.9448000000000001\n"
     ]
    }
   ],
   "source": [
    "num_runs = 1000\n",
    "accs = []\n",
    "for i in range(num_runs):\n",
    "    vec1 = sample_vector('normal', (1, dim), mean=0, std=1)\n",
    "    est_idx, distances = p.knn_query(vec1, k=k)\n",
    "    gt_idx, gt_vecs, gt_distances = find_KNN(dataset, vec1, k=k)\n",
    "    acc = topk_idx_accuracy(est_idx, gt_idx)\n",
    "    accs.append(acc)\n",
    "\n",
    "print(\"{} runs; top_{} Acc:\".format(num_runs, k), np.average(accs))"
   ]
  },
  {
   "cell_type": "markdown",
   "id": "38fc9bdf-a1d2-4e77-9294-258370825bd2",
   "metadata": {},
   "source": [
    "## Add out-of-distribution data"
   ]
  },
  {
   "cell_type": "code",
   "execution_count": 53,
   "id": "f968a3ee-e9cb-4ff9-8a9a-155bfd05ac61",
   "metadata": {},
   "outputs": [
    {
     "name": "stdout",
     "output_type": "stream",
     "text": [
      "current DB size: 20000\n"
     ]
    }
   ],
   "source": [
    "new_data_size = num_elements\n",
    "new_mean = 0.1\n",
    "new_std = 1.1\n",
    "\n",
    "newDataset = sample_vector('normal', (new_data_size, dim), mean=new_mean, std=new_std)\n",
    "dataset = np.concatenate([dataset, newDataset])\n",
    "\n",
    "p.add_items(newDataset)\n",
    "\n",
    "print(\"current DB size:\", p.get_current_count())"
   ]
  },
  {
   "cell_type": "code",
   "execution_count": 54,
   "id": "2d9b90d9-8851-405c-b41c-699524d12745",
   "metadata": {},
   "outputs": [
    {
     "name": "stdout",
     "output_type": "stream",
     "text": [
      "Top_10 Acc: 1.0\n"
     ]
    }
   ],
   "source": [
    "vec1 = sample_vector('normal', (1, dim), mean=new_mean, std=new_std)\n",
    "est_idx, distances = p.knn_query(vec1, k=k)\n",
    "gt_idx, gt_vecs, gt_distances = find_KNN(dataset, vec1, k=k)\n",
    "acc = topk_idx_accuracy(est_idx, gt_idx)\n",
    "print(\"Top_{} Acc:\".format(k), acc)"
   ]
  },
  {
   "cell_type": "code",
   "execution_count": 58,
   "id": "a34af037-a39d-40f3-abd2-648aac1a0eac",
   "metadata": {},
   "outputs": [
    {
     "name": "stdout",
     "output_type": "stream",
     "text": [
      "1000 runs; top_10 Acc: 0.8842\n"
     ]
    }
   ],
   "source": [
    "num_runs = 1000\n",
    "accs = []\n",
    "for i in range(num_runs):\n",
    "    vec1 = sample_vector('normal', (1, dim), mean=new_mean, std=new_std)\n",
    "    est_idx, distances = p.knn_query(vec1, k=k)\n",
    "    gt_idx, gt_vecs, gt_distances = find_KNN(dataset, vec1, k=k)\n",
    "    acc = topk_idx_accuracy(est_idx, gt_idx)\n",
    "    accs.append(acc)\n",
    "\n",
    "print(\"{} runs; top_{} Acc:\".format(num_runs, k), np.average(accs))"
   ]
  },
  {
   "cell_type": "markdown",
   "id": "c6b2f4ce-d8ca-4966-a79e-8d9e6d02e2d3",
   "metadata": {},
   "source": [
    "## Re-index (NOT SURE)"
   ]
  },
  {
   "cell_type": "code",
   "execution_count": 59,
   "id": "6f1c4851-76e6-4019-8843-8e17185b7216",
   "metadata": {},
   "outputs": [
    {
     "name": "stdout",
     "output_type": "stream",
     "text": [
      "current DB size: 20000\n"
     ]
    }
   ],
   "source": [
    "# Generating sample data\n",
    "ids = np.arange(p.get_current_count())\n",
    "\n",
    "# Declaring index\n",
    "p = hnswlib.Index(space = 'l2', dim = dim) # possible options are l2, cosine or ip\n",
    "\n",
    "# Initializing index - the maximum number of elements should be known beforehand\n",
    "p.init_index(max_elements = num_elements*10, ef_construction = 200, M = 16)\n",
    "\n",
    "# Element insertion (can be called several times):\n",
    "p.add_items(dataset, ids)\n",
    "\n",
    "# Controlling the recall by setting ef:\n",
    "p.set_ef(100) # ef should always be > k\n",
    "\n",
    "print(\"current DB size:\", p.get_current_count())"
   ]
  },
  {
   "cell_type": "code",
   "execution_count": 60,
   "id": "ee0bf4fd-2344-4833-8f44-c20d285fbef4",
   "metadata": {},
   "outputs": [
    {
     "name": "stdout",
     "output_type": "stream",
     "text": [
      "1000 runs; top_10 Acc: 0.8819000000000001\n"
     ]
    }
   ],
   "source": [
    "num_runs = 1000\n",
    "accs = []\n",
    "for i in range(num_runs):\n",
    "    vec1 = sample_vector('normal', (1, dim), mean=new_mean, std=new_std)\n",
    "    est_idx, distances = p.knn_query(vec1, k=k)\n",
    "    gt_idx, gt_vecs, gt_distances = find_KNN(dataset, vec1, k=k)\n",
    "    acc = topk_idx_accuracy(est_idx, gt_idx)\n",
    "    accs.append(acc)\n",
    "\n",
    "print(\"{} runs; top_{} Acc:\".format(num_runs, k), np.average(accs))"
   ]
  },
  {
   "cell_type": "code",
   "execution_count": null,
   "id": "fae912e3-2143-4bbd-b767-fb08c5f3238f",
   "metadata": {},
   "outputs": [],
   "source": []
  }
 ],
 "metadata": {
  "kernelspec": {
   "display_name": "Python 3 (ipykernel)",
   "language": "python",
   "name": "python3"
  },
  "language_info": {
   "codemirror_mode": {
    "name": "ipython",
    "version": 3
   },
   "file_extension": ".py",
   "mimetype": "text/x-python",
   "name": "python",
   "nbconvert_exporter": "python",
   "pygments_lexer": "ipython3",
   "version": "3.9.18"
  }
 },
 "nbformat": 4,
 "nbformat_minor": 5
}
