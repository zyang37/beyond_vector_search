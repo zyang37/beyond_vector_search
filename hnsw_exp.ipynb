{
 "cells": [
  {
   "cell_type": "code",
   "execution_count": 328,
   "id": "27bc2611-11cb-44b9-94cb-0499eb1da67a",
   "metadata": {},
   "outputs": [],
   "source": [
    "import hnswlib\n",
    "import numpy as np\n",
    "import pickle\n",
    "import numpy as np \n",
    "from matplotlib import pyplot as plt "
   ]
  },
  {
   "cell_type": "code",
   "execution_count": 155,
   "id": "492dac8b-c5e1-48ec-a154-617d4fd8f300",
   "metadata": {},
   "outputs": [],
   "source": [
    "dim = 1\n",
    "num_elements = 1000"
   ]
  },
  {
   "cell_type": "code",
   "execution_count": 156,
   "id": "5be124e0-8e6b-458b-9339-9dd235dbf4d8",
   "metadata": {},
   "outputs": [],
   "source": [
    "def create_100_data_points_around(num):\n",
    "    data = [[x] for x in range(num-50, num+50)]\n",
    "    labels = [x for x in range(num-50, num+50)]\n",
    "    return data, labels"
   ]
  },
  {
   "cell_type": "code",
   "execution_count": 157,
   "id": "97597f48-672a-4f98-923a-8971351f0721",
   "metadata": {},
   "outputs": [],
   "source": [
    "\n",
    "# Declaring index\n",
    "p = hnswlib.Index(space = 'l2', dim = dim) # possible options are l2, cosine or ip\n",
    "\n",
    "# Initializing index - the maximum number of elements should be known beforehand\n",
    "p.init_index(max_elements = num_elements, ef_construction = 3, M = 3)\n"
   ]
  },
  {
   "cell_type": "code",
   "execution_count": 88,
   "id": "97e0b980-c863-4f40-aab8-ba4e47252385",
   "metadata": {},
   "outputs": [],
   "source": [
    "# p.add_items(*create_100_data_points_around(100))\n",
    "# p.add_items(*create_100_data_points_around(1000))\n",
    "# p.add_items(*create_100_data_points_around(300))\n",
    "# p.add_items(*create_100_data_points_around(800))\n",
    "# p.add_items(*create_100_data_points_around(400))\n",
    "# p.add_items(*create_100_data_points_around(700))\n",
    "# p.add_items([[500], [501], [599], [600]], [500, 501, 599, 600])\n",
    "\n",
    "p.add_items(*create_100_data_points_around(50))\n",
    "p.add_items(*create_100_data_points_around(250))\n",
    "p.add_items([[110], [190]], [110, 190])\n",
    "p.add_items([[120], [180]], [120, 180])\n",
    "p.add_items([[130], [170]], [130, 170])\n",
    "p.add_items([[140], [160]], [140, 160])\n",
    "p.add_items([[145], [155]], [145, 155])\n"
   ]
  },
  {
   "cell_type": "code",
   "execution_count": 89,
   "id": "f0bc0c05-b609-445e-bbba-83d0beecfafc",
   "metadata": {},
   "outputs": [],
   "source": [
    "labels, distances = p.knn_query([145], k = 10)"
   ]
  },
  {
   "cell_type": "code",
   "execution_count": 90,
   "id": "29df51f5-b847-4363-978c-e36037daca62",
   "metadata": {},
   "outputs": [
    {
     "name": "stdout",
     "output_type": "stream",
     "text": [
      "[[145 140 130 120 110  99  98  97  96  95]]\n"
     ]
    }
   ],
   "source": [
    "print(labels)"
   ]
  },
  {
   "cell_type": "code",
   "execution_count": 74,
   "id": "60d38796-0cbe-48f1-b386-90e6ec363b01",
   "metadata": {},
   "outputs": [
    {
     "name": "stdout",
     "output_type": "stream",
     "text": [
      "[[  0.  25. 100. 225. 225.]]\n"
     ]
    }
   ],
   "source": [
    "print(distances)"
   ]
  },
  {
   "cell_type": "markdown",
   "id": "f9bbaf3a-6839-4fba-bb83-eddbffbbb9c0",
   "metadata": {},
   "source": [
    "## Test on MNIST dataset"
   ]
  },
  {
   "cell_type": "code",
   "execution_count": 94,
   "id": "0e1bcfbc-1400-4673-a748-48f53b843ea6",
   "metadata": {},
   "outputs": [],
   "source": [
    "import h5py"
   ]
  },
  {
   "cell_type": "code",
   "execution_count": 142,
   "id": "15ed20cb-f44b-4750-95b9-ac69ff50c131",
   "metadata": {},
   "outputs": [],
   "source": [
    "f = h5py.File('mnist-784-euclidean.hdf5', 'r')\n",
    "distances = f['distances']\n",
    "neighbors = f['neighbors']\n",
    "test = f['test']\n",
    "train = f['train']"
   ]
  },
  {
   "cell_type": "code",
   "execution_count": 348,
   "id": "da40ac26-2862-43c6-bf48-b35564f825b0",
   "metadata": {},
   "outputs": [],
   "source": [
    "all_data = np.concatenate((train, test))"
   ]
  },
  {
   "cell_type": "code",
   "execution_count": 251,
   "id": "e2e920c4-94de-46eb-88b3-e6398acf1f24",
   "metadata": {},
   "outputs": [],
   "source": [
    "dim = 784\n",
    "num_elements = 70000\n",
    "# Declaring index\n",
    "p = hnswlib.Index(space = 'l2', dim = dim) # possible options are l2, cosine or ip\n",
    "\n",
    "# Initializing index - the maximum number of elements should be known beforehand\n",
    "p.init_index(max_elements = num_elements, ef_construction = 5, M = 10)\n",
    "k = 5"
   ]
  },
  {
   "cell_type": "code",
   "execution_count": 252,
   "id": "73e0607a-7d1b-45ae-a314-fc68823c17fb",
   "metadata": {},
   "outputs": [],
   "source": [
    "p.add_items(train)"
   ]
  },
  {
   "cell_type": "code",
   "execution_count": 253,
   "id": "cf66d7aa-de3d-42d4-8b2f-277530d04ea8",
   "metadata": {},
   "outputs": [],
   "source": [
    "labels, distances = p.knn_query(test[0], k = k)"
   ]
  },
  {
   "cell_type": "code",
   "execution_count": 254,
   "id": "eb5c26c4-51ae-42d5-af07-d76abebbde35",
   "metadata": {},
   "outputs": [],
   "source": [
    "## retrieve top k index using kNN\n",
    "def kNN(data, query, k):\n",
    "    distance = np.sum((data-query)**2, axis=1)\n",
    "    dist_ind = distance.argsort()[:k]\n",
    "    return dist_ind"
   ]
  },
  {
   "cell_type": "code",
   "execution_count": 255,
   "id": "63938f92-ae73-40ba-bae8-ff0b337e1d56",
   "metadata": {},
   "outputs": [],
   "source": [
    "dist_ind = kNN(train, test[0], 5)"
   ]
  },
  {
   "cell_type": "code",
   "execution_count": 305,
   "id": "10e6c8d3-0622-49ae-82bb-3817119489fe",
   "metadata": {},
   "outputs": [],
   "source": [
    "def get_recall(retrieved, ground_truth):\n",
    "    assert(retrieved.shape == ground_truth.shape)\n",
    "    return np.sum(np.isin(retrieved, ground_truth))/ground_truth.shape[0]"
   ]
  },
  {
   "cell_type": "code",
   "execution_count": 290,
   "id": "3d1b00ea-4900-46e1-a573-d9dc1d0bdf1a",
   "metadata": {},
   "outputs": [
    {
     "name": "stdout",
     "output_type": "stream",
     "text": [
      "3\n"
     ]
    }
   ],
   "source": [
    "print(get_recall(labels[0], dist_ind))"
   ]
  },
  {
   "cell_type": "code",
   "execution_count": 364,
   "id": "b5805e4b-d960-4a92-80e4-4312a5b9e894",
   "metadata": {},
   "outputs": [],
   "source": [
    "def experiment(init_data, input_data, step, test_k, k):\n",
    "\n",
    "    dim = 784\n",
    "    num_elements = 70000\n",
    "    init_size = init_data.shape[0]\n",
    "\n",
    "    # Declaring index\n",
    "    hnsw = hnswlib.Index(space = 'l2', dim = dim)\n",
    "    \n",
    "    # Initializing index - the maximum number of elements should be known beforehand\n",
    "    hnsw.init_index(max_elements = num_elements, ef_construction = 20, M = 50)\n",
    "\n",
    "    # add init_data\n",
    "    hnsw.add_items(init_data, np.arange(0, init_size))\n",
    "\n",
    "    recall_results = []\n",
    "    # assume hnsw is already initialized and contains an initial distribution\n",
    "    for x in range(0, input_data.shape[0], step):\n",
    "        print(\"Processing:\", x)\n",
    "        # add \"step\" data points and test on test_k random_data_points\n",
    "        hnsw.add_items(input_data[x:x+step], np.arange(x+init_size, x+step+init_size))\n",
    "        step_result = []\n",
    "\n",
    "        for i in range(test_k):\n",
    "            # random_test = np.random.choice(256, 784)\n",
    "            # ground_truth = kNN(np.concatenate((init_data, input_data[:x+step])), random_test, k)\n",
    "            # retrieved, _ = p.knn_query(random_test, k = k)\n",
    "            ground_truth = kNN(np.concatenate((init_data, input_data[:x+step])), input_data[x+i], k)\n",
    "            retrieved, _ = p.knn_query(input_data[x+i], k = k)\n",
    "            recall = get_recall(retrieved[0], ground_truth)\n",
    "            step_result.append(recall)\n",
    "            print(retrieved[0], ground_truth, recall)\n",
    "        recall_results.append(step_result)\n",
    "    return recall_results"
   ]
  },
  {
   "cell_type": "code",
   "execution_count": null,
   "id": "1a29d285-0e5b-4471-a866-bbfbd46a10c4",
   "metadata": {},
   "outputs": [],
   "source": [
    "cut = 20000\n",
    "recall_results = experiment(all_data[:cut], all_data[cut:], 100, 5, 10)"
   ]
  },
  {
   "cell_type": "code",
   "execution_count": 368,
   "id": "d2f78ba2-8c98-4c75-9827-51060ae11a91",
   "metadata": {},
   "outputs": [
    {
     "name": "stdout",
     "output_type": "stream",
     "text": [
      "(500,)\n"
     ]
    }
   ],
   "source": [
    "avg = np.average(recall_results, axis=1)\n",
    "print(avg.shape)"
   ]
  },
  {
   "cell_type": "code",
   "execution_count": 375,
   "id": "5d50da33-2f63-412e-b113-29f1aad143a6",
   "metadata": {},
   "outputs": [],
   "source": [
    "def moving_average(a, n=3):\n",
    "    ret = np.cumsum(a, dtype=float)\n",
    "    ret[n:] = ret[n:] - ret[:-n]\n",
    "    return ret[n - 1:] / n"
   ]
  },
  {
   "cell_type": "code",
   "execution_count": 377,
   "id": "3b3195ba-d0e4-4b4b-9d79-81b54d056036",
   "metadata": {},
   "outputs": [
    {
     "data": {
      "image/png": "[encoded data removed]",
      "text/plain": [
       "<Figure size 640x480 with 1 Axes>"
      ]
     },
     "metadata": {},
     "output_type": "display_data"
    }
   ],
   "source": [
    "plt.title(\"Matplotlib demo\") \n",
    "plt.xlabel(\"Steps\") \n",
    "plt.ylabel(\"Recall\") \n",
    "plt.plot(moving_average(avg, 10)) \n",
    "plt.show()"
   ]
  },
  {
   "cell_type": "code",
   "execution_count": 372,
   "id": "5578df0f-58ba-4222-8315-e7679507dcd3",
   "metadata": {},
   "outputs": [
    {
     "name": "stdout",
     "output_type": "stream",
     "text": [
      "[49900 48340 46558  1694 23622] [49900 48340 46558  1694 23622] 1.0\n",
      "[49901 51907  7115 58552 39922] [49901 51907 68566  7115 58552] 0.8\n",
      "[49902 34402 37482  7658 58161] [49902 25948 12166 24070 18768] 0.2\n",
      "[49903 39564 50825 56940 32526] [49903 39564 50825 56940 64473] 0.8\n",
      "[49904 33900 52923 30537 37076] [49904 41528 33900 63711 52923] 0.6\n",
      "[1.0, 0.8, 0.2, 0.8, 0.6]\n"
     ]
    }
   ],
   "source": [
    "dim = 784\n",
    "num_elements = 70000\n",
    "k = 5\n",
    "init_size = all_data.shape[0]\n",
    "\n",
    "# Declaring index\n",
    "hnsw = hnswlib.Index(space = 'l2', dim = dim)\n",
    "\n",
    "# Initializing index - the maximum number of elements should be known beforehand\n",
    "hnsw.init_index(max_elements = num_elements, ef_construction = 20, M = 50)\n",
    "\n",
    "# add init_data\n",
    "hnsw.add_items(all_data, np.arange(0, init_size))\n",
    "\n",
    "step_result = []\n",
    "x=49900\n",
    "\n",
    "for i in range(5):\n",
    "    ground_truth = kNN(all_data, all_data[x+i], k)\n",
    "    retrieved, _ = p.knn_query(all_data[x+i], k = k)\n",
    "    recall = get_recall(retrieved[0], ground_truth)\n",
    "    step_result.append(recall)\n",
    "    print(retrieved[0], ground_truth, recall)\n",
    "print(step_result)"
   ]
  },
  {
   "cell_type": "code",
   "execution_count": 373,
   "id": "6a2e312d-b8c1-480a-9825-b23505d53d70",
   "metadata": {},
   "outputs": [
    {
     "name": "stdout",
     "output_type": "stream",
     "text": [
      "0.5\n"
     ]
    }
   ],
   "source": [
    "print(avg[-1])"
   ]
  },
  {
   "cell_type": "code",
   "execution_count": 374,
   "id": "1efb262c-9354-49e3-8e2d-76ac6786f6c1",
   "metadata": {},
   "outputs": [
    {
     "name": "stdout",
     "output_type": "stream",
     "text": [
      "0.6799999999999999\n"
     ]
    }
   ],
   "source": [
    "print(np.average(step_result))"
   ]
  },
  {
   "cell_type": "code",
   "execution_count": null,
   "id": "ad708817-3d5e-47e0-9b8a-d1fa2bcaa920",
   "metadata": {},
   "outputs": [],
   "source": []
  }
 ],
 "metadata": {
  "kernelspec": {
   "display_name": "Python 3 (ipykernel)",
   "language": "python",
   "name": "python3"
  },
  "language_info": {
   "codemirror_mode": {
    "name": "ipython",
    "version": 3
   },
   "file_extension": ".py",
   "mimetype": "text/x-python",
   "name": "python",
   "nbconvert_exporter": "python",
   "pygments_lexer": "ipython3",
   "version": "3.11.4"
  }
 },
 "nbformat": 4,
 "nbformat_minor": 5
}
