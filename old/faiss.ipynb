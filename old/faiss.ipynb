{
 "cells": [
  {
   "cell_type": "code",
   "execution_count": 27,
   "id": "ea86d0bd-1995-4088-9333-9efa7ca2fcd2",
   "metadata": {},
   "outputs": [],
   "source": [
    "import faiss\n",
    "import hnswlib\n",
    "import numpy as np\n",
    "\n",
    "np.random.seed(1234)"
   ]
  },
  {
   "cell_type": "code",
   "execution_count": 28,
   "id": "937cb212-68a1-4799-b1d8-dc97eb58ff90",
   "metadata": {},
   "outputs": [],
   "source": [
    "def sample_vector(distribution, shape, **kwargs):\n",
    "    # shape = (num_element, dim)\n",
    "    # Example usage:\n",
    "    # vec1 = sample_vector('normal', (5,), mean=0, std=1)\n",
    "    # vec2 = sample_vector('uniform', (5,), low=0, high=1)\n",
    "    if distribution == 'normal':\n",
    "        return np.random.normal(kwargs.get('mean', 0), kwargs.get('std', 1), size=shape).astype('float32')\n",
    "    elif distribution == 'uniform':\n",
    "        return np.random.uniform(kwargs.get('low', 0), kwargs.get('high', 1), size=shape).astype('float32')\n",
    "    else:\n",
    "        return \"Unsupported distribution\"\n",
    "\n",
    "def find_KNN(dataset, query_vector, k):\n",
    "    # find kNN of the given query in the dataset. query_vector should be one vector whith shape (1, ndim) or a ndim array\n",
    "    \n",
    "    # Calculate distances from query_vector to all vectors in dataset\n",
    "    distances = np.linalg.norm(np.array(dataset) - np.array(query_vector).flatten(), axis=1)\n",
    "\n",
    "    # Get the indices of the k smallest distances\n",
    "    k_indices = np.argsort(distances)[:k]\n",
    "    \n",
    "    # Get k nearest vectors and their distances\n",
    "    k_nearest_vectors = [dataset[i] for i in k_indices]\n",
    "    k_nearest_distances = [distances[i] for i in k_indices]\n",
    "    \n",
    "    return k_indices, k_nearest_vectors, k_nearest_distances\n",
    "\n",
    "def topk_vector_accuracy(topk_vectors, retrieved_vectors):\n",
    "    # return accuracy score numbers of match vector / k\n",
    "    # Count matching vectors\n",
    "    count_matches = 0\n",
    "    for gt, est in zip(topk_vectors, retrieved_vectors):\n",
    "        match = gt==est\n",
    "        if match.all(): count_matches+=1 \n",
    "    \n",
    "    # Calculate accuracy\n",
    "    k = len(topk_vectors)\n",
    "    accuracy = count_matches / k\n",
    "    return accuracy\n",
    "\n",
    "def topk_idx_accuracy(topk_idx, retrieved_idx):\n",
    "    # return accuracy score numbers of match vector / k\n",
    "    pro_topk_idx = np.int64(topk_idx.flatten())\n",
    "    pro_retrieved_idx = np.int64(retrieved_idx.flatten())\n",
    "    \n",
    "    # Count matching vectors\n",
    "    matches = pro_topk_idx==pro_retrieved_idx\n",
    "    num_matches = sum(matches.flatten())\n",
    "    # print(num_matches)\n",
    "    \n",
    "    # Calculate accuracy\n",
    "    k = len(pro_topk_idx)\n",
    "    accuracy = num_matches / k\n",
    "    return accuracy"
   ]
  },
  {
   "cell_type": "code",
   "execution_count": 29,
   "id": "d6c8ec31-5192-479a-908b-443727ef469e",
   "metadata": {},
   "outputs": [
    {
     "name": "stdout",
     "output_type": "stream",
     "text": [
      "True\n",
      "10000\n"
     ]
    }
   ],
   "source": [
    "dim = 32\n",
    "num_elements = 10000\n",
    "k = 10\n",
    "nlist = 100\n",
    "\n",
    "# Generating sample data\n",
    "dataset = np.float32(sample_vector('normal', (num_elements, dim), mean=0, std=1))\n",
    "\n",
    "quantizer = faiss.IndexFlatL2(dim)  # the other index\n",
    "index = faiss.IndexIVFFlat(quantizer, dim, nlist)\n",
    "index.train(dataset)\n",
    "print(index.is_trained)\n",
    "index.add(dataset)                  # add vectors to the index\n",
    "print(index.ntotal)"
   ]
  },
  {
   "cell_type": "code",
   "execution_count": 30,
   "id": "53dcbe5c-75fc-4d0a-b7ed-9ede0d30051a",
   "metadata": {},
   "outputs": [
    {
     "name": "stdout",
     "output_type": "stream",
     "text": [
      "1000 runs; top_10 Acc: 0.018600000000000002\n"
     ]
    }
   ],
   "source": [
    "num_runs = 1000\n",
    "accs = []\n",
    "for i in range(num_runs):\n",
    "    vec1 = sample_vector('normal', (1, dim), mean=0, std=1)\n",
    "    distances, est_idx = index.search(vec1, k=k)\n",
    "    gt_idx, gt_vecs, gt_distances = find_KNN(dataset, vec1, k=k)\n",
    "    acc = topk_idx_accuracy(est_idx, gt_idx)\n",
    "    accs.append(acc)\n",
    "\n",
    "print(\"{} runs; top_{} Acc:\".format(num_runs, k), np.average(accs))"
   ]
  },
  {
   "cell_type": "code",
   "execution_count": 31,
   "id": "fd090cb2-f08e-4e76-9f96-d1d1a8ebffbf",
   "metadata": {},
   "outputs": [
    {
     "name": "stdout",
     "output_type": "stream",
     "text": [
      "True\n",
      "current DB size: 20000\n"
     ]
    }
   ],
   "source": [
    "new_data_size = num_elements\n",
    "new_mean = 0.1\n",
    "new_std = 1.1\n",
    "\n",
    "newDataset = sample_vector('normal', (new_data_size, dim), mean=new_mean, std=new_std)\n",
    "dataset = np.concatenate([dataset, newDataset])\n",
    "\n",
    "print(index.is_trained)\n",
    "index.add(newDataset)                  # add vectors to the index\n",
    "\n",
    "print(\"current DB size:\", index.ntotal)"
   ]
  },
  {
   "cell_type": "code",
   "execution_count": 32,
   "id": "8cbd0f90-afe7-4361-ba10-3066a4b7ca32",
   "metadata": {},
   "outputs": [
    {
     "name": "stdout",
     "output_type": "stream",
     "text": [
      "1000 runs; top_10 Acc: 0.023\n"
     ]
    }
   ],
   "source": [
    "num_runs = 1000\n",
    "accs = []\n",
    "for i in range(num_runs):\n",
    "    vec1 = sample_vector('normal', (1, dim), mean=new_mean, std=new_std)\n",
    "    distances, est_idx = index.search(vec1, k=k)\n",
    "    gt_idx, gt_vecs, gt_distances = find_KNN(dataset, vec1, k=k)\n",
    "    acc = topk_idx_accuracy(est_idx, gt_idx)\n",
    "    accs.append(acc)\n",
    "\n",
    "print(\"{} runs; top_{} Acc:\".format(num_runs, k), np.average(accs))"
   ]
  },
  {
   "cell_type": "code",
   "execution_count": 33,
   "id": "45e55326-a78a-409f-a28c-2457c683072a",
   "metadata": {},
   "outputs": [],
   "source": [
    "index.train(newDataset)"
   ]
  },
  {
   "cell_type": "code",
   "execution_count": 34,
   "id": "027cf69b-de77-43a7-b8cf-a526ca24d1a4",
   "metadata": {},
   "outputs": [
    {
     "name": "stdout",
     "output_type": "stream",
     "text": [
      "1000 runs; top_10 Acc: 0.02\n"
     ]
    }
   ],
   "source": [
    "num_runs = 1000\n",
    "accs = []\n",
    "for i in range(num_runs):\n",
    "    vec1 = sample_vector('normal', (1, dim), mean=new_mean, std=new_std)\n",
    "    distances, est_idx = index.search(vec1, k=k)\n",
    "    gt_idx, gt_vecs, gt_distances = find_KNN(dataset, vec1, k=k)\n",
    "    acc = topk_idx_accuracy(est_idx, gt_idx)\n",
    "    accs.append(acc)\n",
    "\n",
    "print(\"{} runs; top_{} Acc:\".format(num_runs, k), np.average(accs))"
   ]
  },
  {
   "cell_type": "code",
   "execution_count": 22,
   "id": "40988ac1-4d28-47e6-9092-43830e38b3c6",
   "metadata": {},
   "outputs": [
    {
     "data": {
      "text/plain": [
       "<Swig Object of type 'faiss::IndexFlatL2 *' at 0x11e518cc0>"
      ]
     },
     "execution_count": 22,
     "metadata": {},
     "output_type": "execute_result"
    }
   ],
   "source": [
    "index.this"
   ]
  },
  {
   "cell_type": "code",
   "execution_count": null,
   "id": "1b1a504e-1ce8-4bee-b66a-5252c1d17350",
   "metadata": {},
   "outputs": [],
   "source": []
  }
 ],
 "metadata": {
  "kernelspec": {
   "display_name": "Python 3 (ipykernel)",
   "language": "python",
   "name": "python3"
  },
  "language_info": {
   "codemirror_mode": {
    "name": "ipython",
    "version": 3
   },
   "file_extension": ".py",
   "mimetype": "text/x-python",
   "name": "python",
   "nbconvert_exporter": "python",
   "pygments_lexer": "ipython3",
   "version": "3.9.18"
  }
 },
 "nbformat": 4,
 "nbformat_minor": 5
}
