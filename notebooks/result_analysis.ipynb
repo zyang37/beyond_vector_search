{
 "cells": [
  {
   "cell_type": "code",
   "execution_count": 26,
   "id": "f19a93cb-9206-4e8a-820d-47e7feb23aea",
   "metadata": {},
   "outputs": [
    {
     "data": {
      "text/plain": [
       "['k100_gk20_pn50_n20.json',\n",
       " 'k100_gk50_pn50_n20.json',\n",
       " 'k500_gk100_pn50_n20.json',\n",
       " 'k500_gk250_pn50_n20.json',\n",
       " 'k1000_gk100_pn50_n20.json',\n",
       " 'k1000_gk300_pn50_n20.json',\n",
       " 'k1000_gk500_pn50_n20.json',\n",
       " 'stats.csv',\n",
       " '.ipynb_checkpoints']"
      ]
     },
     "execution_count": 26,
     "metadata": {},
     "output_type": "execute_result"
    }
   ],
   "source": [
    "import os\n",
    "import sys\n",
    "import numpy as np\n",
    "import pandas as pd\n",
    "import matplotlib.pyplot as plt\n",
    "\n",
    "sys.path.append(\"../\")\n",
    "\n",
    "from utils.parse_arxiv import load_json\n",
    "from compute_metrics import compute_percent_include\n",
    "\n",
    "os.listdir(\"../data/arxiv/arxiv_workloads/res/\")"
   ]
  },
  {
   "cell_type": "code",
   "execution_count": 27,
   "id": "e36117cf",
   "metadata": {},
   "outputs": [],
   "source": [
    "root = \"../data/arxiv/arxiv_workloads/res/\"\n",
    "\n",
    "res_files = ['k100_gk20_pn50_n20.json',\n",
    "            'k100_gk50_pn50_n20.json',\n",
    "            'k500_gk100_pn50_n20.json',\n",
    "            'k500_gk250_pn50_n20.json',\n",
    "            'k1000_gk100_pn50_n20.json',\n",
    "            'k1000_gk300_pn50_n20.json',\n",
    "            'k1000_gk500_pn50_n20.json']"
   ]
  },
  {
   "cell_type": "code",
   "execution_count": 28,
   "id": "ec68c836-3ae3-492d-ab54-2b470e7bd2d6",
   "metadata": {},
   "outputs": [
    {
     "name": "stdout",
     "output_type": "stream",
     "text": [
      "Loaded from ../data/arxiv/arxiv_workloads/res/k100_gk20_pn50_n20.json\n"
     ]
    }
   ],
   "source": [
    "res = load_json(\"../data/arxiv/arxiv_workloads/res/k100_gk20_pn50_n20.json\")"
   ]
  },
  {
   "cell_type": "code",
   "execution_count": 29,
   "id": "335c9488-6595-458e-b3b5-0704b8a57846",
   "metadata": {},
   "outputs": [],
   "source": [
    "def arxiv_one_pi(one_res, gk):\n",
    "    gt = one_res['arxiv_abstract']\n",
    "    vecp = one_res['arxiv_title']\n",
    "    pred = one_res['weighted_hybrid']\n",
    "    pi = compute_percent_include(gt, pred[:])\n",
    "    gk_pi = compute_percent_include(gt, pred[-gk:])\n",
    "    vec_gk_pi = compute_percent_include(gt, vecp[-gk:])\n",
    "    return pi, gk_pi, vec_gk_pi"
   ]
  },
  {
   "cell_type": "code",
   "execution_count": 30,
   "id": "d5a2969a-97a1-413c-98eb-93100fe905d4",
   "metadata": {},
   "outputs": [],
   "source": [
    "pi_list = []\n",
    "gk_pi_list = []\n",
    "for k, v in res.items():\n",
    "    pi, gk_pi, _ = arxiv_one_pi(v, 20)\n",
    "    pi_list.append(pi)\n",
    "    gk_pi_list.append(gk_pi)\n",
    "\n",
    "pi_list = np.array(pi_list)\n",
    "gk_pi_list = np.array(gk_pi_list)"
   ]
  },
  {
   "cell_type": "code",
   "execution_count": 31,
   "id": "bff9de6f-f58a-4845-b648-8686b55b2152",
   "metadata": {},
   "outputs": [
    {
     "data": {
      "text/plain": [
       "0.363"
      ]
     },
     "execution_count": 31,
     "metadata": {},
     "output_type": "execute_result"
    }
   ],
   "source": [
    "pi_list.mean()"
   ]
  },
  {
   "cell_type": "code",
   "execution_count": 32,
   "id": "0825c1ca-798a-49e0-8906-0cecaed33bdd",
   "metadata": {},
   "outputs": [
    {
     "data": {
      "text/plain": [
       "0.014310000000000002"
      ]
     },
     "execution_count": 32,
     "metadata": {},
     "output_type": "execute_result"
    }
   ],
   "source": [
    "gk_pi_list.mean()"
   ]
  },
  {
   "cell_type": "code",
   "execution_count": 39,
   "id": "10f80316-6dd9-40ce-a195-683ac486ea53",
   "metadata": {},
   "outputs": [
    {
     "name": "stdout",
     "output_type": "stream",
     "text": [
      "Loaded from ../data/arxiv/arxiv_workloads/res/k100_gk20_pn50_n20.json\n",
      "k100_gk20_pn50_n20.json\n",
      "recall: 0.363\n",
      "gk re:  0.014310000000000002\n",
      "vec gk re:  0.04677000000000001\n",
      "\n",
      "Loaded from ../data/arxiv/arxiv_workloads/res/k100_gk50_pn50_n20.json\n",
      "k100_gk50_pn50_n20.json\n",
      "recall: 0.29872000000000004\n",
      "gk re:  0.04041\n",
      "vec gk re:  0.13702\n",
      "\n",
      "Loaded from ../data/arxiv/arxiv_workloads/res/k500_gk100_pn50_n20.json\n",
      "k500_gk100_pn50_n20.json\n",
      "recall: 0.46229000000000003\n",
      "gk re:  0.030496\n",
      "vec gk re:  0.06105600000000001\n",
      "\n",
      "Loaded from ../data/arxiv/arxiv_workloads/res/k500_gk250_pn50_n20.json\n",
      "k500_gk250_pn50_n20.json\n",
      "recall: 0.3981799999999999\n",
      "gk re:  0.08280200000000001\n",
      "vec gk re:  0.177402\n",
      "\n",
      "Loaded from ../data/arxiv/arxiv_workloads/res/k1000_gk100_pn50_n20.json\n",
      "k1000_gk100_pn50_n20.json\n",
      "recall: 0.5367139999999999\n",
      "gk re:  0.019562000000000003\n",
      "vec gk re:  0.033351\n",
      "\n",
      "Loaded from ../data/arxiv/arxiv_workloads/res/k1000_gk300_pn50_n20.json\n",
      "k1000_gk300_pn50_n20.json\n",
      "recall: 0.501556\n",
      "gk re:  0.06117100000000002\n",
      "vec gk re:  0.11017199999999999\n",
      "\n",
      "Loaded from ../data/arxiv/arxiv_workloads/res/k1000_gk500_pn50_n20.json\n",
      "k1000_gk500_pn50_n20.json\n",
      "recall: 0.455168\n",
      "gk re:  0.108469\n",
      "vec gk re:  0.203784\n",
      "\n"
     ]
    }
   ],
   "source": [
    "pis = []\n",
    "gk_pis = []\n",
    "vec_gk_pis = []\n",
    "\n",
    "for res_file in res_files:\n",
    "    res = load_json(os.path.join(root, res_file))\n",
    "    pi_list = []\n",
    "    gk_pi_list = []\n",
    "    vec_gk_pi_list = []\n",
    "    for k, v in res.items():\n",
    "        gk = int(res_file.split(\"_\")[1].split(\"k\")[-1])\n",
    "        pi, gk_pi, vec_gk_pi = arxiv_one_pi(v, gk)\n",
    "        pi_list.append(pi)\n",
    "        gk_pi_list.append(gk_pi)\n",
    "        vec_gk_pi_list.append(vec_gk_pi)\n",
    "\n",
    "    pi_list = np.array(pi_list)\n",
    "    gk_pi_list = np.array(gk_pi_list)\n",
    "    vec_gk_pi_list = np.array(vec_gk_pi_list)\n",
    "    pis.append(pi_list.mean())\n",
    "    gk_pis.append(gk_pi_list.mean())\n",
    "    vec_gk_pis.append(vec_gk_pi_list.mean())\n",
    "\n",
    "    print(res_file)\n",
    "    print(\"recall:\", pi_list.mean())\n",
    "    print(\"gk re: \", gk_pi_list.mean())\n",
    "    print(\"vec gk re: \", vec_gk_pi_list.mean())\n",
    "    print()"
   ]
  },
  {
   "cell_type": "code",
   "execution_count": 46,
   "id": "4b900fd4",
   "metadata": {},
   "outputs": [
    {
     "data": {
      "image/png": "[encoded data removed]",
      "text/plain": [
       "<Figure size 500x300 with 1 Axes>"
      ]
     },
     "metadata": {},
     "output_type": "display_data"
    }
   ],
   "source": [
    "plt.figure(figsize=(5, 3))\n",
    "plt.plot(pis, label=\"pi\", color=\"g\")\n",
    "plt.plot(gk_pis, label=\"gk_pi\", color=\"r\")\n",
    "plt.plot(vec_gk_pis, label=\"vec_gk_pi\", color=\"b\")\n",
    "plt.legend(loc='upper left')\n",
    "plt.show()"
   ]
  },
  {
   "cell_type": "code",
   "execution_count": null,
   "id": "48a9fdf0",
   "metadata": {},
   "outputs": [],
   "source": []
  }
 ],
 "metadata": {
  "kernelspec": {
   "display_name": "Python 3 (ipykernel)",
   "language": "python",
   "name": "python3"
  },
  "language_info": {
   "codemirror_mode": {
    "name": "ipython",
    "version": 3
   },
   "file_extension": ".py",
   "mimetype": "text/x-python",
   "name": "python",
   "nbconvert_exporter": "python",
   "pygments_lexer": "ipython3",
   "version": "3.9.18"
  }
 },
 "nbformat": 4,
 "nbformat_minor": 5
}
