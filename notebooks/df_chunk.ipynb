{
 "cells": [
  {
   "cell_type": "code",
   "execution_count": 59,
   "id": "eb47c83b-befb-42ba-8699-b49baeeb3cc7",
   "metadata": {},
   "outputs": [
    {
     "name": "stderr",
     "output_type": "stream",
     "text": [
      "[nltk_data] Downloading package punkt to /home/zyang37/nltk_data...\n",
      "[nltk_data]   Package punkt is already up-to-date!\n"
     ]
    }
   ],
   "source": [
    "import os\n",
    "import sys\n",
    "import json\n",
    "import pickle\n",
    "import numpy as np\n",
    "import pandas as pd\n",
    "from tqdm.auto import tqdm\n",
    "from pprint import pprint\n",
    "\n",
    "sys.path.append(\"../\")\n",
    "from utils.parse_arxiv import parse_title\n",
    "\n",
    "from nltk.tokenize import sent_tokenize, word_tokenize\n",
    "import nltk\n",
    "nltk.download('punkt')\n",
    "\n",
    "def sort_dict_by_key(d):\n",
    "    return {k: v for k, v in sorted(d.items(), key=lambda item: item[0])}\n",
    "\n",
    "def sort_dict_by_val(d):\n",
    "    return {k: v for k, v in sorted(d.items(), key=lambda item: item[1], reverse=True)}"
   ]
  },
  {
   "cell_type": "code",
   "execution_count": 67,
   "id": "1afd54a7-eb90-4657-b064-f888d92dacb8",
   "metadata": {},
   "outputs": [
    {
     "name": "stdout",
     "output_type": "stream",
     "text": [
      "26980\n",
      "26921\n"
     ]
    },
    {
     "data": {
      "text/html": [
       "<div>\n",
       "<style scoped>\n",
       "    .dataframe tbody tr th:only-of-type {\n",
       "        vertical-align: middle;\n",
       "    }\n",
       "\n",
       "    .dataframe tbody tr th {\n",
       "        vertical-align: top;\n",
       "    }\n",
       "\n",
       "    .dataframe thead th {\n",
       "        text-align: right;\n",
       "    }\n",
       "</style>\n",
       "<table border=\"1\" class=\"dataframe\">\n",
       "  <thead>\n",
       "    <tr style=\"text-align: right;\">\n",
       "      <th></th>\n",
       "      <th>Index</th>\n",
       "      <th>Author</th>\n",
       "      <th>Date published</th>\n",
       "      <th>Category</th>\n",
       "      <th>Section</th>\n",
       "      <th>Url</th>\n",
       "      <th>Headline</th>\n",
       "      <th>Description</th>\n",
       "      <th>Keywords</th>\n",
       "      <th>Second headline</th>\n",
       "      <th>Article text</th>\n",
       "      <th>author_freq</th>\n",
       "      <th>cat_freq</th>\n",
       "      <th>sec_freq</th>\n",
       "      <th>keys_freq</th>\n",
       "      <th>Article_len</th>\n",
       "      <th>Headline_len</th>\n",
       "      <th>len_ratio</th>\n",
       "      <th>date_freq</th>\n",
       "    </tr>\n",
       "  </thead>\n",
       "  <tbody>\n",
       "    <tr>\n",
       "      <th>1</th>\n",
       "      <td>1</td>\n",
       "      <td>Stephanie Bailey, CNN</td>\n",
       "      <td>2021-05-12</td>\n",
       "      <td>news</td>\n",
       "      <td>world</td>\n",
       "      <td>https://www.cnn.com/2021/05/12/world/ironhand-...</td>\n",
       "      <td>Bioservo's robotic 'Ironhand' could protect fa...</td>\n",
       "      <td>Working in a factory can mean doing the same t...</td>\n",
       "      <td>world, Bioservo's robotic 'Ironhand' could pro...</td>\n",
       "      <td>A robotic 'Ironhand' could protect factory wor...</td>\n",
       "      <td>(CNN)Working in a factory or warehouse can mea...</td>\n",
       "      <td>13</td>\n",
       "      <td>18011</td>\n",
       "      <td>614</td>\n",
       "      <td>0</td>\n",
       "      <td>5815</td>\n",
       "      <td>79</td>\n",
       "      <td>0.013586</td>\n",
       "      <td>10</td>\n",
       "    </tr>\n",
       "  </tbody>\n",
       "</table>\n",
       "</div>"
      ],
      "text/plain": [
       "   Index                 Author Date published Category Section  \\\n",
       "1      1  Stephanie Bailey, CNN     2021-05-12     news   world   \n",
       "\n",
       "                                                 Url  \\\n",
       "1  https://www.cnn.com/2021/05/12/world/ironhand-...   \n",
       "\n",
       "                                            Headline  \\\n",
       "1  Bioservo's robotic 'Ironhand' could protect fa...   \n",
       "\n",
       "                                         Description  \\\n",
       "1  Working in a factory can mean doing the same t...   \n",
       "\n",
       "                                            Keywords  \\\n",
       "1  world, Bioservo's robotic 'Ironhand' could pro...   \n",
       "\n",
       "                                     Second headline  \\\n",
       "1  A robotic 'Ironhand' could protect factory wor...   \n",
       "\n",
       "                                        Article text  author_freq  cat_freq  \\\n",
       "1  (CNN)Working in a factory or warehouse can mea...           13     18011   \n",
       "\n",
       "   sec_freq  keys_freq  Article_len  Headline_len  len_ratio  date_freq  \n",
       "1       614          0         5815            79   0.013586         10  "
      ]
     },
     "execution_count": 67,
     "metadata": {},
     "output_type": "execute_result"
    }
   ],
   "source": [
    "file = open('../data/cnn_news/filtered_dataCNN.pickle', 'rb')\n",
    "data = pickle.load(file)\n",
    "file.close()\n",
    "\n",
    "\n",
    "clean_cols = ['Headline', 'Description', 'Second headline', 'Article text', 'Keywords']\n",
    "\n",
    "print(len(data))\n",
    "for c in clean_cols:\n",
    "    data[c] = data[c].map(parse_title).values\n",
    "    data.drop_duplicates(subset=[c], inplace=True)\n",
    "\n",
    "data.drop_duplicates(subset=['Url'], inplace=True)\n",
    "print(len(data))\n",
    "\n",
    "data.head(1)"
   ]
  },
  {
   "cell_type": "code",
   "execution_count": 68,
   "id": "afdf26ec-7e6d-4ea5-a72d-0a2f4658c051",
   "metadata": {},
   "outputs": [
    {
     "data": {
      "text/plain": [
       "5810"
      ]
     },
     "execution_count": 68,
     "metadata": {},
     "output_type": "execute_result"
    }
   ],
   "source": [
    "text = data.iloc[0]['Article text']\n",
    "len(text)"
   ]
  },
  {
   "cell_type": "code",
   "execution_count": 69,
   "id": "c0962596-31f8-4d59-9f48-36adeaf29e9b",
   "metadata": {},
   "outputs": [],
   "source": [
    "sentences = sent_tokenize(text)"
   ]
  },
  {
   "cell_type": "code",
   "execution_count": 70,
   "id": "fd5a650a-d261-4a46-8b16-6d2b3b0f3c86",
   "metadata": {},
   "outputs": [],
   "source": [
    "def token_limited_sentences(text, max_num_tokens=300):\n",
    "    # Tokenize the text into sentences\n",
    "    sentences = sent_tokenize(text)\n",
    "\n",
    "    # Initialize an empty list to store processed sentences\n",
    "    processed_sentences = []\n",
    "    current_sentence = \"\"\n",
    "    for sentence in sentences:\n",
    "        # Tokenize the sentence into words\n",
    "        tokenized_sentence = word_tokenize(sentence)\n",
    "\n",
    "        # Check if adding this sentence exceeds the token limit\n",
    "        if len(word_tokenize(current_sentence)) + len(tokenized_sentence) <= max_num_tokens:\n",
    "            current_sentence += \" \" + sentence\n",
    "        else:\n",
    "            # Add the current sentence to the list if it's not empty\n",
    "            if current_sentence:\n",
    "                processed_sentences.append(current_sentence.strip())\n",
    "            # Start a new sentence\n",
    "            current_sentence = sentence\n",
    "\n",
    "    # Add the last sentence if it's not empty\n",
    "    if current_sentence:\n",
    "        processed_sentences.append(current_sentence.strip())\n",
    "\n",
    "    return processed_sentences"
   ]
  },
  {
   "cell_type": "code",
   "execution_count": 75,
   "id": "98010fd4-3369-4dd9-a38c-351a60a9f3a6",
   "metadata": {},
   "outputs": [
    {
     "name": "stdout",
     "output_type": "stream",
     "text": [
      "p1_4_\n",
      "(CNN)Working in a factory or warehouse can mean doing the same task over and over, and that repetition can lead to chronic injury. Now, a battery-powered glove could help workers by taking some of the strain.The \"Ironhand\" glove strengthens the wearer's grip, meaning they don't have to use as much force to perform repetitive manual tasks. Its developer, Bioservo, says it can increase the wearer's hand strength by 20%. The Swedish company describes the system as a \"soft exoskeleton.\" Exoskeletons are an external device that supports and protects the body, typically increasing strength and endurance. Most have a rigid structure, but the Ironhand is soft, like a regular glove. Photos: The robots running our warehousesRobots are an increasingly familiar presence in warehouses. At the south-east London warehouse run by British online supermarket Ocado, 3,000 robots fulfill shopping orders. When an order is sent to the warehouse, the bots spring to life and head towards the container they require. Scroll through to see more robots that are revolutionizing warehouses.Hide Caption 1 of 8 Photos: The robots running our warehousesIn response to the coronavirus pandemic, MIT collaborated with Ava Robotics and the Greater Boston Food Bank to design a robot that can use UV light to sanitize the floor of a 4,000-square foot warehouse in just 30 minutes. Hide Caption 2 of 8 Photos: The robots running our warehousesSeven-foot \"Model-T\" robots produced by Japanese startup Telexistence have been stacking shelves in two of Tokyo's largest convenience store franchises.\n",
      "\n",
      "p2_4_\n",
      "Featuring cameras, microphones and sensors, the Model-T uses three \"fingers\" to stock items such as bottled drinks, cans and rice bowls. The robot is controlled by shop staff remotely.Hide Caption 3 of 8 Photos: The robots running our warehousesUS company Boston Dynamics has become known for its advanced work robots. \"Handle\" is made for the warehouse and equipped with an on-board vision system. It can lift boxes weighing over 30 pounds. Hide Caption 4 of 8 Photos: The robots running our warehousesStretch is the latest robot from Boston Dynamics and can work in warehouses and distribution centers. Designed to keep human workers out of harm's way, Stretch's tentacle-like grippers mean it can manipulate boxes. Hide Caption 5 of 8 Photos: The robots running our warehousesAlthough not specifically designed for warehouses, Boston Dynamics' dog-like robot \"Spot\" can lift objects, pick itself up after a fall, open and walk through doors, and even remind people to practice social distancing. Hide Caption 6 of 8 Photos: The robots running our warehousesThis robot is used to plant seeds and check plants at the \"Nordic Harvest\" vertical farm based in Taastrup, Denmark.\n",
      "\n",
      "p3_4_\n",
      "The indoor farm is one of the biggest in Europe.Hide Caption 7 of 8 Photos: The robots running our warehousesRobots sort packages at a warehouse run by JD.com -- one of China's largest e-commerce firms, in Wuhan, China, ahead of the annual Singles Day online shopping bonanza, in 2019.Hide Caption 8 of 8Reducing fatigue\"When you have the glove on, it provides strength and reduces the effort needed when lifting objects,\" says Mikael Wester, Bioservo's marketing director. \"It's all in order to reduce fatigue and prevent strain injuries in the long run. \"The Ironhand system was developed with General Motors as a partner.Read MoreThe system consists of a backpack, which houses the power pack, and artificial tendons that connect to the glove. There are sensors on each fingertip which switch on the motor when a user grabs an object. A remote control or app can be used to adjust the strength and sensitivity of the grip.Wester says applications include assembly on the production line in the automotive industry, using tools in construction and lifting heavy objects in warehouses.Each Ironhand system costs around €6,000 ($7,275). The device also collects data that allows the company to assess the wearer's risk of developing strain injuries. According to the European Agency for Safety and Health at Work, work-related neck and upper limb disorders are the most common occupational disease in Europe, costing national economies up to 2% of their gross national product.From NASA to General Motors The glove was originally intended for workers in a very different setting to the factory floor.\n",
      "\n",
      "p4_4_\n",
      "NASA developed an early version of the technology, called \"Robo-Glove,\" to help astronauts grasp objects and carry out work in space. The Ironhand system being used for assembling parts in the automobile industry. Bioservo licensed the design in 2016 and then partnered with auto manufacturer General Motors (GM) to develop the glove for its workers. Why online supermarket Ocado wants to take the human touch out of groceries\"Ergonomics is really the field of trying to fit the jobs to the workers, instead of the workers having to conform and adapt to the job,\" says Stephen Krajcarski, a senior manager with GM's ergonomics team. \"By using tools such as the Ironhand we are really trying to mitigate any potential concerns or physical demands that may eventually cause a medical concern for that individual operator.\" Krajcarski says GM has helped Bioservo to test and improve the Ironhand by piloting it in a variety of jobs at its manufacturing plants. He says some workers have found it easy to use but adds that it's not suitable for all situations.The Ironhand is just one of the exoskeletons GM is looking into. According to market research firm ABI Research, the exoskeleton market will grow from $392 million in 2020 to $6.8 billion in 2030. \"If you look at exoskeletons, this is just one of the tools that are out there,\" says Krajcarski. \"But this is an exciting technology. \"This story has been updated to correct the cost of the Ironhand system.\n",
      "\n"
     ]
    }
   ],
   "source": [
    "texts_chunks = token_limited_sentences(text, 300)\n",
    "for i, s in enumerate(texts_chunks):\n",
    "    # print(i, len(s))\n",
    "    tag = \"p{}_{}_\".format(i+1, len(texts_chunks))\n",
    "    print(tag)\n",
    "    print(s)\n",
    "    print()"
   ]
  },
  {
   "cell_type": "code",
   "execution_count": 72,
   "id": "770e5017-fb4b-42b1-b099-5a24b311df2b",
   "metadata": {},
   "outputs": [
    {
     "name": "stdout",
     "output_type": "stream",
     "text": [
      "p1_4\n",
      "(CNN)Working in a factory or warehouse can mean doing the same task over and over, and that repetition can lead to chronic injury. Now, a battery-powered glove could help workers by taking some of the strain.The \"Ironhand\" glove strengthens the wearer's grip, meaning they don't have to use as much force to perform repetitive manual tasks. Its developer, Bioservo, says it can increase the wearer's hand strength by 20%. The Swedish company describes the system as a \"soft exoskeleton.\" Exoskeletons are an external device that supports and protects the body, typically increasing strength and endurance. Most have a rigid structure, but the Ironhand is soft, like a regular glove. Photos: The robots running our warehousesRobots are an increasingly familiar presence in warehouses. At the south-east London warehouse run by British online supermarket Ocado, 3,000 robots fulfill shopping orders. When an order is sent to the warehouse, the bots spring to life and head towards the container they require. Scroll through to see more robots that are revolutionizing warehouses.Hide Caption 1 of 8 Photos: The robots running our warehousesIn response to the coronavirus pandemic, MIT collaborated with Ava Robotics and the Greater Boston Food Bank to design a robot that can use UV light to sanitize the floor of a 4,000-square foot warehouse in just 30 minutes. Hide Caption 2 of 8 Photos: The robots running our warehousesSeven-foot \"Model-T\" robots produced by Japanese startup Telexistence have been stacking shelves in two of Tokyo's largest convenience store franchises.\n",
      "\n",
      "p2_4\n",
      "Featuring cameras, microphones and sensors, the Model-T uses three \"fingers\" to stock items such as bottled drinks, cans and rice bowls. The robot is controlled by shop staff remotely.Hide Caption 3 of 8 Photos: The robots running our warehousesUS company Boston Dynamics has become known for its advanced work robots. \"Handle\" is made for the warehouse and equipped with an on-board vision system. It can lift boxes weighing over 30 pounds. Hide Caption 4 of 8 Photos: The robots running our warehousesStretch is the latest robot from Boston Dynamics and can work in warehouses and distribution centers. Designed to keep human workers out of harm's way, Stretch's tentacle-like grippers mean it can manipulate boxes. Hide Caption 5 of 8 Photos: The robots running our warehousesAlthough not specifically designed for warehouses, Boston Dynamics' dog-like robot \"Spot\" can lift objects, pick itself up after a fall, open and walk through doors, and even remind people to practice social distancing. Hide Caption 6 of 8 Photos: The robots running our warehousesThis robot is used to plant seeds and check plants at the \"Nordic Harvest\" vertical farm based in Taastrup, Denmark.\n",
      "\n",
      "p3_4\n",
      "The indoor farm is one of the biggest in Europe.Hide Caption 7 of 8 Photos: The robots running our warehousesRobots sort packages at a warehouse run by JD.com -- one of China's largest e-commerce firms, in Wuhan, China, ahead of the annual Singles Day online shopping bonanza, in 2019.Hide Caption 8 of 8Reducing fatigue\"When you have the glove on, it provides strength and reduces the effort needed when lifting objects,\" says Mikael Wester, Bioservo's marketing director. \"It's all in order to reduce fatigue and prevent strain injuries in the long run. \"The Ironhand system was developed with General Motors as a partner.Read MoreThe system consists of a backpack, which houses the power pack, and artificial tendons that connect to the glove. There are sensors on each fingertip which switch on the motor when a user grabs an object. A remote control or app can be used to adjust the strength and sensitivity of the grip.Wester says applications include assembly on the production line in the automotive industry, using tools in construction and lifting heavy objects in warehouses.Each Ironhand system costs around €6,000 ($7,275). The device also collects data that allows the company to assess the wearer's risk of developing strain injuries. According to the European Agency for Safety and Health at Work, work-related neck and upper limb disorders are the most common occupational disease in Europe, costing national economies up to 2% of their gross national product.From NASA to General Motors The glove was originally intended for workers in a very different setting to the factory floor.\n",
      "\n",
      "p4_4\n",
      "NASA developed an early version of the technology, called \"Robo-Glove,\" to help astronauts grasp objects and carry out work in space. The Ironhand system being used for assembling parts in the automobile industry. Bioservo licensed the design in 2016 and then partnered with auto manufacturer General Motors (GM) to develop the glove for its workers. Why online supermarket Ocado wants to take the human touch out of groceries\"Ergonomics is really the field of trying to fit the jobs to the workers, instead of the workers having to conform and adapt to the job,\" says Stephen Krajcarski, a senior manager with GM's ergonomics team. \"By using tools such as the Ironhand we are really trying to mitigate any potential concerns or physical demands that may eventually cause a medical concern for that individual operator.\" Krajcarski says GM has helped Bioservo to test and improve the Ironhand by piloting it in a variety of jobs at its manufacturing plants. He says some workers have found it easy to use but adds that it's not suitable for all situations.The Ironhand is just one of the exoskeletons GM is looking into. According to market research firm ABI Research, the exoskeleton market will grow from $392 million in 2020 to $6.8 billion in 2030. \"If you look at exoskeletons, this is just one of the tools that are out there,\" says Krajcarski. \"But this is an exciting technology. \"This story has been updated to correct the cost of the Ironhand system.\n",
      "\n"
     ]
    }
   ],
   "source": [
    "max_chunk_size = 300\n",
    "new_df = pd.DataFrame()\n",
    "\n",
    "for index, row in data.iterrows():\n",
    "    row_dict = row.to_dict()\n",
    "    # pprint(row_dict)\n",
    "    texts_chunks = token_limited_sentences(text, 300)\n",
    "    for i, s in enumerate(texts_chunks):\n",
    "        # print(i, len(s))\n",
    "        chunk_id = \"p{}_{}_\".format(i+1, len(texts_chunks))\n",
    "        print(tag)\n",
    "        print(s)\n",
    "        print()\n",
    "    # df = df.append(new_row, ignore_index=True)\n",
    "    break"
   ]
  },
  {
   "cell_type": "code",
   "execution_count": 74,
   "id": "04161d8f-614a-4343-bbde-22e784166103",
   "metadata": {},
   "outputs": [],
   "source": [
    "# row.to_dict()\n",
    "\n",
    "# collection.add(\n",
    "#     embeddings=[[1.2, 2.3, 4.5], [6.7, 8.2, 9.2]],\n",
    "#     documents=[\"This is a document\", \"This is another document\"],\n",
    "#     metadatas=[{\"source\": \"my_source\"}, {\"source\": \"my_source\"}],\n",
    "#     ids=[\"id1\", \"id2\"]\n",
    "# )"
   ]
  },
  {
   "cell_type": "code",
   "execution_count": null,
   "id": "913f92e0-3de9-48c1-bc6a-283a6dee6acd",
   "metadata": {},
   "outputs": [],
   "source": []
  }
 ],
 "metadata": {
  "kernelspec": {
   "display_name": "Python 3 (ipykernel)",
   "language": "python",
   "name": "python3"
  },
  "language_info": {
   "codemirror_mode": {
    "name": "ipython",
    "version": 3
   },
   "file_extension": ".py",
   "mimetype": "text/x-python",
   "name": "python",
   "nbconvert_exporter": "python",
   "pygments_lexer": "ipython3",
   "version": "3.9.18"
  }
 },
 "nbformat": 4,
 "nbformat_minor": 5
}
