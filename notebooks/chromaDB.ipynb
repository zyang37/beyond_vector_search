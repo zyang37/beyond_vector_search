{
 "cells": [
  {
   "cell_type": "code",
   "execution_count": 15,
   "id": "ccdb435b-1ab6-4177-bbcf-66d57310e68c",
   "metadata": {
    "tags": []
   },
   "outputs": [],
   "source": [
    "import pickle\n",
    "import chromadb\n",
    "import numpy as np\n",
    "from tqdm.auto import tqdm\n",
    "from pprint import pprint"
   ]
  },
  {
   "cell_type": "code",
   "execution_count": 25,
   "id": "1cd8f8f9-54c7-4cb1-aac7-de7aa461531d",
   "metadata": {
    "tags": []
   },
   "outputs": [
    {
     "data": {
      "text/plain": [
       "[Collection(name=cnn_headline),\n",
       " Collection(name=arxiv_title),\n",
       " Collection(name=arxiv_abstract),\n",
       " Collection(name=cnn_article)]"
      ]
     },
     "execution_count": 25,
     "metadata": {},
     "output_type": "execute_result"
    }
   ],
   "source": [
    "# file = open(\"../data/filtered_data.pickle\", \"rb\")\n",
    "# data = pickle.load(file)\n",
    "# file.close()\n",
    "\n",
    "# chroma_client = chromadb.Client()\n",
    "\n",
    "chroma_client = chromadb.PersistentClient(path=\"../data/chroma_dbs/\")\n",
    "chroma_client.list_collections()"
   ]
  },
  {
   "cell_type": "code",
   "execution_count": 29,
   "id": "e436d152-a27f-4b1b-9e2a-17c9d3965d12",
   "metadata": {
    "tags": []
   },
   "outputs": [],
   "source": [
    "chroma_client.delete_collection(name=\"cnn_article\")"
   ]
  },
  {
   "cell_type": "code",
   "execution_count": 14,
   "id": "f2ff3b18-cd51-45bd-9aed-1416c62f77e6",
   "metadata": {},
   "outputs": [],
   "source": [
    "from chromadb.utils import embedding_functions\n",
    "default_ef = embedding_functions.DefaultEmbeddingFunction()\n",
    "sentence_transformer_ef = embedding_functions.SentenceTransformerEmbeddingFunction(model_name=\"all-MiniLM-L6-v2\") "
   ]
  },
  {
   "cell_type": "code",
   "execution_count": 13,
   "id": "7f4e33d2-3e96-44d8-9491-df3f2474e905",
   "metadata": {},
   "outputs": [
    {
     "data": {
      "text/plain": [
       "(384,)"
      ]
     },
     "execution_count": 13,
     "metadata": {},
     "output_type": "execute_result"
    }
   ],
   "source": [
    "res = sentence_transformer_ef(['test'])\n",
    "\n",
    "np.array(res[0]).shape"
   ]
  },
  {
   "cell_type": "code",
   "execution_count": 32,
   "id": "9935f9cb-526b-47c4-a7ad-8cf86eff9eea",
   "metadata": {},
   "outputs": [
    {
     "data": {
      "text/plain": [
       "'as asd  asd'"
      ]
     },
     "execution_count": 32,
     "metadata": {},
     "output_type": "execute_result"
    }
   ],
   "source": [
    "\" --as asd -- asd\".replace(\"-\", \"\").strip()"
   ]
  },
  {
   "cell_type": "code",
   "execution_count": null,
   "id": "94a811f8-9c1a-4f18-8cfb-803e0c235353",
   "metadata": {},
   "outputs": [],
   "source": []
  },
  {
   "cell_type": "code",
   "execution_count": null,
   "id": "3a0f6434-6097-4183-b24a-01cea605b6c6",
   "metadata": {},
   "outputs": [],
   "source": []
  },
  {
   "cell_type": "code",
   "execution_count": null,
   "id": "41011f1f",
   "metadata": {},
   "outputs": [],
   "source": []
  },
  {
   "cell_type": "code",
   "execution_count": null,
   "id": "6895e3bf-9e00-41b8-b7b2-459120aba1e8",
   "metadata": {
    "tags": []
   },
   "outputs": [],
   "source": [
    "data = data[\n",
    "    [\n",
    "        \"id\",\n",
    "        \"title\",\n",
    "        \"abstract\",\n",
    "        \"authors\",\n",
    "        \"journal-ref\",\n",
    "        \"categories\",\n",
    "        \"comments\",\n",
    "        \"update_date\",\n",
    "    ]\n",
    "]\n",
    "\n",
    "data.drop_duplicates(subset=\"id\", inplace=True)\n",
    "data.drop_duplicates(subset=\"title\", inplace=True)\n",
    "\n",
    "documents = list(data[\"title\"].values)\n",
    "ids = list(data[\"id\"].astype(\"str\").values)\n",
    "metedata = list(data.to_dict(orient=\"records\"))"
   ]
  },
  {
   "cell_type": "code",
   "execution_count": null,
   "id": "49cd52ad-ad8e-4777-9162-9cd155ec6ce2",
   "metadata": {
    "tags": []
   },
   "outputs": [],
   "source": [
    "collection = chroma_client.create_collection(name=\"arxiv_collection\")\n",
    "# chroma_client.get_collection(name=\"arxiv_collection\")"
   ]
  },
  {
   "cell_type": "code",
   "execution_count": null,
   "id": "67e4142a-81f7-4739-ba1e-d1e5dcd43a9e",
   "metadata": {
    "tags": []
   },
   "outputs": [],
   "source": [
    "batch_size = 500\n",
    "for i in tqdm(range(0, len(ids), batch_size)):\n",
    "    collection.add(\n",
    "        # embeddings=[[1.2, 2.3, 4.5], [6.7, 8.2, 9.2]], # could add embed if they are already computed!\n",
    "        documents=documents[i : i + batch_size],\n",
    "        metadatas=metedata[i : i + batch_size],\n",
    "        ids=ids[i : i + batch_size],\n",
    "    )"
   ]
  },
  {
   "cell_type": "code",
   "execution_count": null,
   "id": "577fcc7a-6eb4-46e8-a400-6f1e51579083",
   "metadata": {
    "tags": []
   },
   "outputs": [],
   "source": [
    "results = collection.query(\n",
    "    query_texts=[\n",
    "        \"Topic Space Trajectories: A case study on machine learning literature\"\n",
    "    ],\n",
    "    n_results=3,\n",
    ")"
   ]
  },
  {
   "cell_type": "code",
   "execution_count": null,
   "id": "0d6cbd52-6d40-4a17-9d96-94409c91e912",
   "metadata": {
    "tags": []
   },
   "outputs": [],
   "source": [
    "pprint(results)"
   ]
  },
  {
   "cell_type": "code",
   "execution_count": null,
   "id": "03b5aa73-5d5a-4b77-b49c-851828eada16",
   "metadata": {},
   "outputs": [],
   "source": []
  }
 ],
 "metadata": {
  "kernelspec": {
   "display_name": "Python 3 (ipykernel)",
   "language": "python",
   "name": "python3"
  },
  "language_info": {
   "codemirror_mode": {
    "name": "ipython",
    "version": 3
   },
   "file_extension": ".py",
   "mimetype": "text/x-python",
   "name": "python",
   "nbconvert_exporter": "python",
   "pygments_lexer": "ipython3",
   "version": "3.9.18"
  }
 },
 "nbformat": 4,
 "nbformat_minor": 5
}
