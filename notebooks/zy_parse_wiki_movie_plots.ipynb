{
 "cells": [
  {
   "cell_type": "code",
   "execution_count": 1,
   "id": "2609fa88-bd87-4353-b1b7-cca9390b469e",
   "metadata": {},
   "outputs": [],
   "source": [
    "import pandas as pd\n",
    "import pickle\n",
    "import math\n",
    "from transformers import pipeline\n",
    "from tqdm.auto import tqdm\n",
    "from bs4 import BeautifulSoup\n",
    "import requests\n",
    "from time import sleep"
   ]
  },
  {
   "cell_type": "code",
   "execution_count": 2,
   "id": "8ac1e59d-fc82-444e-854c-f53dfa6455c1",
   "metadata": {},
   "outputs": [],
   "source": [
    "data = pd.read_csv('../data/wiki_movie_plots_deduped.csv')"
   ]
  },
  {
   "cell_type": "code",
   "execution_count": 3,
   "id": "8770c3d4-84cb-488c-8f28-821187f890d4",
   "metadata": {},
   "outputs": [],
   "source": [
    "# data.head()"
   ]
  },
  {
   "cell_type": "code",
   "execution_count": 4,
   "id": "bbbcef5b-f98a-40e1-8ca8-2375d29a6040",
   "metadata": {},
   "outputs": [
    {
     "name": "stdout",
     "output_type": "stream",
     "text": [
      "(34886, 8)\n"
     ]
    }
   ],
   "source": [
    "print(data.shape)"
   ]
  },
  {
   "cell_type": "code",
   "execution_count": 5,
   "id": "a3ef8f81-7206-408f-9c31-a49b45e9420f",
   "metadata": {},
   "outputs": [],
   "source": [
    "filtered_data = data[data['Genre'] != 'unknown']\n",
    "filtered_data = filtered_data[filtered_data['Cast'].notna()]\n",
    "filtered_data = filtered_data[filtered_data['Director'] != 'Unknown']"
   ]
  },
  {
   "cell_type": "code",
   "execution_count": 6,
   "id": "2f8d7887-9775-454c-a22e-a645bb12b8b3",
   "metadata": {},
   "outputs": [
    {
     "data": {
      "text/html": [
       "<div>\n",
       "<style scoped>\n",
       "    .dataframe tbody tr th:only-of-type {\n",
       "        vertical-align: middle;\n",
       "    }\n",
       "\n",
       "    .dataframe tbody tr th {\n",
       "        vertical-align: top;\n",
       "    }\n",
       "\n",
       "    .dataframe thead th {\n",
       "        text-align: right;\n",
       "    }\n",
       "</style>\n",
       "<table border=\"1\" class=\"dataframe\">\n",
       "  <thead>\n",
       "    <tr style=\"text-align: right;\">\n",
       "      <th></th>\n",
       "      <th>Release Year</th>\n",
       "      <th>Title</th>\n",
       "      <th>Origin/Ethnicity</th>\n",
       "      <th>Director</th>\n",
       "      <th>Cast</th>\n",
       "      <th>Genre</th>\n",
       "      <th>Wiki Page</th>\n",
       "      <th>Plot</th>\n",
       "    </tr>\n",
       "  </thead>\n",
       "  <tbody>\n",
       "    <tr>\n",
       "      <th>13</th>\n",
       "      <td>1907</td>\n",
       "      <td>Daniel Boone</td>\n",
       "      <td>American</td>\n",
       "      <td>Wallace McCutcheon and Ediwin S. Porter</td>\n",
       "      <td>William Craven, Florence Lawrence</td>\n",
       "      <td>biographical</td>\n",
       "      <td>https://en.wikipedia.org/wiki/Daniel_Boone_(19...</td>\n",
       "      <td>Boone's daughter befriends an Indian maiden as...</td>\n",
       "    </tr>\n",
       "  </tbody>\n",
       "</table>\n",
       "</div>"
      ],
      "text/plain": [
       "    Release Year         Title Origin/Ethnicity  \\\n",
       "13          1907  Daniel Boone         American   \n",
       "\n",
       "                                   Director  \\\n",
       "13  Wallace McCutcheon and Ediwin S. Porter   \n",
       "\n",
       "                                 Cast         Genre  \\\n",
       "13  William Craven, Florence Lawrence  biographical   \n",
       "\n",
       "                                            Wiki Page  \\\n",
       "13  https://en.wikipedia.org/wiki/Daniel_Boone_(19...   \n",
       "\n",
       "                                                 Plot  \n",
       "13  Boone's daughter befriends an Indian maiden as...  "
      ]
     },
     "execution_count": 6,
     "metadata": {},
     "output_type": "execute_result"
    }
   ],
   "source": [
    "filtered_data.head(1)"
   ]
  },
  {
   "cell_type": "code",
   "execution_count": 14,
   "id": "6b7d2550-7d36-45e9-a849-525b0645a9d7",
   "metadata": {},
   "outputs": [],
   "source": [
    "def wiki_scrape(url):\n",
    "    # url = filtered_data['Wiki Page'].iloc[0]\n",
    "    response = requests.get(url)\n",
    "    soup = BeautifulSoup(response.content, 'html.parser')\n",
    "    # title = soup.find('h1', class_='firstHeading').text\n",
    "    # Find and print the first paragraph\n",
    "    # first_paragraph = soup.find('p').text\n",
    "    # get short\n",
    "    paragraphs = soup.find_all('p')\n",
    "    for p in paragraphs:\n",
    "        if len(p.text) >= 20:\n",
    "            short = p.text\n",
    "            break\n",
    "    return short"
   ]
  },
  {
   "cell_type": "code",
   "execution_count": 15,
   "id": "97c5ffcd-ca3b-4b67-a848-a8bed94d7643",
   "metadata": {},
   "outputs": [
    {
     "data": {
      "text/plain": [
       "954"
      ]
     },
     "execution_count": 15,
     "metadata": {},
     "output_type": "execute_result"
    }
   ],
   "source": [
    "filtered_data.index[878]"
   ]
  },
  {
   "cell_type": "code",
   "execution_count": 16,
   "id": "536ccef9-0a01-4991-8f29-36ca7f98aeb9",
   "metadata": {},
   "outputs": [
    {
     "name": "stdout",
     "output_type": "stream",
     "text": [
      "https://en.wikipedia.org/wiki/Baby_(2015_Tamil_film)\n",
      "Baby is a 2015 Indian Tamil-language horror film directed by D Suresh.[1] The story revolves around a separated couple who later reunite to protect their daughter from being haunted.[2]\n",
      "\n"
     ]
    }
   ],
   "source": [
    "# url = filtered_data['Wiki Page'].iloc[954]\n",
    "url = \"https://en.wikipedia.org/wiki/Baby_(2015_Tamil_film)\"\n",
    "print(url)\n",
    "print(wiki_scrape(url))\n",
    "\n",
    "# paragraphs[1].text"
   ]
  },
  {
   "cell_type": "code",
   "execution_count": null,
   "id": "93636167-9e77-4143-b809-aac37ac6be0d",
   "metadata": {},
   "outputs": [],
   "source": [
    "filtered_data['Plot'].iloc[954]"
   ]
  },
  {
   "cell_type": "code",
   "execution_count": 38,
   "id": "577054e9-3241-4220-a60a-01e1dde4700d",
   "metadata": {},
   "outputs": [],
   "source": [
    "with open(\"../data/wiki_movies/checkpoint.pkl\", 'rb') as f:\n",
    "    data = pickle.load(f)"
   ]
  },
  {
   "cell_type": "code",
   "execution_count": 39,
   "id": "0df6226c-8bb4-4bab-91bc-042e9bf2e078",
   "metadata": {},
   "outputs": [
    {
     "ename": "TypeError",
     "evalue": "object of type 'NoneType' has no len()",
     "output_type": "error",
     "traceback": [
      "\u001b[0;31m---------------------------------------------------------------------------\u001b[0m",
      "\u001b[0;31mTypeError\u001b[0m                                 Traceback (most recent call last)",
      "Cell \u001b[0;32mIn[39], line 1\u001b[0m\n\u001b[0;32m----> 1\u001b[0m \u001b[38;5;28;43mlen\u001b[39;49m\u001b[43m(\u001b[49m\u001b[43mdata\u001b[49m\u001b[43m)\u001b[49m\n",
      "\u001b[0;31mTypeError\u001b[0m: object of type 'NoneType' has no len()"
     ]
    }
   ],
   "source": [
    "len(data)"
   ]
  },
  {
   "cell_type": "code",
   "execution_count": null,
   "id": "0319bba0-3ee4-44df-9fc2-f2200a3cfc32",
   "metadata": {},
   "outputs": [],
   "source": []
  },
  {
   "cell_type": "code",
   "execution_count": null,
   "id": "d3bcee18-931a-45e3-8eb3-a52a63fbf062",
   "metadata": {},
   "outputs": [],
   "source": [
    "summary_list = []\n",
    "scrape_plot = []\n",
    "for idx, row in tqdm(filtered_data.iterrows(), total=len(filtered_data)):\n",
    "    url = row['Wiki Page']\n",
    "    short, plot = wiki_scrape(url)\n",
    "    # print(short)\n",
    "    # print(plot)\n",
    "    summary_list.append(short)\n",
    "    scrape_plot.append(plot)\n",
    "    # sleep(1)\n",
    "    break"
   ]
  },
  {
   "cell_type": "code",
   "execution_count": null,
   "id": "e9faf38f-3432-48aa-b65e-ed6ca15e9483",
   "metadata": {},
   "outputs": [],
   "source": [
    "# import re\n",
    "# import torch\n",
    "# from transformers import AutoTokenizer, AutoModelForSeq2SeqLM\n",
    "\n",
    "# device = torch.device(\"cuda:3\" if torch.cuda.is_available() else \"cpu\")\n",
    "# WHITESPACE_HANDLER = lambda k: re.sub('\\s+', ' ', re.sub('\\n+', ' ', k.strip()))\n",
    "\n",
    "# model_name = \"csebuetnlp/mT5_multilingual_XLSum\"\n",
    "# tokenizer = AutoTokenizer.from_pretrained(model_name)\n",
    "# model = AutoModelForSeq2SeqLM.from_pretrained(model_name).to(device)\n",
    "\n",
    "# def batch_summary_gen(model, tokenizer, article_texts, device):\n",
    "#     input_ids = tokenizer(\n",
    "#         [WHITESPACE_HANDLER(text) for text in article_texts],\n",
    "#         return_tensors=\"pt\",\n",
    "#         padding=\"max_length\",\n",
    "#         truncation=True,\n",
    "#         max_length=512\n",
    "#     )[\"input_ids\"]\n",
    "\n",
    "#     output_ids = model.generate(\n",
    "#         input_ids=input_ids.to(device),\n",
    "#         max_length=64,\n",
    "#         no_repeat_ngram_size=2,\n",
    "#         num_beams=4\n",
    "#     )\n",
    "\n",
    "#     summary = []\n",
    "#     for ids in output_ids:\n",
    "#         summary.append(tokenizer.decode(ids, skip_special_tokens=True, clean_up_tokenization_spaces=False))\n",
    "\n",
    "#     # print(summary)\n",
    "#     return summary"
   ]
  },
  {
   "cell_type": "code",
   "execution_count": null,
   "id": "8b5b2645",
   "metadata": {},
   "outputs": [],
   "source": [
    "# batch_size = 50\n",
    "# summary_list = []\n",
    "# for i in tqdm(range(0, filtered_data.shape[0], batch_size)):\n",
    "#     plots = list(filtered_data['plot'].iloc[i:i+batch_size])\n",
    "#     summaries = batch_summary_gen(model, tokenizer, plots, device)\n",
    "#     print(summaries)\n",
    "#     summary_list.extend(summaries)"
   ]
  },
  {
   "cell_type": "code",
   "execution_count": null,
   "id": "39062f37",
   "metadata": {},
   "outputs": [],
   "source": [
    "filtered_data[\"summary_text\"] = summary_list\n",
    "filtered_data[\"scraped_plot\"] = scrape_plot\n",
    "filtered_data.to_csv('../data/wiki_movies/filtered_wiki_movies_scraped.csv')"
   ]
  },
  {
   "cell_type": "code",
   "execution_count": null,
   "id": "b517fc81",
   "metadata": {},
   "outputs": [],
   "source": []
  }
 ],
 "metadata": {
  "kernelspec": {
   "display_name": "Python 3 (ipykernel)",
   "language": "python",
   "name": "python3"
  },
  "language_info": {
   "codemirror_mode": {
    "name": "ipython",
    "version": 3
   },
   "file_extension": ".py",
   "mimetype": "text/x-python",
   "name": "python",
   "nbconvert_exporter": "python",
   "pygments_lexer": "ipython3",
   "version": "3.9.18"
  }
 },
 "nbformat": 4,
 "nbformat_minor": 5
}
