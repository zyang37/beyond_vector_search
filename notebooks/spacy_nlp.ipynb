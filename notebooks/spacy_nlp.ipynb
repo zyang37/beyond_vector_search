{
 "cells": [
  {
   "cell_type": "code",
   "execution_count": 24,
   "id": "7225889c-668c-4761-a03b-18c104f7490c",
   "metadata": {},
   "outputs": [
    {
     "name": "stderr",
     "output_type": "stream",
     "text": [
      "[nltk_data] Downloading package punkt to /home/zyang37/nltk_data...\n",
      "[nltk_data]   Package punkt is already up-to-date!\n"
     ]
    }
   ],
   "source": [
    "import spacy\n",
    "\n",
    "import os\n",
    "import sys\n",
    "import json\n",
    "import pickle\n",
    "import numpy as np\n",
    "import pandas as pd\n",
    "from tqdm.auto import tqdm\n",
    "from pprint import pprint\n",
    "\n",
    "sys.path.append(\"../\")\n",
    "from utils.parse_arxiv import parse_title\n",
    "from workloads.keyword_extractor import *\n",
    "\n",
    "from nltk.tokenize import sent_tokenize, word_tokenize\n",
    "import nltk\n",
    "nltk.download('punkt')\n",
    "\n",
    "# Load English tokenizer, tagger, parser and NER\n",
    "nlp = spacy.load(\"en_core_web_sm\")"
   ]
  },
  {
   "cell_type": "code",
   "execution_count": 7,
   "id": "84a78014-b9a1-47b9-bcbe-df8f36dd9bb7",
   "metadata": {},
   "outputs": [
    {
     "data": {
      "text/plain": [
       "'London (CNN Business)City dwellers are used to switching between apps to decide the best way to get from A to B. Is it quickest to get the train or the bus? What about a taxi or a city bike? Which provider has the nearest e-scooter?It can be inconvenient and time consuming. Which is why Finnish startup MaaS Global decided to aggregate all these services into one app called Whim. Available in more than 10 cities across Europe and Asia, users can access taxis, buses, bikes, e-scooters and rental cars. \"Whim\\'s sole purpose is to compete against car ownership,\" CEO Sampo Hietanen tells CNN Business.According to the International Energy Agency, transport is responsible for 24% of global energy-related CO2 emissions, most of which come from passenger vehicles. If Whim can persuade users to trade their car keys for a single app offering multiple transport options, the environmental impact could be enormous, says Hietanen. Car competitionRead MoreHe admits this isn\\'t an easy task. To succeed Whim has to be more convenient and cheaper than owning a car. \"The car represents freedom of mobility,\" says Hietanen — even if a city dweller barely uses it, they still keep it parked outside as a \"freedom insurance.\"To compete, Whim offers rental cars and taxis, but Hietanen says that users tend to opt for public transport or micromobility (shared lightweight vehicles such as bikes or e-scooters). The app was launched in Helsinki but is now available in several European and Asian cities.Users can choose between multiple tiers of service, including a pay-as-you-go option and a 30-day season ticket, which costs €62 ($73) in Helsinki — where the app is most established — for unlimited public transport and short taxi rides. The ticket also offers car rental from €55 ($65) per day.While Helsinki has well-developed alternatives to driving, that\\'s not true of everywhere. If a city \"does not have a wide public transport system or a lot of rental cars or taxis in place\" then it will be difficult to convince people to give up their cars, says Maria Kamargianni, associate professor of transport and energy at University College London.She says apps like Whim represent the first step in tempting people away from car ownership, and adds that the availability of alternative transport options is likely to improve as the market matures. Research firm MarketsandMarkets predicts the global mobility service market will grow from $4.7 billion in 2020 to $70.4 billion by 2030. MaaS movementOther providers include Citymapper, which launched a travel pass for Londoners in 2019, and Moovit, which launched an all-in-one mobility app in Israel last year. Whim, launched in 2016, is one of the earliest providers and has raised more than $60 million from investors such as BP (BP), Mitsubishi (MBFJF) and Toyota Financial Services. It\\'s available in several European cities and in Tokyo, and has racked up 18 million trips globally since launch. But the business has been hit by the Covid-19 pandemic, says Hietanen; with fewer people traveling, revenues are lower, stalling the company\\'s expansion into other cities.According to Whim, public transport and micromobility are the most popular ways to travel using the app. Finnish newspaper Helsingin Sanomat recently reported that the company had spent €50 million ($59 million) on failed expansion ventures. Hietanen says the money was spent on integrating multiple transportation providers, establishing market readiness in several countries, and developing the complex technology that underpins the app. \"We\\'ve known from the beginning that the investment needed to create this would be substantial,\" he says, adding that the company has recently secured further investment. Greener travelThough the industry is in its infancy, Hietanen is confident the demand will be there. A recent report from the International Transport Forum (ITF) says that mobility services will be vital in meeting the needs of a growing world population and fast-paced urbanization. But for growth to happen, \"people must choose it over other travel options\" such as private motor vehicles.This is already happening, says Hietanen. According to a company survey carried out in Helsinki, 12% of its users said that Whim had prompted them to give up their cars. \"People want the more sustainable solution,\" he says, \"but they still want the freedom of being able to go anywhere, anytime.\"'"
      ]
     },
     "execution_count": 7,
     "metadata": {},
     "output_type": "execute_result"
    }
   ],
   "source": [
    "file = open('../data/cnn_news/filtered_dataCNN.pickle', 'rb')\n",
    "data = pickle.load(file)\n",
    "file.close()\n",
    "\n",
    "text = data['Article text'].iloc[10].strip()\n",
    "text"
   ]
  },
  {
   "cell_type": "code",
   "execution_count": 8,
   "id": "b86d3fdf-4682-4873-b3c3-fb16941f1745",
   "metadata": {},
   "outputs": [
    {
     "name": "stdout",
     "output_type": "stream",
     "text": [
      "Noun phrases: ['London', 'CNN Business)City dwellers', 'apps', 'the best way', 'A', 'B.', 'it', 'the train', 'the bus', 'a taxi', 'a city bike', 'Which provider', 'e', '-', 'scooter?It', 'Which', 'MaaS Global', 'all these services', 'one app', 'Whim', 'more than 10 cities', 'Europe', 'Asia', 'users', 'buses', 'bikes', 'e', '-', 'scooters', 'rental cars', \"Whim's sole purpose\", 'car ownership', 'CEO Sampo Hietanen', 'CNN Business', 'the International Energy Agency', 'transport', '24%', 'global energy-related CO2 emissions', 'which', 'passenger vehicles', 'Whim', 'users', 'their car', 'keys', 'a single app', 'multiple transport options', 'the environmental impact', 'Hietanen', 'Car competitionRead MoreHe', 'this', 'an easy task', 'Whim', 'a car', 'The car', 'freedom', 'mobility', 'Hietanen', 'a city dweller', 'it', 'they', 'it', 'a \"freedom insurance', '\"To', 'Whim', 'rental cars', 'taxis', 'Hietanen', 'users', 'public transport', 'micromobility', 'lightweight vehicles', 'bikes', 'e', '-', 'scooters', 'The app', 'Helsinki', 'several European and Asian cities', 'Users', 'multiple tiers', 'service', 'you', 'a 30-day season ticket', 'which', 'Helsinki', 'the app', 'unlimited public transport', 'short taxi rides', 'The ticket', 'car rental', 'day', 'Helsinki', 'well-developed alternatives', 'driving', 'that', 'a city', 'a wide public transport system', 'a lot', 'rental cars', 'taxis', 'place', 'it', 'people', 'their cars', 'Maria Kamargianni', 'associate professor', 'transport', 'energy', 'University College London', 'She', 'apps', 'Whim', 'the first step', 'people', 'car ownership', 'the availability', 'alternative transport options', 'the market matures', 'Research firm MarketsandMarkets', 'the global mobility service market', 'MaaS movementOther providers', 'Citymapper', 'which', 'a travel pass', 'Londoners', 'Moovit', 'which', 'an all-in-one mobility app', 'Israel', 'Whim', 'the earliest providers', 'investors', 'BP', 'BP', 'Mitsubishi', 'MBFJF', 'Toyota Financial Services', 'It', 'several European cities', 'Tokyo', '18 million trips', 'launch', 'the business', 'the Covid-19 pandemic', 'Hietanen', 'fewer people', 'revenues', \"the company's expansion\", 'other cities', 'Whim', 'public transport', 'micromobility', 'the most popular ways', 'the app', 'Finnish newspaper Helsingin Sanomat', 'the company', 'failed expansion ventures', 'Hietanen', 'the money', 'multiple transportation providers', 'market readiness', 'several countries', 'the complex technology', 'that', 'the app', 'We', 'the beginning', 'the investment', 'this', 'he', 'the company', 'further investment', 'the industry', 'its infancy', 'Hietanen', 'the demand', 'A recent report', 'the International Transport Forum', 'ITF', 'mobility services', 'the needs', 'a growing world population', 'fast-paced urbanization', 'growth', 'people', 'it', 'other travel options', 'private motor vehicles', 'This', 'Hietanen', 'a company survey', 'Helsinki', '12%', 'its users', 'Whim', 'them', 'their cars', 'People', 'the more sustainable solution', 'he', 'they', 'the freedom']\n",
      "\n",
      "London GPE\n",
      "CNN ORG\n",
      "B. PERSON\n",
      "Finnish NORP\n",
      "MaaS Global PRODUCT\n",
      "Whim ORG\n",
      "more than 10 CARDINAL\n",
      "Europe LOC\n",
      "Asia LOC\n",
      "Whim PERSON\n",
      "Sampo Hietanen PERSON\n",
      "CNN Business ORG\n",
      "the International Energy Agency ORG\n",
      "24% PERCENT\n",
      "Whim PERSON\n",
      "Hietanen PERSON\n",
      "Car competitionRead MoreHe PERSON\n",
      "Whim PERSON\n",
      "Hietanen PERSON\n",
      "Hietanen PERSON\n",
      "Helsinki GPE\n",
      "European NORP\n",
      "Asian NORP\n",
      "30-day DATE\n",
      "62 MONEY\n",
      "73 MONEY\n",
      "Helsinki GPE\n",
      "55 MONEY\n",
      "65 MONEY\n",
      "Helsinki PERSON\n",
      "Maria Kamargianni PERSON\n",
      "University College London ORG\n",
      "Whim PERSON\n",
      "first ORDINAL\n",
      "MarketsandMarkets ORG\n",
      "$4.7 billion MONEY\n",
      "2020 DATE\n",
      "$70.4 billion MONEY\n",
      "2030 DATE\n",
      "Citymapper ORG\n",
      "2019 DATE\n",
      "Moovit GPE\n",
      "Israel GPE\n",
      "last year DATE\n",
      "2016 DATE\n",
      "more than $60 million MONEY\n",
      "BP (BP) ORG\n",
      "Mitsubishi ORG\n",
      "MBFJF ORG\n",
      "Toyota Financial Services ORG\n",
      "European NORP\n",
      "Tokyo GPE\n",
      "18 million CARDINAL\n",
      "Hietanen PERSON\n",
      "Whim PERSON\n",
      "Finnish NORP\n",
      "Helsingin Sanomat FAC\n",
      "€50 million MONEY\n",
      "$59 million MONEY\n",
      "Hietanen PERSON\n",
      "Greener PERSON\n",
      "Hietanen GPE\n",
      "the International Transport Forum ORG\n",
      "Hietanen PERSON\n",
      "Helsinki GPE\n",
      "12% PERCENT\n",
      "Whim PERSON\n"
     ]
    }
   ],
   "source": [
    "doc = nlp(text)\n",
    "\n",
    "# Analyze syntax\n",
    "print(\"Noun phrases:\", [chunk.text for chunk in doc.noun_chunks])\n",
    "\n",
    "# print()\n",
    "# print(\"Verbs:\", [token.lemma_ for token in doc if token.pos_ == \"VERB\"])\n",
    "\n",
    "print()\n",
    "# Find named entities, phrases and concepts\n",
    "for entity in doc.ents:\n",
    "    print(entity.text, entity.label_)"
   ]
  },
  {
   "cell_type": "code",
   "execution_count": 46,
   "metadata": {},
   "outputs": [],
   "source": [
    "# a func that compute a TF-IDF score for noun chunk with respect to the article\n",
    "def compute_tfidf_score(article, noun_chunk):\n",
    "    # loop each token in the noun chunk, compute the tf-idf score, \n",
    "    # then return a average score\n",
    "    tfidf_scores = []\n",
    "    for token in word_tokenize(noun_chunk):\n",
    "        tf = article.count(token) / len(article)\n",
    "        try:\n",
    "            idf = np.log(len(article) / article.count(token))\n",
    "        except:\n",
    "            # if the token is not in the article, skip\n",
    "            continue\n",
    "        tfidf_scores.append(tf * idf)\n",
    "    return np.mean(tfidf_scores)"
   ]
  },
  {
   "cell_type": "code",
   "execution_count": 54,
   "id": "3d48535d-046f-4b47-980e-48001f64580a",
   "metadata": {},
   "outputs": [
    {
     "name": "stdout",
     "output_type": "stream",
     "text": [
      "(1.2002119693478979, 'a wide public transport system')\n",
      "(1.1892532075776696, 'a growing world population')\n",
      "(0.9893733511552046, 'a company survey')\n",
      "(0.8666137178165841, 'a city dweller')\n",
      "(0.8165220785701209, 'a travel pass')\n",
      "(0.7808617292637576, 'a single app')\n",
      "(0.6862940752284352, 'a city bike')\n",
      "(0.4782287442289171, 'the global mobility service market')\n",
      "(0.4322144572483626, 'the International Transport Forum')\n",
      "(0.4060196416575528, 'the International Energy Agency')\n",
      "(0.4005554525773901, 'the more sustainable solution')\n",
      "(0.39121906971601206, 'the environmental impact')\n",
      "(0.3810195888775107, 'the earliest providers')\n",
      "(0.35861748057301107, 'the complex technology')\n",
      "(0.31174329999069056, 'the market matures')\n",
      "(0.28275346614601493, 'the most popular ways')\n",
      "(0.2780196156238534, 'several European and Asian cities')\n",
      "(0.27226698116395825, 'an easy task')\n",
      "(0.22821112400100704, 'the first step')\n",
      "(0.20782886666046035, 'the best way')\n"
     ]
    }
   ],
   "source": [
    "noun_chunk_list = [chunk.text for chunk in doc.noun_chunks]\n",
    "noun_chunk_list = list(set(noun_chunk_list))\n",
    "# remove strings that has less than 3 tokens\n",
    "noun_chunk_list = [noun_chunk for noun_chunk in noun_chunk_list if len(word_tokenize(noun_chunk)) > 2]\n",
    "noun_chunk_list = remove_noise_from_keywords(noun_chunk_list)\n",
    "\n",
    "# sort the noun_chunk_list by length, make [(score, word), ...]\n",
    "noun_chunk_list = [(compute_tfidf_score(text, noun_chunk)*len(noun_chunk), noun_chunk) for noun_chunk in noun_chunk_list]\n",
    "# noun_chunk_list = [(len(noun_chunk), noun_chunk) for noun_chunk in noun_chunk_list]\n",
    "noun_chunk_list.sort(reverse=True)\n",
    "\n",
    "\n",
    "# print the top 10 noun chunks\n",
    "for i in range(20):\n",
    "    print(noun_chunk_list[i])"
   ]
  },
  {
   "cell_type": "code",
   "execution_count": 64,
   "id": "0c5297c8",
   "metadata": {},
   "outputs": [],
   "source": [
    "def extract_keywords_spacy(text: str, score: bool = True, min_token: int = 3):\n",
    "    text = text.strip()\n",
    "    doc = nlp(text)\n",
    "    noun_chunk_list = list(set([chunk.text for chunk in doc.noun_chunks]))\n",
    "    noun_chunk_list = [noun_chunk for noun_chunk in noun_chunk_list if len(word_tokenize(noun_chunk)) > (min_token-1)]\n",
    "    noun_chunk_list = remove_noise_from_keywords(noun_chunk_list)\n",
    "\n",
    "    # sort the noun_chunk_list by length, make [(score, word), ...]\n",
    "    noun_chunk_list = [(compute_tfidf_score(text, noun_chunk)*len(noun_chunk), noun_chunk) for noun_chunk in noun_chunk_list]\n",
    "    # noun_chunk_list = [(len(noun_chunk), noun_chunk) for noun_chunk in noun_chunk_list]\n",
    "    noun_chunk_list.sort(reverse=True)\n",
    "    if score:\n",
    "        return noun_chunk_list\n",
    "    return [noun_chunk[1] for noun_chunk in noun_chunk_list]"
   ]
  },
  {
   "cell_type": "code",
   "execution_count": 65,
   "id": "64d2be87",
   "metadata": {},
   "outputs": [
    {
     "data": {
      "text/plain": [
       "[(1.2002119693478979, 'a wide public transport system'),\n",
       " (1.1892532075776696, 'a growing world population'),\n",
       " (0.9893733511552046, 'a company survey'),\n",
       " (0.8666137178165841, 'a city dweller'),\n",
       " (0.8165220785701209, 'a travel pass'),\n",
       " (0.7808617292637576, 'a single app'),\n",
       " (0.6862940752284352, 'a city bike'),\n",
       " (0.4782287442289171, 'the global mobility service market'),\n",
       " (0.4322144572483626, 'the International Transport Forum'),\n",
       " (0.4060196416575528, 'the International Energy Agency'),\n",
       " (0.4005554525773901, 'the more sustainable solution'),\n",
       " (0.39121906971601206, 'the environmental impact'),\n",
       " (0.3810195888775107, 'the earliest providers'),\n",
       " (0.35861748057301107, 'the complex technology'),\n",
       " (0.31174329999069056, 'the market matures'),\n",
       " (0.28275346614601493, 'the most popular ways'),\n",
       " (0.2780196156238534, 'several European and Asian cities'),\n",
       " (0.27226698116395825, 'an easy task'),\n",
       " (0.22821112400100704, 'the first step'),\n",
       " (0.20782886666046035, 'the best way'),\n",
       " (0.2036757512408785, 'alternative transport options'),\n",
       " (0.19533000235313275, 'multiple transport options'),\n",
       " (0.18091206562222065, 'unlimited public transport'),\n",
       " (0.1299256764539376, 'multiple transportation providers'),\n",
       " (0.11338471809029271, 'several European cities'),\n",
       " (0.10748879089715369, 'other travel options'),\n",
       " (0.10534952650390267, 'A recent report'),\n",
       " (0.09653703022473477, 'MaaS movementOther providers'),\n",
       " (0.09285914757189055, 'more than 10 cities'),\n",
       " (0.09143255916593836, 'CEO Sampo Hietanen'),\n",
       " (0.08040380860808802, 'Finnish newspaper Helsingin Sanomat'),\n",
       " (0.07841091410375688, 'all these services'),\n",
       " (0.07297160151302146, 'University College London'),\n",
       " (0.06421500933145888, 'private motor vehicles'),\n",
       " (0.061236398011507265, 'short taxi rides'),\n",
       " (0.06073683573125724, 'failed expansion ventures'),\n",
       " (0.058918178719806355, 'Research firm MarketsandMarkets'),\n",
       " (0.05412169092181404, '18 million trips'),\n",
       " (0.04941524666822468, 'Car competitionRead MoreHe'),\n",
       " (0.04751466025790835, 'Toyota Financial Services')]"
      ]
     },
     "execution_count": 65,
     "metadata": {},
     "output_type": "execute_result"
    }
   ],
   "source": [
    "extract_keywords_spacy(text, score=True, min_token=3)"
   ]
  },
  {
   "cell_type": "code",
   "execution_count": null,
   "id": "9343440a",
   "metadata": {},
   "outputs": [],
   "source": []
  }
 ],
 "metadata": {
  "kernelspec": {
   "display_name": "Python 3 (ipykernel)",
   "language": "python",
   "name": "python3"
  },
  "language_info": {
   "codemirror_mode": {
    "name": "ipython",
    "version": 3
   },
   "file_extension": ".py",
   "mimetype": "text/x-python",
   "name": "python",
   "nbconvert_exporter": "python",
   "pygments_lexer": "ipython3",
   "version": "3.9.18"
  }
 },
 "nbformat": 4,
 "nbformat_minor": 5
}
