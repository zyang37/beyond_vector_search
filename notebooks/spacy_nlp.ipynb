{
 "cells": [
  {
   "cell_type": "code",
   "execution_count": 3,
   "id": "7225889c-668c-4761-a03b-18c104f7490c",
   "metadata": {},
   "outputs": [
    {
     "name": "stderr",
     "output_type": "stream",
     "text": [
      "[nltk_data] Downloading package punkt to /home/zyang37/nltk_data...\n",
      "[nltk_data]   Package punkt is already up-to-date!\n"
     ]
    }
   ],
   "source": [
    "import spacy\n",
    "\n",
    "import os\n",
    "import sys\n",
    "import json\n",
    "import pickle\n",
    "import numpy as np\n",
    "import pandas as pd\n",
    "from tqdm.auto import tqdm\n",
    "from pprint import pprint\n",
    "\n",
    "sys.path.append(\"../\")\n",
    "from utils.parse_arxiv import parse_title\n",
    "\n",
    "from nltk.tokenize import sent_tokenize, word_tokenize\n",
    "import nltk\n",
    "nltk.download('punkt')\n",
    "\n",
    "# Load English tokenizer, tagger, parser and NER\n",
    "nlp = spacy.load(\"en_core_web_sm\")"
   ]
  },
  {
   "cell_type": "code",
   "execution_count": 8,
   "id": "84a78014-b9a1-47b9-bcbe-df8f36dd9bb7",
   "metadata": {},
   "outputs": [
    {
     "data": {
      "text/plain": [
       "'(CNN)Working in a factory or warehouse can mean doing the same task over and over, and that repetition can lead to chronic injury. Now, a battery-powered glove could help workers by taking some of the strain.The \"Ironhand\" glove strengthens the wearer\\'s grip, meaning they don\\'t have to use as much force to perform repetitive manual tasks. Its developer, Bioservo, says it can increase the wearer\\'s hand strength by 20%. The Swedish company describes the system as a \"soft exoskeleton.\" Exoskeletons are an external device that supports and protects the body, typically increasing strength and endurance. Most have a rigid structure, but the Ironhand is soft, like a regular glove.  Photos: The robots running our warehousesRobots are an increasingly familiar presence in warehouses. At the south-east London warehouse run by British online supermarket Ocado, 3,000 robots fulfill shopping orders. When an order is sent to the warehouse, the bots spring to life and head towards the container they require. Scroll through to see more robots that are revolutionizing warehouses.Hide Caption 1 of 8 Photos: The robots running our warehousesIn response to the coronavirus pandemic, MIT collaborated with Ava Robotics and the Greater Boston Food Bank to design a robot that can use UV light to sanitize the floor of a 4,000-square foot warehouse in just 30 minutes. Hide Caption 2 of 8 Photos: The robots running our warehousesSeven-foot \"Model-T\" robots produced by Japanese startup Telexistence have been stacking shelves in two of Tokyo\\'s largest convenience store franchises. Featuring cameras, microphones and sensors, the Model-T uses three \"fingers\" to stock items such as bottled drinks, cans and rice bowls. The robot is controlled by shop staff remotely.Hide Caption 3 of 8 Photos: The robots running our warehousesUS company Boston Dynamics has become known for its advanced work robots. \"Handle\" is made for the warehouse and equipped with an on-board vision system. It can lift boxes weighing over 30 pounds. Hide Caption 4 of 8 Photos: The robots running our warehousesStretch is the latest robot from Boston Dynamics and can work in warehouses and distribution centers. Designed to keep human workers out of harm\\'s way, Stretch\\'s tentacle-like grippers mean it can manipulate boxes. Hide Caption 5 of 8 Photos: The robots running our warehousesAlthough not specifically designed for warehouses, Boston Dynamics\\' dog-like robot \"Spot\" can lift objects, pick itself up after a fall, open and walk through doors, and even remind people to practice social distancing. Hide Caption 6 of 8 Photos: The robots running our warehousesThis robot is used to plant seeds and check plants at the \"Nordic Harvest\" vertical farm  based in Taastrup, Denmark. The indoor farm is one of the biggest in Europe.Hide Caption 7 of 8 Photos: The robots running our warehousesRobots sort packages at a warehouse run by JD.com -- one of China\\'s largest e-commerce firms, in Wuhan, China, ahead of the annual Singles Day online shopping bonanza, in 2019.Hide Caption 8 of 8Reducing fatigue\"When you have the glove on, it provides strength and reduces the effort needed when lifting objects,\" says Mikael Wester, Bioservo\\'s marketing director. \"It\\'s all in order to reduce fatigue and prevent strain injuries in the long run.\"The Ironhand system was developed with General Motors as a partner.Read MoreThe system consists of a backpack, which houses the power pack, and artificial tendons that connect to the glove. There are sensors on each fingertip which switch on the motor when a user grabs an object. A remote control or app can be used to adjust the strength and sensitivity of the grip.Wester says applications include assembly on the production line in the automotive industry, using tools in construction and lifting heavy objects in warehouses.Each Ironhand system costs around €6,000 ($7,275). The device also collects data that allows the company to assess the wearer\\'s risk of developing strain injuries.  According to the European Agency for Safety and Health at Work, work-related neck and upper limb disorders are the most common occupational disease in Europe, costing national economies up to 2% of their gross national product.From NASA to General Motors The glove was originally intended for workers in a very different setting to the factory floor. NASA developed an early version of the technology, called \"Robo-Glove,\" to help astronauts grasp objects and carry out work in space. The Ironhand system being used for assembling parts in the automobile industry. Bioservo licensed the design in 2016 and then partnered with auto manufacturer General Motors (GM) to develop the glove for its workers. Why online supermarket Ocado wants to take the human touch out of groceries\"Ergonomics is really the field of trying to fit the jobs to the workers, instead of the workers having to conform and adapt to the job,\" says Stephen Krajcarski, a senior manager with GM\\'s ergonomics team.\"By using tools such as the Ironhand we are really trying to mitigate any potential concerns or physical demands that may eventually cause a medical concern for that individual operator.\"  Krajcarski says GM has helped Bioservo to test and improve the Ironhand by piloting it in a variety of jobs at its manufacturing plants. He says some workers have found it easy to use but adds that it\\'s not suitable for all situations.The Ironhand is just one of the exoskeletons GM is looking into. According to market research firm ABI Research, the exoskeleton market will grow from $392 million in 2020 to $6.8 billion in 2030.\"If you look at exoskeletons, this is just one of the tools that are out there,\" says Krajcarski. \"But this is an exciting technology.\"This story has been updated to correct the cost of the Ironhand system.'"
      ]
     },
     "execution_count": 8,
     "metadata": {},
     "output_type": "execute_result"
    }
   ],
   "source": [
    "file = open('../data/cnn_news/filtered_dataCNN.pickle', 'rb')\n",
    "data = pickle.load(file)\n",
    "file.close()\n",
    "\n",
    "text = data['Article text'].iloc[0].strip()\n",
    "text"
   ]
  },
  {
   "cell_type": "code",
   "execution_count": 11,
   "id": "b86d3fdf-4682-4873-b3c3-fb16941f1745",
   "metadata": {},
   "outputs": [
    {
     "name": "stdout",
     "output_type": "stream",
     "text": [
      "Noun phrases: ['a factory', 'warehouse', 'the same task', 'that repetition', 'chronic injury', 'a battery-powered glove', 'workers', 'some', 'the strain', 'The \"Ironhand\" glove', \"the wearer's grip\", 'they', 'as much force', 'repetitive manual tasks', 'Its developer', 'Bioservo', 'it', \"the wearer's hand strength\", '20%', 'The Swedish company', 'the system', 'a \"soft exoskeleton', 'Exoskeletons', 'an external device', 'that', 'the body', 'strength', 'endurance', 'a rigid structure', 'the Ironhand', 'a regular glove', 'The robots', 'our warehousesRobots', 'an increasingly familiar presence', 'warehouses', 'the south-east London warehouse', 'British online supermarket Ocado', 'an order', 'the warehouse', 'the bots', 'life', 'head', 'the container', 'they', 'Scroll', 'more robots', 'that', 'warehouses', 'Caption', '8 Photos', 'The robots', 'our warehousesIn', 'response', 'the coronavirus', 'MIT', 'Ava Robotics', 'the Greater Boston Food Bank', 'a robot', 'that', 'UV light', 'the floor', 'a 4,000-square foot warehouse', 'just 30 minutes', 'Caption', '8 Photos', 'The robots', 'our warehousesSeven-foot \"Model-T\" robots', 'Japanese startup', 'Telexistence', 'shelves', \"Tokyo's largest convenience store franchises\", 'cameras', 'microphones', 'sensors', 'the Model-T', 'three \"fingers', 'stock items', 'bottled drinks', 'cans', 'rice bowls', 'The robot', 'shop staff', 'Caption', '8 Photos', 'The robots', 'our warehousesUS company', 'Boston Dynamics', 'its advanced work robots', 'Handle', 'the warehouse', 'board', 'It', 'boxes', 'over 30 pounds', 'Caption', '8 Photos', 'The robots', 'our warehousesStretch', 'the latest robot', 'Boston Dynamics', 'warehouses', 'distribution centers', 'human workers', \"harm's way\", \"Stretch's tentacle-like grippers\", 'it', 'boxes', 'Caption', '8 Photos', 'The robots', 'our', 'warehouses', 'Boston Dynamics\\' dog-like robot \"Spot', 'objects', 'itself', 'a fall', 'doors', 'people', 'social distancing', 'Caption', '8 Photos', 'The robots', 'our warehousesThis robot', 'seeds', 'plants', 'the \"Nordic Harvest\" vertical farm', 'Taastrup', 'Denmark', 'The indoor farm', 'Europe', 'Caption', '8 Photos', 'The robots', 'our warehousesRobots', 'sort packages', 'a warehouse', 'JD.com', \"China's largest e-commerce firms\", 'Wuhan', 'China', 'the annual Singles Day online shopping bonanza', '2019.Hide Caption', '8Reducing', 'you', 'the glove', 'it', 'strength', 'the effort', 'Mikael Wester', \"Bioservo's marketing director\", 'It', 'order', 'fatigue', 'strain injuries', 'the long run', 'Ironhand system', 'General Motors', 'a partner', 'Read MoreThe system', 'a backpack', 'which', 'the power pack', 'artificial tendons', 'that', 'the glove', 'sensors', 'each fingertip', 'which', 'the motor', 'a user', 'an object', 'A remote control', 'app', 'the strength', 'sensitivity', 'the grip', 'Wester', 'applications', 'assembly', 'the production line', 'the automotive industry', 'tools', 'construction', 'heavy objects', 'warehouses', 'Each Ironhand system', 'The device', 'data', 'that', 'the company', \"the wearer's risk\", 'strain injuries', 'the European Agency', 'Safety', 'Health', 'Work', 'work-related neck', 'upper limb disorders', 'the most common occupational disease', 'Europe', 'national economies', 'up to 2%', 'their gross national product', 'NASA', 'General Motors', 'The glove', 'workers', 'a very different setting', 'the factory floor', 'NASA', 'an early version', 'the technology', '\"Robo-Glove', 'astronauts', 'work', 'space', 'The Ironhand system', 'parts', 'the automobile industry', 'Bioservo', 'the design', 'auto manufacturer General Motors', 'GM', 'the glove', 'its workers', 'online supermarket', 'Ocado', 'the human touch', 'groceries\"Ergonomics', 'the field', 'the jobs', 'the workers', 'the workers', 'the job', 'Stephen Krajcarski', 'a senior manager', \"GM's ergonomics team\", '\"By', 'tools', 'the Ironhand', 'we', 'any potential concerns', 'physical demands', 'that', 'a medical concern', 'that individual operator', 'Krajcarski', 'GM', 'Bioservo', 'the Ironhand', 'it', 'a variety', 'jobs', 'its manufacturing plants', 'He', 'some workers', 'it', 'it', 'all situations', 'The Ironhand', 'the exoskeletons', 'GM', 'market research firm ABI Research', 'the exoskeleton market', '2030.\"If', 'you', 'exoskeletons', 'this', 'the tools', 'that', 'Krajcarski', 'this', 'an exciting technology', '\"This story', 'the cost', 'the Ironhand system']\n",
      "\n",
      "Ironhand GPE\n",
      "Bioservo ORG\n",
      "20% PERCENT\n",
      "Swedish NORP\n",
      "Ironhand GPE\n",
      "London GPE\n",
      "British NORP\n",
      "Ocado GPE\n",
      "3,000 CARDINAL\n",
      "spring DATE\n",
      "8 CARDINAL\n",
      "MIT ORG\n",
      "Ava Robotics PERSON\n",
      "the Greater Boston Food Bank ORG\n",
      "4,000-square foot QUANTITY\n",
      "just 30 minutes TIME\n",
      "8 CARDINAL\n",
      "Japanese NORP\n",
      "Telexistence GPE\n",
      "two CARDINAL\n",
      "Tokyo GPE\n",
      "three CARDINAL\n",
      "shop staff ORG\n",
      "3 CARDINAL\n",
      "8 CARDINAL\n",
      "Boston Dynamics ORG\n",
      "over 30 pounds QUANTITY\n",
      "8 CARDINAL\n",
      "Boston Dynamics ORG\n",
      "Stretch PERSON\n",
      "8 CARDINAL\n",
      "Boston Dynamics' ORG\n",
      "8 CARDINAL\n",
      "the \"Nordic Harvest FAC\n",
      "Taastrup GPE\n",
      "Denmark GPE\n",
      "Europe LOC\n",
      "8 CARDINAL\n",
      "China GPE\n",
      "Wuhan GPE\n",
      "China GPE\n",
      "Singles Day EVENT\n",
      "fatigue\"When PERSON\n",
      "Mikael Wester PERSON\n",
      "Bioservo ORG\n",
      "Ironhand GPE\n",
      "General Motors ORG\n",
      "Ironhand GPE\n",
      "around €6,000 MONEY\n",
      "7,275 MONEY\n",
      "the European Agency for Safety and Health at Work ORG\n",
      "Europe LOC\n",
      "up to 2% PERCENT\n",
      "NASA ORG\n",
      "General Motors ORG\n",
      "NASA ORG\n",
      "Robo-Glove WORK_OF_ART\n",
      "Ironhand GPE\n",
      "2016 DATE\n",
      "General Motors ORG\n",
      "GM ORG\n",
      "Ocado GPE\n",
      "Stephen Krajcarski PERSON\n",
      "GM ORG\n",
      "Ironhand GPE\n",
      "Krajcarski PERSON\n",
      "GM ORG\n",
      "Bioservo ORG\n",
      "Ironhand GPE\n",
      "Ironhand GPE\n",
      "GM ORG\n",
      "ABI Research ORG\n",
      "the exoskeleton market ORG\n",
      "$392 million MONEY\n",
      "2020 DATE\n",
      "$6.8 billion MONEY\n",
      "2030.\"If DATE\n",
      "Krajcarski PERSON\n",
      "Ironhand GPE\n"
     ]
    }
   ],
   "source": [
    "doc = nlp(text)\n",
    "\n",
    "# Analyze syntax\n",
    "print(\"Noun phrases:\", [chunk.text for chunk in doc.noun_chunks])\n",
    "\n",
    "# print()\n",
    "# print(\"Verbs:\", [token.lemma_ for token in doc if token.pos_ == \"VERB\"])\n",
    "\n",
    "print()\n",
    "# Find named entities, phrases and concepts\n",
    "for entity in doc.ents:\n",
    "    print(entity.text, entity.label_)"
   ]
  },
  {
   "cell_type": "code",
   "execution_count": null,
   "id": "3d48535d-046f-4b47-980e-48001f64580a",
   "metadata": {},
   "outputs": [],
   "source": []
  }
 ],
 "metadata": {
  "kernelspec": {
   "display_name": "Python 3 (ipykernel)",
   "language": "python",
   "name": "python3"
  },
  "language_info": {
   "codemirror_mode": {
    "name": "ipython",
    "version": 3
   },
   "file_extension": ".py",
   "mimetype": "text/x-python",
   "name": "python",
   "nbconvert_exporter": "python",
   "pygments_lexer": "ipython3",
   "version": "3.9.18"
  }
 },
 "nbformat": 4,
 "nbformat_minor": 5
}
