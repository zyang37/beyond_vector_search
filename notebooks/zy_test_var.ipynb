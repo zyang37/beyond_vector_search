{
 "cells": [
  {
   "cell_type": "code",
   "execution_count": 1,
   "id": "f42442e9-7811-4d24-8f11-f7519eaf4584",
   "metadata": {},
   "outputs": [
    {
     "name": "stderr",
     "output_type": "stream",
     "text": [
      "[nltk_data] Downloading package punkt to /home/zyang37/nltk_data...\n",
      "[nltk_data]   Package punkt is already up-to-date!\n"
     ]
    }
   ],
   "source": [
    "%matplotlib inline\n",
    "\n",
    "import pickle\n",
    "import chromadb\n",
    "import numpy as np\n",
    "from pprint import pprint\n",
    "from tqdm.auto import tqdm\n",
    "import sys\n",
    "from matplotlib import pyplot as plt\n",
    "import random\n",
    "\n",
    "sys.path.append(\"../\")\n",
    "from utils.parse_arxiv import *\n",
    "from make_vectordb import get_embedding_model"
   ]
  },
  {
   "cell_type": "code",
   "execution_count": 2,
   "id": "81ba7b50-c2a1-473d-99df-dd27923a60f8",
   "metadata": {},
   "outputs": [
    {
     "data": {
      "text/plain": [
       "[Collection(name=arxiv_title_meta),\n",
       " Collection(name=cnn_headline),\n",
       " Collection(name=arxiv_title),\n",
       " Collection(name=arxiv_abstract),\n",
       " Collection(name=arxiv_abstract_meta),\n",
       " Collection(name=cnn_article)]"
      ]
     },
     "execution_count": 2,
     "metadata": {},
     "output_type": "execute_result"
    }
   ],
   "source": [
    "chroma_client = chromadb.PersistentClient(path=\"../data/chroma_dbs/\")\n",
    "chroma_client.list_collections()"
   ]
  },
  {
   "cell_type": "code",
   "execution_count": 4,
   "id": "8d11efa4-777c-4a28-80be-369ad7f71ddc",
   "metadata": {},
   "outputs": [],
   "source": [
    "coll_name = \"arxiv_title\"\n",
    "collection = chroma_client.get_collection(name=coll_name)"
   ]
  },
  {
   "cell_type": "code",
   "execution_count": 27,
   "id": "a17e33e1-916e-4f5a-b214-74616c6f3872",
   "metadata": {},
   "outputs": [],
   "source": [
    "results = collection.query(query_texts=\"testing\", n_results=5, include=['embeddings'])\n",
    "res_embeds = np.array(results['embeddings'][0])"
   ]
  },
  {
   "cell_type": "code",
   "execution_count": 29,
   "id": "28f6fac5-21fb-4dde-9c6f-e3e2731ac472",
   "metadata": {},
   "outputs": [
    {
     "data": {
      "text/plain": [
       "(3, 384)"
      ]
     },
     "execution_count": 29,
     "metadata": {},
     "output_type": "execute_result"
    }
   ],
   "source": [
    "def positive_embeds():\n",
    "    pass\n",
    "\n",
    "res_embeds[[0,1,2],].shape"
   ]
  },
  {
   "cell_type": "code",
   "execution_count": null,
   "id": "6b2336f9-dfbe-4814-8830-9a1f0dddfd78",
   "metadata": {},
   "outputs": [],
   "source": []
  },
  {
   "cell_type": "code",
   "execution_count": null,
   "id": "0f012a5f-4f8b-4273-8a12-b78d9f87896a",
   "metadata": {},
   "outputs": [],
   "source": [
    "with open(\"../data/arxiv/filtered_data.pickle\", \"rb\") as f:\n",
    "    data = pickle.load(f)"
   ]
  },
  {
   "cell_type": "code",
   "execution_count": null,
   "id": "be4e3dd5-08cc-47d0-8b70-eab1491bbede",
   "metadata": {},
   "outputs": [],
   "source": [
    "data.head()"
   ]
  },
  {
   "cell_type": "code",
   "execution_count": null,
   "id": "ec90f776-b67a-4ea2-9ae4-a50650285d70",
   "metadata": {},
   "outputs": [],
   "source": [
    "def aggregate_by_keywords(data):\n",
    "    author_dict = {}\n",
    "    cat_dict = {}\n",
    "    journal_dict = {}\n",
    "    year_dict = {}\n",
    "    \n",
    "    for i in tqdm(range(data.shape[0])):\n",
    "        # parse authors\n",
    "        authors = parse_authors(data['authors'].iloc[i])\n",
    "        for author in authors:\n",
    "            if author not in author_dict.keys():\n",
    "                author_dict[author] = [i]\n",
    "            else:\n",
    "                author_dict[author].append(i)\n",
    "                \n",
    "        # parse journals\n",
    "        journals = parse_journal(data['journal-ref'].iloc[i])\n",
    "        if journals not in journal_dict.keys():\n",
    "            journal_dict[journals] = [i]\n",
    "        else:\n",
    "            journal_dict[journals].append(i)\n",
    "            \n",
    "        # parse categories\n",
    "        categories = parse_categories(data['categories'].iloc[i])\n",
    "        for cat in categories:\n",
    "            if cat not in cat_dict.keys():\n",
    "                cat_dict[cat] = [i]\n",
    "            else:\n",
    "                cat_dict[cat].append(i)\n",
    "\n",
    "        # parse year\n",
    "        year = parse_year(data['update_date'].iloc[i])\n",
    "        if year not in year_dict.keys():\n",
    "            year_dict[year] = [i]\n",
    "        else:\n",
    "            year_dict[year].append(i)\n",
    "    return author_dict, cat_dict, journal_dict, year_dict"
   ]
  },
  {
   "cell_type": "code",
   "execution_count": null,
   "id": "f39d96e9-7024-4e10-9bc9-22f1d31a6c8e",
   "metadata": {},
   "outputs": [],
   "source": [
    "author_dict, cat_dict, journal_dict, year_dict = aggregate_by_keywords(data)\n",
    "for k in year_dict.keys():\n",
    "    print(k, year_dict[k])"
   ]
  },
  {
   "cell_type": "code",
   "execution_count": null,
   "id": "dc309189-1a27-4ffd-8bc6-341e91fa2a31",
   "metadata": {},
   "outputs": [],
   "source": [
    "for k in author_dict.keys():\n",
    "    print(k, len(author_dict[k]))"
   ]
  },
  {
   "cell_type": "code",
   "execution_count": null,
   "id": "b26463db-d171-4740-94ce-70dabb2a7629",
   "metadata": {},
   "outputs": [],
   "source": [
    "def add_test_groups(test_groups, target_dict):\n",
    "    for k in target_dict.keys():\n",
    "        if len(target_dict[k]) > 1:\n",
    "            test_groups.append(target_dict[k])\n",
    "    return test_groups"
   ]
  },
  {
   "cell_type": "code",
   "execution_count": null,
   "id": "436c9533-758e-4f63-88e6-73b4b1d23d2d",
   "metadata": {},
   "outputs": [],
   "source": [
    "test_groups = []\n",
    "test_groups = add_test_groups(test_groups, author_dict)\n",
    "test_groups = add_test_groups(test_groups, cat_dict)\n",
    "test_groups = add_test_groups(test_groups, journal_dict)\n",
    "test_groups = add_test_groups(test_groups, year_dict)"
   ]
  },
  {
   "cell_type": "code",
   "execution_count": null,
   "id": "d4749787-cb15-422d-9084-2bba186c881b",
   "metadata": {},
   "outputs": [],
   "source": [
    "freq = {}\n",
    "for group in test_groups:\n",
    "    group_len = len(group)\n",
    "    if group_len not in freq:\n",
    "        freq[group_len] = 1\n",
    "    else:\n",
    "        freq[group_len] += 1"
   ]
  },
  {
   "cell_type": "code",
   "execution_count": null,
   "id": "e59e74cb-df47-43d3-a964-e08621668c7a",
   "metadata": {},
   "outputs": [],
   "source": [
    "for k in freq.keys():\n",
    "    print(k, freq[k])"
   ]
  },
  {
   "cell_type": "code",
   "execution_count": null,
   "id": "6589827f-d0f4-4dce-bc6d-f9ee58ed014d",
   "metadata": {},
   "outputs": [],
   "source": [
    "cfg = load_json('../config/arxiv_cfg.json')"
   ]
  },
  {
   "cell_type": "code",
   "execution_count": null,
   "id": "265d2342-13bf-457a-b67f-fe3e4e523072",
   "metadata": {},
   "outputs": [],
   "source": [
    "embed_func = get_embedding_model(cfg['vectorDB'])\n"
   ]
  },
  {
   "cell_type": "code",
   "execution_count": null,
   "id": "edb0a302-5fea-4664-ab49-5914374f4ae3",
   "metadata": {},
   "outputs": [],
   "source": [
    "def embed_all(df, embed_func):\n",
    "    test_embeddings = []\n",
    "    gt_embeddings = []\n",
    "    for i in tqdm(range(df.shape[0])):\n",
    "        test_embeddings.append(embed_func([df['title'].iloc[i]])[0])\n",
    "        gt_embeddings.append(embed_func([df['abstract'].iloc[i]])[0])\n",
    "    return test_embeddings, gt_embeddings"
   ]
  },
  {
   "cell_type": "code",
   "execution_count": null,
   "id": "2a6a6150-ef19-415e-97f9-d02bcee91ccb",
   "metadata": {},
   "outputs": [],
   "source": [
    "test_embeddings, gt_embeddings = embed_all(data, embed_func)"
   ]
  },
  {
   "cell_type": "code",
   "execution_count": null,
   "id": "632bc97b-6297-488a-a163-d781e4efea5d",
   "metadata": {},
   "outputs": [],
   "source": [
    "test_embeddings = np.array(test_embeddings)\n",
    "gt_embeddings = np.array(gt_embeddings)"
   ]
  },
  {
   "cell_type": "code",
   "execution_count": null,
   "id": "f35cbabc-5a4d-4ef8-952b-c5f07cd82ea7",
   "metadata": {},
   "outputs": [],
   "source": [
    "test_arr = [\n",
    "    [1, 1, 2], \n",
    "    [2, 2, 4],\n",
    "    [3, 3, 6]\n",
    "]"
   ]
  },
  {
   "cell_type": "code",
   "execution_count": null,
   "id": "3d605d08-2cfc-4c1a-80e7-dcd14aa55cdd",
   "metadata": {},
   "outputs": [],
   "source": [
    "def row_var(arr):\n",
    "    return np.sum(np.var(arr, axis=0))"
   ]
  },
  {
   "cell_type": "code",
   "execution_count": null,
   "id": "64b3853f-7f02-44f4-bf42-9abd1db5783b",
   "metadata": {},
   "outputs": [],
   "source": [
    "print(row_var(test_arr))"
   ]
  },
  {
   "cell_type": "code",
   "execution_count": null,
   "id": "d1f3eb91-0af7-44f0-a870-a0c056e7f38f",
   "metadata": {},
   "outputs": [],
   "source": [
    "def calc_group_vars(test_embeddings, gt_embeddings, test_groups):\n",
    "    test_vars = []\n",
    "    gt_vars = []\n",
    "    for group in test_groups:\n",
    "        test_vars.append(row_var(test_embeddings[group]))\n",
    "        gt_vars.append(row_var(gt_embeddings[group]))\n",
    "    return test_vars, gt_vars"
   ]
  },
  {
   "cell_type": "code",
   "execution_count": null,
   "id": "2b00a490-0c31-4179-8645-e6cd57e838b3",
   "metadata": {},
   "outputs": [],
   "source": [
    "test_vars, gt_vars = calc_group_vars(test_embeddings, gt_embeddings, test_groups)"
   ]
  },
  {
   "cell_type": "code",
   "execution_count": null,
   "id": "96ff9594-ef8a-466b-b680-a8498a9d1348",
   "metadata": {},
   "outputs": [],
   "source": [
    "fig, ax = plt.subplots()\n",
    "ax.plot([0, 1], [0, 1], 'r', transform=ax.transAxes)\n",
    "ax.scatter(test_vars, gt_vars, s=1)\n",
    "ax.set_xlabel('Test Variances (Arxiv titles)')\n",
    "ax.set_ylabel('Ground Truth Variances (Arxiv abstracts)')\n",
    "ax.set_title(\"Metadata Groups Variances\")\n",
    "fig.savefig('../data/metadata_vars.png')"
   ]
  },
  {
   "cell_type": "code",
   "execution_count": null,
   "id": "87c86a19-0db3-4c5d-ae66-8ab783b92a60",
   "metadata": {},
   "outputs": [],
   "source": [
    "test_vars = row_var(test_embeddings)\n",
    "gt_vars = row_var(gt_embeddings)\n",
    "print(test_vars, gt_vars)"
   ]
  },
  {
   "cell_type": "code",
   "execution_count": null,
   "id": "5e4caf27-4921-4373-b4cb-ea7594b5f27d",
   "metadata": {},
   "outputs": [],
   "source": [
    "print(test_embeddings.shape)\n",
    "print(gt_embeddings.shape)"
   ]
  },
  {
   "cell_type": "code",
   "execution_count": null,
   "id": "193372a5-3088-44c4-a816-2e9d1625d0d4",
   "metadata": {},
   "outputs": [],
   "source": [
    "def rand_sample(test_embeddings, gt_embeddings, n, group_size):\n",
    "    sample_groups = []\n",
    "    for i in range(n):\n",
    "        sample_groups.append(random.sample(range(test_embeddings.shape[0]), group_size))\n",
    "    test_vars, gt_vars = calc_group_vars(test_embeddings, gt_embeddings, sample_groups)\n",
    "    fig, ax = plt.subplots()\n",
    "    ax.plot([0, 1], [0, 1], 'r', transform=ax.transAxes)\n",
    "    ax.scatter(test_vars, gt_vars, s=1)\n",
    "    ax.set_xlabel('Test Variances (Arxiv titles)')\n",
    "    ax.set_ylabel('Ground Truth Variances (Arxiv abstracts)')\n",
    "    ax.set_title(\"Random Sample Variances\")\n",
    "    fig.savefig('../data/rand_vars.png')"
   ]
  },
  {
   "cell_type": "code",
   "execution_count": null,
   "id": "a69c7018-eb22-4c2e-adcf-f28ae7231bb2",
   "metadata": {},
   "outputs": [],
   "source": [
    "rand_sample(test_embeddings, gt_embeddings, 10000, 3)"
   ]
  },
  {
   "cell_type": "code",
   "execution_count": null,
   "id": "8e28e6f7-506e-4438-9b46-7135a9fab684",
   "metadata": {},
   "outputs": [],
   "source": []
  }
 ],
 "metadata": {
  "kernelspec": {
   "display_name": "Python 3 (ipykernel)",
   "language": "python",
   "name": "python3"
  },
  "language_info": {
   "codemirror_mode": {
    "name": "ipython",
    "version": 3
   },
   "file_extension": ".py",
   "mimetype": "text/x-python",
   "name": "python",
   "nbconvert_exporter": "python",
   "pygments_lexer": "ipython3",
   "version": "3.9.18"
  }
 },
 "nbformat": 4,
 "nbformat_minor": 5
}
