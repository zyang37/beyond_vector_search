{
 "cells": [
  {
   "cell_type": "code",
   "execution_count": 3,
   "id": "130ab128-7dc1-4405-b5ed-99ce33da12c9",
   "metadata": {},
   "outputs": [],
   "source": [
    "import networkx as nx\n",
    "from networkx.algorithms import bipartite"
   ]
  },
  {
   "cell_type": "code",
   "execution_count": 4,
   "id": "de0120c7-37f6-438e-a9da-317a643ffa88",
   "metadata": {},
   "outputs": [],
   "source": [
    "B = nx.Graph()\n",
    "# Add nodes with the node attribute \"bipartite\"\n",
    "B.add_nodes_from([1, 2, 3, 4], bipartite=0)\n",
    "B.add_nodes_from([\"a\", \"b\", \"c\"], bipartite=1)\n",
    "\n",
    "# Add edges only between nodes of opposite node sets\n",
    "B.add_edges_from([(1, \"a\"), (1, \"b\"), (2, \"b\"), (2, \"c\"), (3, \"c\"), (4, \"a\")])"
   ]
  },
  {
   "cell_type": "code",
   "execution_count": 13,
   "id": "1fd31593-ffd0-4174-9ba2-6319275ff92a",
   "metadata": {},
   "outputs": [
    {
     "data": {
      "text/plain": [
       "DegreeView({1: 2, 2: 2, 3: 1, 4: 1, 'a': 2, 'b': 2, 'c': 2})"
      ]
     },
     "execution_count": 13,
     "metadata": {},
     "output_type": "execute_result"
    }
   ],
   "source": [
    "B.degree()"
   ]
  },
  {
   "cell_type": "code",
   "execution_count": 11,
   "id": "c04f1134-36f2-411d-b737-2c1be3c45467",
   "metadata": {},
   "outputs": [
    {
     "data": {
      "text/plain": [
       "{2, 'c'}"
      ]
     },
     "execution_count": 11,
     "metadata": {},
     "output_type": "execute_result"
    }
   ],
   "source": [
    "nx.approximation.max_clique(B)"
   ]
  },
  {
   "cell_type": "code",
   "execution_count": 12,
   "id": "4bcd6b66-4de1-4679-b5ff-045bd178aef2",
   "metadata": {},
   "outputs": [
    {
     "data": {
      "text/plain": [
       "2"
      ]
     },
     "execution_count": 12,
     "metadata": {},
     "output_type": "execute_result"
    }
   ],
   "source": [
    "nx.approximation.large_clique_size(B)"
   ]
  },
  {
   "cell_type": "code",
   "execution_count": null,
   "id": "8d56f8f5-1fe6-4deb-addc-c3cf90529f36",
   "metadata": {},
   "outputs": [],
   "source": []
  }
 ],
 "metadata": {
  "kernelspec": {
   "display_name": "Python 3 (ipykernel)",
   "language": "python",
   "name": "python3"
  },
  "language_info": {
   "codemirror_mode": {
    "name": "ipython",
    "version": 3
   },
   "file_extension": ".py",
   "mimetype": "text/x-python",
   "name": "python",
   "nbconvert_exporter": "python",
   "pygments_lexer": "ipython3",
   "version": "3.9.18"
  }
 },
 "nbformat": 4,
 "nbformat_minor": 5
}
