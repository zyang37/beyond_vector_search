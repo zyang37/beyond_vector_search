{
 "cells": [
  {
   "cell_type": "code",
   "execution_count": 1,
   "id": "b1d7367d-ef0b-4f04-9b76-84ed3c0e6055",
   "metadata": {},
   "outputs": [],
   "source": [
    "%matplotlib inline\n",
    "\n",
    "import os\n",
    "import sys\n",
    "import pickle\n",
    "import numpy as np\n",
    "import pandas as pd\n",
    "import matplotlib.pyplot as plt\n",
    "from matplotlib.ticker import FormatStrFormatter, StrMethodFormatter\n",
    "from pprint import pprint"
   ]
  },
  {
   "cell_type": "code",
   "execution_count": null,
   "id": "d4f8f3b5-e04d-4b7f-a42e-f10f2c0889eb",
   "metadata": {},
   "outputs": [],
   "source": [
    "'''\n",
    "def extract_keywords_from_sentences(self, sentences: List[Sentence]):\n",
    "        \"\"\"Method to extract keywords from the list of sentences provided.\n",
    "\n",
    "        :param sentences: Text to extraxt keywords from, provided as a list\n",
    "                          of strings, where each string is a sentence.\n",
    "        \"\"\"\n",
    "        phrase_list: List[Phrase] = self._generate_phrases(sentences)\n",
    "        self._build_frequency_dist(phrase_list)\n",
    "        self._build_word_co_occurance_graph(phrase_list)\n",
    "        self._build_ranklist(phrase_list)\n",
    "\n",
    "'''"
   ]
  },
  {
   "cell_type": "code",
   "execution_count": 40,
   "id": "7da9c731-543d-4c37-a0dd-440a2dcb2e8a",
   "metadata": {},
   "outputs": [],
   "source": [
    "def print_paper_infor(df_row):\n",
    "    title = df_row['title'].values[0]\n",
    "    authors = df_row['authors'].values\n",
    "    abstract = df_row['abstract'].values[0]\n",
    "    print(\"Title   :\", title)\n",
    "    print(\"Authors :\", authors)\n",
    "    print(\"Abstract:\\n\", abstract)"
   ]
  },
  {
   "cell_type": "code",
   "execution_count": 41,
   "id": "85b4a1b1-c9ef-4f0b-b0cd-6ab58ca9e93c",
   "metadata": {},
   "outputs": [],
   "source": [
    "file = open(\"../data/filtered_data.pickle\", \"rb\")\n",
    "data = pickle.load(file)\n",
    "file.close()\n",
    "\n",
    "data['id'] = data['id'].astype(str)\n",
    "data.reset_index(drop=True, inplace=True)"
   ]
  },
  {
   "cell_type": "code",
   "execution_count": 42,
   "id": "1046e189-de20-4253-802f-b7cec5f49476",
   "metadata": {},
   "outputs": [
    {
     "name": "stdout",
     "output_type": "stream",
     "text": [
      "Title   : Conformal blocks, Verlinde formula and diagram automorphisms\n",
      "Authors : ['Jiuzu Hong']\n",
      "Abstract:\n",
      "   The Verlinde formula computes the dimension of conformal blocks associated to\n",
      "simple Lie algebras and stable pointed curves. If a simply-laced simple Lie\n",
      "algebra admits a nontrivial diagram automorphism, then this automorphism acts\n",
      "on the space of conformal blocks naturally. We prove an analogue of Verlinde\n",
      "formula for the trace of the diagram automorphism on the space of conformal\n",
      "blocks. Along the way, we get an analogue of Kac-Walton formula for the trace\n",
      "of the diagram automorphism. We also get a twining type formula between the\n",
      "conformal blocks for the pair $(sl(2n+1),sp(2n))$.\n",
      "\n"
     ]
    }
   ],
   "source": [
    "print_paper_infor(data[data['id']==\"1610.02975\"])"
   ]
  },
  {
   "cell_type": "code",
   "execution_count": 43,
   "id": "23f10c3c-81be-4e9d-bc9e-95880db6c42d",
   "metadata": {},
   "outputs": [
    {
     "data": {
      "text/plain": [
       "12926"
      ]
     },
     "execution_count": 43,
     "metadata": {},
     "output_type": "execute_result"
    }
   ],
   "source": [
    "len(data)"
   ]
  },
  {
   "cell_type": "code",
   "execution_count": null,
   "id": "735e14ff-6d3c-4634-96b4-9055ceff283b",
   "metadata": {},
   "outputs": [],
   "source": []
  }
 ],
 "metadata": {
  "kernelspec": {
   "display_name": "Python 3 (ipykernel)",
   "language": "python",
   "name": "python3"
  },
  "language_info": {
   "codemirror_mode": {
    "name": "ipython",
    "version": 3
   },
   "file_extension": ".py",
   "mimetype": "text/x-python",
   "name": "python",
   "nbconvert_exporter": "python",
   "pygments_lexer": "ipython3",
   "version": "3.9.18"
  }
 },
 "nbformat": 4,
 "nbformat_minor": 5
}
