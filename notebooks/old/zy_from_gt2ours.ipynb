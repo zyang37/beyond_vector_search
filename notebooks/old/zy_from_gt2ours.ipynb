{
 "cells": [
  {
   "cell_type": "code",
   "execution_count": 1,
   "metadata": {
    "tags": []
   },
   "outputs": [],
   "source": [
    "%load_ext autoreload\n",
    "%autoreload 2\n",
    "\n",
    "import os \n",
    "import sys\n",
    "import pdb\n",
    "import nltk\n",
    "import pickle\n",
    "import chromadb\n",
    "import pandas as pd\n",
    "from tqdm.auto import tqdm\n",
    "\n",
    "sys.path.append(\"../\")\n",
    "from utils.parse_arxiv import *\n",
    "from workloads.inference import *\n",
    "from workloads.keyword_extractor import *\n",
    "from vector_graph.bipartite_graph_dict import BipartiteGraphDict"
   ]
  },
  {
   "cell_type": "markdown",
   "metadata": {},
   "source": [
    "## Load ABS DB\n",
    "1. name='abs_arxiv_vector' id=UUID('1e0771df-1783-4a3e-8c4c-16bfd06be9dd') metadata=None tenant='default_tenant' database='default_database'\n",
    "2. name='arxiv_vector' id=UUID('24c2f470-e89b-4288-9db1-737ef9643c05') metadata=None tenant='default_tenant' database='default_database'\n",
    "3. name='abs_arxiv_vector_at' id=UUID('8a7ebd60-5d17-4c93-ba8a-eebc1a11b80a') metadata=None tenant='default_tenant' database='default_database'\n",
    "4. name='arxiv_vector_at' id=UUID('9532484b-b415-47d2-872b-617cff1e1ac9') metadata=None tenant='default_tenant' database='default_database'"
   ]
  },
  {
   "cell_type": "code",
   "execution_count": 2,
   "metadata": {},
   "outputs": [],
   "source": [
    "chroma_path = \"../data/chroma_dbs/\"\n",
    "abs_vectorDB_coll = \"abs_arxiv_vector\"\n",
    "\n",
    "# Load the vector database\n",
    "chroma_client = chromadb.PersistentClient(path=chroma_path)\n"
   ]
  },
  {
   "cell_type": "code",
   "execution_count": 26,
   "metadata": {},
   "outputs": [
    {
     "data": {
      "text/plain": [
       "(10,)"
      ]
     },
     "execution_count": 26,
     "metadata": {},
     "output_type": "execute_result"
    }
   ],
   "source": [
    "import numpy as np\n",
    " \n",
    "# initializing points in\n",
    "# numpy arrays, random values, with shape (10(k), 1024)\n",
    "point1 = np.random.rand(10, 1024)\n",
    "point2 = np.random.rand(10, 1024)\n",
    " \n",
    "# calculating Euclidean distance\n",
    "# using linalg.norm()\n",
    "dist = np.linalg.norm(point1 - point2, axis=1)\n",
    "dist.shape"
   ]
  },
  {
   "cell_type": "code",
   "execution_count": 24,
   "metadata": {},
   "outputs": [
    {
     "data": {
      "text/plain": [
       "(10, 1024)"
      ]
     },
     "execution_count": 24,
     "metadata": {},
     "output_type": "execute_result"
    }
   ],
   "source": [
    "point1.shape\n",
    "\n",
    "# point1[0]"
   ]
  },
  {
   "cell_type": "code",
   "execution_count": 39,
   "metadata": {},
   "outputs": [
    {
     "data": {
      "text/plain": [
       "5.0"
      ]
     },
     "execution_count": 39,
     "metadata": {},
     "output_type": "execute_result"
    }
   ],
   "source": [
    "import numpy as np\n",
    "from sklearn.metrics import dcg_score\n",
    "\n",
    "true_relevance = np.asarray([[1, 0, 0, 1, 5]])\n",
    "\n",
    "scores = np.asarray([[1, 0, 0, 1, 5]])\n",
    "dcg_score(true_relevance, scores, k=1)"
   ]
  },
  {
   "cell_type": "code",
   "execution_count": null,
   "metadata": {},
   "outputs": [],
   "source": [
    "# pprint(extract_keywords(tmp, score=True))"
   ]
  },
  {
   "cell_type": "code",
   "execution_count": null,
   "metadata": {},
   "outputs": [],
   "source": [
    "G = BipartiteGraphDict()\n",
    "G.add_data_nodes(data_ids)\n",
    "G.add_keyword_nodes(keyword_author_ids)\n",
    "G.add_raw_edges(edges)"
   ]
  },
  {
   "cell_type": "code",
   "execution_count": null,
   "metadata": {},
   "outputs": [],
   "source": [
    "# Perform a Simple Test\n",
    "print(\"Num data points: \", len(data_ids))\n",
    "print(\"Num Authors: \", len(keyword_author_ids))\n",
    "\n",
    "query_list = G.get_data_ids_sorted_by_num_edges()[:4]\n",
    "print(query_list)\n",
    "most_relevant_res = G.find_relevant(query_list, 100, method=\"debug\")\n",
    "print(len(most_relevant_res))\n",
    "# add metadata to most_relevant res results so that can see keywords in common with query, keywords and nodes traversed to find result\n",
    "print(most_relevant_res)\n",
    "print(G.get_common_keywords_from_id_list(most_relevant_res))\n",
    "\n",
    "# Try different types of data\n",
    "# Try multiple authors\n",
    "\n",
    "# make vector_db you create the persistent database\n",
    "# run query_gen, inference, compute_metrics\n",
    "\n",
    "# pass the database name to inference script\n",
    "# Update the infer function and read in all of the values from the database"
   ]
  }
 ],
 "metadata": {
  "kernelspec": {
   "display_name": "Python 3 (ipykernel)",
   "language": "python",
   "name": "python3"
  },
  "language_info": {
   "codemirror_mode": {
    "name": "ipython",
    "version": 3
   },
   "file_extension": ".py",
   "mimetype": "text/x-python",
   "name": "python",
   "nbconvert_exporter": "python",
   "pygments_lexer": "ipython3",
   "version": "3.9.18"
  }
 },
 "nbformat": 4,
 "nbformat_minor": 4
}
