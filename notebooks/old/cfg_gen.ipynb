{
 "cells": [
  {
   "cell_type": "code",
   "execution_count": 30,
   "id": "8c4548ac-1dab-4ce6-a2fe-bd98f3bdd20b",
   "metadata": {},
   "outputs": [],
   "source": [
    "import os\n",
    "import pandas as pd\n",
    "from pathlib import Path\n",
    "from datetime import datetime"
   ]
  },
  {
   "cell_type": "code",
   "execution_count": 31,
   "id": "9573859c-8589-40bd-9350-b8dba378e7e7",
   "metadata": {},
   "outputs": [],
   "source": [
    "file_path = \"../data/filtered_data.pickle\"\n",
    "\n",
    "file_stats = os.stat(file_path)"
   ]
  },
  {
   "cell_type": "code",
   "execution_count": 3,
   "id": "25c4691e-6cce-47cd-8f1c-8b37576af86e",
   "metadata": {},
   "outputs": [
    {
     "data": {
      "text/plain": [
       "os.stat_result(st_mode=33204, st_ino=30521395, st_dev=64770, st_nlink=1, st_uid=26388, st_gid=3944, st_size=22440040, st_atime=1703833106, st_mtime=1703540622, st_ctime=1703540622)"
      ]
     },
     "execution_count": 3,
     "metadata": {},
     "output_type": "execute_result"
    }
   ],
   "source": [
    "file_stats"
   ]
  },
  {
   "cell_type": "code",
   "execution_count": 4,
   "id": "842b1754-a58f-4ad5-84eb-a7a93b8cb2a1",
   "metadata": {},
   "outputs": [],
   "source": [
    "# Access the last modified timestamp\n",
    "last_modified = file_stats.st_mtime\n",
    "\n",
    "# Convert the timestamp to a readable format\n",
    "last_modified_str = datetime.fromtimestamp(last_modified).strftime(\"%Y-%m-%d %H:%M:%S\")"
   ]
  },
  {
   "cell_type": "code",
   "execution_count": 5,
   "id": "eb69bc4e-1524-4f95-a919-ac28fc58fa7b",
   "metadata": {},
   "outputs": [
    {
     "data": {
      "text/plain": [
       "'2023-12-25 15:43:42'"
      ]
     },
     "execution_count": 5,
     "metadata": {},
     "output_type": "execute_result"
    }
   ],
   "source": [
    "last_modified_str"
   ]
  },
  {
   "cell_type": "code",
   "execution_count": 6,
   "id": "f5007058-00aa-430c-9ea8-49c5925f6fa4",
   "metadata": {},
   "outputs": [
    {
     "data": {
      "text/plain": [
       "22440040"
      ]
     },
     "execution_count": 6,
     "metadata": {},
     "output_type": "execute_result"
    }
   ],
   "source": [
    "file_stats.st_size"
   ]
  },
  {
   "cell_type": "code",
   "execution_count": 19,
   "id": "9921ca9f-1f75-44ad-8ae3-32cd28fc899d",
   "metadata": {},
   "outputs": [],
   "source": [
    "df = pd.read_csv(\"../tmp/tmp_out_cnn/k1000_gk100_nn1000_n10.csv\")\n",
    "\n",
    "df = df.sample(100)"
   ]
  },
  {
   "cell_type": "code",
   "execution_count": 24,
   "id": "cae7209f-56b8-48e1-9965-5a19df978136",
   "metadata": {},
   "outputs": [
    {
     "data": {
      "text/html": [
       "<div>\n",
       "<style scoped>\n",
       "    .dataframe tbody tr th:only-of-type {\n",
       "        vertical-align: middle;\n",
       "    }\n",
       "\n",
       "    .dataframe tbody tr th {\n",
       "        vertical-align: top;\n",
       "    }\n",
       "\n",
       "    .dataframe thead th {\n",
       "        text-align: right;\n",
       "    }\n",
       "</style>\n",
       "<table border=\"1\" class=\"dataframe\">\n",
       "  <thead>\n",
       "    <tr style=\"text-align: right;\">\n",
       "      <th></th>\n",
       "      <th>index</th>\n",
       "      <th>paper_id</th>\n",
       "      <th>query</th>\n",
       "    </tr>\n",
       "  </thead>\n",
       "  <tbody>\n",
       "    <tr>\n",
       "      <th>0</th>\n",
       "      <td>901</td>\n",
       "      <td>https://www.cnn.com/2016/06/04/sport/best-quot...</td>\n",
       "      <td>find news written by &lt; hilarywhiteman &gt; about ...</td>\n",
       "    </tr>\n",
       "    <tr>\n",
       "      <th>1</th>\n",
       "      <td>60</td>\n",
       "      <td>https://www.cnn.com/2015/06/08/politics/barack...</td>\n",
       "      <td>find news related to &lt; barack-obama &gt; written ...</td>\n",
       "    </tr>\n",
       "    <tr>\n",
       "      <th>2</th>\n",
       "      <td>767</td>\n",
       "      <td>https://www.cnn.com/2019/10/13/sport/simone-bi...</td>\n",
       "      <td>find news written by &lt; kevindotson and amywood...</td>\n",
       "    </tr>\n",
       "    <tr>\n",
       "      <th>3</th>\n",
       "      <td>876</td>\n",
       "      <td>https://www.cnn.com/2017/03/27/europe/northern...</td>\n",
       "      <td>find news published on &lt; 2017-03-27 &gt; around t...</td>\n",
       "    </tr>\n",
       "    <tr>\n",
       "      <th>4</th>\n",
       "      <td>752</td>\n",
       "      <td>https://www.cnn.com/2012/09/11/world/europe/sp...</td>\n",
       "      <td>find news written by &lt; fromalgoodman &gt; around ...</td>\n",
       "    </tr>\n",
       "  </tbody>\n",
       "</table>\n",
       "</div>"
      ],
      "text/plain": [
       "   index                                           paper_id  \\\n",
       "0    901  https://www.cnn.com/2016/06/04/sport/best-quot...   \n",
       "1     60  https://www.cnn.com/2015/06/08/politics/barack...   \n",
       "2    767  https://www.cnn.com/2019/10/13/sport/simone-bi...   \n",
       "3    876  https://www.cnn.com/2017/03/27/europe/northern...   \n",
       "4    752  https://www.cnn.com/2012/09/11/world/europe/sp...   \n",
       "\n",
       "                                               query  \n",
       "0  find news written by < hilarywhiteman > about ...  \n",
       "1  find news related to < barack-obama > written ...  \n",
       "2  find news written by < kevindotson and amywood...  \n",
       "3  find news published on < 2017-03-27 > around t...  \n",
       "4  find news written by < fromalgoodman > around ...  "
      ]
     },
     "execution_count": 24,
     "metadata": {},
     "output_type": "execute_result"
    }
   ],
   "source": [
    "df = df[['paper_id', 'query']]\n",
    "df.reset_index(inplace=True)\n",
    "df.head()"
   ]
  },
  {
   "cell_type": "code",
   "execution_count": null,
   "id": "af0786ac-872e-4997-815a-a365e1cb1a53",
   "metadata": {},
   "outputs": [],
   "source": []
  },
  {
   "cell_type": "code",
   "execution_count": null,
   "id": "eecbdfaf-f1c9-44ef-b84b-c1632acfb29d",
   "metadata": {},
   "outputs": [],
   "source": []
  },
  {
   "cell_type": "code",
   "execution_count": 27,
   "id": "6d1b3495-14c4-41e5-a133-5e706d2473fb",
   "metadata": {},
   "outputs": [],
   "source": [
    "res_dict = df.to_dict('index')\n",
    "\n",
    "# res_dict"
   ]
  },
  {
   "cell_type": "code",
   "execution_count": 18,
   "id": "f77dab65-8400-473e-a878-73f294f4c849",
   "metadata": {},
   "outputs": [],
   "source": [
    "a = {0: None, 1: None}\n",
    "b = {0: [1, 2], 1:[1,2]}"
   ]
  },
  {
   "cell_type": "code",
   "execution_count": 34,
   "id": "3b146bc4-f8a4-4c8a-8cdd-bfd8ca09ce65",
   "metadata": {},
   "outputs": [
    {
     "name": "stdout",
     "output_type": "stream",
     "text": [
      "../data/cnn_workloads/nn1000_n10.csv\n"
     ]
    }
   ],
   "source": [
    "workloads = \"../data/cnn_workloads/\"\n",
    "\n",
    "workload_folder = Path(workloads)\n",
    "for f in workload_folder.iterdir():\n",
    "    print(f)\n",
    "    break"
   ]
  },
  {
   "cell_type": "code",
   "execution_count": 37,
   "id": "193d8b5d-b224-456e-8687-bdb243796112",
   "metadata": {},
   "outputs": [
    {
     "data": {
      "text/plain": [
       "'nn1000_n10.json'"
      ]
     },
     "execution_count": 37,
     "metadata": {},
     "output_type": "execute_result"
    }
   ],
   "source": [
    "f.name.replace(\".csv\", \".json\")"
   ]
  },
  {
   "cell_type": "code",
   "execution_count": null,
   "id": "96e55567-c908-42eb-8b61-b42778f41d13",
   "metadata": {},
   "outputs": [],
   "source": []
  }
 ],
 "metadata": {
  "kernelspec": {
   "display_name": "Python 3 (ipykernel)",
   "language": "python",
   "name": "python3"
  },
  "language_info": {
   "codemirror_mode": {
    "name": "ipython",
    "version": 3
   },
   "file_extension": ".py",
   "mimetype": "text/x-python",
   "name": "python",
   "nbconvert_exporter": "python",
   "pygments_lexer": "ipython3",
   "version": "3.9.18"
  }
 },
 "nbformat": 4,
 "nbformat_minor": 5
}
