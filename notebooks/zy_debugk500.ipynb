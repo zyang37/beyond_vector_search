{
 "cells": [
  {
   "cell_type": "code",
   "execution_count": 1,
   "id": "7601ba74-a737-4cd5-ba36-7867fffb6cc2",
   "metadata": {},
   "outputs": [],
   "source": [
    "import ast\n",
    "import numpy as np\n",
    "import pandas as pd\n",
    "from tqdm.auto import tqdm\n",
    "from pprint import pprint\n",
    "from sklearn.metrics import accuracy_score"
   ]
  },
  {
   "cell_type": "code",
   "execution_count": 2,
   "id": "0bbbea0a-6b44-4d3b-a87c-144e4ca66581",
   "metadata": {},
   "outputs": [],
   "source": [
    "df = pd.read_csv(\"../data/results/k500_gk350_outputs/k500_gk350_cv0_05_num20_prob0_1.csv\")"
   ]
  },
  {
   "cell_type": "code",
   "execution_count": 30,
   "id": "6f1ee85c-2021-44f2-9f90-1bd16496d9eb",
   "metadata": {},
   "outputs": [],
   "source": [
    "tmp = df['abs_arxiv_vector'].iloc[141]\n",
    "ast_tmp = ast.literal_eval(tmp)"
   ]
  },
  {
   "cell_type": "code",
   "execution_count": 33,
   "id": "11c93da1-5955-4e8e-90fe-9555fc703ca1",
   "metadata": {},
   "outputs": [],
   "source": [
    "# tmp[2:-2].split(\"','\")\n",
    "\n",
    "tmp2 = df['abs_arxiv_vector'].iloc[176]\n",
    "ast_tmp2 = ast.literal_eval(tmp)"
   ]
  },
  {
   "cell_type": "code",
   "execution_count": 38,
   "id": "761d7725-1509-4830-b8c0-28b0a48e8efe",
   "metadata": {},
   "outputs": [
    {
     "name": "stdout",
     "output_type": "stream",
     "text": [
      "501\n"
     ]
    }
   ],
   "source": []
  },
  {
   "cell_type": "code",
   "execution_count": null,
   "id": "b3603fa9-ef74-458e-8edf-626eeddafe4e",
   "metadata": {},
   "outputs": [],
   "source": []
  },
  {
   "cell_type": "code",
   "execution_count": null,
   "id": "1a6183f1-a67f-4ec7-b008-d5ab59bff8f2",
   "metadata": {},
   "outputs": [],
   "source": []
  }
 ],
 "metadata": {
  "kernelspec": {
   "display_name": "Python 3 (ipykernel)",
   "language": "python",
   "name": "python3"
  },
  "language_info": {
   "codemirror_mode": {
    "name": "ipython",
    "version": 3
   },
   "file_extension": ".py",
   "mimetype": "text/x-python",
   "name": "python",
   "nbconvert_exporter": "python",
   "pygments_lexer": "ipython3",
   "version": "3.9.18"
  }
 },
 "nbformat": 4,
 "nbformat_minor": 5
}
