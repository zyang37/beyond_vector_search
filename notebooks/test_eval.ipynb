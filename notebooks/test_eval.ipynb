{
 "cells": [
  {
   "cell_type": "code",
   "execution_count": 42,
   "id": "774e4f89-6a3c-4c8f-9d51-ae873d339e39",
   "metadata": {},
   "outputs": [],
   "source": [
    "import sys\n",
    "import ast\n",
    "import numpy as np\n",
    "import pandas as pd\n",
    "from sklearn.metrics import accuracy_score\n",
    "\n",
    "sys.path.append('../')\n",
    "from workloads.compute_metrics import *"
   ]
  },
  {
   "cell_type": "code",
   "execution_count": 31,
   "metadata": {},
   "outputs": [
    {
     "name": "stdout",
     "output_type": "stream",
     "text": [
      "0.5\n",
      "2\n"
     ]
    }
   ],
   "source": [
    "y_pred = ['1', '2', '2', '10']\n",
    "y_true = ['0', '2', '2', '2']\n",
    "\n",
    "print(accuracy_score(y_true, y_pred))\n",
    "print(accuracy_score(y_true, y_pred, normalize=False))"
   ]
  },
  {
   "cell_type": "code",
   "execution_count": 32,
   "metadata": {},
   "outputs": [],
   "source": [
    "# generate a test dataframe have two columns\n",
    "# each ceil contains list\n",
    "\n",
    "df = pd.DataFrame({'gt': y_true, 'pred': y_pred})\n",
    "df['gt'] = df['gt'].apply(lambda x: [x]*10)\n",
    "df['pred'] = df['pred'].apply(lambda x: [x]*10)\n",
    "\n",
    "df.to_csv(\"test.csv\", index=False)"
   ]
  },
  {
   "cell_type": "code",
   "execution_count": 33,
   "metadata": {},
   "outputs": [
    {
     "data": {
      "text/plain": [
       "[['0', '0', '0', '0', '0', '0', '0', '0', '0', '0'],\n",
       " ['2', '2', '2', '2', '2', '2', '2', '2', '2', '2'],\n",
       " ['2', '2', '2', '2', '2', '2', '2', '2', '2', '2'],\n",
       " ['2', '2', '2', '2', '2', '2', '2', '2', '2', '2']]"
      ]
     },
     "execution_count": 33,
     "metadata": {},
     "output_type": "execute_result"
    }
   ],
   "source": [
    "gt_list = df['gt'].tolist()\n",
    "gt_list"
   ]
  },
  {
   "cell_type": "code",
   "execution_count": 37,
   "metadata": {},
   "outputs": [
    {
     "name": "stdout",
     "output_type": "stream",
     "text": [
      "[\"['0', '0', '0', '0', '0', '0', '0', '0', '0', '0']\", \"['2', '2', '2', '2', '2', '2', '2', '2', '2', '2']\"]\n",
      "[\"['2', '2', '2', '2', '2', '2', '2', '2', '2', '2']\", \"['2', '2', '2', '2', '2', '2', '2', '2', '2', '2']\"]\n"
     ]
    }
   ],
   "source": [
    "# loop through a list n elements at a time\n",
    "n = 2\n",
    "for i in range(0, len(gt_list), n):\n",
    "    print(gt_list[i:i+n])"
   ]
  },
  {
   "cell_type": "code",
   "execution_count": 45,
   "metadata": {},
   "outputs": [],
   "source": [
    "df = pd.read_csv('test.csv')\n",
    "gt_list = df['gt'].apply(ast.literal_eval).tolist()\n",
    "pred_list = df['pred'].apply(ast.literal_eval).tolist()\n",
    "\n",
    "accuracies = []\n",
    "acc_normalize = True\n",
    "batch_size = 10000\n",
    "args_list = []\n",
    "for i in range(0, len(gt_list), batch_size):\n",
    "    batch_gt = gt_list[i:i+batch_size]\n",
    "    batch_pred = pred_list[i:i+batch_size]\n",
    "    batch_accuracy = batch_compute_accuracy(batch_gt, batch_pred)\n",
    "    accuracies.extend(batch_accuracy)\n",
    "    break"
   ]
  },
  {
   "cell_type": "code",
   "execution_count": 46,
   "metadata": {},
   "outputs": [
    {
     "data": {
      "text/plain": [
       "['0', '0', '0', '0', '0', '0', '0', '0', '0', '0']"
      ]
     },
     "execution_count": 46,
     "metadata": {},
     "output_type": "execute_result"
    }
   ],
   "source": [
    "batch_gt[0]"
   ]
  },
  {
   "cell_type": "code",
   "execution_count": null,
   "metadata": {},
   "outputs": [],
   "source": []
  }
 ],
 "metadata": {
  "kernelspec": {
   "display_name": "Python 3 (ipykernel)",
   "language": "python",
   "name": "python3"
  },
  "language_info": {
   "codemirror_mode": {
    "name": "ipython",
    "version": 3
   },
   "file_extension": ".py",
   "mimetype": "text/x-python",
   "name": "python",
   "nbconvert_exporter": "python",
   "pygments_lexer": "ipython3",
   "version": "3.9.18"
  }
 },
 "nbformat": 4,
 "nbformat_minor": 5
}
