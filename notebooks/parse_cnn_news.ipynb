{
 "cells": [
  {
   "cell_type": "code",
   "execution_count": 59,
   "id": "1e3816f0-5819-4274-b023-35f70e6b11e3",
   "metadata": {},
   "outputs": [],
   "source": [
    "import os\n",
    "import sys\n",
    "import json\n",
    "import pickle\n",
    "import numpy as np\n",
    "import pandas as pd\n",
    "from tqdm.auto import tqdm"
   ]
  },
  {
   "cell_type": "code",
   "execution_count": 64,
   "id": "9a2c2b6f-9c4c-4cfd-a4e5-ca7c4d62f5c2",
   "metadata": {},
   "outputs": [
    {
     "data": {
      "text/html": [
       "<div>\n",
       "<style scoped>\n",
       "    .dataframe tbody tr th:only-of-type {\n",
       "        vertical-align: middle;\n",
       "    }\n",
       "\n",
       "    .dataframe tbody tr th {\n",
       "        vertical-align: top;\n",
       "    }\n",
       "\n",
       "    .dataframe thead th {\n",
       "        text-align: right;\n",
       "    }\n",
       "</style>\n",
       "<table border=\"1\" class=\"dataframe\">\n",
       "  <thead>\n",
       "    <tr style=\"text-align: right;\">\n",
       "      <th></th>\n",
       "      <th>id</th>\n",
       "      <th>submitter</th>\n",
       "      <th>authors</th>\n",
       "      <th>title</th>\n",
       "      <th>comments</th>\n",
       "      <th>journal-ref</th>\n",
       "      <th>doi</th>\n",
       "      <th>report-no</th>\n",
       "      <th>categories</th>\n",
       "      <th>license</th>\n",
       "      <th>abstract</th>\n",
       "      <th>versions</th>\n",
       "      <th>update_date</th>\n",
       "      <th>authors_parsed</th>\n",
       "      <th>cat_freq</th>\n",
       "      <th>journal_freq</th>\n",
       "      <th>date_freq</th>\n",
       "    </tr>\n",
       "  </thead>\n",
       "  <tbody>\n",
       "    <tr>\n",
       "      <th>19</th>\n",
       "      <td>704.002</td>\n",
       "      <td>Patrick Roudeau</td>\n",
       "      <td>The BABAR Collaboration, B. Aubert, et al</td>\n",
       "      <td>Measurement of the Hadronic Form Factor in D0 ...</td>\n",
       "      <td>21 pages, 13 postscript figures, submitted to ...</td>\n",
       "      <td>Phys.Rev.D76:052005,2007</td>\n",
       "      <td>10.1103/PhysRevD.76.052005</td>\n",
       "      <td>BABAR-PUB-07/015, SLAC-PUB-12417</td>\n",
       "      <td>hep-ex</td>\n",
       "      <td>None</td>\n",
       "      <td>The shape of the hadronic form factor f+(q2)...</td>\n",
       "      <td>[{'version': 'v1', 'created': 'Sat, 31 Mar 200...</td>\n",
       "      <td>2015-06-30</td>\n",
       "      <td>[[The BABAR Collaboration, , ], [Aubert, B., ]]</td>\n",
       "      <td>17311</td>\n",
       "      <td>2.0</td>\n",
       "      <td>536</td>\n",
       "    </tr>\n",
       "  </tbody>\n",
       "</table>\n",
       "</div>"
      ],
      "text/plain": [
       "         id        submitter                                    authors  \\\n",
       "19  704.002  Patrick Roudeau  The BABAR Collaboration, B. Aubert, et al   \n",
       "\n",
       "                                                title  \\\n",
       "19  Measurement of the Hadronic Form Factor in D0 ...   \n",
       "\n",
       "                                             comments  \\\n",
       "19  21 pages, 13 postscript figures, submitted to ...   \n",
       "\n",
       "                 journal-ref                         doi  \\\n",
       "19  Phys.Rev.D76:052005,2007  10.1103/PhysRevD.76.052005   \n",
       "\n",
       "                           report-no categories license  \\\n",
       "19  BABAR-PUB-07/015, SLAC-PUB-12417     hep-ex    None   \n",
       "\n",
       "                                             abstract  \\\n",
       "19    The shape of the hadronic form factor f+(q2)...   \n",
       "\n",
       "                                             versions update_date  \\\n",
       "19  [{'version': 'v1', 'created': 'Sat, 31 Mar 200...  2015-06-30   \n",
       "\n",
       "                                     authors_parsed  cat_freq  journal_freq  \\\n",
       "19  [[The BABAR Collaboration, , ], [Aubert, B., ]]     17311           2.0   \n",
       "\n",
       "    date_freq  \n",
       "19        536  "
      ]
     },
     "execution_count": 64,
     "metadata": {},
     "output_type": "execute_result"
    }
   ],
   "source": [
    "file = open('../data/filtered_data.pickle', 'rb')\n",
    "data = pickle.load(file)\n",
    "file.close()\n",
    "\n",
    "data.head(1)"
   ]
  },
  {
   "cell_type": "code",
   "execution_count": 65,
   "id": "03b32637-2a8e-4393-9295-3a3695916677",
   "metadata": {},
   "outputs": [],
   "source": [
    "df = pd.read_csv(\"../data/CNN_Articels_clean.csv\")"
   ]
  },
  {
   "cell_type": "code",
   "execution_count": 66,
   "id": "ae0ff74a-0ce7-4faf-a60f-a3795af7ec75",
   "metadata": {},
   "outputs": [
    {
     "data": {
      "text/plain": [
       "37949"
      ]
     },
     "execution_count": 66,
     "metadata": {},
     "output_type": "execute_result"
    }
   ],
   "source": [
    "len(df)"
   ]
  },
  {
   "cell_type": "code",
   "execution_count": 17,
   "id": "d66f426a-6d73-4e06-97ff-8008d8a8a76c",
   "metadata": {},
   "outputs": [
    {
     "data": {
      "text/html": [
       "<div>\n",
       "<style scoped>\n",
       "    .dataframe tbody tr th:only-of-type {\n",
       "        vertical-align: middle;\n",
       "    }\n",
       "\n",
       "    .dataframe tbody tr th {\n",
       "        vertical-align: top;\n",
       "    }\n",
       "\n",
       "    .dataframe thead th {\n",
       "        text-align: right;\n",
       "    }\n",
       "</style>\n",
       "<table border=\"1\" class=\"dataframe\">\n",
       "  <thead>\n",
       "    <tr style=\"text-align: right;\">\n",
       "      <th></th>\n",
       "      <th>Index</th>\n",
       "      <th>Author</th>\n",
       "      <th>Date published</th>\n",
       "      <th>Category</th>\n",
       "      <th>Section</th>\n",
       "      <th>Url</th>\n",
       "      <th>Headline</th>\n",
       "      <th>Description</th>\n",
       "      <th>Keywords</th>\n",
       "      <th>Second headline</th>\n",
       "      <th>Article text</th>\n",
       "    </tr>\n",
       "  </thead>\n",
       "  <tbody>\n",
       "    <tr>\n",
       "      <th>0</th>\n",
       "      <td>0</td>\n",
       "      <td>Jacopo Prisco, CNN</td>\n",
       "      <td>2021-07-15 02:46:59</td>\n",
       "      <td>news</td>\n",
       "      <td>world</td>\n",
       "      <td>https://www.cnn.com/2021/07/14/world/tusimple-...</td>\n",
       "      <td>There's a shortage of truckers, but TuSimple t...</td>\n",
       "      <td>The e-commerce boom has exacerbated a global t...</td>\n",
       "      <td>world, There's a shortage of truckers, but TuS...</td>\n",
       "      <td>There's a shortage of truckers, but TuSimple t...</td>\n",
       "      <td>(CNN)Right now, there's a shortage of truck d...</td>\n",
       "    </tr>\n",
       "    <tr>\n",
       "      <th>1</th>\n",
       "      <td>1</td>\n",
       "      <td>Stephanie Bailey, CNN</td>\n",
       "      <td>2021-05-12 07:52:09</td>\n",
       "      <td>news</td>\n",
       "      <td>world</td>\n",
       "      <td>https://www.cnn.com/2021/05/12/world/ironhand-...</td>\n",
       "      <td>Bioservo's robotic 'Ironhand' could protect fa...</td>\n",
       "      <td>Working in a factory can mean doing the same t...</td>\n",
       "      <td>world, Bioservo's robotic 'Ironhand' could pro...</td>\n",
       "      <td>A robotic 'Ironhand' could protect factory wor...</td>\n",
       "      <td>(CNN)Working in a factory or warehouse can me...</td>\n",
       "    </tr>\n",
       "  </tbody>\n",
       "</table>\n",
       "</div>"
      ],
      "text/plain": [
       "   Index                 Author       Date published Category Section  \\\n",
       "0      0     Jacopo Prisco, CNN  2021-07-15 02:46:59     news   world   \n",
       "1      1  Stephanie Bailey, CNN  2021-05-12 07:52:09     news   world   \n",
       "\n",
       "                                                 Url  \\\n",
       "0  https://www.cnn.com/2021/07/14/world/tusimple-...   \n",
       "1  https://www.cnn.com/2021/05/12/world/ironhand-...   \n",
       "\n",
       "                                            Headline  \\\n",
       "0  There's a shortage of truckers, but TuSimple t...   \n",
       "1  Bioservo's robotic 'Ironhand' could protect fa...   \n",
       "\n",
       "                                         Description  \\\n",
       "0  The e-commerce boom has exacerbated a global t...   \n",
       "1  Working in a factory can mean doing the same t...   \n",
       "\n",
       "                                            Keywords  \\\n",
       "0  world, There's a shortage of truckers, but TuS...   \n",
       "1  world, Bioservo's robotic 'Ironhand' could pro...   \n",
       "\n",
       "                                     Second headline  \\\n",
       "0  There's a shortage of truckers, but TuSimple t...   \n",
       "1  A robotic 'Ironhand' could protect factory wor...   \n",
       "\n",
       "                                        Article text  \n",
       "0   (CNN)Right now, there's a shortage of truck d...  \n",
       "1   (CNN)Working in a factory or warehouse can me...  "
      ]
     },
     "execution_count": 17,
     "metadata": {},
     "output_type": "execute_result"
    }
   ],
   "source": [
    "df.head(2)"
   ]
  },
  {
   "cell_type": "code",
   "execution_count": 50,
   "id": "c9534158-4fb0-46a0-afe2-de91c7cdc501",
   "metadata": {},
   "outputs": [],
   "source": [
    "# TODO NEED Updates\n",
    "def parse_keywords(key_str, exclude_k=[]):\n",
    "    key_list = []\n",
    "    parse_by_comma = key_str.split(\", \")\n",
    "    # skip last val, it is a headline + \"CNN\"\n",
    "    for k in parse_by_comma[:-1]:\n",
    "        if k in exclude_k: continue\n",
    "        key_list.append()\n",
    "\n",
    "def parse_authors(author_str):\n",
    "    '''\n",
    "    This function parses the authors string into a list of authors\n",
    "\n",
    "    args: \n",
    "        - author_str: string of authors\n",
    "    return: list of authors\n",
    "    '''\n",
    "    authors = []\n",
    "    author_str = author_str.lower()\n",
    "    # remove noises\n",
    "    author_str = author_str.replace(\" \", \"\")\n",
    "    author_str = author_str.replace(\"\\n\", \"\")\n",
    "    parse_by_comma = author_str.split(',')\n",
    "    for i, a in enumerate(parse_by_comma):\n",
    "        if 'by' in a:\n",
    "            a = a.split('by')[-1]\n",
    "        # parse by 'and'\n",
    "        authors.extend(a.split(' and '))\n",
    "    return authors"
   ]
  },
  {
   "cell_type": "code",
   "execution_count": 94,
   "id": "3b6c1f37-d4f6-47d5-8ad8-8c712da48bc6",
   "metadata": {},
   "outputs": [
    {
     "name": "stdout",
     "output_type": "stream",
     "text": [
      "1\n",
      "2\n",
      "3\n",
      "4\n"
     ]
    }
   ],
   "source": [
    "a = [1,2,3,4,5]\n",
    "for v in a[:-1]: print(v)"
   ]
  },
  {
   "cell_type": "code",
   "execution_count": 72,
   "id": "ab5bf628-eca1-41d4-8526-19279b5d8baa",
   "metadata": {},
   "outputs": [],
   "source": [
    "max_c = 10\n",
    "counter = 0\n",
    "authors_lists = []\n",
    "for index, row in df.iterrows():\n",
    "    authors = parse_authors(row['Author'])\n",
    "    # print(authors)\n",
    "    counter+=1\n",
    "    # if counter==max_c: break\n",
    "    authors_lists.append(authors)"
   ]
  },
  {
   "cell_type": "code",
   "execution_count": 79,
   "id": "ef17e4f1-d814-4d35-b960-7f62af184550",
   "metadata": {},
   "outputs": [
    {
     "name": "stdout",
     "output_type": "stream",
     "text": [
      "['jackguy', 'timlister', 'olgavoitovych', 'paulp.murphy', 'gianlucamezzofiore', 'celinealkhaldiandkatiepolglase', 'cnn']\n",
      "['michelletoh', 'junkoogura', 'hirahumayun', 'isaacyee', 'ericcheung', 'samfossumandramishahmaruf', 'cnn']\n",
      "['kevinliptak', 'samfossum', 'arlettesaenz', 'timlister', 'paulmurphy', 'ivanakottasováandannachernova', 'cnn']\n",
      "['janieboschma', 'danielwolfe', 'priyakrishnakumar', 'christopherhickey', 'meghnamaharishi', 'renéerigdon', 'johnkeefeanddavidwright', 'cnn']\n",
      "['bethlehemfeleke', 'elizamackintosh', 'gianlucamezzofiore', 'katiepolglase', 'nimaelbagir', 'barbaraarvanitidisandalexplatt', 'cnn']\n",
      "['bethlehemfeleke', 'elizamackintosh', 'gianlucamezzofiore', 'katiepolglase', 'nimaelbagir', 'barbaraarvanitidisandalexplatt', 'cnn']\n",
      "['bradparks', 'kevinconlon', 'rosaflores', 'davidshortell', 'saraweisfeldt', 'meridithedwards', 'jaidetimm-garcia', 'jasonkravarik', 'miguelmarquez', 'billkirkosandeliottc.mclaughlin', 'cnn']\n",
      "['ivanakottasová', 'olgavoitovich', 'paulp.murphy', 'antoniamortensen', 'clareforan', 'niamhkennedyandjeevanravindran', 'cnn']\n",
      "['nickpatonwalsh', 'sandisidhu', 'juliahollingsworth', 'masoudpopalzai', 'sitarazamani', 'abdulbasirbina', 'katiepolglaseandgianlucamezzofiore', 'cnn']\n",
      "['kevinconlon', 'polosandoval', 'leighwaldman', 'christopherlett', 'emanuellagrinberg', 'eddankoandnickvalencia', 'cnn']\n",
      "['evanmcmorris-santoro', 'leylasantiago', 'mallorysimon', 'linhtran', 'amarawalker', 'pamelakirklandandsaraweisfeldt', 'cnn']\n",
      "['laurensaid-moorhouse', 'bryonyjones', 'judithvonberg', 'lukemcgee', 'biancabritton', 'davegilbertandaimeelewis', 'cnn']\n",
      "['miaalberti', 'sharonbraithwaite', 'niamhkennedy', 'katyakrebs', 'amycassidy', 'saragill', 'antoniamortensen', 'chrisliakosandsusannegargiulo', 'cnn']\n"
     ]
    }
   ],
   "source": [
    "for a in authors_lists:\n",
    "    if len(a) > 6:\n",
    "        print(a)"
   ]
  },
  {
   "cell_type": "code",
   "execution_count": 87,
   "id": "cac182fb-7128-43fe-9788-642e330729d7",
   "metadata": {},
   "outputs": [],
   "source": [
    "cat_stats = dict(df['Category'].value_counts())\n",
    "sec_stats = dict(df['Section'].value_counts())"
   ]
  },
  {
   "cell_type": "code",
   "execution_count": 90,
   "id": "75cc2741-3983-4720-8eba-cb71fc162a49",
   "metadata": {},
   "outputs": [
    {
     "data": {
      "text/plain": [
       "Keywords\n",
       "app-news-section, Must-watch videos of the week - CNN                                     14\n",
       "europe, Latest developments in the royal baby watch - CNN                                  6\n",
       "europe, Jeremy Clarkson suspended by the BBC - CNN                                         3\n",
       "salah abdeslam, paris, terrorism, europe, Paris attacks: What you need to know - CNN       3\n",
       "europe, UK election Jeremy Corbyn profile  - CNN                                           2\n",
       "                                                                                          ..\n",
       "football, Late drama as Boca, Corinthians reach Copa semis - CNN                           1\n",
       "europe, Crown Jewels sparkle in major new exhibition for Diamond Jubilee - CNN             1\n",
       "football, Goal-line technology to be tested during England friendly - CNN                  1\n",
       "europe, Lawyer: Norwegian killer vows not to appeal guilty verdict if found sane - CNN     1\n",
       "europe, Independence campaign for Scotland launched - CNN                                  1\n",
       "Name: count, Length: 37863, dtype: int64"
      ]
     },
     "execution_count": 90,
     "metadata": {},
     "output_type": "execute_result"
    }
   ],
   "source": [
    "df['Keywords'].value_counts()"
   ]
  },
  {
   "cell_type": "code",
   "execution_count": null,
   "id": "be246d31-c806-4d44-b6a7-9168f3219d78",
   "metadata": {},
   "outputs": [],
   "source": []
  },
  {
   "cell_type": "code",
   "execution_count": 91,
   "id": "719d2a05-009b-405e-b8ed-78a079a923c8",
   "metadata": {},
   "outputs": [
    {
     "data": {
      "text/plain": [
       "array(['africa', 'americas', 'app-news-section', 'app-politics-section',\n",
       "       'app-tech-section', 'asia', 'australia', 'business',\n",
       "       'business-food', 'business-india', 'business-money', 'cars',\n",
       "       'celebrities', 'china', 'cnn10', 'economy', 'energy',\n",
       "       'entertainment', 'equestrian', 'europe', 'fashion', 'foodanddrink',\n",
       "       'football', 'golf', 'health', 'homes', 'horseracing', 'india',\n",
       "       'intl_business', 'intl_world', 'investing', 'justice', 'living',\n",
       "       'media', 'middleeast', 'motorsport', 'movies', 'opinion',\n",
       "       'opinions', 'perspectives', 'politics', 'sailing', 'showbiz',\n",
       "       'skiing', 'sport', 'success', 'tech', 'tennis', 'travel', 'uk',\n",
       "       'us', 'vr', 'weather', 'world', 'worldsport'], dtype=object)"
      ]
     },
     "execution_count": 91,
     "metadata": {},
     "output_type": "execute_result"
    }
   ],
   "source": [
    "unique_ks = np.unique(df['Section'])"
   ]
  },
  {
   "cell_type": "code",
   "execution_count": null,
   "id": "b841284a-f2d9-4023-8e05-50d9304ffd0e",
   "metadata": {},
   "outputs": [],
   "source": []
  }
 ],
 "metadata": {
  "kernelspec": {
   "display_name": "Python 3 (ipykernel)",
   "language": "python",
   "name": "python3"
  },
  "language_info": {
   "codemirror_mode": {
    "name": "ipython",
    "version": 3
   },
   "file_extension": ".py",
   "mimetype": "text/x-python",
   "name": "python",
   "nbconvert_exporter": "python",
   "pygments_lexer": "ipython3",
   "version": "3.9.18"
  }
 },
 "nbformat": 4,
 "nbformat_minor": 5
}
