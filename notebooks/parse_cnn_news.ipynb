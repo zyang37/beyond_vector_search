{
 "cells": [
  {
   "cell_type": "code",
   "execution_count": null,
   "id": "1e3816f0-5819-4274-b023-35f70e6b11e3",
   "metadata": {},
   "outputs": [],
   "source": [
    "import os\n",
    "import sys\n",
    "import json\n",
    "import pickle\n",
    "import numpy as np\n",
    "import pandas as pd\n",
    "from tqdm.auto import tqdm\n",
    "\n",
    "def sort_dict_by_key(d):\n",
    "    return {k: v for k, v in sorted(d.items(), key=lambda item: item[0])}\n",
    "\n",
    "def sort_dict_by_val(d):\n",
    "    return {k: v for k, v in sorted(d.items(), key=lambda item: item[1], reverse=True)}"
   ]
  },
  {
   "cell_type": "code",
   "execution_count": null,
   "id": "9a2c2b6f-9c4c-4cfd-a4e5-ca7c4d62f5c2",
   "metadata": {},
   "outputs": [],
   "source": [
    "file = open('../data/filtered_data.pickle', 'rb')\n",
    "data = pickle.load(file)\n",
    "file.close()\n",
    "\n",
    "data.head(1)"
   ]
  },
  {
   "cell_type": "code",
   "execution_count": null,
   "id": "ae0ff74a-0ce7-4faf-a60f-a3795af7ec75",
   "metadata": {},
   "outputs": [],
   "source": [
    "df = pd.read_csv(\"../data/CNN_Articels_clean.csv\")\n",
    "\n",
    "print(len(df))\n",
    "\n",
    "df.drop_duplicates(subset=['Headline'], inplace=True)\n",
    "\n",
    "print(len(df))"
   ]
  },
  {
   "cell_type": "code",
   "execution_count": null,
   "id": "d66f426a-6d73-4e06-97ff-8008d8a8a76c",
   "metadata": {},
   "outputs": [],
   "source": [
    "df.head(2)"
   ]
  },
  {
   "cell_type": "code",
   "execution_count": null,
   "id": "c9534158-4fb0-46a0-afe2-de91c7cdc501",
   "metadata": {},
   "outputs": [],
   "source": [
    "def parse_keywords(key_str, exclude_k=[]):\n",
    "    def parse_colon(kstr):\n",
    "        # parse \"Paris attacks: What you need to know - CNN\", get \"Paris attacks\"\n",
    "        hl = parse_by_comma[-1].split(\":\")[0]\n",
    "        return hl\n",
    "    key_list = []\n",
    "    key_str = key_str.lower()\n",
    "    parse_by_comma = key_str.split(\", \")\n",
    "    for k in parse_by_comma:\n",
    "        if \":\" in k:\n",
    "            k = parse_colon(k)\n",
    "        if k not in exclude_k:\n",
    "            key_list.append(k.replace(\" \", \"-\"))\n",
    "            \n",
    "    return key_list\n",
    "\n",
    "def parse_authors(author_str):\n",
    "    '''\n",
    "    This function parses the authors string into a list of authors\n",
    "\n",
    "    args: \n",
    "        - author_str: string of authors\n",
    "    return: list of authors\n",
    "    '''\n",
    "    authors = []\n",
    "    author_str = author_str.lower()\n",
    "    space_to = \"\"\n",
    "    # remove noises\n",
    "    # author_str = author_str.replace(\" \", space_to)\n",
    "    author_str = author_str.replace(\"\\n\", \"\")\n",
    "    parse_by_comma = author_str.split(\", \")\n",
    "    for i, a in enumerate(parse_by_comma):\n",
    "        if 'by' in a:\n",
    "            a = a.split('by')[-1]\n",
    "        # parse by 'and'\n",
    "        if 'and' in a:\n",
    "            al = []\n",
    "            for v in a.split(' and '):\n",
    "                tmp = v.replace(\" \", space_to)\n",
    "                if len(tmp)!=0: al.append(tmp)\n",
    "            a = al[:]\n",
    "                    \n",
    "        if type(a) is list:\n",
    "            authors.extend(a)\n",
    "        else:\n",
    "            if len(a.replace(\" \", space_to))!=0:\n",
    "                authors.append(a.replace(\" \", space_to))\n",
    "    return authors\n",
    "\n",
    "def parse_date(time_str):\n",
    "    return time_str.split(\" \")[0]"
   ]
  },
  {
   "cell_type": "code",
   "execution_count": null,
   "id": "7c368f00-1970-4881-8c05-b06c513c6a11",
   "metadata": {},
   "outputs": [],
   "source": [
    "authors_list = []\n",
    "for index, row in tqdm(df.iterrows(), total=len(df)):\n",
    "    authors = parse_authors(row['Author'])\n",
    "    authors_list.extend(authors)"
   ]
  },
  {
   "cell_type": "code",
   "execution_count": null,
   "id": "75cc2741-3983-4720-8eba-cb71fc162a49",
   "metadata": {},
   "outputs": [],
   "source": [
    "# df['Keywords'].value_counts()"
   ]
  },
  {
   "cell_type": "code",
   "execution_count": null,
   "id": "be246d31-c806-4d44-b6a7-9168f3219d78",
   "metadata": {},
   "outputs": [],
   "source": [
    "max_c = 10\n",
    "counter = 0\n",
    "keywords_list = []\n",
    "for index, row in tqdm(df.iterrows(), total=len(df)):\n",
    "    keys = parse_keywords(row['Keywords'])\n",
    "    counter+=1\n",
    "    keywords_list.extend(keys)"
   ]
  },
  {
   "cell_type": "code",
   "execution_count": null,
   "id": "fb591c77-406e-426c-a27f-55d4130b4b3f",
   "metadata": {},
   "outputs": [],
   "source": [
    "len(set(keywords_list))"
   ]
  },
  {
   "cell_type": "code",
   "execution_count": null,
   "id": "719d2a05-009b-405e-b8ed-78a079a923c8",
   "metadata": {},
   "outputs": [],
   "source": [
    "unique_ks = np.unique(df['Section'])\n",
    "\n",
    "for k in unique_ks:\n",
    "    if k not in keywords_list:\n",
    "        print(k)"
   ]
  },
  {
   "cell_type": "code",
   "execution_count": null,
   "id": "b841284a-f2d9-4023-8e05-50d9304ffd0e",
   "metadata": {},
   "outputs": [],
   "source": [
    "len(np.unique(df['Date published'].map(parse_date)))"
   ]
  },
  {
   "cell_type": "code",
   "execution_count": null,
   "id": "149d948b-e765-43a8-baba-b804e8da4452",
   "metadata": {},
   "outputs": [],
   "source": [
    "df['Date published'].iloc[0].split(\" \")[0]"
   ]
  },
  {
   "cell_type": "markdown",
   "id": "0553618e-9986-45b0-8163-0b714bb16047",
   "metadata": {},
   "source": [
    "# use parse func, count freq for each doc"
   ]
  },
  {
   "cell_type": "code",
   "execution_count": null,
   "id": "dc8748c5-0256-463f-bc9b-f51a684e3ce3",
   "metadata": {},
   "outputs": [],
   "source": [
    "def sum_freq_from_stats(row_parsed_lists, exclude_list=[]):\n",
    "    '''\n",
    "    This func is used to compute freq for col that contains a list of values. Ex: Autohrs: [a,b,c]\n",
    "\n",
    "    args:\n",
    "        - row_parsed_lists: 2d list; should be obtain from Ex: df['author'].map(parse_author)\n",
    "        - exclude_list: any key that you don;t want to account for\n",
    "    '''\n",
    "    freqs = []\n",
    "    stat_dict = {}\n",
    "    \n",
    "    # Loop through it once, get stats for each keys \n",
    "    for row_list in tqdm(row_parsed_lists):\n",
    "        for val in row_list:\n",
    "            if val not in stat_dict:\n",
    "                stat_dict[val] = 0\n",
    "            else:\n",
    "                stat_dict[val] += 1\n",
    "\n",
    "    # loop through 2nd times, count freq for each row\n",
    "    for row_list in tqdm(row_parsed_lists):\n",
    "        freq_counter = 0\n",
    "        for val in row_list: \n",
    "            if val not in exclude_list: \n",
    "                freq_counter += stat_dict[val]\n",
    "        freqs.append(freq_counter)\n",
    "    return freqs"
   ]
  },
  {
   "cell_type": "code",
   "execution_count": null,
   "id": "d2d9309f-ea9a-4a5f-8b0e-c08141489738",
   "metadata": {},
   "outputs": [],
   "source": [
    "# authors\n",
    "doc_author_list = df['Author'].map(parse_authors)\n",
    "author_freqs = sum_freq_from_stats(doc_author_list, ['cnn'])\n",
    "df['author_freq'] = author_freqs\n",
    "\n",
    "df.head(3)"
   ]
  },
  {
   "cell_type": "code",
   "execution_count": null,
   "id": "e2ce86bb-96c8-411b-903b-d0f6c65164de",
   "metadata": {},
   "outputs": [],
   "source": [
    "# author_stats = sort_dict_by_val(author_stats)"
   ]
  },
  {
   "cell_type": "code",
   "execution_count": null,
   "id": "e67c5cbd-7716-4570-a9f7-57de8234c2ed",
   "metadata": {},
   "outputs": [],
   "source": [
    "# Category and section\n",
    "cat_stats = dict(df['Category'].value_counts())\n",
    "sec_stats = dict(df['Section'].value_counts())\n",
    "\n",
    "cat_freqs = df['Category'].map(cat_stats)\n",
    "sec_freqs = df['Section'].map(sec_stats)\n",
    "\n",
    "df['cat_freq'] = cat_freqs\n",
    "df['sec_freq'] = sec_freqs\n",
    "\n",
    "df.head(3)"
   ]
  },
  {
   "cell_type": "code",
   "execution_count": null,
   "id": "479a52fc-ae47-4e94-91b6-4cdc557779c6",
   "metadata": {},
   "outputs": [],
   "source": [
    "# keywords\n",
    "\n",
    "doc_keys_list = df['Keywords'].map(parse_keywords)\n",
    "keys_freqs = sum_freq_from_stats(doc_keys_list, [])\n",
    "df['keys_freq'] = keys_freqs\n",
    "\n",
    "df.head(3)"
   ]
  },
  {
   "cell_type": "code",
   "execution_count": null,
   "id": "1387a53e-f109-4cc2-b677-19b4b31de476",
   "metadata": {},
   "outputs": [],
   "source": [
    "# sort_dict_by_val(keys_stats)"
   ]
  },
  {
   "cell_type": "code",
   "execution_count": null,
   "id": "8be0848a-3d87-4e47-845e-3c515a031765",
   "metadata": {},
   "outputs": [],
   "source": [
    "# Date\n",
    "\n",
    "doc_date_list = df['Date published'].map(parse_date)\n",
    "df['Date published'] = doc_date_list\n",
    "\n",
    "date_stats = dict(df['Date published'].value_counts())\n",
    "date_freqs = df['Date published'].map(date_stats)\n",
    "df['date_freq'] = date_freqs\n",
    "\n",
    "df.head(3)"
   ]
  },
  {
   "cell_type": "code",
   "execution_count": null,
   "id": "909d3340-6598-4aff-891c-c1cd88960f11",
   "metadata": {},
   "outputs": [],
   "source": []
  },
  {
   "cell_type": "code",
   "execution_count": null,
   "id": "296d420c-3711-4118-b835-c80281e27d37",
   "metadata": {},
   "outputs": [],
   "source": []
  }
 ],
 "metadata": {
  "kernelspec": {
   "display_name": "Python 3 (ipykernel)",
   "language": "python",
   "name": "python3"
  },
  "language_info": {
   "codemirror_mode": {
    "name": "ipython",
    "version": 3
   },
   "file_extension": ".py",
   "mimetype": "text/x-python",
   "name": "python",
   "nbconvert_exporter": "python",
   "pygments_lexer": "ipython3",
   "version": "3.9.18"
  }
 },
 "nbformat": 4,
 "nbformat_minor": 5
}
