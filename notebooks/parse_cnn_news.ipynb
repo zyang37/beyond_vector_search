{
 "cells": [
  {
   "cell_type": "code",
   "execution_count": 1,
   "id": "1e3816f0-5819-4274-b023-35f70e6b11e3",
   "metadata": {},
   "outputs": [],
   "source": [
    "import os\n",
    "import sys\n",
    "import json\n",
    "import pickle\n",
    "import numpy as np\n",
    "import pandas as pd\n",
    "from tqdm.auto import tqdm\n",
    "\n",
    "def sort_dict_by_key(d):\n",
    "    return {k: v for k, v in sorted(d.items(), key=lambda item: item[0])}\n",
    "\n",
    "def sort_dict_by_val(d):\n",
    "    return {k: v for k, v in sorted(d.items(), key=lambda item: item[1], reverse=True)}"
   ]
  },
  {
   "cell_type": "code",
   "execution_count": 4,
   "id": "9a2c2b6f-9c4c-4cfd-a4e5-ca7c4d62f5c2",
   "metadata": {},
   "outputs": [
    {
     "data": {
      "text/html": [
       "<div>\n",
       "<style scoped>\n",
       "    .dataframe tbody tr th:only-of-type {\n",
       "        vertical-align: middle;\n",
       "    }\n",
       "\n",
       "    .dataframe tbody tr th {\n",
       "        vertical-align: top;\n",
       "    }\n",
       "\n",
       "    .dataframe thead th {\n",
       "        text-align: right;\n",
       "    }\n",
       "</style>\n",
       "<table border=\"1\" class=\"dataframe\">\n",
       "  <thead>\n",
       "    <tr style=\"text-align: right;\">\n",
       "      <th></th>\n",
       "      <th>Index</th>\n",
       "      <th>Author</th>\n",
       "      <th>Date published</th>\n",
       "      <th>Category</th>\n",
       "      <th>Section</th>\n",
       "      <th>Url</th>\n",
       "      <th>Headline</th>\n",
       "      <th>Description</th>\n",
       "      <th>Keywords</th>\n",
       "      <th>Second headline</th>\n",
       "      <th>Article text</th>\n",
       "      <th>author_freq</th>\n",
       "      <th>cat_freq</th>\n",
       "      <th>sec_freq</th>\n",
       "      <th>keys_freq</th>\n",
       "      <th>Article_len</th>\n",
       "      <th>Headline_len</th>\n",
       "      <th>len_ratio</th>\n",
       "      <th>date_freq</th>\n",
       "    </tr>\n",
       "  </thead>\n",
       "  <tbody>\n",
       "    <tr>\n",
       "      <th>1</th>\n",
       "      <td>1</td>\n",
       "      <td>Stephanie Bailey, CNN</td>\n",
       "      <td>2021-05-12</td>\n",
       "      <td>news</td>\n",
       "      <td>world</td>\n",
       "      <td>https://www.cnn.com/2021/05/12/world/ironhand-...</td>\n",
       "      <td>Bioservo's robotic 'Ironhand' could protect fa...</td>\n",
       "      <td>Working in a factory can mean doing the same t...</td>\n",
       "      <td>world, Bioservo's robotic 'Ironhand' could pro...</td>\n",
       "      <td>A robotic 'Ironhand' could protect factory wor...</td>\n",
       "      <td>(CNN)Working in a factory or warehouse can me...</td>\n",
       "      <td>13</td>\n",
       "      <td>18011</td>\n",
       "      <td>614</td>\n",
       "      <td>0</td>\n",
       "      <td>5815</td>\n",
       "      <td>79</td>\n",
       "      <td>0.013586</td>\n",
       "      <td>10</td>\n",
       "    </tr>\n",
       "  </tbody>\n",
       "</table>\n",
       "</div>"
      ],
      "text/plain": [
       "   Index                 Author Date published Category Section  \\\n",
       "1      1  Stephanie Bailey, CNN     2021-05-12     news   world   \n",
       "\n",
       "                                                 Url  \\\n",
       "1  https://www.cnn.com/2021/05/12/world/ironhand-...   \n",
       "\n",
       "                                            Headline  \\\n",
       "1  Bioservo's robotic 'Ironhand' could protect fa...   \n",
       "\n",
       "                                         Description  \\\n",
       "1  Working in a factory can mean doing the same t...   \n",
       "\n",
       "                                            Keywords  \\\n",
       "1  world, Bioservo's robotic 'Ironhand' could pro...   \n",
       "\n",
       "                                     Second headline  \\\n",
       "1  A robotic 'Ironhand' could protect factory wor...   \n",
       "\n",
       "                                        Article text  author_freq  cat_freq  \\\n",
       "1   (CNN)Working in a factory or warehouse can me...           13     18011   \n",
       "\n",
       "   sec_freq  keys_freq  Article_len  Headline_len  len_ratio  date_freq  \n",
       "1       614          0         5815            79   0.013586         10  "
      ]
     },
     "execution_count": 4,
     "metadata": {},
     "output_type": "execute_result"
    }
   ],
   "source": [
    "file = open('../data/cnn_news/filtered_dataCNN.pickle', 'rb')\n",
    "data = pickle.load(file)\n",
    "file.close()\n",
    "\n",
    "data.head(1)"
   ]
  },
  {
   "cell_type": "code",
   "execution_count": 7,
   "id": "2ee42348-368b-47bc-b8ca-27bc85079cc3",
   "metadata": {},
   "outputs": [
    {
     "name": "stdout",
     "output_type": "stream",
     "text": [
      "['Index', 'Author', 'Date published', 'Category', 'Section', 'Url', 'Headline', 'Description', 'Keywords', 'Second headline', 'Article text', 'author_freq', 'cat_freq', 'sec_freq', 'keys_freq', 'Article_len', 'Headline_len', 'len_ratio', 'date_freq']\n"
     ]
    }
   ],
   "source": [
    "print(list(data.columns))"
   ]
  },
  {
   "cell_type": "code",
   "execution_count": 9,
   "id": "f216aebc-3fb4-48d2-a7ff-73e7f198ec80",
   "metadata": {},
   "outputs": [
    {
     "data": {
      "text/plain": [
       "'Working in a factory can mean doing the same task over and over, which could lead to chronic injury.  A battery-powered glove from Swedish company Bioservo could help workers by taking some of the strain.'"
      ]
     },
     "execution_count": 9,
     "metadata": {},
     "output_type": "execute_result"
    }
   ],
   "source": [
    "data['Description'].iloc[0]"
   ]
  },
  {
   "cell_type": "code",
   "execution_count": 10,
   "id": "796c557d-3ba5-4e8a-814b-79fd4cf5f4a4",
   "metadata": {},
   "outputs": [
    {
     "data": {
      "text/plain": [
       "\"Bioservo's robotic 'Ironhand' could protect factory workers from injuries - CNN\""
      ]
     },
     "execution_count": 10,
     "metadata": {},
     "output_type": "execute_result"
    }
   ],
   "source": [
    "data['Headline'].iloc[0]"
   ]
  },
  {
   "cell_type": "code",
   "execution_count": 12,
   "id": "7e55d0a1-b1dd-4fd5-98f7-9205e4094938",
   "metadata": {},
   "outputs": [
    {
     "data": {
      "text/plain": [
       "' (CNN)Working in a factory or warehouse can mean doing the same task over and over, and that repetition can lead to chronic injury. Now, a battery-powered glove could help workers by taking some of the strain.The \"Ironhand\" glove strengthens the wearer\\'s grip, meaning they don\\'t have to use as much force to perform repetitive manual tasks. Its developer, Bioservo, says it can increase the wearer\\'s hand strength by 20%. The Swedish company describes the system as a \"soft exoskeleton.\" Exoskeletons are an external device that supports and protects the body, typically increasing strength and endurance. Most have a rigid structure, but the Ironhand is soft, like a regular glove.  Photos: The robots running our warehousesRobots are an increasingly familiar presence in warehouses. At the south-east London warehouse run by British online supermarket Ocado, 3,000 robots fulfill shopping orders. When an order is sent to the warehouse, the bots spring to life and head towards the container they require. Scroll through to see more robots that are revolutionizing warehouses.Hide Caption 1 of 8 Photos: The robots running our warehousesIn response to the coronavirus pandemic, MIT collaborated with Ava Robotics and the Greater Boston Food Bank to design a robot that can use UV light to sanitize the floor of a 4,000-square foot warehouse in just 30 minutes. Hide Caption 2 of 8 Photos: The robots running our warehousesSeven-foot \"Model-T\" robots produced by Japanese startup Telexistence have been stacking shelves in two of Tokyo\\'s largest convenience store franchises. Featuring cameras, microphones and sensors, the Model-T uses three \"fingers\" to stock items such as bottled drinks, cans and rice bowls. The robot is controlled by shop staff remotely.Hide Caption 3 of 8 Photos: The robots running our warehousesUS company Boston Dynamics has become known for its advanced work robots. \"Handle\" is made for the warehouse and equipped with an on-board vision system. It can lift boxes weighing over 30 pounds. Hide Caption 4 of 8 Photos: The robots running our warehousesStretch is the latest robot from Boston Dynamics and can work in warehouses and distribution centers. Designed to keep human workers out of harm\\'s way, Stretch\\'s tentacle-like grippers mean it can manipulate boxes. Hide Caption 5 of 8 Photos: The robots running our warehousesAlthough not specifically designed for warehouses, Boston Dynamics\\' dog-like robot \"Spot\" can lift objects, pick itself up after a fall, open and walk through doors, and even remind people to practice social distancing. Hide Caption 6 of 8 Photos: The robots running our warehousesThis robot is used to plant seeds and check plants at the \"Nordic Harvest\" vertical farm  based in Taastrup, Denmark. The indoor farm is one of the biggest in Europe.Hide Caption 7 of 8 Photos: The robots running our warehousesRobots sort packages at a warehouse run by JD.com -- one of China\\'s largest e-commerce firms, in Wuhan, China, ahead of the annual Singles Day online shopping bonanza, in 2019.Hide Caption 8 of 8Reducing fatigue\"When you have the glove on, it provides strength and reduces the effort needed when lifting objects,\" says Mikael Wester, Bioservo\\'s marketing director. \"It\\'s all in order to reduce fatigue and prevent strain injuries in the long run.\"The Ironhand system was developed with General Motors as a partner.Read MoreThe system consists of a backpack, which houses the power pack, and artificial tendons that connect to the glove. There are sensors on each fingertip which switch on the motor when a user grabs an object. A remote control or app can be used to adjust the strength and sensitivity of the grip.Wester says applications include assembly on the production line in the automotive industry, using tools in construction and lifting heavy objects in warehouses.Each Ironhand system costs around €6,000 ($7,275). The device also collects data that allows the company to assess the wearer\\'s risk of developing strain injuries.  According to the European Agency for Safety and Health at Work, work-related neck and upper limb disorders are the most common occupational disease in Europe, costing national economies up to 2% of their gross national product.From NASA to General Motors The glove was originally intended for workers in a very different setting to the factory floor. NASA developed an early version of the technology, called \"Robo-Glove,\" to help astronauts grasp objects and carry out work in space. The Ironhand system being used for assembling parts in the automobile industry. Bioservo licensed the design in 2016 and then partnered with auto manufacturer General Motors (GM) to develop the glove for its workers. Why online supermarket Ocado wants to take the human touch out of groceries\"Ergonomics is really the field of trying to fit the jobs to the workers, instead of the workers having to conform and adapt to the job,\" says Stephen Krajcarski, a senior manager with GM\\'s ergonomics team.\"By using tools such as the Ironhand we are really trying to mitigate any potential concerns or physical demands that may eventually cause a medical concern for that individual operator.\"  Krajcarski says GM has helped Bioservo to test and improve the Ironhand by piloting it in a variety of jobs at its manufacturing plants. He says some workers have found it easy to use but adds that it\\'s not suitable for all situations.The Ironhand is just one of the exoskeletons GM is looking into. According to market research firm ABI Research, the exoskeleton market will grow from $392 million in 2020 to $6.8 billion in 2030.\"If you look at exoskeletons, this is just one of the tools that are out there,\" says Krajcarski. \"But this is an exciting technology.\"This story has been updated to correct the cost of the Ironhand system.'"
      ]
     },
     "execution_count": 12,
     "metadata": {},
     "output_type": "execute_result"
    }
   ],
   "source": [
    "data['Article text'].iloc[0]"
   ]
  },
  {
   "cell_type": "code",
   "execution_count": 3,
   "id": "ae0ff74a-0ce7-4faf-a60f-a3795af7ec75",
   "metadata": {},
   "outputs": [
    {
     "name": "stdout",
     "output_type": "stream",
     "text": [
      "37949\n",
      "37857\n"
     ]
    }
   ],
   "source": [
    "df = pd.read_csv(\"../data/CNN_Articels_clean.csv\")\n",
    "\n",
    "print(len(df))\n",
    "\n",
    "df.drop_duplicates(subset=['Headline'], inplace=True)\n",
    "df.drop_duplicates(subset=['Url'], inplace=True)\n",
    "\n",
    "print(len(df))"
   ]
  },
  {
   "cell_type": "code",
   "execution_count": 4,
   "id": "d66f426a-6d73-4e06-97ff-8008d8a8a76c",
   "metadata": {},
   "outputs": [
    {
     "data": {
      "text/html": [
       "<div>\n",
       "<style scoped>\n",
       "    .dataframe tbody tr th:only-of-type {\n",
       "        vertical-align: middle;\n",
       "    }\n",
       "\n",
       "    .dataframe tbody tr th {\n",
       "        vertical-align: top;\n",
       "    }\n",
       "\n",
       "    .dataframe thead th {\n",
       "        text-align: right;\n",
       "    }\n",
       "</style>\n",
       "<table border=\"1\" class=\"dataframe\">\n",
       "  <thead>\n",
       "    <tr style=\"text-align: right;\">\n",
       "      <th></th>\n",
       "      <th>Index</th>\n",
       "      <th>Author</th>\n",
       "      <th>Date published</th>\n",
       "      <th>Category</th>\n",
       "      <th>Section</th>\n",
       "      <th>Url</th>\n",
       "      <th>Headline</th>\n",
       "      <th>Description</th>\n",
       "      <th>Keywords</th>\n",
       "      <th>Second headline</th>\n",
       "      <th>Article text</th>\n",
       "    </tr>\n",
       "  </thead>\n",
       "  <tbody>\n",
       "    <tr>\n",
       "      <th>0</th>\n",
       "      <td>0</td>\n",
       "      <td>Jacopo Prisco, CNN</td>\n",
       "      <td>2021-07-15 02:46:59</td>\n",
       "      <td>news</td>\n",
       "      <td>world</td>\n",
       "      <td>https://www.cnn.com/2021/07/14/world/tusimple-...</td>\n",
       "      <td>There's a shortage of truckers, but TuSimple t...</td>\n",
       "      <td>The e-commerce boom has exacerbated a global t...</td>\n",
       "      <td>world, There's a shortage of truckers, but TuS...</td>\n",
       "      <td>There's a shortage of truckers, but TuSimple t...</td>\n",
       "      <td>(CNN)Right now, there's a shortage of truck d...</td>\n",
       "    </tr>\n",
       "    <tr>\n",
       "      <th>1</th>\n",
       "      <td>1</td>\n",
       "      <td>Stephanie Bailey, CNN</td>\n",
       "      <td>2021-05-12 07:52:09</td>\n",
       "      <td>news</td>\n",
       "      <td>world</td>\n",
       "      <td>https://www.cnn.com/2021/05/12/world/ironhand-...</td>\n",
       "      <td>Bioservo's robotic 'Ironhand' could protect fa...</td>\n",
       "      <td>Working in a factory can mean doing the same t...</td>\n",
       "      <td>world, Bioservo's robotic 'Ironhand' could pro...</td>\n",
       "      <td>A robotic 'Ironhand' could protect factory wor...</td>\n",
       "      <td>(CNN)Working in a factory or warehouse can me...</td>\n",
       "    </tr>\n",
       "  </tbody>\n",
       "</table>\n",
       "</div>"
      ],
      "text/plain": [
       "   Index                 Author       Date published Category Section  \\\n",
       "0      0     Jacopo Prisco, CNN  2021-07-15 02:46:59     news   world   \n",
       "1      1  Stephanie Bailey, CNN  2021-05-12 07:52:09     news   world   \n",
       "\n",
       "                                                 Url  \\\n",
       "0  https://www.cnn.com/2021/07/14/world/tusimple-...   \n",
       "1  https://www.cnn.com/2021/05/12/world/ironhand-...   \n",
       "\n",
       "                                            Headline  \\\n",
       "0  There's a shortage of truckers, but TuSimple t...   \n",
       "1  Bioservo's robotic 'Ironhand' could protect fa...   \n",
       "\n",
       "                                         Description  \\\n",
       "0  The e-commerce boom has exacerbated a global t...   \n",
       "1  Working in a factory can mean doing the same t...   \n",
       "\n",
       "                                            Keywords  \\\n",
       "0  world, There's a shortage of truckers, but TuS...   \n",
       "1  world, Bioservo's robotic 'Ironhand' could pro...   \n",
       "\n",
       "                                     Second headline  \\\n",
       "0  There's a shortage of truckers, but TuSimple t...   \n",
       "1  A robotic 'Ironhand' could protect factory wor...   \n",
       "\n",
       "                                        Article text  \n",
       "0   (CNN)Right now, there's a shortage of truck d...  \n",
       "1   (CNN)Working in a factory or warehouse can me...  "
      ]
     },
     "execution_count": 4,
     "metadata": {},
     "output_type": "execute_result"
    }
   ],
   "source": [
    "df.head(2)"
   ]
  },
  {
   "cell_type": "code",
   "execution_count": 5,
   "id": "c9534158-4fb0-46a0-afe2-de91c7cdc501",
   "metadata": {},
   "outputs": [],
   "source": [
    "# class CnnNewsParser:\n",
    "\n",
    "def parse_keywords(key_str, exclude_k=[]):\n",
    "    def parse_colon(kstr):\n",
    "        # parse \"Paris attacks: What you need to know - CNN\", get \"Paris attacks\"\n",
    "        hl = parse_by_comma[-1].split(\":\")[0]\n",
    "        return hl\n",
    "    key_list = []\n",
    "    key_str = key_str.lower()\n",
    "    parse_by_comma = key_str.split(\", \")\n",
    "    for k in parse_by_comma:\n",
    "        if \":\" in k:\n",
    "            k = parse_colon(k)\n",
    "        if k not in exclude_k:\n",
    "            key_list.append(k.replace(\" \", \"-\"))\n",
    "            \n",
    "    return key_list\n",
    "\n",
    "def parse_authors(author_str):\n",
    "    '''\n",
    "    This function parses the authors string into a list of authors\n",
    "\n",
    "    args: \n",
    "        - author_str: string of authors\n",
    "    return: list of authors\n",
    "    '''\n",
    "    authors = []\n",
    "    author_str = author_str.lower()\n",
    "    space_to = \"\"\n",
    "    # remove noises\n",
    "    # author_str = author_str.replace(\" \", space_to)\n",
    "    author_str = author_str.replace(\"\\n\", \"\")\n",
    "    parse_by_comma = author_str.split(\", \")\n",
    "    for i, a in enumerate(parse_by_comma):\n",
    "        if 'by' in a:\n",
    "            a = a.split('by')[-1]\n",
    "        # parse by 'and'\n",
    "        if 'and' in a:\n",
    "            al = []\n",
    "            for v in a.split(' and '):\n",
    "                tmp = v.replace(\" \", space_to)\n",
    "                if len(tmp)!=0: al.append(tmp)\n",
    "            a = al[:]\n",
    "                    \n",
    "        if type(a) is list:\n",
    "            authors.extend(a)\n",
    "        else:\n",
    "            if len(a.replace(\" \", space_to))!=0:\n",
    "                authors.append(a.replace(\" \", space_to))\n",
    "    return authors\n",
    "\n",
    "def parse_date(time_str):\n",
    "    return time_str.split(\" \")[0]"
   ]
  },
  {
   "cell_type": "code",
   "execution_count": 6,
   "id": "7c368f00-1970-4881-8c05-b06c513c6a11",
   "metadata": {},
   "outputs": [
    {
     "data": {
      "application/vnd.jupyter.widget-view+json": {
       "model_id": "55d0586137f24b66b2483fdd04838c4e",
       "version_major": 2,
       "version_minor": 0
      },
      "text/plain": [
       "  0%|          | 0/37857 [00:00<?, ?it/s]"
      ]
     },
     "metadata": {},
     "output_type": "display_data"
    }
   ],
   "source": [
    "authors_list = []\n",
    "for index, row in tqdm(df.iterrows(), total=len(df)):\n",
    "    authors = parse_authors(row['Author'])\n",
    "    authors_list.extend(authors)"
   ]
  },
  {
   "cell_type": "code",
   "execution_count": 7,
   "id": "75cc2741-3983-4720-8eba-cb71fc162a49",
   "metadata": {},
   "outputs": [],
   "source": [
    "# df['Keywords'].value_counts()"
   ]
  },
  {
   "cell_type": "code",
   "execution_count": 8,
   "id": "be246d31-c806-4d44-b6a7-9168f3219d78",
   "metadata": {},
   "outputs": [
    {
     "data": {
      "application/vnd.jupyter.widget-view+json": {
       "model_id": "c883a4a924204367bbb75710fb3c0eaf",
       "version_major": 2,
       "version_minor": 0
      },
      "text/plain": [
       "  0%|          | 0/37857 [00:00<?, ?it/s]"
      ]
     },
     "metadata": {},
     "output_type": "display_data"
    }
   ],
   "source": [
    "max_c = 10\n",
    "counter = 0\n",
    "keywords_list = []\n",
    "for index, row in tqdm(df.iterrows(), total=len(df)):\n",
    "    keys = parse_keywords(row['Keywords'])\n",
    "    counter+=1\n",
    "    keywords_list.extend(keys)"
   ]
  },
  {
   "cell_type": "code",
   "execution_count": 9,
   "id": "fb591c77-406e-426c-a27f-55d4130b4b3f",
   "metadata": {},
   "outputs": [
    {
     "data": {
      "text/plain": [
       "45048"
      ]
     },
     "execution_count": 9,
     "metadata": {},
     "output_type": "execute_result"
    }
   ],
   "source": [
    "len(set(keywords_list))"
   ]
  },
  {
   "cell_type": "code",
   "execution_count": 10,
   "id": "719d2a05-009b-405e-b8ed-78a079a923c8",
   "metadata": {},
   "outputs": [],
   "source": [
    "unique_ks = np.unique(df['Section'])\n",
    "\n",
    "for k in unique_ks:\n",
    "    if k not in keywords_list:\n",
    "        print(k)"
   ]
  },
  {
   "cell_type": "code",
   "execution_count": 11,
   "id": "b841284a-f2d9-4023-8e05-50d9304ffd0e",
   "metadata": {},
   "outputs": [
    {
     "data": {
      "text/plain": [
       "3837"
      ]
     },
     "execution_count": 11,
     "metadata": {},
     "output_type": "execute_result"
    }
   ],
   "source": [
    "len(np.unique(df['Date published'].map(parse_date)))"
   ]
  },
  {
   "cell_type": "code",
   "execution_count": 12,
   "id": "149d948b-e765-43a8-baba-b804e8da4452",
   "metadata": {},
   "outputs": [
    {
     "data": {
      "text/plain": [
       "'2021-07-15'"
      ]
     },
     "execution_count": 12,
     "metadata": {},
     "output_type": "execute_result"
    }
   ],
   "source": [
    "df['Date published'].iloc[0].split(\" \")[0]"
   ]
  },
  {
   "cell_type": "markdown",
   "id": "0553618e-9986-45b0-8163-0b714bb16047",
   "metadata": {},
   "source": [
    "# use parse func, count freq for each doc"
   ]
  },
  {
   "cell_type": "code",
   "execution_count": 13,
   "id": "dc8748c5-0256-463f-bc9b-f51a684e3ce3",
   "metadata": {},
   "outputs": [],
   "source": [
    "def sum_freq_from_stats(row_parsed_lists, exclude_list=[]):\n",
    "    '''\n",
    "    This func is used to compute freq for col that contains a list of values. Ex: Autohrs: [a,b,c]\n",
    "\n",
    "    args:\n",
    "        - row_parsed_lists: 2d list; should be obtain from Ex: df['author'].map(parse_author)\n",
    "        - exclude_list: any key that you don;t want to account for\n",
    "    '''\n",
    "    freqs = []\n",
    "    stat_dict = {}\n",
    "    \n",
    "    # Loop through it once, get stats for each keys \n",
    "    for row_list in tqdm(row_parsed_lists):\n",
    "        for val in row_list:\n",
    "            if val not in stat_dict:\n",
    "                stat_dict[val] = 0\n",
    "            else:\n",
    "                stat_dict[val] += 1\n",
    "\n",
    "    # loop through 2nd times, count freq for each row\n",
    "    for row_list in tqdm(row_parsed_lists):\n",
    "        freq_counter = 0\n",
    "        for val in row_list:\n",
    "            if val.lower() not in exclude_list: \n",
    "                freq_counter += stat_dict[val]\n",
    "        freqs.append(freq_counter)\n",
    "    return freqs"
   ]
  },
  {
   "cell_type": "code",
   "execution_count": 14,
   "id": "d2d9309f-ea9a-4a5f-8b0e-c08141489738",
   "metadata": {},
   "outputs": [
    {
     "data": {
      "application/vnd.jupyter.widget-view+json": {
       "model_id": "0fb709132593478989e3b2241ce6d6fa",
       "version_major": 2,
       "version_minor": 0
      },
      "text/plain": [
       "  0%|          | 0/37857 [00:00<?, ?it/s]"
      ]
     },
     "metadata": {},
     "output_type": "display_data"
    },
    {
     "data": {
      "application/vnd.jupyter.widget-view+json": {
       "model_id": "1ec09bdeda59451ab7e19febd73d6e5f",
       "version_major": 2,
       "version_minor": 0
      },
      "text/plain": [
       "  0%|          | 0/37857 [00:00<?, ?it/s]"
      ]
     },
     "metadata": {},
     "output_type": "display_data"
    },
    {
     "data": {
      "text/html": [
       "<div>\n",
       "<style scoped>\n",
       "    .dataframe tbody tr th:only-of-type {\n",
       "        vertical-align: middle;\n",
       "    }\n",
       "\n",
       "    .dataframe tbody tr th {\n",
       "        vertical-align: top;\n",
       "    }\n",
       "\n",
       "    .dataframe thead th {\n",
       "        text-align: right;\n",
       "    }\n",
       "</style>\n",
       "<table border=\"1\" class=\"dataframe\">\n",
       "  <thead>\n",
       "    <tr style=\"text-align: right;\">\n",
       "      <th></th>\n",
       "      <th>Index</th>\n",
       "      <th>Author</th>\n",
       "      <th>Date published</th>\n",
       "      <th>Category</th>\n",
       "      <th>Section</th>\n",
       "      <th>Url</th>\n",
       "      <th>Headline</th>\n",
       "      <th>Description</th>\n",
       "      <th>Keywords</th>\n",
       "      <th>Second headline</th>\n",
       "      <th>Article text</th>\n",
       "      <th>author_freq</th>\n",
       "    </tr>\n",
       "  </thead>\n",
       "  <tbody>\n",
       "    <tr>\n",
       "      <th>0</th>\n",
       "      <td>0</td>\n",
       "      <td>Jacopo Prisco, CNN</td>\n",
       "      <td>2021-07-15 02:46:59</td>\n",
       "      <td>news</td>\n",
       "      <td>world</td>\n",
       "      <td>https://www.cnn.com/2021/07/14/world/tusimple-...</td>\n",
       "      <td>There's a shortage of truckers, but TuSimple t...</td>\n",
       "      <td>The e-commerce boom has exacerbated a global t...</td>\n",
       "      <td>world, There's a shortage of truckers, but TuS...</td>\n",
       "      <td>There's a shortage of truckers, but TuSimple t...</td>\n",
       "      <td>(CNN)Right now, there's a shortage of truck d...</td>\n",
       "      <td>5</td>\n",
       "    </tr>\n",
       "    <tr>\n",
       "      <th>1</th>\n",
       "      <td>1</td>\n",
       "      <td>Stephanie Bailey, CNN</td>\n",
       "      <td>2021-05-12 07:52:09</td>\n",
       "      <td>news</td>\n",
       "      <td>world</td>\n",
       "      <td>https://www.cnn.com/2021/05/12/world/ironhand-...</td>\n",
       "      <td>Bioservo's robotic 'Ironhand' could protect fa...</td>\n",
       "      <td>Working in a factory can mean doing the same t...</td>\n",
       "      <td>world, Bioservo's robotic 'Ironhand' could pro...</td>\n",
       "      <td>A robotic 'Ironhand' could protect factory wor...</td>\n",
       "      <td>(CNN)Working in a factory or warehouse can me...</td>\n",
       "      <td>13</td>\n",
       "    </tr>\n",
       "    <tr>\n",
       "      <th>2</th>\n",
       "      <td>2</td>\n",
       "      <td>Words by Stephanie Bailey, video by Zahra Jamshed</td>\n",
       "      <td>2021-06-16 02:51:30</td>\n",
       "      <td>news</td>\n",
       "      <td>asia</td>\n",
       "      <td>https://www.cnn.com/2021/06/15/asia/swarm-robo...</td>\n",
       "      <td>This swarm of robots gets smarter the more it ...</td>\n",
       "      <td>In a Hong Kong warehouse, a swarm of autonomou...</td>\n",
       "      <td>asia, This swarm of robots gets smarter the mo...</td>\n",
       "      <td>This swarm of robots gets smarter the more it ...</td>\n",
       "      <td>(CNN)In a Hong Kong warehouse, a swarm of aut...</td>\n",
       "      <td>19</td>\n",
       "    </tr>\n",
       "  </tbody>\n",
       "</table>\n",
       "</div>"
      ],
      "text/plain": [
       "   Index                                             Author  \\\n",
       "0      0                                 Jacopo Prisco, CNN   \n",
       "1      1                              Stephanie Bailey, CNN   \n",
       "2      2  Words by Stephanie Bailey, video by Zahra Jamshed   \n",
       "\n",
       "        Date published Category Section  \\\n",
       "0  2021-07-15 02:46:59     news   world   \n",
       "1  2021-05-12 07:52:09     news   world   \n",
       "2  2021-06-16 02:51:30     news    asia   \n",
       "\n",
       "                                                 Url  \\\n",
       "0  https://www.cnn.com/2021/07/14/world/tusimple-...   \n",
       "1  https://www.cnn.com/2021/05/12/world/ironhand-...   \n",
       "2  https://www.cnn.com/2021/06/15/asia/swarm-robo...   \n",
       "\n",
       "                                            Headline  \\\n",
       "0  There's a shortage of truckers, but TuSimple t...   \n",
       "1  Bioservo's robotic 'Ironhand' could protect fa...   \n",
       "2  This swarm of robots gets smarter the more it ...   \n",
       "\n",
       "                                         Description  \\\n",
       "0  The e-commerce boom has exacerbated a global t...   \n",
       "1  Working in a factory can mean doing the same t...   \n",
       "2  In a Hong Kong warehouse, a swarm of autonomou...   \n",
       "\n",
       "                                            Keywords  \\\n",
       "0  world, There's a shortage of truckers, but TuS...   \n",
       "1  world, Bioservo's robotic 'Ironhand' could pro...   \n",
       "2  asia, This swarm of robots gets smarter the mo...   \n",
       "\n",
       "                                     Second headline  \\\n",
       "0  There's a shortage of truckers, but TuSimple t...   \n",
       "1  A robotic 'Ironhand' could protect factory wor...   \n",
       "2  This swarm of robots gets smarter the more it ...   \n",
       "\n",
       "                                        Article text  author_freq  \n",
       "0   (CNN)Right now, there's a shortage of truck d...            5  \n",
       "1   (CNN)Working in a factory or warehouse can me...           13  \n",
       "2   (CNN)In a Hong Kong warehouse, a swarm of aut...           19  "
      ]
     },
     "execution_count": 14,
     "metadata": {},
     "output_type": "execute_result"
    }
   ],
   "source": [
    "# authors\n",
    "doc_author_list = df['Author'].map(parse_authors)\n",
    "author_freqs = sum_freq_from_stats(doc_author_list, ['cnn', 'CNN'])\n",
    "df['author_freq'] = author_freqs\n",
    "\n",
    "df.head(3)"
   ]
  },
  {
   "cell_type": "code",
   "execution_count": 15,
   "id": "e2ce86bb-96c8-411b-903b-d0f6c65164de",
   "metadata": {},
   "outputs": [],
   "source": [
    "# author_stats = sort_dict_by_val(author_stats)"
   ]
  },
  {
   "cell_type": "code",
   "execution_count": 16,
   "id": "e67c5cbd-7716-4570-a9f7-57de8234c2ed",
   "metadata": {},
   "outputs": [
    {
     "data": {
      "text/html": [
       "<div>\n",
       "<style scoped>\n",
       "    .dataframe tbody tr th:only-of-type {\n",
       "        vertical-align: middle;\n",
       "    }\n",
       "\n",
       "    .dataframe tbody tr th {\n",
       "        vertical-align: top;\n",
       "    }\n",
       "\n",
       "    .dataframe thead th {\n",
       "        text-align: right;\n",
       "    }\n",
       "</style>\n",
       "<table border=\"1\" class=\"dataframe\">\n",
       "  <thead>\n",
       "    <tr style=\"text-align: right;\">\n",
       "      <th></th>\n",
       "      <th>Index</th>\n",
       "      <th>Author</th>\n",
       "      <th>Date published</th>\n",
       "      <th>Category</th>\n",
       "      <th>Section</th>\n",
       "      <th>Url</th>\n",
       "      <th>Headline</th>\n",
       "      <th>Description</th>\n",
       "      <th>Keywords</th>\n",
       "      <th>Second headline</th>\n",
       "      <th>Article text</th>\n",
       "      <th>author_freq</th>\n",
       "      <th>cat_freq</th>\n",
       "      <th>sec_freq</th>\n",
       "    </tr>\n",
       "  </thead>\n",
       "  <tbody>\n",
       "    <tr>\n",
       "      <th>0</th>\n",
       "      <td>0</td>\n",
       "      <td>Jacopo Prisco, CNN</td>\n",
       "      <td>2021-07-15 02:46:59</td>\n",
       "      <td>news</td>\n",
       "      <td>world</td>\n",
       "      <td>https://www.cnn.com/2021/07/14/world/tusimple-...</td>\n",
       "      <td>There's a shortage of truckers, but TuSimple t...</td>\n",
       "      <td>The e-commerce boom has exacerbated a global t...</td>\n",
       "      <td>world, There's a shortage of truckers, but TuS...</td>\n",
       "      <td>There's a shortage of truckers, but TuSimple t...</td>\n",
       "      <td>(CNN)Right now, there's a shortage of truck d...</td>\n",
       "      <td>5</td>\n",
       "      <td>18011</td>\n",
       "      <td>614</td>\n",
       "    </tr>\n",
       "    <tr>\n",
       "      <th>1</th>\n",
       "      <td>1</td>\n",
       "      <td>Stephanie Bailey, CNN</td>\n",
       "      <td>2021-05-12 07:52:09</td>\n",
       "      <td>news</td>\n",
       "      <td>world</td>\n",
       "      <td>https://www.cnn.com/2021/05/12/world/ironhand-...</td>\n",
       "      <td>Bioservo's robotic 'Ironhand' could protect fa...</td>\n",
       "      <td>Working in a factory can mean doing the same t...</td>\n",
       "      <td>world, Bioservo's robotic 'Ironhand' could pro...</td>\n",
       "      <td>A robotic 'Ironhand' could protect factory wor...</td>\n",
       "      <td>(CNN)Working in a factory or warehouse can me...</td>\n",
       "      <td>13</td>\n",
       "      <td>18011</td>\n",
       "      <td>614</td>\n",
       "    </tr>\n",
       "    <tr>\n",
       "      <th>2</th>\n",
       "      <td>2</td>\n",
       "      <td>Words by Stephanie Bailey, video by Zahra Jamshed</td>\n",
       "      <td>2021-06-16 02:51:30</td>\n",
       "      <td>news</td>\n",
       "      <td>asia</td>\n",
       "      <td>https://www.cnn.com/2021/06/15/asia/swarm-robo...</td>\n",
       "      <td>This swarm of robots gets smarter the more it ...</td>\n",
       "      <td>In a Hong Kong warehouse, a swarm of autonomou...</td>\n",
       "      <td>asia, This swarm of robots gets smarter the mo...</td>\n",
       "      <td>This swarm of robots gets smarter the more it ...</td>\n",
       "      <td>(CNN)In a Hong Kong warehouse, a swarm of aut...</td>\n",
       "      <td>19</td>\n",
       "      <td>18011</td>\n",
       "      <td>301</td>\n",
       "    </tr>\n",
       "  </tbody>\n",
       "</table>\n",
       "</div>"
      ],
      "text/plain": [
       "   Index                                             Author  \\\n",
       "0      0                                 Jacopo Prisco, CNN   \n",
       "1      1                              Stephanie Bailey, CNN   \n",
       "2      2  Words by Stephanie Bailey, video by Zahra Jamshed   \n",
       "\n",
       "        Date published Category Section  \\\n",
       "0  2021-07-15 02:46:59     news   world   \n",
       "1  2021-05-12 07:52:09     news   world   \n",
       "2  2021-06-16 02:51:30     news    asia   \n",
       "\n",
       "                                                 Url  \\\n",
       "0  https://www.cnn.com/2021/07/14/world/tusimple-...   \n",
       "1  https://www.cnn.com/2021/05/12/world/ironhand-...   \n",
       "2  https://www.cnn.com/2021/06/15/asia/swarm-robo...   \n",
       "\n",
       "                                            Headline  \\\n",
       "0  There's a shortage of truckers, but TuSimple t...   \n",
       "1  Bioservo's robotic 'Ironhand' could protect fa...   \n",
       "2  This swarm of robots gets smarter the more it ...   \n",
       "\n",
       "                                         Description  \\\n",
       "0  The e-commerce boom has exacerbated a global t...   \n",
       "1  Working in a factory can mean doing the same t...   \n",
       "2  In a Hong Kong warehouse, a swarm of autonomou...   \n",
       "\n",
       "                                            Keywords  \\\n",
       "0  world, There's a shortage of truckers, but TuS...   \n",
       "1  world, Bioservo's robotic 'Ironhand' could pro...   \n",
       "2  asia, This swarm of robots gets smarter the mo...   \n",
       "\n",
       "                                     Second headline  \\\n",
       "0  There's a shortage of truckers, but TuSimple t...   \n",
       "1  A robotic 'Ironhand' could protect factory wor...   \n",
       "2  This swarm of robots gets smarter the more it ...   \n",
       "\n",
       "                                        Article text  author_freq  cat_freq  \\\n",
       "0   (CNN)Right now, there's a shortage of truck d...            5     18011   \n",
       "1   (CNN)Working in a factory or warehouse can me...           13     18011   \n",
       "2   (CNN)In a Hong Kong warehouse, a swarm of aut...           19     18011   \n",
       "\n",
       "   sec_freq  \n",
       "0       614  \n",
       "1       614  \n",
       "2       301  "
      ]
     },
     "execution_count": 16,
     "metadata": {},
     "output_type": "execute_result"
    }
   ],
   "source": [
    "# Category and section\n",
    "cat_stats = dict(df['Category'].value_counts())\n",
    "sec_stats = dict(df['Section'].value_counts())\n",
    "\n",
    "cat_freqs = df['Category'].map(cat_stats)\n",
    "sec_freqs = df['Section'].map(sec_stats)\n",
    "\n",
    "df['cat_freq'] = cat_freqs\n",
    "df['sec_freq'] = sec_freqs\n",
    "\n",
    "df.head(3)"
   ]
  },
  {
   "cell_type": "code",
   "execution_count": 17,
   "id": "479a52fc-ae47-4e94-91b6-4cdc557779c6",
   "metadata": {},
   "outputs": [
    {
     "data": {
      "application/vnd.jupyter.widget-view+json": {
       "model_id": "425060f4c91c477da960c4b79aea1e3c",
       "version_major": 2,
       "version_minor": 0
      },
      "text/plain": [
       "  0%|          | 0/37857 [00:00<?, ?it/s]"
      ]
     },
     "metadata": {},
     "output_type": "display_data"
    },
    {
     "data": {
      "application/vnd.jupyter.widget-view+json": {
       "model_id": "a9a6fd6d4a70413ab63fc112b8f7c710",
       "version_major": 2,
       "version_minor": 0
      },
      "text/plain": [
       "  0%|          | 0/37857 [00:00<?, ?it/s]"
      ]
     },
     "metadata": {},
     "output_type": "display_data"
    },
    {
     "data": {
      "text/html": [
       "<div>\n",
       "<style scoped>\n",
       "    .dataframe tbody tr th:only-of-type {\n",
       "        vertical-align: middle;\n",
       "    }\n",
       "\n",
       "    .dataframe tbody tr th {\n",
       "        vertical-align: top;\n",
       "    }\n",
       "\n",
       "    .dataframe thead th {\n",
       "        text-align: right;\n",
       "    }\n",
       "</style>\n",
       "<table border=\"1\" class=\"dataframe\">\n",
       "  <thead>\n",
       "    <tr style=\"text-align: right;\">\n",
       "      <th></th>\n",
       "      <th>Index</th>\n",
       "      <th>Author</th>\n",
       "      <th>Date published</th>\n",
       "      <th>Category</th>\n",
       "      <th>Section</th>\n",
       "      <th>Url</th>\n",
       "      <th>Headline</th>\n",
       "      <th>Description</th>\n",
       "      <th>Keywords</th>\n",
       "      <th>Second headline</th>\n",
       "      <th>Article text</th>\n",
       "      <th>author_freq</th>\n",
       "      <th>cat_freq</th>\n",
       "      <th>sec_freq</th>\n",
       "      <th>keys_freq</th>\n",
       "    </tr>\n",
       "  </thead>\n",
       "  <tbody>\n",
       "    <tr>\n",
       "      <th>0</th>\n",
       "      <td>0</td>\n",
       "      <td>Jacopo Prisco, CNN</td>\n",
       "      <td>2021-07-15 02:46:59</td>\n",
       "      <td>news</td>\n",
       "      <td>world</td>\n",
       "      <td>https://www.cnn.com/2021/07/14/world/tusimple-...</td>\n",
       "      <td>There's a shortage of truckers, but TuSimple t...</td>\n",
       "      <td>The e-commerce boom has exacerbated a global t...</td>\n",
       "      <td>world, There's a shortage of truckers, but TuS...</td>\n",
       "      <td>There's a shortage of truckers, but TuSimple t...</td>\n",
       "      <td>(CNN)Right now, there's a shortage of truck d...</td>\n",
       "      <td>5</td>\n",
       "      <td>18011</td>\n",
       "      <td>614</td>\n",
       "      <td>0</td>\n",
       "    </tr>\n",
       "    <tr>\n",
       "      <th>1</th>\n",
       "      <td>1</td>\n",
       "      <td>Stephanie Bailey, CNN</td>\n",
       "      <td>2021-05-12 07:52:09</td>\n",
       "      <td>news</td>\n",
       "      <td>world</td>\n",
       "      <td>https://www.cnn.com/2021/05/12/world/ironhand-...</td>\n",
       "      <td>Bioservo's robotic 'Ironhand' could protect fa...</td>\n",
       "      <td>Working in a factory can mean doing the same t...</td>\n",
       "      <td>world, Bioservo's robotic 'Ironhand' could pro...</td>\n",
       "      <td>A robotic 'Ironhand' could protect factory wor...</td>\n",
       "      <td>(CNN)Working in a factory or warehouse can me...</td>\n",
       "      <td>13</td>\n",
       "      <td>18011</td>\n",
       "      <td>614</td>\n",
       "      <td>0</td>\n",
       "    </tr>\n",
       "    <tr>\n",
       "      <th>2</th>\n",
       "      <td>2</td>\n",
       "      <td>Words by Stephanie Bailey, video by Zahra Jamshed</td>\n",
       "      <td>2021-06-16 02:51:30</td>\n",
       "      <td>news</td>\n",
       "      <td>asia</td>\n",
       "      <td>https://www.cnn.com/2021/06/15/asia/swarm-robo...</td>\n",
       "      <td>This swarm of robots gets smarter the more it ...</td>\n",
       "      <td>In a Hong Kong warehouse, a swarm of autonomou...</td>\n",
       "      <td>asia, This swarm of robots gets smarter the mo...</td>\n",
       "      <td>This swarm of robots gets smarter the more it ...</td>\n",
       "      <td>(CNN)In a Hong Kong warehouse, a swarm of aut...</td>\n",
       "      <td>19</td>\n",
       "      <td>18011</td>\n",
       "      <td>301</td>\n",
       "      <td>0</td>\n",
       "    </tr>\n",
       "  </tbody>\n",
       "</table>\n",
       "</div>"
      ],
      "text/plain": [
       "   Index                                             Author  \\\n",
       "0      0                                 Jacopo Prisco, CNN   \n",
       "1      1                              Stephanie Bailey, CNN   \n",
       "2      2  Words by Stephanie Bailey, video by Zahra Jamshed   \n",
       "\n",
       "        Date published Category Section  \\\n",
       "0  2021-07-15 02:46:59     news   world   \n",
       "1  2021-05-12 07:52:09     news   world   \n",
       "2  2021-06-16 02:51:30     news    asia   \n",
       "\n",
       "                                                 Url  \\\n",
       "0  https://www.cnn.com/2021/07/14/world/tusimple-...   \n",
       "1  https://www.cnn.com/2021/05/12/world/ironhand-...   \n",
       "2  https://www.cnn.com/2021/06/15/asia/swarm-robo...   \n",
       "\n",
       "                                            Headline  \\\n",
       "0  There's a shortage of truckers, but TuSimple t...   \n",
       "1  Bioservo's robotic 'Ironhand' could protect fa...   \n",
       "2  This swarm of robots gets smarter the more it ...   \n",
       "\n",
       "                                         Description  \\\n",
       "0  The e-commerce boom has exacerbated a global t...   \n",
       "1  Working in a factory can mean doing the same t...   \n",
       "2  In a Hong Kong warehouse, a swarm of autonomou...   \n",
       "\n",
       "                                            Keywords  \\\n",
       "0  world, There's a shortage of truckers, but TuS...   \n",
       "1  world, Bioservo's robotic 'Ironhand' could pro...   \n",
       "2  asia, This swarm of robots gets smarter the mo...   \n",
       "\n",
       "                                     Second headline  \\\n",
       "0  There's a shortage of truckers, but TuSimple t...   \n",
       "1  A robotic 'Ironhand' could protect factory wor...   \n",
       "2  This swarm of robots gets smarter the more it ...   \n",
       "\n",
       "                                        Article text  author_freq  cat_freq  \\\n",
       "0   (CNN)Right now, there's a shortage of truck d...            5     18011   \n",
       "1   (CNN)Working in a factory or warehouse can me...           13     18011   \n",
       "2   (CNN)In a Hong Kong warehouse, a swarm of aut...           19     18011   \n",
       "\n",
       "   sec_freq  keys_freq  \n",
       "0       614          0  \n",
       "1       614          0  \n",
       "2       301          0  "
      ]
     },
     "execution_count": 17,
     "metadata": {},
     "output_type": "execute_result"
    }
   ],
   "source": [
    "# keywords\n",
    "\n",
    "doc_keys_list = df['Keywords'].map(parse_keywords)\n",
    "keys_freqs = sum_freq_from_stats(doc_keys_list, unique_ks)\n",
    "df['keys_freq'] = keys_freqs\n",
    "\n",
    "df.head(3)"
   ]
  },
  {
   "cell_type": "code",
   "execution_count": 18,
   "id": "1387a53e-f109-4cc2-b677-19b4b31de476",
   "metadata": {},
   "outputs": [],
   "source": [
    "# sort_dict_by_val(keys_stats)\n",
    "\n",
    "def doc_length(text):\n",
    "    return len(str(text))\n",
    "\n",
    "\n",
    "df['Article_len'] = df['Article text'].map(doc_length)\n",
    "df['Headline_len'] = df['Headline'].map(doc_length)\n",
    "df['len_ratio'] = df['Headline_len']/df['Article_len']"
   ]
  },
  {
   "cell_type": "code",
   "execution_count": 19,
   "id": "4f8ff5ff",
   "metadata": {},
   "outputs": [
    {
     "data": {
      "text/plain": [
       "3"
      ]
     },
     "execution_count": 19,
     "metadata": {},
     "output_type": "execute_result"
    }
   ],
   "source": [
    "len(str(np.nan))"
   ]
  },
  {
   "cell_type": "code",
   "execution_count": 20,
   "id": "8be0848a-3d87-4e47-845e-3c515a031765",
   "metadata": {},
   "outputs": [
    {
     "data": {
      "text/html": [
       "<div>\n",
       "<style scoped>\n",
       "    .dataframe tbody tr th:only-of-type {\n",
       "        vertical-align: middle;\n",
       "    }\n",
       "\n",
       "    .dataframe tbody tr th {\n",
       "        vertical-align: top;\n",
       "    }\n",
       "\n",
       "    .dataframe thead th {\n",
       "        text-align: right;\n",
       "    }\n",
       "</style>\n",
       "<table border=\"1\" class=\"dataframe\">\n",
       "  <thead>\n",
       "    <tr style=\"text-align: right;\">\n",
       "      <th></th>\n",
       "      <th>Index</th>\n",
       "      <th>Author</th>\n",
       "      <th>Date published</th>\n",
       "      <th>Category</th>\n",
       "      <th>Section</th>\n",
       "      <th>Url</th>\n",
       "      <th>Headline</th>\n",
       "      <th>Description</th>\n",
       "      <th>Keywords</th>\n",
       "      <th>Second headline</th>\n",
       "      <th>Article text</th>\n",
       "      <th>author_freq</th>\n",
       "      <th>cat_freq</th>\n",
       "      <th>sec_freq</th>\n",
       "      <th>keys_freq</th>\n",
       "      <th>Article_len</th>\n",
       "      <th>Headline_len</th>\n",
       "      <th>len_ratio</th>\n",
       "      <th>date_freq</th>\n",
       "    </tr>\n",
       "  </thead>\n",
       "  <tbody>\n",
       "    <tr>\n",
       "      <th>37946</th>\n",
       "      <td>44994</td>\n",
       "      <td>Wayne Sterling and Steve Almasy, CNN</td>\n",
       "      <td>2022-03-01</td>\n",
       "      <td>sport</td>\n",
       "      <td>sport</td>\n",
       "      <td>https://www.cnn.com/2022/03/01/sport/mlb-deadl...</td>\n",
       "      <td>MLB is postponing Opening Day after owners and...</td>\n",
       "      <td>Major League Baseball (MLB) is postponing its ...</td>\n",
       "      <td>sport, MLB is postponing Opening Day after own...</td>\n",
       "      <td>MLB is postponing Opening Day after owners and...</td>\n",
       "      <td>(CNN)Major League Baseball (MLB) is postponin...</td>\n",
       "      <td>433</td>\n",
       "      <td>15517</td>\n",
       "      <td>5624</td>\n",
       "      <td>0</td>\n",
       "      <td>3259</td>\n",
       "      <td>87</td>\n",
       "      <td>0.026695</td>\n",
       "      <td>69</td>\n",
       "    </tr>\n",
       "    <tr>\n",
       "      <th>37947</th>\n",
       "      <td>44996</td>\n",
       "      <td>CNN Editorial Research</td>\n",
       "      <td>2013-01-12</td>\n",
       "      <td>news</td>\n",
       "      <td>europe</td>\n",
       "      <td>https://www.cnn.com/2013/01/11/world/europe/mi...</td>\n",
       "      <td>Mikhail Gorbachev Fast Facts - CNN</td>\n",
       "      <td>Read CNN's Fast Facts on Mikhail Gorbachev, fo...</td>\n",
       "      <td>europe, Mikhail Gorbachev Fast Facts - CNN</td>\n",
       "      <td>Mikhail Gorbachev Fast Facts</td>\n",
       "      <td>Here's a look at the life of Mikhail Gorbachev...</td>\n",
       "      <td>143</td>\n",
       "      <td>18011</td>\n",
       "      <td>10587</td>\n",
       "      <td>0</td>\n",
       "      <td>4032</td>\n",
       "      <td>34</td>\n",
       "      <td>0.008433</td>\n",
       "      <td>10</td>\n",
       "    </tr>\n",
       "    <tr>\n",
       "      <th>37948</th>\n",
       "      <td>44997</td>\n",
       "      <td>CNN Editorial Research</td>\n",
       "      <td>2013-06-27</td>\n",
       "      <td>news</td>\n",
       "      <td>europe</td>\n",
       "      <td>https://www.cnn.com/2013/06/27/world/europe/du...</td>\n",
       "      <td>Duchess Camilla Fast Facts - CNN</td>\n",
       "      <td>Read CNN's Fast Facts on Duchess Camilla, the ...</td>\n",
       "      <td>europe, Duchess Camilla Fast Facts - CNN</td>\n",
       "      <td>Duchess Camilla Fast Facts</td>\n",
       "      <td>(CNN)Here's a look at the life of Her Royal H...</td>\n",
       "      <td>143</td>\n",
       "      <td>18011</td>\n",
       "      <td>10587</td>\n",
       "      <td>0</td>\n",
       "      <td>4064</td>\n",
       "      <td>32</td>\n",
       "      <td>0.007874</td>\n",
       "      <td>13</td>\n",
       "    </tr>\n",
       "  </tbody>\n",
       "</table>\n",
       "</div>"
      ],
      "text/plain": [
       "       Index                                Author Date published Category  \\\n",
       "37946  44994  Wayne Sterling and Steve Almasy, CNN     2022-03-01    sport   \n",
       "37947  44996                CNN Editorial Research     2013-01-12     news   \n",
       "37948  44997                CNN Editorial Research     2013-06-27     news   \n",
       "\n",
       "      Section                                                Url  \\\n",
       "37946   sport  https://www.cnn.com/2022/03/01/sport/mlb-deadl...   \n",
       "37947  europe  https://www.cnn.com/2013/01/11/world/europe/mi...   \n",
       "37948  europe  https://www.cnn.com/2013/06/27/world/europe/du...   \n",
       "\n",
       "                                                Headline  \\\n",
       "37946  MLB is postponing Opening Day after owners and...   \n",
       "37947                 Mikhail Gorbachev Fast Facts - CNN   \n",
       "37948                   Duchess Camilla Fast Facts - CNN   \n",
       "\n",
       "                                             Description  \\\n",
       "37946  Major League Baseball (MLB) is postponing its ...   \n",
       "37947  Read CNN's Fast Facts on Mikhail Gorbachev, fo...   \n",
       "37948  Read CNN's Fast Facts on Duchess Camilla, the ...   \n",
       "\n",
       "                                                Keywords  \\\n",
       "37946  sport, MLB is postponing Opening Day after own...   \n",
       "37947         europe, Mikhail Gorbachev Fast Facts - CNN   \n",
       "37948           europe, Duchess Camilla Fast Facts - CNN   \n",
       "\n",
       "                                         Second headline  \\\n",
       "37946  MLB is postponing Opening Day after owners and...   \n",
       "37947                       Mikhail Gorbachev Fast Facts   \n",
       "37948                         Duchess Camilla Fast Facts   \n",
       "\n",
       "                                            Article text  author_freq  \\\n",
       "37946   (CNN)Major League Baseball (MLB) is postponin...          433   \n",
       "37947  Here's a look at the life of Mikhail Gorbachev...          143   \n",
       "37948   (CNN)Here's a look at the life of Her Royal H...          143   \n",
       "\n",
       "       cat_freq  sec_freq  keys_freq  Article_len  Headline_len  len_ratio  \\\n",
       "37946     15517      5624          0         3259            87   0.026695   \n",
       "37947     18011     10587          0         4032            34   0.008433   \n",
       "37948     18011     10587          0         4064            32   0.007874   \n",
       "\n",
       "       date_freq  \n",
       "37946         69  \n",
       "37947         10  \n",
       "37948         13  "
      ]
     },
     "execution_count": 20,
     "metadata": {},
     "output_type": "execute_result"
    }
   ],
   "source": [
    "# Date\n",
    "\n",
    "doc_date_list = df['Date published'].map(parse_date)\n",
    "df['Date published'] = doc_date_list\n",
    "\n",
    "date_stats = dict(df['Date published'].value_counts())\n",
    "date_freqs = df['Date published'].map(date_stats)\n",
    "df['date_freq'] = date_freqs\n",
    "\n",
    "df.tail(3)"
   ]
  },
  {
   "cell_type": "markdown",
   "id": "21751622-ee0b-49ed-8cc6-c1634fa92bc9",
   "metadata": {},
   "source": [
    "# Filter by freqs"
   ]
  },
  {
   "cell_type": "code",
   "execution_count": 21,
   "id": "296d420c-3711-4118-b835-c80281e27d37",
   "metadata": {},
   "outputs": [],
   "source": [
    "# print(df['author_freq'].describe())\n",
    "# print(df['author_freq'].value_counts())"
   ]
  },
  {
   "cell_type": "code",
   "execution_count": 37,
   "id": "a193becb-99b3-4bba-aa88-1f26a936fc37",
   "metadata": {},
   "outputs": [
    {
     "name": "stdout",
     "output_type": "stream",
     "text": [
      "37857\n",
      "10370\n"
     ]
    }
   ],
   "source": [
    "author_freq_min = 10\n",
    "cat_freq_min = 100\n",
    "sec_freq_min = 100\n",
    "keys_freq_min = 0\n",
    "\n",
    "print(len(df))\n",
    "filter_df = df[df['author_freq']>=author_freq_min]\n",
    "filter_df = filter_df[filter_df['cat_freq']>=cat_freq_min]\n",
    "filter_df = filter_df[filter_df['sec_freq']>=sec_freq_min]\n",
    "filter_df = filter_df[filter_df['keys_freq']>=keys_freq_min]\n",
    "filter_df = filter_df[filter_df['Headline_len']>=30]\n",
    "filter_df = filter_df[filter_df['Article_len']<=3200]\n",
    "filter_df = filter_df[filter_df['len_ratio']<=0.5]\n",
    "print(len(filter_df))"
   ]
  },
  {
   "cell_type": "markdown",
   "id": "b3747830",
   "metadata": {},
   "source": [
    "# Plase dounc check the effective document length!"
   ]
  },
  {
   "cell_type": "code",
   "execution_count": 38,
   "id": "946662e4-30a4-4ff6-b907-8d3a00343ebd",
   "metadata": {},
   "outputs": [
    {
     "name": "stdout",
     "output_type": "stream",
     "text": [
      "count    10370.000000\n",
      "mean      2207.998843\n",
      "std        641.350856\n",
      "min        114.000000\n",
      "25%       1777.000000\n",
      "50%       2277.000000\n",
      "75%       2737.750000\n",
      "max       3200.000000\n",
      "Name: Article_len, dtype: float64\n"
     ]
    },
    {
     "data": {
      "text/plain": [
       "10361"
      ]
     },
     "execution_count": 38,
     "metadata": {},
     "output_type": "execute_result"
    }
   ],
   "source": [
    "print(filter_df['Article_len'].describe())\n",
    "# print(df['date_freq'].value_counts())\n",
    "\n",
    "len(filter_df[filter_df['Article_len']<3200])"
   ]
  },
  {
   "cell_type": "code",
   "execution_count": 39,
   "id": "5bdb4c59-2341-48f3-bcfc-b7513f8dc24e",
   "metadata": {},
   "outputs": [],
   "source": [
    "# filter_df.to_csv(\"../data/cnn_news/filtered_dataCNN_small.csv\")\n",
    "\n",
    "# # save as pickle\n",
    "file = open('../data/cnn_news/filtered_dataCNN_len.pickle', 'wb')\n",
    "pickle.dump(filter_df, file)\n",
    "file.close()"
   ]
  },
  {
   "cell_type": "code",
   "execution_count": null,
   "id": "e92a437d",
   "metadata": {},
   "outputs": [],
   "source": []
  },
  {
   "cell_type": "markdown",
   "id": "e805742c",
   "metadata": {},
   "source": [
    "# build graph"
   ]
  },
  {
   "cell_type": "code",
   "execution_count": 48,
   "id": "7fce3c18",
   "metadata": {},
   "outputs": [],
   "source": [
    "sys.path.append(\"../\")\n",
    "\n",
    "from utils.parse_arxiv import (\n",
    "    make_keyword_id,\n",
    "    parse_authors,\n",
    "    parse_categories,\n",
    "    parse_journal,\n",
    "    parse_year,\n",
    ")\n",
    "\n",
    "from vector_graph.bipartite_graph_dict import BipartiteGraphDict\n",
    "\n",
    "def graph_extend_node_edge(idx, target_infor, k_id_name, keyword_nodes, document_id, edges):\n",
    "    '''\n",
    "    This function extends the graph by adding new nodes and edges\n",
    "\n",
    "    args:\n",
    "        - idx: index of the row in the dataframe\n",
    "        - target_infor: target information to be parsed (could be authors, keywords, categories, etc)\n",
    "        - k_id_name: keyword name used to make keyword id\n",
    "        - keyword_nodes: list of keyword nodes\n",
    "        - document_id: id of the document\n",
    "        - edges: list of edges\n",
    "    '''\n",
    "\n",
    "    if type(target_infor.iloc[0]) is list:\n",
    "        target_infor_dim = 2\n",
    "    else:\n",
    "        target_infor_dim = 1\n",
    "\n",
    "    if target_infor_dim == 1:\n",
    "        keyword_ids = make_keyword_id(k_id_name, target_infor.iloc[idx])\n",
    "        keyword_nodes.append(keyword_ids)\n",
    "        edges.append((document_id, keyword_ids))\n",
    "    elif target_infor_dim == 2:\n",
    "        keyword_ids = [make_keyword_id(k_id_name, x) for x in target_infor.iloc[idx]]\n",
    "        keyword_nodes.extend(keyword_ids)\n",
    "        edges.extend([(document_id, k) for k in keyword_ids])\n",
    "    else:\n",
    "        raise NotImplementedError\n",
    "    return keyword_nodes, edges\n",
    "\n",
    "file = open('../data/filtered_data.pickle', 'rb')\n",
    "df = pickle.load(file)\n",
    "file.close()\n",
    "\n",
    "print(len(df))\n",
    "df.drop_duplicates(subset=['id'], inplace=True)\n",
    "print(len(df))"
   ]
  },
  {
   "cell_type": "code",
   "execution_count": 50,
   "id": "e3b9679a",
   "metadata": {},
   "outputs": [],
   "source": [
    "# add document nodes\n",
    "G = BipartiteGraphDict()\n",
    "author_keywords = []\n",
    "category_keywords = []\n",
    "journal_keywords = []\n",
    "year_keywords = []\n",
    "\n",
    "author_edges = []\n",
    "category_edges = []\n",
    "journal_edges = []\n",
    "year_edges = []\n",
    "\n",
    "authors = df[\"authors\"].map(parse_authors)\n",
    "categories = df[\"categories\"].map(parse_categories)\n",
    "journals = df[\"journal-ref\"].map(parse_journal)\n",
    "years = df[\"update_date\"].map(parse_year)\n",
    "df[\"id\"] = df[\"id\"].astype(\"string\")\n",
    "data_ids = set(df[\"id\"].tolist())\n",
    "\n",
    "for idx in range(df.shape[0]):\n",
    "    document_id = df[\"id\"].iloc[idx]\n",
    "    author_keywords, author_edges = graph_extend_node_edge(idx, authors, \"author\", author_keywords, document_id, author_edges)\n",
    "    category_keywords, category_edges = graph_extend_node_edge(idx, categories, \"category\", category_keywords, document_id, category_edges)\n",
    "    journal_keywords, journal_edges = graph_extend_node_edge(idx, journals, \"journal\", journal_keywords, document_id, journal_edges)\n",
    "    year_keywords, year_edges = graph_extend_node_edge(idx, years, \"year\", year_keywords, document_id, year_edges)\n",
    "\n",
    "author_keywords = set(author_keywords)\n",
    "author_edges = set(author_edges)\n",
    "category_keywords = set(category_keywords)\n",
    "category_edges = set(category_edges)\n",
    "journal_keywords = set(journal_keywords)\n",
    "journal_edges = set(journal_edges)\n",
    "year_keywords = set(year_keywords)\n",
    "year_edges = set(year_edges)\n",
    "\n",
    "G.add_data_nodes(data_ids)\n",
    "G.add_keyword_nodes(author_keywords)\n",
    "G.add_keyword_nodes(category_keywords)\n",
    "G.add_keyword_nodes(journal_keywords)\n",
    "G.add_keyword_nodes(year_keywords)\n",
    "G.add_raw_edges(author_edges)\n",
    "G.add_raw_edges(category_edges)\n",
    "G.add_raw_edges(journal_edges)\n",
    "G.add_raw_edges(year_edges)"
   ]
  },
  {
   "cell_type": "code",
   "execution_count": 51,
   "id": "7475d93b",
   "metadata": {},
   "outputs": [
    {
     "data": {
      "text/plain": [
       "True"
      ]
     },
     "execution_count": 51,
     "metadata": {},
     "output_type": "execute_result"
    }
   ],
   "source": [
    "authors.iloc[0]\n",
    "type(authors.iloc[0]) is list"
   ]
  },
  {
   "cell_type": "code",
   "execution_count": 45,
   "id": "2a983b39",
   "metadata": {},
   "outputs": [
    {
     "data": {
      "text/plain": [
       "'Phys.Rev.D76:052005,2007'"
      ]
     },
     "execution_count": 45,
     "metadata": {},
     "output_type": "execute_result"
    }
   ],
   "source": [
    "journals.iloc[0]"
   ]
  },
  {
   "cell_type": "code",
   "execution_count": 33,
   "id": "2052c30c",
   "metadata": {},
   "outputs": [
    {
     "name": "stdout",
     "output_type": "stream",
     "text": [
      "12925\n"
     ]
    }
   ],
   "source": [
    "print(len(journal_edges))"
   ]
  },
  {
   "cell_type": "code",
   "execution_count": 103,
   "id": "2a7b2622",
   "metadata": {},
   "outputs": [
    {
     "data": {
      "text/html": [
       "<div>\n",
       "<style scoped>\n",
       "    .dataframe tbody tr th:only-of-type {\n",
       "        vertical-align: middle;\n",
       "    }\n",
       "\n",
       "    .dataframe tbody tr th {\n",
       "        vertical-align: top;\n",
       "    }\n",
       "\n",
       "    .dataframe thead th {\n",
       "        text-align: right;\n",
       "    }\n",
       "</style>\n",
       "<table border=\"1\" class=\"dataframe\">\n",
       "  <thead>\n",
       "    <tr style=\"text-align: right;\">\n",
       "      <th></th>\n",
       "      <th>Index</th>\n",
       "      <th>Author</th>\n",
       "      <th>Date published</th>\n",
       "      <th>Category</th>\n",
       "      <th>Section</th>\n",
       "      <th>Url</th>\n",
       "      <th>Headline</th>\n",
       "      <th>Description</th>\n",
       "      <th>Keywords</th>\n",
       "      <th>Second headline</th>\n",
       "      <th>Article text</th>\n",
       "      <th>author_freq</th>\n",
       "      <th>cat_freq</th>\n",
       "      <th>sec_freq</th>\n",
       "      <th>keys_freq</th>\n",
       "      <th>date_freq</th>\n",
       "    </tr>\n",
       "  </thead>\n",
       "  <tbody>\n",
       "    <tr>\n",
       "      <th>36</th>\n",
       "      <td>36</td>\n",
       "      <td>Lisa Respers France and Chloe Melas, CNN</td>\n",
       "      <td>2022-03-20</td>\n",
       "      <td>entertainment</td>\n",
       "      <td>entertainment</td>\n",
       "      <td>https://www.cnn.com/2022/03/20/entertainment/k...</td>\n",
       "      <td>Kanye West's Grammys performance being cancele...</td>\n",
       "      <td>Kanye West has been pulled from performing at ...</td>\n",
       "      <td>entertainment, Kanye West's Grammys performanc...</td>\n",
       "      <td>Trevor Noah had nothing to do with Kanye West'...</td>\n",
       "      <td>(CNN)Kanye West has been pulled from performi...</td>\n",
       "      <td>111</td>\n",
       "      <td>413</td>\n",
       "      <td>390</td>\n",
       "      <td>2</td>\n",
       "      <td>43</td>\n",
       "    </tr>\n",
       "    <tr>\n",
       "      <th>38</th>\n",
       "      <td>38</td>\n",
       "      <td>Analysis by Lisa Respers France, CNN</td>\n",
       "      <td>2022-03-19</td>\n",
       "      <td>entertainment</td>\n",
       "      <td>entertainment</td>\n",
       "      <td>https://www.cnn.com/2022/03/19/entertainment/l...</td>\n",
       "      <td>Analysis: Amy Schumer has older millennial mal...</td>\n",
       "      <td>In \"Life &amp; Beth,\" Amy Schumer plays a woman wh...</td>\n",
       "      <td>entertainment, Analysis: Amy Schumer has older...</td>\n",
       "      <td>Amy Schumer reckons with older millennial mala...</td>\n",
       "      <td>A version of this story appeared in Pop Life C...</td>\n",
       "      <td>74</td>\n",
       "      <td>413</td>\n",
       "      <td>390</td>\n",
       "      <td>119</td>\n",
       "      <td>37</td>\n",
       "    </tr>\n",
       "    <tr>\n",
       "      <th>63</th>\n",
       "      <td>63</td>\n",
       "      <td>Analysis by Brian Lowry, CNN</td>\n",
       "      <td>2022-02-08</td>\n",
       "      <td>entertainment</td>\n",
       "      <td>entertainment</td>\n",
       "      <td>https://www.cnn.com/2022/02/08/entertainment/a...</td>\n",
       "      <td>Analysis: Academy Award nominations: No Spider...</td>\n",
       "      <td>The Oscars are about honoring the year's best ...</td>\n",
       "      <td>entertainment, Analysis: Academy Award nominat...</td>\n",
       "      <td>Oscars 2022: No Spider-Man, no Bond. Can strea...</td>\n",
       "      <td>(CNN)The Oscars are about honoring the year's...</td>\n",
       "      <td>95</td>\n",
       "      <td>413</td>\n",
       "      <td>390</td>\n",
       "      <td>2</td>\n",
       "      <td>54</td>\n",
       "    </tr>\n",
       "    <tr>\n",
       "      <th>65</th>\n",
       "      <td>65</td>\n",
       "      <td>Ben Church, CNN</td>\n",
       "      <td>2022-03-20</td>\n",
       "      <td>sport</td>\n",
       "      <td>motorsport</td>\n",
       "      <td>https://www.cnn.com/2022/03/20/motorsport/bahr...</td>\n",
       "      <td>Bahrain Grand Prix: Ferrari dominates as Charl...</td>\n",
       "      <td>Charles Leclerc won the Bahrain Grand Prix on ...</td>\n",
       "      <td>motorsport, Bahrain Grand Prix: Ferrari domina...</td>\n",
       "      <td>Bahrain Grand Prix: Ferrari dominates as Charl...</td>\n",
       "      <td>(CNN)Charles Leclerc won the Bahrain Grand Pr...</td>\n",
       "      <td>799</td>\n",
       "      <td>15517</td>\n",
       "      <td>1384</td>\n",
       "      <td>2</td>\n",
       "      <td>43</td>\n",
       "    </tr>\n",
       "    <tr>\n",
       "      <th>66</th>\n",
       "      <td>66</td>\n",
       "      <td>Ben Morse and Amanda Davies, CNN</td>\n",
       "      <td>2022-03-19</td>\n",
       "      <td>sport</td>\n",
       "      <td>sport</td>\n",
       "      <td>https://www.cnn.com/2022/03/19/sport/saudi-gol...</td>\n",
       "      <td>Greg Norman: Lucrative Saudi-backed golf leagu...</td>\n",
       "      <td>The new lucrative Saudi Arabia-backed golf lea...</td>\n",
       "      <td>sport, Greg Norman: Lucrative Saudi-backed gol...</td>\n",
       "      <td>Lucrative Saudi-backed golf league is 'new opp...</td>\n",
       "      <td>(CNN)The new lucrative Saudi Arabia-backed go...</td>\n",
       "      <td>1061</td>\n",
       "      <td>15517</td>\n",
       "      <td>5624</td>\n",
       "      <td>2</td>\n",
       "      <td>37</td>\n",
       "    </tr>\n",
       "  </tbody>\n",
       "</table>\n",
       "</div>"
      ],
      "text/plain": [
       "    Index                                    Author Date published  \\\n",
       "36     36  Lisa Respers France and Chloe Melas, CNN     2022-03-20   \n",
       "38     38      Analysis by Lisa Respers France, CNN     2022-03-19   \n",
       "63     63              Analysis by Brian Lowry, CNN     2022-02-08   \n",
       "65     65                           Ben Church, CNN     2022-03-20   \n",
       "66     66          Ben Morse and Amanda Davies, CNN     2022-03-19   \n",
       "\n",
       "         Category        Section  \\\n",
       "36  entertainment  entertainment   \n",
       "38  entertainment  entertainment   \n",
       "63  entertainment  entertainment   \n",
       "65          sport     motorsport   \n",
       "66          sport          sport   \n",
       "\n",
       "                                                  Url  \\\n",
       "36  https://www.cnn.com/2022/03/20/entertainment/k...   \n",
       "38  https://www.cnn.com/2022/03/19/entertainment/l...   \n",
       "63  https://www.cnn.com/2022/02/08/entertainment/a...   \n",
       "65  https://www.cnn.com/2022/03/20/motorsport/bahr...   \n",
       "66  https://www.cnn.com/2022/03/19/sport/saudi-gol...   \n",
       "\n",
       "                                             Headline  \\\n",
       "36  Kanye West's Grammys performance being cancele...   \n",
       "38  Analysis: Amy Schumer has older millennial mal...   \n",
       "63  Analysis: Academy Award nominations: No Spider...   \n",
       "65  Bahrain Grand Prix: Ferrari dominates as Charl...   \n",
       "66  Greg Norman: Lucrative Saudi-backed golf leagu...   \n",
       "\n",
       "                                          Description  \\\n",
       "36  Kanye West has been pulled from performing at ...   \n",
       "38  In \"Life & Beth,\" Amy Schumer plays a woman wh...   \n",
       "63  The Oscars are about honoring the year's best ...   \n",
       "65  Charles Leclerc won the Bahrain Grand Prix on ...   \n",
       "66  The new lucrative Saudi Arabia-backed golf lea...   \n",
       "\n",
       "                                             Keywords  \\\n",
       "36  entertainment, Kanye West's Grammys performanc...   \n",
       "38  entertainment, Analysis: Amy Schumer has older...   \n",
       "63  entertainment, Analysis: Academy Award nominat...   \n",
       "65  motorsport, Bahrain Grand Prix: Ferrari domina...   \n",
       "66  sport, Greg Norman: Lucrative Saudi-backed gol...   \n",
       "\n",
       "                                      Second headline  \\\n",
       "36  Trevor Noah had nothing to do with Kanye West'...   \n",
       "38  Amy Schumer reckons with older millennial mala...   \n",
       "63  Oscars 2022: No Spider-Man, no Bond. Can strea...   \n",
       "65  Bahrain Grand Prix: Ferrari dominates as Charl...   \n",
       "66  Lucrative Saudi-backed golf league is 'new opp...   \n",
       "\n",
       "                                         Article text  author_freq  cat_freq  \\\n",
       "36   (CNN)Kanye West has been pulled from performi...          111       413   \n",
       "38  A version of this story appeared in Pop Life C...           74       413   \n",
       "63   (CNN)The Oscars are about honoring the year's...           95       413   \n",
       "65   (CNN)Charles Leclerc won the Bahrain Grand Pr...          799     15517   \n",
       "66   (CNN)The new lucrative Saudi Arabia-backed go...         1061     15517   \n",
       "\n",
       "    sec_freq  keys_freq  date_freq  \n",
       "36       390          2         43  \n",
       "38       390        119         37  \n",
       "63       390          2         54  \n",
       "65      1384          2         43  \n",
       "66      5624          2         37  "
      ]
     },
     "execution_count": 103,
     "metadata": {},
     "output_type": "execute_result"
    }
   ],
   "source": [
    "filter_df.head()"
   ]
  },
  {
   "cell_type": "markdown",
   "id": "ae166620",
   "metadata": {},
   "source": [
    "# CNN news parser class "
   ]
  },
  {
   "cell_type": "code",
   "execution_count": 145,
   "id": "2ce8bec0",
   "metadata": {},
   "outputs": [],
   "source": [
    "class CnnNewsParser:\n",
    "    def __init__(self, df, id_col='Url'):\n",
    "        self.df = df\n",
    "        self.id_col = id_col\n",
    "        self.df[self.id_col] = self.df[self.id_col].astype(\"string\")\n",
    "        # drop duplicates\n",
    "        self.df.drop_duplicates(subset=[self.id_col], inplace=True)\n",
    "        self.unique_ks = np.unique(df['Section'])\n",
    "        self.exclude_authors = ['cnn', 'CNN']\n",
    "        self.parse_func_dict = {\n",
    "            'Keywords': self.parse_keywords,\n",
    "            'Author': self.parse_authors,\n",
    "            'Date published': self.parse_date, \n",
    "            'Section': self.parse_section,\n",
    "            'Category': self.parse_categories\n",
    "        }\n",
    "        # check if all columns are in the df\n",
    "        for k in self.parse_func_dict.keys():\n",
    "            assert k in self.df.columns, f\"{k} is not in the df\"\n",
    "        self.build_graph()\n",
    "\n",
    "    def build_graph(self):\n",
    "        self.G = BipartiteGraphDict()\n",
    "        Knodes_dict = {}\n",
    "        edges_dict = {}\n",
    "        parse_infor_dict = {}\n",
    "        for k in self.parse_func_dict.keys():\n",
    "            Knodes_dict[k] = []\n",
    "            edges_dict[k] = []\n",
    "            parse_infor_dict[k] = self.df[k].map(self.parse_func_dict[k])\n",
    "\n",
    "        for idx in tqdm(range(self.df.shape[0])):\n",
    "            document_id = self.df[self.id_col].iloc[idx]\n",
    "            for k in self.parse_func_dict.keys():\n",
    "                Knodes_dict[k], edges_dict[k] = graph_extend_node_edge(idx, parse_infor_dict[k], k, Knodes_dict[k], document_id, edges_dict[k])\n",
    "\n",
    "        self.G.add_data_nodes(set(self.df[self.id_col].tolist()))\n",
    "        for k in self.parse_func_dict.keys():\n",
    "            Knodes_dict[k] = set(Knodes_dict[k])\n",
    "            edges_dict[k] = set(edges_dict[k])\n",
    "            self.G.add_keyword_nodes(Knodes_dict[k])\n",
    "            self.G.add_raw_edges(edges_dict[k])\n",
    "        \n",
    "        self.Knodes_dict = Knodes_dict\n",
    "        self.edges_dict = edges_dict\n",
    "\n",
    "    def parse_keywords(self, key_str):\n",
    "        exclude_k = self.unique_ks\n",
    "        def parse_colon(kstr):\n",
    "            # parse \"Paris attacks: What you need to know - CNN\", get \"Paris attacks\"\n",
    "            key_l = parse_by_comma[-1].split(\":\")\n",
    "            if len(key_l) > 1:\n",
    "                return key_l[0]\n",
    "            return False\n",
    "        key_list = []\n",
    "        key_str = key_str.lower()\n",
    "        parse_by_comma = key_str.split(\", \")\n",
    "        for k in parse_by_comma:\n",
    "            if \":\" in k:\n",
    "                tmp = parse_colon(k)\n",
    "                if tmp: \n",
    "                    k = tmp\n",
    "                    # print(k)\n",
    "            if k not in exclude_k:\n",
    "                key_list.append(k.replace(\" \", \"-\"))\n",
    "        return key_list\n",
    "\n",
    "    def parse_authors(self, author_str):\n",
    "        '''\n",
    "        This function parses the authors string into a list of authors\n",
    "\n",
    "        args: \n",
    "            - author_str: string of authors\n",
    "        return: list of authors\n",
    "        '''\n",
    "        exclude_list = self.exclude_authors\n",
    "        authors = []\n",
    "        author_str = author_str.lower()\n",
    "        space_to = \"\"\n",
    "        # remove noises\n",
    "        # author_str = author_str.replace(\" \", space_to)\n",
    "        author_str = author_str.replace(\"\\n\", \"\")\n",
    "        parse_by_comma = author_str.split(\", \")\n",
    "        for i, a in enumerate(parse_by_comma):\n",
    "            if 'by' in a:\n",
    "                a = a.split('by')[-1]\n",
    "            # parse by 'and'\n",
    "            if 'and' in a:\n",
    "                al = []\n",
    "                for v in a.split(' and '):\n",
    "                    tmp = v.replace(\" \", space_to)\n",
    "                    if len(tmp)!=0 and (tmp not in exclude_list): \n",
    "                        al.append(tmp)\n",
    "                a = al[:]\n",
    "                        \n",
    "            if type(a) is list:\n",
    "                authors.extend(a)\n",
    "            else:\n",
    "                if len(a.replace(\" \", space_to))!=0:\n",
    "                    if a.replace(\" \", space_to) in exclude_list: continue\n",
    "                    authors.append(a.replace(\" \", space_to))\n",
    "        return authors\n",
    "\n",
    "    def parse_date(self, time_str):\n",
    "        return time_str.split(\" \")[0]\n",
    "    \n",
    "    def parse_section(self, section_str):\n",
    "        return section_str\n",
    "    \n",
    "    def parse_categories(self, cat_str):\n",
    "        return cat_str"
   ]
  },
  {
   "cell_type": "code",
   "execution_count": 146,
   "id": "a8267ee3",
   "metadata": {},
   "outputs": [
    {
     "data": {
      "application/vnd.jupyter.widget-view+json": {
       "model_id": "c3fb6e2bc20d448bbcd864ccc4d5bdec",
       "version_major": 2,
       "version_minor": 0
      },
      "text/plain": [
       "  0%|          | 0/8856 [00:00<?, ?it/s]"
      ]
     },
     "metadata": {},
     "output_type": "display_data"
    }
   ],
   "source": [
    "cnn_news = CnnNewsParser(filter_df)"
   ]
  },
  {
   "cell_type": "code",
   "execution_count": 147,
   "id": "73854279",
   "metadata": {},
   "outputs": [
    {
     "data": {
      "text/plain": [
       "dict_keys(['Keywords', 'Author', 'Date published', 'Section', 'Category'])"
      ]
     },
     "execution_count": 147,
     "metadata": {},
     "output_type": "execute_result"
    }
   ],
   "source": [
    "cnn_news.edges_dict.keys()"
   ]
  },
  {
   "cell_type": "code",
   "execution_count": 85,
   "id": "55526fa5",
   "metadata": {},
   "outputs": [],
   "source": [
    "# cnn_news.edges_dict['Section']"
   ]
  },
  {
   "cell_type": "code",
   "execution_count": 3,
   "id": "a0814b75",
   "metadata": {},
   "outputs": [],
   "source": [
    "sample_weights = {\n",
    "            'Keywords': 3,\n",
    "            'Author': 1,\n",
    "            'Date published': 1,\n",
    "            'Section': 2,\n",
    "            'Category': 2,\n",
    "        }\n",
    "\n",
    "# save as json\n",
    "file = open('../data/cnn_news/keyword_weights.json', 'w')\n",
    "json.dump(sample_weights, file)\n",
    "file.close()"
   ]
  },
  {
   "cell_type": "code",
   "execution_count": null,
   "id": "f901e0fe",
   "metadata": {},
   "outputs": [],
   "source": []
  }
 ],
 "metadata": {
  "kernelspec": {
   "display_name": "Python 3 (ipykernel)",
   "language": "python",
   "name": "python3"
  },
  "language_info": {
   "codemirror_mode": {
    "name": "ipython",
    "version": 3
   },
   "file_extension": ".py",
   "mimetype": "text/x-python",
   "name": "python",
   "nbconvert_exporter": "python",
   "pygments_lexer": "ipython3",
   "version": "3.9.18"
  }
 },
 "nbformat": 4,
 "nbformat_minor": 5
}
