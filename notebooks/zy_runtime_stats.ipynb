{
 "cells": [
  {
   "cell_type": "code",
   "execution_count": 1,
   "id": "137d650f-05ff-4058-8c32-76f54fa40a31",
   "metadata": {},
   "outputs": [],
   "source": [
    "%matplotlib inline\n",
    "\n",
    "import pickle\n",
    "import os\n",
    "import sys\n",
    "import numpy as np\n",
    "import pandas as pd\n",
    "import matplotlib.pyplot as plt"
   ]
  },
  {
   "cell_type": "code",
   "execution_count": 2,
   "id": "d2d98438",
   "metadata": {},
   "outputs": [],
   "source": [
    "'''\n",
    "Note: since chromaDB will cache result, I ran experiments for each search separately. Having one targer method running 1st. \n",
    "So in oen runtime file, the runtimes for 2nd and 3rd search are inaccurate. This is why I have 3 runtime files, and below I am merging them.\n",
    "'''\n",
    "\n",
    "# load pickled data\n",
    "pickle_file = '../zy_testing/runtimeVC.pickle'\n",
    "with open(pickle_file, 'rb') as f:\n",
    "    pickle_data = pickle.load(f)\n",
    "\n",
    "df = pd.DataFrame(pickle_data)\n",
    "\n",
    "pickle_file = '../zy_testing/runtimeHY.pickle'\n",
    "with open(pickle_file, 'rb') as f:\n",
    "    pickle_data = pickle.load(f)\n",
    "hytime = pd.DataFrame(pickle_data)['HYBRID_TIME'].values\n",
    "df['HYBRID_TIME'] = hytime\n",
    "\n",
    "pickle_file = '../zy_testing/runtimeHYW.pickle'\n",
    "with open(pickle_file, 'rb') as f:\n",
    "    pickle_data = pickle.load(f)\n",
    "hywtime = pd.DataFrame(pickle_data)['WEIGHTED_HYBRID_TIME'].values\n",
    "df['WEIGHTED_HYBRID_TIME'] = hywtime\n",
    "\n",
    "df.to_csv('../zy_testing/runtime.csv', index=False)"
   ]
  },
  {
   "cell_type": "code",
   "execution_count": 3,
   "id": "d5dd1ada",
   "metadata": {},
   "outputs": [],
   "source": [
    "mean_vc_time = df['VECTOR_TIME'].mean()\n",
    "mean_hy_time = df['HYBRID_TIME'].mean()\n",
    "mean_hyw_time = df['WEIGHTED_HYBRID_TIME'].mean()"
   ]
  },
  {
   "cell_type": "code",
   "execution_count": 4,
   "id": "c3eae545",
   "metadata": {},
   "outputs": [
    {
     "name": "stdout",
     "output_type": "stream",
     "text": [
      "hybrid is 1.0136359656281722 times slower than vector\n"
     ]
    }
   ],
   "source": [
    "# how many times slower is hybrid than vector?\n",
    "print('hybrid is {} times slower than vector'.format(mean_hy_time/mean_vc_time))"
   ]
  },
  {
   "cell_type": "code",
   "execution_count": 5,
   "id": "1d150c9b",
   "metadata": {},
   "outputs": [
    {
     "name": "stdout",
     "output_type": "stream",
     "text": [
      "weighted hybrid is 2.738688796043593 times slower than vector\n"
     ]
    }
   ],
   "source": [
    "# how many times slower is weighted hybrid than vector?\n",
    "print('weighted hybrid is {} times slower than vector'.format(mean_hyw_time/mean_vc_time))"
   ]
  },
  {
   "cell_type": "code",
   "execution_count": 6,
   "id": "60497195",
   "metadata": {},
   "outputs": [
    {
     "data": {
      "text/html": [
       "<div>\n",
       "<style scoped>\n",
       "    .dataframe tbody tr th:only-of-type {\n",
       "        vertical-align: middle;\n",
       "    }\n",
       "\n",
       "    .dataframe tbody tr th {\n",
       "        vertical-align: top;\n",
       "    }\n",
       "\n",
       "    .dataframe thead th {\n",
       "        text-align: right;\n",
       "    }\n",
       "</style>\n",
       "<table border=\"1\" class=\"dataframe\">\n",
       "  <thead>\n",
       "    <tr style=\"text-align: right;\">\n",
       "      <th></th>\n",
       "      <th>k</th>\n",
       "      <th>gk</th>\n",
       "      <th>VECTOR_TIME</th>\n",
       "      <th>HYBRID_TIME</th>\n",
       "      <th>WEIGHTED_HYBRID_TIME</th>\n",
       "    </tr>\n",
       "  </thead>\n",
       "  <tbody>\n",
       "    <tr>\n",
       "      <th>0</th>\n",
       "      <td>5</td>\n",
       "      <td>3</td>\n",
       "      <td>0.905601</td>\n",
       "      <td>0.966488</td>\n",
       "      <td>0.987754</td>\n",
       "    </tr>\n",
       "    <tr>\n",
       "      <th>1</th>\n",
       "      <td>10</td>\n",
       "      <td>3</td>\n",
       "      <td>0.917868</td>\n",
       "      <td>0.980692</td>\n",
       "      <td>1.005436</td>\n",
       "    </tr>\n",
       "    <tr>\n",
       "      <th>2</th>\n",
       "      <td>10</td>\n",
       "      <td>7</td>\n",
       "      <td>0.913420</td>\n",
       "      <td>0.924024</td>\n",
       "      <td>1.002837</td>\n",
       "    </tr>\n",
       "    <tr>\n",
       "      <th>3</th>\n",
       "      <td>50</td>\n",
       "      <td>15</td>\n",
       "      <td>0.971012</td>\n",
       "      <td>0.948378</td>\n",
       "      <td>1.180129</td>\n",
       "    </tr>\n",
       "    <tr>\n",
       "      <th>4</th>\n",
       "      <td>50</td>\n",
       "      <td>35</td>\n",
       "      <td>0.980644</td>\n",
       "      <td>0.990597</td>\n",
       "      <td>1.233355</td>\n",
       "    </tr>\n",
       "    <tr>\n",
       "      <th>5</th>\n",
       "      <td>100</td>\n",
       "      <td>30</td>\n",
       "      <td>0.989947</td>\n",
       "      <td>1.043369</td>\n",
       "      <td>1.472870</td>\n",
       "    </tr>\n",
       "    <tr>\n",
       "      <th>6</th>\n",
       "      <td>100</td>\n",
       "      <td>70</td>\n",
       "      <td>0.949842</td>\n",
       "      <td>0.942178</td>\n",
       "      <td>1.531486</td>\n",
       "    </tr>\n",
       "    <tr>\n",
       "      <th>7</th>\n",
       "      <td>500</td>\n",
       "      <td>150</td>\n",
       "      <td>1.124662</td>\n",
       "      <td>1.180965</td>\n",
       "      <td>4.214876</td>\n",
       "    </tr>\n",
       "    <tr>\n",
       "      <th>8</th>\n",
       "      <td>500</td>\n",
       "      <td>350</td>\n",
       "      <td>1.124247</td>\n",
       "      <td>1.045591</td>\n",
       "      <td>4.097239</td>\n",
       "    </tr>\n",
       "    <tr>\n",
       "      <th>9</th>\n",
       "      <td>1000</td>\n",
       "      <td>300</td>\n",
       "      <td>1.283531</td>\n",
       "      <td>1.382687</td>\n",
       "      <td>7.401412</td>\n",
       "    </tr>\n",
       "    <tr>\n",
       "      <th>10</th>\n",
       "      <td>1000</td>\n",
       "      <td>700</td>\n",
       "      <td>1.258902</td>\n",
       "      <td>1.170425</td>\n",
       "      <td>7.147547</td>\n",
       "    </tr>\n",
       "  </tbody>\n",
       "</table>\n",
       "</div>"
      ],
      "text/plain": [
       "       k   gk  VECTOR_TIME  HYBRID_TIME  WEIGHTED_HYBRID_TIME\n",
       "0      5    3     0.905601     0.966488              0.987754\n",
       "1     10    3     0.917868     0.980692              1.005436\n",
       "2     10    7     0.913420     0.924024              1.002837\n",
       "3     50   15     0.971012     0.948378              1.180129\n",
       "4     50   35     0.980644     0.990597              1.233355\n",
       "5    100   30     0.989947     1.043369              1.472870\n",
       "6    100   70     0.949842     0.942178              1.531486\n",
       "7    500  150     1.124662     1.180965              4.214876\n",
       "8    500  350     1.124247     1.045591              4.097239\n",
       "9   1000  300     1.283531     1.382687              7.401412\n",
       "10  1000  700     1.258902     1.170425              7.147547"
      ]
     },
     "execution_count": 6,
     "metadata": {},
     "output_type": "execute_result"
    }
   ],
   "source": [
    "df"
   ]
  },
  {
   "cell_type": "code",
   "execution_count": null,
   "id": "985d286e-5275-4840-b3df-b50b0359ca93",
   "metadata": {},
   "outputs": [],
   "source": []
  }
 ],
 "metadata": {
  "kernelspec": {
   "display_name": "Python 3 (ipykernel)",
   "language": "python",
   "name": "python3"
  },
  "language_info": {
   "codemirror_mode": {
    "name": "ipython",
    "version": 3
   },
   "file_extension": ".py",
   "mimetype": "text/x-python",
   "name": "python",
   "nbconvert_exporter": "python",
   "pygments_lexer": "ipython3",
   "version": "3.9.18"
  }
 },
 "nbformat": 4,
 "nbformat_minor": 5
}
