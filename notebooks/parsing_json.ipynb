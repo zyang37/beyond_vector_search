{
 "cells": [
  {
   "cell_type": "code",
   "execution_count": 7,
   "id": "cd12f8c6-92d4-4011-bafd-b4e473cc75dd",
   "metadata": {
    "tags": []
   },
   "outputs": [],
   "source": [
    "import json\n",
    "import numpy as np\n",
    "import pandas as pd\n",
    "from tqdm.auto import tqdm\n",
    "from collections import Counter\n",
    "from multiprocessing.pool import ThreadPool\n",
    "from multiprocessing import Process, Manager, Pool"
   ]
  },
  {
   "cell_type": "code",
   "execution_count": 17,
   "id": "dd9b6245-9379-4b67-9ac8-f4dd06bd1b27",
   "metadata": {
    "tags": []
   },
   "outputs": [],
   "source": [
    "chunks = pd.read_json('../data/arxiv-metadata-oai-snapshot.json', lines=True, chunksize=50000)"
   ]
  },
  {
   "cell_type": "code",
   "execution_count": 24,
   "id": "3a046cf6-77e5-4c7f-8228-13d295d17d16",
   "metadata": {
    "tags": []
   },
   "outputs": [],
   "source": [
    "def parse_authors(author_str):\n",
    "    authors = []\n",
    "    # remove noises\n",
    "    author_str = author_str.replace(\" \", \"\")\n",
    "    author_str = author_str.replace(\"\\n\", \"\")\n",
    "    parse_by_comma = author_str.split(',')\n",
    "    for a in parse_by_comma:\n",
    "        # parse by 'and'\n",
    "        authors.extend(a.split(' and '))\n",
    "    return authors\n",
    "\n",
    "def parse_categories(cat_str):\n",
    "    return cat_str\n",
    "\n",
    "def parse_year(date_str):\n",
    "    return date_str.split('-')[0]\n",
    "\n",
    "def count_name_frequencies(name_list2d):\n",
    "    # Flatten the list of lists into a single list of names\n",
    "    all_names = [name for sublist in name_list2d for name in sublist]\n",
    "    # Use Counter to count the frequency of each name\n",
    "    name_frequencies = Counter(all_names)\n",
    "    return dict(name_frequencies)\n",
    "\n",
    "def merge_add_dict(a, b):\n",
    "    return {key: a.get(key, 0) + b.get(key, 0) for key in set(a) | set(b)}\n",
    "\n",
    "def gather_stats(df):\n",
    "    intermediate_submitter_stats = dict(df['submitter'].value_counts())\n",
    "    intermediate_authors_stats = count_name_frequencies(list(map(parse_authors, df['authors'])))\n",
    "    intermediate_authors_stats = merge_add_dict(intermediate_submitter_stats, intermediate_authors_stats)\n",
    "    intermediate_cat_stats = dict(df['categories'].value_counts())\n",
    "    # intermediate_year_stats = dict(df['update_date'].value_counts())\n",
    "    return intermediate_authors_stats, intermediate_cat_stats"
   ]
  },
  {
   "cell_type": "code",
   "execution_count": 27,
   "id": "f6738cfa-9d2b-40a3-8880-bf075d730e54",
   "metadata": {
    "tags": []
   },
   "outputs": [
    {
     "name": "stdout",
     "output_type": "stream",
     "text": [
      "processed: 50000\n",
      "aut stats =>  201427\n",
      "cat stats =>  7418\n",
      "\n",
      "processed: 100000\n",
      "aut stats =>  345530\n",
      "cat stats =>  11724\n",
      "\n",
      "processed: 150000\n",
      "aut stats =>  466422\n",
      "cat stats =>  15157\n",
      "\n",
      "processed: 200000\n",
      "aut stats =>  572660\n",
      "cat stats =>  18239\n",
      "\n",
      "processed: 250000\n",
      "aut stats =>  671907\n",
      "cat stats =>  21121\n",
      "\n",
      "processed: 300000\n",
      "aut stats =>  763515\n",
      "cat stats =>  23759\n",
      "\n",
      "processed: 350000\n",
      "aut stats =>  846648\n",
      "cat stats =>  26248\n",
      "\n",
      "processed: 400000\n",
      "aut stats =>  926592\n",
      "cat stats =>  28557\n",
      "\n",
      "processed: 450000\n",
      "aut stats =>  1003872\n",
      "cat stats =>  30792\n",
      "\n",
      "processed: 500000\n",
      "aut stats =>  1078814\n",
      "cat stats =>  32852\n",
      "\n",
      "processed: 550000\n",
      "aut stats =>  1150241\n",
      "cat stats =>  34922\n",
      "\n",
      "processed: 600000\n",
      "aut stats =>  1227359\n",
      "cat stats =>  36727\n",
      "\n",
      "processed: 650000\n",
      "aut stats =>  1321304\n",
      "cat stats =>  36963\n",
      "\n",
      "processed: 700000\n",
      "aut stats =>  1394958\n",
      "cat stats =>  37836\n",
      "\n",
      "processed: 750000\n",
      "aut stats =>  1452426\n",
      "cat stats =>  38753\n",
      "\n",
      "processed: 800000\n",
      "aut stats =>  1503576\n",
      "cat stats =>  39743\n",
      "\n",
      "processed: 850000\n",
      "aut stats =>  1539034\n",
      "cat stats =>  39988\n",
      "\n",
      "processed: 900000\n",
      "aut stats =>  1569167\n",
      "cat stats =>  41041\n",
      "\n",
      "processed: 950000\n",
      "aut stats =>  1602725\n",
      "cat stats =>  42603\n",
      "\n",
      "processed: 1000000\n",
      "aut stats =>  1658360\n",
      "cat stats =>  44701\n",
      "\n",
      "processed: 1008545\n",
      "aut stats =>  1664316\n",
      "cat stats =>  44927\n",
      "\n"
     ]
    }
   ],
   "source": [
    "# manager = Manager()\n",
    "\n",
    "# author_dict = manager.dict()\n",
    "# cat_dict = manager.dict()\n",
    "# year_dict = manager.dict()\n",
    "author_dict = {}\n",
    "cat_dict = {}\n",
    "\n",
    "counter = 0\n",
    "for chunk in chunks:\n",
    "    df = chunk\n",
    "    intermediate_authors_stats, intermediate_cat_stats = gather_stats(df)\n",
    "    author_dict = merge_add_dict(author_dict, intermediate_authors_stats)\n",
    "    cat_dict = merge_add_dict(cat_dict, intermediate_cat_stats)\n",
    "    \n",
    "    counter += len(df)\n",
    "    print(\"processed:\", counter)\n",
    "    print(\"aut stats => \", len(author_dict))\n",
    "    print(\"cat stats => \", len(cat_dict))\n",
    "    print()\n",
    "    # break"
   ]
  },
  {
   "cell_type": "code",
   "execution_count": 39,
   "id": "53f64458-03bc-4acf-8b0c-ce900f61e3bb",
   "metadata": {
    "tags": []
   },
   "outputs": [],
   "source": [
    "def sort_dict(dict_data, byval=True, reverse=True):\n",
    "    if byval: idx = 1\n",
    "    else: idx = 0\n",
    "    return dict(sorted(dict_data.items(), key=lambda item: item[idx], reverse=reverse))"
   ]
  },
  {
   "cell_type": "code",
   "execution_count": 43,
   "id": "ac58cdb0-6ef4-44bc-b594-ed9cdb58b7f2",
   "metadata": {},
   "outputs": [],
   "source": [
    "# sort_dict(author_dict)\n",
    "\n",
    "# sort_dict(cat_dict)"
   ]
  },
  {
   "cell_type": "code",
   "execution_count": 45,
   "id": "00a697e1-fde6-4406-bf49-cf281bb4f2da",
   "metadata": {
    "tags": []
   },
   "outputs": [],
   "source": [
    "# # Convert dictionary to JSON formatted string\n",
    "# json_data = json.dumps(author_dict, indent=4)\n",
    "\n",
    "# # Writing JSON data to a file\n",
    "# with open('../data/author_stats.json', 'w') as file:\n",
    "#     file.write(json_data)"
   ]
  },
  {
   "cell_type": "code",
   "execution_count": null,
   "id": "e70e5ae7-7b60-456c-8a6c-840207dc0267",
   "metadata": {},
   "outputs": [],
   "source": []
  }
 ],
 "metadata": {
  "kernelspec": {
   "display_name": "Python 3 (ipykernel)",
   "language": "python",
   "name": "python3"
  },
  "language_info": {
   "codemirror_mode": {
    "name": "ipython",
    "version": 3
   },
   "file_extension": ".py",
   "mimetype": "text/x-python",
   "name": "python",
   "nbconvert_exporter": "python",
   "pygments_lexer": "ipython3",
   "version": "3.9.18"
  }
 },
 "nbformat": 4,
 "nbformat_minor": 5
}
