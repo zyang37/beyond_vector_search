{
 "cells": [
  {
   "cell_type": "code",
   "execution_count": null,
   "id": "cd12f8c6-92d4-4011-bafd-b4e473cc75dd",
   "metadata": {
    "tags": []
   },
   "outputs": [],
   "source": [
    "%load_ext autoreload\n",
    "%autoreload 2\n",
    "\n",
    "import json\n",
    "import numpy as np\n",
    "import pandas as pd\n",
    "from tqdm.auto import tqdm\n",
    "from multiprocessing.pool import ThreadPool\n",
    "from multiprocessing import Process, Manager, Pool\n",
    "from shared_funcs import gather_stats, merge_add_dict"
   ]
  },
  {
   "cell_type": "code",
   "execution_count": null,
   "id": "dd9b6245-9379-4b67-9ac8-f4dd06bd1b27",
   "metadata": {
    "tags": []
   },
   "outputs": [],
   "source": [
    "chunks = pd.read_json('../data/arxiv-metadata-oai-snapshot.json', lines=True, chunksize=50000)"
   ]
  },
  {
   "cell_type": "code",
   "execution_count": null,
   "id": "3a046cf6-77e5-4c7f-8228-13d295d17d16",
   "metadata": {
    "tags": []
   },
   "outputs": [],
   "source": [
    "def parse_authors(author_str):\n",
    "    authors = []\n",
    "    # remove noises\n",
    "    author_str = author_str.replace(\" \", \"\")\n",
    "    author_str = author_str.replace(\"\\n\", \"\")\n",
    "    parse_by_comma = author_str.split(',')\n",
    "    for a in parse_by_comma:\n",
    "        # parse by 'and'\n",
    "        authors.extend(a.split(' and '))\n",
    "    return authors\n",
    "\n",
    "def parse_categories(cat_str):\n",
    "    return cat_str\n",
    "\n",
    "def parse_year(date_str):\n",
    "    return date_str.split('-')[0]\n",
    "\n",
    "def count_name_frequencies(name_list2d):\n",
    "    # Flatten the list of lists into a single list of names\n",
    "    all_names = [name for sublist in name_list2d for name in sublist]\n",
    "    # Use Counter to count the frequency of each name\n",
    "    name_frequencies = Counter(all_names)\n",
    "    return dict(name_frequencies)\n",
    "\n",
    "def merge_add_dict(a, b):\n",
    "    return {key: a.get(key, 0) + b.get(key, 0) for key in set(a) | set(b)}\n",
    "\n",
    "def gather_stats(df):\n",
    "    intermediate_submitter_stats = dict(df['submitter'].value_counts())\n",
    "    intermediate_authors_stats = count_name_frequencies(list(map(parse_authors, df['authors'])))\n",
    "    # intermediate_authors_stats = merge_add_dict(intermediate_submitter_stats, intermediate_authors_stats)\n",
    "    intermediate_cat_stats = dict(df['categories'].value_counts())\n",
    "    intermediate_jou_stats = dict(df['journal-ref'].value_counts())\n",
    "    # intermediate_year_stats = dict(df['update_date'].value_counts())\n",
    "    return intermediate_authors_stats, intermediate_cat_stats, intermediate_jou_stats"
   ]
  },
  {
   "cell_type": "code",
   "execution_count": null,
   "id": "fce73d0e-f263-4a08-b63d-10e989ae208d",
   "metadata": {
    "tags": []
   },
   "outputs": [],
   "source": [
    "# df['journal-ref']"
   ]
  },
  {
   "cell_type": "code",
   "execution_count": null,
   "id": "f6738cfa-9d2b-40a3-8880-bf075d730e54",
   "metadata": {
    "tags": []
   },
   "outputs": [],
   "source": [
    "# manager = Manager()\n",
    "\n",
    "# author_dict = manager.dict()\n",
    "# cat_dict = manager.dict()\n",
    "# year_dict = manager.dict()\n",
    "author_dict = {}\n",
    "cat_dict = {}\n",
    "journal_dcit = {}\n",
    "\n",
    "counter = 0\n",
    "for chunk in chunks:\n",
    "    df = chunk\n",
    "    intermediate_authors_stats, intermediate_cat_stats, intermediate_jou_stats = gather_stats(df)\n",
    "    author_dict = merge_add_dict(author_dict, intermediate_authors_stats)\n",
    "    cat_dict = merge_add_dict(cat_dict, intermediate_cat_stats)\n",
    "    journal_dcit = merge_add_dict(journal_dcit, intermediate_jou_stats)\n",
    "    \n",
    "    counter += len(df)\n",
    "    print(\"processed:\", counter)\n",
    "    print(\"aut stats => \", len(author_dict))\n",
    "    print(\"cat stats => \", len(cat_dict))\n",
    "    print()\n",
    "    # break"
   ]
  },
  {
   "cell_type": "code",
   "execution_count": null,
   "id": "53f64458-03bc-4acf-8b0c-ce900f61e3bb",
   "metadata": {
    "tags": []
   },
   "outputs": [],
   "source": [
    "def sort_dict(dict_data, byval=True, reverse=True):\n",
    "    if byval: idx = 1\n",
    "    else: idx = 0\n",
    "    return dict(sorted(dict_data.items(), key=lambda item: item[idx], reverse=reverse))"
   ]
  },
  {
   "cell_type": "code",
   "execution_count": null,
   "id": "ac58cdb0-6ef4-44bc-b594-ed9cdb58b7f2",
   "metadata": {},
   "outputs": [],
   "source": [
    "author_dict = sort_dict(author_dict)\n",
    "cat_dict = sort_dict(cat_dict)\n",
    "journal_dcit = sort_dict(journal_dcit)"
   ]
  },
  {
   "cell_type": "code",
   "execution_count": null,
   "id": "00a697e1-fde6-4406-bf49-cf281bb4f2da",
   "metadata": {
    "tags": []
   },
   "outputs": [],
   "source": [
    "upto = 1000\n",
    "counter = 0\n",
    "for k, v in author_dict.items():\n",
    "    # if len(k)>30: continue\n",
    "    counter+=1\n",
    "    print(\"{:20} : {}\".format(k.replace(\"\\n\", \"\"), v))\n",
    "    if counter==upto: break"
   ]
  },
  {
   "cell_type": "code",
   "execution_count": null,
   "id": "e70e5ae7-7b60-456c-8a6c-840207dc0267",
   "metadata": {},
   "outputs": [],
   "source": []
  }
 ],
 "metadata": {
  "kernelspec": {
   "display_name": "Python 3 (ipykernel)",
   "language": "python",
   "name": "python3"
  },
  "language_info": {
   "codemirror_mode": {
    "name": "ipython",
    "version": 3
   },
   "file_extension": ".py",
   "mimetype": "text/x-python",
   "name": "python",
   "nbconvert_exporter": "python",
   "pygments_lexer": "ipython3",
   "version": "3.9.18"
  }
 },
 "nbformat": 4,
 "nbformat_minor": 5
}
