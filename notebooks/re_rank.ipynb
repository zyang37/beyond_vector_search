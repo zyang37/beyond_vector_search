{
 "cells": [
  {
   "cell_type": "code",
   "execution_count": 8,
   "id": "f42442e9-7811-4d24-8f11-f7519eaf4584",
   "metadata": {},
   "outputs": [
    {
     "data": {
      "text/plain": [
       "[Collection(name=cnn_headline),\n",
       " Collection(name=arxiv_title),\n",
       " Collection(name=arxiv_abstract),\n",
       " Collection(name=wiki_plot),\n",
       " Collection(name=wiki_plot_summary),\n",
       " Collection(name=cnn_article)]"
      ]
     },
     "execution_count": 8,
     "metadata": {},
     "output_type": "execute_result"
    }
   ],
   "source": [
    "%matplotlib inline\n",
    "\n",
    "import sys\n",
    "import random\n",
    "import pickle\n",
    "import chromadb\n",
    "import numpy as np\n",
    "from pprint import pprint\n",
    "from tqdm.auto import tqdm\n",
    "from matplotlib import pyplot as plt\n",
    "import networkx as nx\n",
    "import json\n",
    "from pyvis.network import Network\n",
    "\n",
    "sys.path.append(\"../\")\n",
    "from utils.vector_search_utils import *\n",
    "from utils.parse_arxiv import *\n",
    "from compute_metrics import batch_compute_percent_include\n",
    "\n",
    "chroma_client = chromadb.PersistentClient(path=\"../data/chroma_dbs/\")\n",
    "chroma_client.list_collections()"
   ]
  },
  {
   "cell_type": "code",
   "execution_count": 11,
   "id": "e94bc8b0",
   "metadata": {},
   "outputs": [],
   "source": [
    "test_coll = chroma_client.get_collection(\"arxiv_title\")\n",
    "gt_coll = chroma_client.get_collection(\"arxiv_abstract\")\n",
    "\n",
    "# read workload csv\n",
    "workload_csv = \"../data/arxiv/arxiv_workloads/pn1000_n1.csv\"\n",
    "workload_df = pd.read_csv(workload_csv)\n",
    "\n",
    "text_queries = workload_df[\"query\"].tolist()"
   ]
  },
  {
   "cell_type": "code",
   "execution_count": 16,
   "id": "c6515690",
   "metadata": {},
   "outputs": [
    {
     "name": "stderr",
     "output_type": "stream",
     "text": [
      "100%|██████████| 10/10 [00:10<00:00,  1.08s/it]\n",
      "100%|██████████| 10/10 [00:10<00:00,  1.06s/it]\n"
     ]
    }
   ],
   "source": [
    "k = 10\n",
    "test_k = k \n",
    "\n",
    "gt_res = vector_search(coll=gt_coll, text_queries=text_queries, k=k, batch_size=100)\n",
    "test_res = vector_search(coll=test_coll, text_queries=text_queries, k=test_k, batch_size=100)"
   ]
  },
  {
   "cell_type": "code",
   "execution_count": 23,
   "id": "87db26be",
   "metadata": {},
   "outputs": [],
   "source": [
    "def exp(gt_coll, test_coll, k, kps, text_queries, gt_res, test_res):\n",
    "    mean_recalls = []\n",
    "    gt_res = vector_search(coll=gt_coll, text_queries=text_queries, k=k, batch_size=100)\n",
    "    for kp in kps:\n",
    "        # increase test k\n",
    "        test_k = int( (1 + kp) * k)\n",
    "        test_res = vector_search(coll=test_coll, text_queries=text_queries, k=test_k, batch_size=100)\n",
    "        recalls = batch_compute_percent_include(gt_res, test_res)\n",
    "        mean_recalls.append(np.mean(recalls))\n",
    "    return mean_recalls"
   ]
  },
  {
   "cell_type": "code",
   "execution_count": 29,
   "id": "3f7ab485",
   "metadata": {},
   "outputs": [
    {
     "name": "stderr",
     "output_type": "stream",
     "text": [
      "100%|██████████| 10/10 [00:10<00:00,  1.03s/it]\n",
      " 50%|█████     | 5/10 [00:05<00:05,  1.05s/it]"
     ]
    }
   ],
   "source": [
    "# make plot mean-recalls vs. % of extra k (0 to 100% increase)\n",
    "ks = [5, 10, 50, 100, 500]\n",
    "kps = np.arange(0, 1.2, 0.2)\n",
    "\n",
    "mean_recall_dict = {}\n",
    "for k in ks:\n",
    "    mean_recalls = exp(gt_coll, test_coll, k, kps, text_queries, gt_res, test_res)\n",
    "    mean_recall_dict[k] = mean_recalls"
   ]
  },
  {
   "cell_type": "code",
   "execution_count": 28,
   "id": "88ab56a5",
   "metadata": {},
   "outputs": [
    {
     "data": {
      "text/plain": [
       "array([0. , 0.2, 0.4, 0.6, 0.8, 1. ])"
      ]
     },
     "execution_count": 28,
     "metadata": {},
     "output_type": "execute_result"
    }
   ],
   "source": [
    "# plot\n",
    "# plt.plot(kps, mean_recalls)"
   ]
  },
  {
   "cell_type": "code",
   "execution_count": 26,
   "id": "626662bd",
   "metadata": {},
   "outputs": [
    {
     "data": {
      "text/plain": [
       "[0.254,\n",
       " 0.254,\n",
       " 0.2786,\n",
       " 0.2786,\n",
       " 0.302,\n",
       " 0.302,\n",
       " 0.323,\n",
       " 0.323,\n",
       " 0.34020000000000006,\n",
       " 0.34020000000000006,\n",
       " 0.355]"
      ]
     },
     "execution_count": 26,
     "metadata": {},
     "output_type": "execute_result"
    }
   ],
   "source": [
    "mean_recalls"
   ]
  },
  {
   "cell_type": "code",
   "execution_count": null,
   "id": "3343c819",
   "metadata": {},
   "outputs": [],
   "source": []
  },
  {
   "cell_type": "markdown",
   "id": "19c88f38-fa91-4473-87f3-0cbd24a081f4",
   "metadata": {},
   "source": [
    "# create_random_adjacency_matrix"
   ]
  },
  {
   "cell_type": "code",
   "execution_count": null,
   "id": "e90194ef",
   "metadata": {},
   "outputs": [],
   "source": [
    "# create a random adjacency matrix (graph), user can also specify their numbers of random edges\n",
    "def create_random_adjacency_matrix(n, num_edges=None):\n",
    "    adj = np.zeros((n, n))\n",
    "    for i in range(n):\n",
    "        for j in range(i+1, n):\n",
    "            if random.random() < 0.5:\n",
    "                adj[i, j] = 1\n",
    "                adj[j, i] = 1\n",
    "    if num_edges is not None:\n",
    "        edges = np.argwhere(adj == 1)\n",
    "        if len(edges) > num_edges:\n",
    "            edges = random.sample(list(edges), num_edges)\n",
    "            adj = np.zeros((n, n))\n",
    "            for i, j in edges:\n",
    "                adj[i, j] = 1\n",
    "                adj[j, i] = 1\n",
    "    return adj\n",
    "\n",
    "# a func take in an adjacency matrix and return eigenvalues and eigenvectors\n",
    "def get_eigen(adj):\n",
    "    eigenvalues, eigenvectors = np.linalg.eig(adj)\n",
    "    return eigenvalues, eigenvectors"
   ]
  },
  {
   "cell_type": "code",
   "execution_count": null,
   "id": "5f3af2fa",
   "metadata": {},
   "outputs": [],
   "source": [
    "g = create_random_adjacency_matrix(10, 10)\n",
    "# print(g)\n",
    "# print()\n",
    "eigenvalues, eigenvectors = get_eigen(g)\n",
    "# print(eigenvalues.sum())\n",
    "# print(eigenvectors)\n",
    "\n",
    "# make a plot of eigenvalues vs. number of edges (0 to 100, step 10)\n",
    "n = 100\n",
    "num_edges = []\n",
    "eigenvalues_sum = []\n",
    "for ne in range(0, 1000, 20):\n",
    "    num_edges.append(ne)\n",
    "    # print(num_edges)\n",
    "    g = create_random_adjacency_matrix(n, ne)\n",
    "    eigenvalues, eigenvectors = get_eigen(g)\n",
    "    eigenvalues_sum.append(eigenvalues.max())\n",
    "    # print(eigenvalues.sum())\n",
    "\n",
    "plt.plot(num_edges, eigenvalues_sum)\n",
    "plt.xlabel('Number of edges')\n",
    "plt.ylabel('MAX Eigenvalues')\n",
    "plt.title('Eigenvalues vs. number of edges (graph size = {}x{})'.format(n,n))\n",
    "plt.show()"
   ]
  },
  {
   "cell_type": "code",
   "execution_count": null,
   "id": "d163c01f",
   "metadata": {},
   "outputs": [],
   "source": [
    " # load pickle\n",
    "g_data = pickle.load(open('../data/arxiv/graph.pickle', 'rb'))\n",
    "g_data.data_dict['id_1009.5145']"
   ]
  },
  {
   "cell_type": "code",
   "execution_count": null,
   "id": "6b2cf707",
   "metadata": {},
   "outputs": [],
   "source": [
    "G = nx.Graph()\n",
    "G.add_nodes_from([(2, {\"color\": \"red\"}), (3, {\"color\": \"blue\"}), (4, {\"color\": \"green\"})])\n",
    "colors = [G.nodes[n]['color'] for n in G.nodes]\n",
    "print(colors)\n",
    "\n",
    "# nx.draw(G, with_labels=True, node_color=colors)"
   ]
  },
  {
   "cell_type": "code",
   "execution_count": null,
   "id": "d5a6f09f",
   "metadata": {},
   "outputs": [],
   "source": [
    "# G.keyword_dict.keys()\n",
    "\n",
    "# a func take in a list and return all combinations of 2 elements, do not use list comprehension\n",
    "def get_pair_combinations(l):\n",
    "    result = []\n",
    "    for i in range(len(l)):\n",
    "        try: \n",
    "            result.append((l[i], l[i+1]))\n",
    "        except:\n",
    "            result.append((l[i], l[0]))\n",
    "        # for j in range(i+1, len(l)):\n",
    "        #     result.append((l[i], l[j]))\n",
    "    return result"
   ]
  },
  {
   "cell_type": "code",
   "execution_count": null,
   "id": "322f2a73",
   "metadata": {},
   "outputs": [],
   "source": [
    "class MetadataGraph:\n",
    "    def __init__(self):\n",
    "        self.G = nx.Graph()\n",
    "        self.metadata_nodes = []\n",
    "\n",
    "    def update_one(self, metadata_set):\n",
    "        self.add_data_nodes(metadata_set)\n",
    "        self.connect_edges(metadata_set)\n",
    "\n",
    "    def add_data_nodes(self, metadata_set):\n",
    "        metadata_list = list(metadata_set)\n",
    "        # color hex code random generator\n",
    "        random_color = \"#{:06x}\".format(random.randint(0, 0xFFFFFF))\n",
    "\n",
    "        # construct a list of tuples, each tuple is a node and its attributes: (node, {attr1: val1, attr2: val2, ...})\n",
    "        metadata_nodes_with_attrs = []\n",
    "        for md in metadata_list:\n",
    "            metadata_nodes_with_attrs.append((md, {\"color\": random_color}))\n",
    "\n",
    "        self.G.add_nodes_from(metadata_nodes_with_attrs)\n",
    "        self.metadata_nodes.extend(metadata_list)\n",
    "\n",
    "    def connect_edges(self, metadata_set):\n",
    "        metadata_list = list(metadata_set)\n",
    "        edge_list = get_pair_combinations(metadata_list)\n",
    "        self.G.add_edges_from(edge_list)\n",
    "\n",
    "    def get_adjacency_matrix(self):\n",
    "        return nx.adjacency_matrix(self.G).todense()\n",
    "    \n",
    "    def get_laplacian_matrix(self, normalized=False):\n",
    "        if normalized:\n",
    "            return nx.normalized_laplacian_matrix(self.G).todense()\n",
    "        \n",
    "        return nx.laplacian_matrix(self.G).todense()\n",
    "    \n",
    "    def draw(self, with_labels=False, node_size=15, alpha=0.85, subplot_ax=None, color_scheme=None):\n",
    "        if color_scheme==None:\n",
    "            colors = [self.G.nodes[n]['color'] for n in self.G.nodes]\n",
    "        else:\n",
    "            colors = color_scheme\n",
    "        nx.draw(self.G, with_labels=with_labels, node_color=colors, node_size=node_size, pos=nx.spring_layout(self.G), alpha=alpha, ax=subplot_ax)"
   ]
  },
  {
   "cell_type": "markdown",
   "id": "d06d2973",
   "metadata": {},
   "source": [
    "# Color scheme\n",
    "\n",
    "- color by metadata types"
   ]
  },
  {
   "cell_type": "code",
   "execution_count": null,
   "id": "86d44015",
   "metadata": {},
   "outputs": [],
   "source": [
    "def get_cat_from_keyword(keyword):\n",
    "    return keyword.split(':')[0]\n",
    "\n",
    "def color_scheme_gen(num):\n",
    "    '''\n",
    "    Generate a list of random color hex codes, each code is a string. \n",
    "    '''\n",
    "    color_list = []\n",
    "    for i in range(num):\n",
    "        color_list.append(\"#{:06x}\".format(random.randint(0, 0xFFFFFF)))\n",
    "    return color_list\n",
    "\n",
    "def plot_color_scheme(color_list, text_list=None):\n",
    "    '''\n",
    "    Plot the color scheme, each color is a hex code string. horizontal color bars with text after each bar.\n",
    "\n",
    "    Args:\n",
    "        - color_list: list of color hex codes\n",
    "        - text_list: list of text strings, each string is the name of the color\n",
    "    '''\n",
    "    height = 0.9\n",
    "    width = 0.6\n",
    "\n",
    "    fig, ax = plt.subplots(figsize=(3.5, 2.5))\n",
    "    for i, c in enumerate(color_list):\n",
    "        ax.add_patch(plt.Rectangle((0, i), width, height, color=c))\n",
    "    \n",
    "    if text_list is not None:\n",
    "        for i, t in enumerate(text_list):\n",
    "            ax.text(width*1.02, i+0.5*height, t, ha='left', va='center', fontsize=9, color='black')\n",
    "        \n",
    "    ax.set_ylim(0, len(color_list))\n",
    "    # ax.set_xlim(0, 1)\n",
    "    ax.axis('off')\n",
    "    plt.tight_layout()\n",
    "    plt.show()\n",
    "\n",
    "\n",
    "arxiv_meta_cats = ['author', 'journal', 'category', 'year']\n",
    "num = len(arxiv_meta_cats)\n",
    "color_list = color_scheme_gen(num)\n",
    "color_dict = {m:c for m, c in zip(arxiv_meta_cats, color_list)}\n",
    "plot_color_scheme(color_list, arxiv_meta_cats)"
   ]
  },
  {
   "cell_type": "code",
   "execution_count": null,
   "id": "a492f351",
   "metadata": {},
   "outputs": [],
   "source": [
    "# keys = random.sample(list(g_data.data_dict.keys()), 10)\n",
    "# g_data.data_dict[keys[0]]\n",
    "\n",
    "# color_dict"
   ]
  },
  {
   "cell_type": "code",
   "execution_count": null,
   "id": "00f3b1b4-0330-413f-80b3-d35dd4b6f9ec",
   "metadata": {},
   "outputs": [],
   "source": [
    "# all_meta_cats = list(map(get_cat_from_keyword, list(mg.G.nodes)))\n",
    "# all_meta_colors = list(map(color_dict.get, all_meta_cats))"
   ]
  },
  {
   "cell_type": "code",
   "execution_count": null,
   "id": "2e99785a-f77b-4b42-9a1c-d9feeab67591",
   "metadata": {},
   "outputs": [],
   "source": [
    "# all_meta_colors[:10]"
   ]
  },
  {
   "cell_type": "code",
   "execution_count": null,
   "id": "b8961140",
   "metadata": {},
   "outputs": [],
   "source": [
    "# random pick keys \n",
    "keys = random.sample(list(g_data.data_dict.keys()), 10)\n",
    "\n",
    "# test the class\n",
    "mg = MetadataGraph()\n",
    "\n",
    "for k in keys:\n",
    "    print(\"add {}\".format(k))\n",
    "    mg.update_one(g_data.data_dict[k])\n",
    "\n",
    "    # meta color\n",
    "    all_meta_cats = list(map(get_cat_from_keyword, list(mg.G.nodes)))\n",
    "    all_meta_colors = list(map(color_dict.get, all_meta_cats))\n",
    "    \n",
    "    plt.figure(figsize=(4.5, 3))\n",
    "    # mg.draw(color_scheme=all_meta_colors)\n",
    "    mg.draw()\n",
    "    plt.show()\n",
    "    \n",
    "nt = Network('700px', '900px', notebook=True)\n",
    "nt.from_nx(mg.G)\n",
    "nt.toggle_physics(True)\n",
    "nt.show('nx.html')"
   ]
  },
  {
   "cell_type": "code",
   "execution_count": null,
   "id": "454f1d6a",
   "metadata": {},
   "outputs": [],
   "source": [
    "# pprint(mg.G.edges())"
   ]
  },
  {
   "cell_type": "code",
   "execution_count": null,
   "id": "5c1e2895",
   "metadata": {},
   "outputs": [],
   "source": [
    "# g_data.data_dict['id_2308.02657']"
   ]
  },
  {
   "cell_type": "code",
   "execution_count": null,
   "id": "6edebd6f",
   "metadata": {},
   "outputs": [],
   "source": [
    "# mg.G.nodes['category:cs.IT']"
   ]
  },
  {
   "cell_type": "markdown",
   "id": "04829115",
   "metadata": {},
   "source": [
    "# ChromaDB"
   ]
  },
  {
   "cell_type": "code",
   "execution_count": null,
   "id": "af768bf2",
   "metadata": {},
   "outputs": [],
   "source": [
    "# chroma_client = chromadb.PersistentClient(path=\"../data/chroma_dbs/\")\n",
    "# chroma_client.list_collections()"
   ]
  },
  {
   "cell_type": "code",
   "execution_count": null,
   "id": "764f589a",
   "metadata": {},
   "outputs": [],
   "source": [
    "G_data = pickle.load(open('../data/arxiv/graph.pickle', 'rb'))\n",
    "\n",
    "# read json result file\n",
    "results = json.load(open('../data/arxiv/arxiv_workloads/res/k100_gk20_pn50_n20.json', 'r'))\n",
    "results['1'].keys()"
   ]
  },
  {
   "cell_type": "code",
   "execution_count": null,
   "id": "f3d85dea",
   "metadata": {},
   "outputs": [],
   "source": [
    "def remove_id_from_list(id_list, id_to_remove):\n",
    "    return [id for id in id_list if id != id_to_remove]\n",
    "\n",
    "def random_paper_id_swap(id_list, id_pool, num, from_end=True, random_=None):\n",
    "    '''\n",
    "    Randomly swap paper ids in the id_list with ids in the id_pool (not in the id_list) without replacement.\n",
    "\n",
    "    args:\n",
    "        - id_list: list of paper ids\n",
    "        - id_pool: list of paper ids (not in the id_list)\n",
    "        - num: number of ids to swap\n",
    "        - from_end: if True, swap ids from the end of the id_list, else from the beginning\n",
    "        - random: if True, randomly remove id from id_list, will OVERRIDE from_end args (in development)\n",
    "    '''\n",
    "    if num > len(id_pool) or num==0:\n",
    "        return id_list\n",
    "\n",
    "    # randomly pick num of ids from id_pool\n",
    "    swap_ids = random.sample(id_pool, num)\n",
    "\n",
    "    if random_ is None:\n",
    "        if from_end:\n",
    "            # remove num of ids from the end of id_list\n",
    "            id_list = id_list[:-num]\n",
    "            id_list.extend(swap_ids)\n",
    "        else:\n",
    "            # remove num of ids from the beginning of id_list\n",
    "            id_list = id_list[num:]\n",
    "            id_list = swap_ids + id_list\n",
    "    else:\n",
    "        # randomly remove num ids from id_list, and insert swap_ids\n",
    "        raise NotImplementedError\n",
    "    \n",
    "    return id_list"
   ]
  },
  {
   "cell_type": "code",
   "execution_count": null,
   "id": "4da6590f",
   "metadata": {},
   "outputs": [],
   "source": [
    "paper_id_pool = list(G_data.data_dict.keys())"
   ]
  },
  {
   "cell_type": "code",
   "execution_count": null,
   "id": "3c6168ab",
   "metadata": {},
   "outputs": [],
   "source": [
    "sample_res = results['0']['arxiv_abstract']\n",
    "\n",
    "good_recall_mg = MetadataGraph()\n",
    "for k in tqdm(sample_res):\n",
    "    good_recall_mg.update_one(g_data.data_dict[k])"
   ]
  },
  {
   "cell_type": "code",
   "execution_count": null,
   "id": "c2d81cd2",
   "metadata": {},
   "outputs": [],
   "source": [
    "plt.figure(figsize=(4.5, 3))\n",
    "all_meta_cats = list(map(get_cat_from_keyword, list(good_recall_mg.G.nodes)))\n",
    "all_meta_colors = list(map(color_dict.get, all_meta_cats))\n",
    "# good_recall_mg.draw(node_size=13, alpha=0.75, color_scheme=all_meta_colors)\n",
    "# plt.show()\n",
    "\n",
    "# get eigenvalues for the laplacian matrix\n",
    "eigenvalues, eigenvectors = get_eigen(good_recall_mg.get_laplacian_matrix(normalized=True))\n",
    "print(eigenvalues.real.max())\n",
    "\n",
    "nt = Network('700px', '900px', notebook=True)\n",
    "nt.from_nx(good_recall_mg.G)\n",
    "nt.toggle_physics(True)\n",
    "# nt.show('nx.html')"
   ]
  },
  {
   "cell_type": "code",
   "execution_count": null,
   "id": "140a6001",
   "metadata": {},
   "outputs": [],
   "source": [
    "# nt = Network('1000px', '1000px', notebook=True)\n",
    "# nt.from_nx(good_recall_mg.G)\n",
    "# nt.toggle_physics(True)\n",
    "# nt.show('nx.html')"
   ]
  },
  {
   "cell_type": "code",
   "execution_count": null,
   "id": "836ba4cf",
   "metadata": {},
   "outputs": [],
   "source": [
    "swapped_res = random_paper_id_swap(sample_res, remove_id_from_list(paper_id_pool, sample_res), 99, from_end=True)\n",
    "bad_recall_mg = MetadataGraph()\n",
    "for k in swapped_res:\n",
    "    bad_recall_mg.update_one(g_data.data_dict[k])\n",
    "\n",
    "bad_eigenvalues, bad_eigenvectors = get_eigen(bad_recall_mg.get_laplacian_matrix(normalized=True))\n",
    "\n",
    "# plot good recall plot and bad recall plot side by side\n",
    "fig, ax = plt.subplots(1, 2, figsize=(13, 5))\n",
    "good_recall_mg.draw(node_size=10, alpha=0.7, subplot_ax=ax[0])\n",
    "bad_recall_mg.draw(node_size=10, alpha=0.7, subplot_ax=ax[1])\n",
    "ax[0].set_title('100% Recall (Eig = {:.3f})'.format(eigenvalues.real.max()))\n",
    "ax[1].set_title('1% Recall (Eig = {:.3f})'.format(bad_eigenvalues.real.max()))\n",
    "plt.show()"
   ]
  },
  {
   "cell_type": "code",
   "execution_count": null,
   "id": "5ff2b02f",
   "metadata": {},
   "outputs": [],
   "source": [
    "recalls = []\n",
    "numbers_of_edges = []\n",
    "adjacency_eigenvalues = []\n",
    "laplacian_eigenvalues = []\n",
    "\n",
    "# given sample res\n",
    "for num in tqdm(range(len(sample_res))):\n",
    "    swapped_res = random_paper_id_swap(sample_res, remove_id_from_list(paper_id_pool, sample_res), num, from_end=True)\n",
    "    mg = MetadataGraph()\n",
    "    for k in swapped_res:\n",
    "        mg.update_one(g_data.data_dict[k])\n",
    "\n",
    "    numbers_of_edges.append(mg.G.number_of_edges())\n",
    "    \n",
    "    eigenvalues, _ = get_eigen(mg.get_adjacency_matrix())\n",
    "    adjacency_eigenvalues.append(eigenvalues.real.max())\n",
    "\n",
    "    eigenvalues, _ = get_eigen(mg.get_laplacian_matrix(normalized=True))\n",
    "    laplacian_eigenvalues.append(eigenvalues.real.max())\n",
    "    # eigenvalues = eigenvalues[eigenvalues > 0]\n",
    "    # real_min_eigen = eigenvalues.real.min()\n",
    "    # laplacian_eigenvalues.append(real_min_eigen)\n",
    "\n",
    "    recalls.append( (len(sample_res) - num) / len(sample_res) )"
   ]
  },
  {
   "cell_type": "code",
   "execution_count": null,
   "id": "4584828b",
   "metadata": {},
   "outputs": [],
   "source": [
    "plt.figure(figsize=(4.5, 3))\n",
    "mg.draw(node_size=13, alpha=0.75)\n",
    "plt.show()"
   ]
  },
  {
   "cell_type": "code",
   "execution_count": null,
   "id": "14c9c62a",
   "metadata": {},
   "outputs": [],
   "source": [
    "# mg.get_laplacian_matrix(normalized=True)\n",
    "# recalls"
   ]
  },
  {
   "cell_type": "code",
   "execution_count": null,
   "id": "015a0fa1",
   "metadata": {},
   "outputs": [],
   "source": [
    "# plot recall vs. number of edges\n",
    "plt.plot(recalls, numbers_of_edges)\n",
    "plt.xlabel('Recall')\n",
    "plt.ylabel('Number of edges')\n",
    "plt.title('Recall vs. number of edges')\n",
    "plt.tight_layout()\n",
    "plt.show()"
   ]
  },
  {
   "cell_type": "code",
   "execution_count": null,
   "id": "90c46cd3",
   "metadata": {},
   "outputs": [],
   "source": [
    "# plot\n",
    "plt.plot(recalls, adjacency_eigenvalues)\n",
    "plt.title('Recall vs. Max Eigenvalues (Adjacency Matrix)')\n",
    "plt.xlabel('Recall')\n",
    "plt.ylabel('Real Max Eigenvalues')\n",
    "plt.tight_layout()\n",
    "plt.show()"
   ]
  },
  {
   "cell_type": "code",
   "execution_count": null,
   "id": "34c517bb",
   "metadata": {},
   "outputs": [],
   "source": [
    "plt.plot(recalls, laplacian_eigenvalues)\n",
    "plt.title('Recall vs. Max Eigenvalues (Laplacian Matrix)')\n",
    "plt.xlabel('Recall')\n",
    "plt.ylabel('Real Max Eigenvalues')\n",
    "plt.tight_layout()\n",
    "plt.show()"
   ]
  },
  {
   "cell_type": "code",
   "execution_count": null,
   "id": "c1031d50",
   "metadata": {},
   "outputs": [],
   "source": [
    "results['20']['query']"
   ]
  },
  {
   "cell_type": "code",
   "execution_count": null,
   "id": "460fa687-1add-406a-8f81-73f10f0df2f5",
   "metadata": {},
   "outputs": [],
   "source": [
    "results['0']['query']"
   ]
  },
  {
   "cell_type": "markdown",
   "id": "0324d63c",
   "metadata": {},
   "source": [
    "# Compute average for more queries"
   ]
  },
  {
   "cell_type": "code",
   "execution_count": null,
   "id": "3e1abd07",
   "metadata": {},
   "outputs": [],
   "source": [
    "# function to save obj to pickle file\n",
    "def save_obj(obj, filename):\n",
    "    with open(filename, 'wb') as f:\n",
    "        pickle.dump(obj, f, pickle.HIGHEST_PROTOCOL)\n",
    "\n",
    "def load_obj(filename):\n",
    "    ret_obj = None\n",
    "    with open(filename, 'rb') as f:\n",
    "        ret_obj = pickle.load(f)\n",
    "    return ret_obj"
   ]
  },
  {
   "cell_type": "code",
   "execution_count": null,
   "id": "1f0d11bb",
   "metadata": {},
   "outputs": [],
   "source": [
    "# In progress...\n",
    "\n",
    "def get_eigens_from_results(sample_res, paper_id_pool, return_full_res=False):    \n",
    "    recalls = []\n",
    "    numbers_of_edges = []\n",
    "    adjacency_eigenvalues = []\n",
    "    laplacian_eigenvalues = []\n",
    "\n",
    "    # storing the full results\n",
    "    full_adjacency_eigenvalues_list = []\n",
    "    full_laplacian_eigenvalues_list = []\n",
    "    \n",
    "    for num in range(len(sample_res)):\n",
    "        swapped_res = random_paper_id_swap(sample_res, remove_id_from_list(paper_id_pool, sample_res), num, from_end=True)\n",
    "        mg = MetadataGraph()\n",
    "        for k in swapped_res:\n",
    "            mg.update_one(g_data.data_dict[k])\n",
    "\n",
    "        numbers_of_edges.append(mg.G.number_of_edges())\n",
    "        \n",
    "        adj_eigenvalues, _ = get_eigen(mg.get_adjacency_matrix())\n",
    "        adjacency_eigenvalues.append(adj_eigenvalues.real.max())\n",
    "\n",
    "        lap_eigenvalues, _ = get_eigen(mg.get_laplacian_matrix(normalized=True))\n",
    "        laplacian_eigenvalues.append(lap_eigenvalues.real.max())\n",
    "        # eigenvalues = eigenvalues[eigenvalues > 0]\n",
    "        # real_min_eigen = eigenvalues.real.min()\n",
    "        # laplacian_eigenvalues.append(real_min_eigen)\n",
    "        recalls.append( (len(sample_res) - num) / len(sample_res) )\n",
    "\n",
    "        if return_full_res:\n",
    "            full_adjacency_eigenvalues_list.append(adj_eigenvalues)\n",
    "            full_laplacian_eigenvalues_list.append(lap_eigenvalues)\n",
    "\n",
    "    if return_full_res:\n",
    "        return recalls, numbers_of_edges, adjacency_eigenvalues, laplacian_eigenvalues, (full_adjacency_eigenvalues_list, full_laplacian_eigenvalues_list)\n",
    "    return recalls, numbers_of_edges, adjacency_eigenvalues, laplacian_eigenvalues"
   ]
  },
  {
   "cell_type": "code",
   "execution_count": null,
   "id": "874d2541",
   "metadata": {},
   "outputs": [],
   "source": [
    "G_data = pickle.load(open('../data/arxiv/graph.pickle', 'rb'))\n",
    "\n",
    "# read json result file\n",
    "results = json.load(open('../data/arxiv/arxiv_workloads/res/k100_gk20_pn50_n20.json', 'r'))\n",
    "paper_id_pool = list(G_data.data_dict.keys())"
   ]
  },
  {
   "cell_type": "code",
   "execution_count": null,
   "id": "9516bd1e",
   "metadata": {},
   "outputs": [],
   "source": [
    "# sample_res = results['0']['arxiv_abstract']\n",
    "recalls_list = []\n",
    "numbers_of_edges = []\n",
    "adjacency_eigenvalues = []\n",
    "laplacian_eigenvalues = []\n",
    "\n",
    "Full_eigenvalue_res = []\n",
    "\n",
    "for index, res_k in tqdm(enumerate(results.keys()), total=len(results.keys())):\n",
    "    sample_res = results[res_k]['arxiv_abstract']\n",
    "\n",
    "    # recalls, edges, adj_eig, lap_eig = get_eigens_from_results(sample_res, paper_id_pool)\n",
    "    recalls, edges, adj_eig, lap_eig, full_res = get_eigens_from_results(sample_res, paper_id_pool, return_full_res=True)\n",
    "    recalls_list.append(recalls)\n",
    "    numbers_of_edges.append(edges)\n",
    "    adjacency_eigenvalues.append(adj_eig)\n",
    "    laplacian_eigenvalues.append(lap_eig)\n",
    "\n",
    "    Full_eigenvalue_res.append(full_res)\n",
    "\n",
    "    if index==3:\n",
    "        break"
   ]
  },
  {
   "cell_type": "code",
   "execution_count": null,
   "id": "fc315c11",
   "metadata": {},
   "outputs": [],
   "source": [
    "# save Full_eigenvalue_res\n",
    "save_obj(Full_eigenvalue_res, '../data/arxiv/arxiv_full_eigenvalue_res.pickle')\n",
    "\n",
    "tmp = load_obj('../data/arxiv/tmp/arxiv_full_eigenvalue_res.pickle')\n",
    "tmp_adj_res, tmp_lap_res = tmp[0]"
   ]
  },
  {
   "cell_type": "code",
   "execution_count": null,
   "id": "cf289d28",
   "metadata": {},
   "outputs": [],
   "source": []
  },
  {
   "cell_type": "code",
   "execution_count": null,
   "id": "e1539c22",
   "metadata": {},
   "outputs": [],
   "source": [
    "# compute avg \n",
    "recalls = np.array(recalls_list)\n",
    "numbers_of_edges = np.array(numbers_of_edges)\n",
    "adjacency_eigenvalues = np.array(adjacency_eigenvalues)\n",
    "laplacian_eigenvalues = np.array(laplacian_eigenvalues)\n",
    "\n",
    "avg_recalls = recalls.mean(axis=0)\n",
    "avg_edges = numbers_of_edges.mean(axis=0)\n",
    "avg_adj_eig = adjacency_eigenvalues.mean(axis=0)\n",
    "avg_lap_eig = laplacian_eigenvalues.mean(axis=0)"
   ]
  },
  {
   "cell_type": "code",
   "execution_count": null,
   "id": "70be5190-cbb0-413a-8861-c2360e02e625",
   "metadata": {},
   "outputs": [],
   "source": [
    "numbers_of_edges.shape"
   ]
  },
  {
   "cell_type": "code",
   "execution_count": null,
   "id": "66ea1af6-824e-4f28-ba51-f10f2f225482",
   "metadata": {},
   "outputs": [],
   "source": [
    "plt.plot(avg_recalls, avg_adj_eig)\n",
    "plt.title('Recall vs. Max Eigenvalues (adj Matrix)')\n",
    "plt.xlabel('Recall')\n",
    "plt.ylabel('Real Max Eigenvalues')\n",
    "plt.tight_layout()\n",
    "# plt.savefig(\"Laplacian_Eigen_k100_gk20_pn50_n20.png\")\n",
    "plt.show()"
   ]
  },
  {
   "cell_type": "code",
   "execution_count": null,
   "id": "7510c700",
   "metadata": {},
   "outputs": [],
   "source": [
    "plt.plot(avg_recalls, avg_lap_eig)\n",
    "plt.title('Recall vs. Max Eigenvalues (Laplacian Matrix)')\n",
    "plt.xlabel('Recall')\n",
    "plt.ylabel('Real Max Eigenvalues')\n",
    "plt.tight_layout()\n",
    "# plt.savefig(\"Laplacian_Eigen_k100_gk20_pn50_n20.png\")\n",
    "plt.show()"
   ]
  },
  {
   "cell_type": "markdown",
   "id": "e7163933-5d22-4617-b929-a6dabe43be97",
   "metadata": {},
   "source": [
    "# Recall vs. Egien runtime\n",
    "\n",
    "Keep adding element to list, will Egienvalue be increasing. \n",
    "\n",
    "Note: Direct comparison with graph that have different numbers of node. Need to normalixation. "
   ]
  },
  {
   "cell_type": "code",
   "execution_count": null,
   "id": "dd8a0b5f-6142-44c0-b653-858b7a42c9b2",
   "metadata": {},
   "outputs": [],
   "source": [
    "def get_eigens_from_results_runtime(sample_res):    \n",
    "    number_of_elements = []\n",
    "    numbers_of_edges = []\n",
    "    numbers_of_nodes = []\n",
    "    adjacency_eigenvalues = []\n",
    "    laplacian_eigenvalues = []\n",
    "    \n",
    "    for num in range(len(sample_res)):\n",
    "        num+=1\n",
    "        # pprint(num)\n",
    "        # only take a subset of the sample_res (num)\n",
    "        partial_data_samples = sample_res[:num]\n",
    "        number_of_elements.append(len(partial_data_samples))\n",
    "        \n",
    "        mg = MetadataGraph()\n",
    "        for k in partial_data_samples:\n",
    "            mg.update_one(g_data.data_dict[k])\n",
    "\n",
    "        numbers_of_edges.append(mg.G.number_of_edges())\n",
    "        numbers_of_nodes.append(mg.G.number_of_nodes())\n",
    "        \n",
    "        eigenvalues, _ = get_eigen(mg.get_adjacency_matrix())\n",
    "        adjacency_eigenvalues.append(eigenvalues.real.max())\n",
    "\n",
    "        eigenvalues, _ = get_eigen(mg.get_laplacian_matrix(normalized=True))\n",
    "        laplacian_eigenvalues.append(eigenvalues.real.max())\n",
    "        # recalls.append( (len(sample_res) - num) / len(sample_res) )\n",
    "        \n",
    "    return number_of_elements, numbers_of_nodes, numbers_of_edges, adjacency_eigenvalues, laplacian_eigenvalues"
   ]
  },
  {
   "cell_type": "code",
   "execution_count": null,
   "id": "51e53940-635f-41f5-a562-9291c734a493",
   "metadata": {},
   "outputs": [],
   "source": [
    "def build_metadata_graph(id_list, old_graph_obj, step=None):\n",
    "    if step==None:\n",
    "        step = len(id_list)\n",
    "        \n",
    "    mg = MetadataGraph()\n",
    "    for k in id_list[:step]:\n",
    "        mg.update_one(old_graph_obj.data_dict[k])\n",
    "    return mg\n",
    "\n",
    "mg = build_metadata_graph(results['10']['arxiv_abstract'], g_data, 5)\n",
    "\n",
    "# eigenvalues, _ = get_eigen(mg.get_laplacian_matrix())\n",
    "# eigenvalues"
   ]
  },
  {
   "cell_type": "code",
   "execution_count": null,
   "id": "d3d0bce0-d9dd-488a-b7ae-82f22d483605",
   "metadata": {},
   "outputs": [],
   "source": [
    "mg.get_adjacency_matrix().shape"
   ]
  },
  {
   "cell_type": "code",
   "execution_count": null,
   "id": "b41f55f7-3f65-47fe-b111-b2bad26367e2",
   "metadata": {},
   "outputs": [],
   "source": [
    "mg.get_laplacian_matrix()"
   ]
  },
  {
   "cell_type": "code",
   "execution_count": null,
   "id": "89b8ceec-892e-48b2-ac25-bbb9062bb8c6",
   "metadata": {},
   "outputs": [],
   "source": [
    "# len(mg.metadata_nodes)\n",
    "\n",
    "# t = create_random_adjacency_matrix(10)\n",
    "# eigenvalues, _ = get_eigen(t)\n",
    "# sorted(eigenvalues, reverse=True)"
   ]
  },
  {
   "cell_type": "code",
   "execution_count": null,
   "id": "01d69d07",
   "metadata": {},
   "outputs": [],
   "source": [
    "G_data = pickle.load(open('../data/arxiv/graph.pickle', 'rb'))\n",
    "results = json.load(open('../data/arxiv/arxiv_workloads/res/k100_gk20_pn50_n20.json', 'r'))\n",
    "paper_id_pool = list(G_data.data_dict.keys())"
   ]
  },
  {
   "cell_type": "code",
   "execution_count": null,
   "id": "6a5c77d0",
   "metadata": {},
   "outputs": [],
   "source": [
    "tmp = results['0']['arxiv_abstract']\n",
    "num_elements1, num_nodes1, edges1, adj_eig1, lap_eig1 = get_eigens_from_results_runtime(tmp)"
   ]
  },
  {
   "cell_type": "code",
   "execution_count": null,
   "id": "442187f2",
   "metadata": {},
   "outputs": [],
   "source": [
    "'''\n",
    "Make 3 subplots in the same row:\n",
    "- plot num_elements vs. lap_eig\n",
    "- plot num_elements vs. adj_eig\n",
    "- plot num_elements vs. edges\n",
    "'''\n",
    "\n",
    "fig, ax = plt.subplots(2, 2, figsize=(9, 5.5))\n",
    "\n",
    "ax[0][0].plot(num_elements1, lap_eig1)\n",
    "ax[0][0].set_title('Number of Elements vs. Max Eigenvalues\\n(Laplacian Matrix)')\n",
    "ax[0][0].set_xlabel('Number of Elements')\n",
    "ax[0][0].set_ylabel('Real Max Eigenvalues')\n",
    "\n",
    "ax[0][1].plot(num_elements1, adj_eig1)\n",
    "ax[0][1].set_title('Number of Elements vs. Max Eigenvalues\\n(Adjacency Matrix)')\n",
    "ax[0][1].set_xlabel('Number of Elements')\n",
    "ax[0][1].set_ylabel('Real Max Eigenvalues')\n",
    "\n",
    "ax[1][0].plot(num_elements1, edges1)\n",
    "ax[1][0].set_title('Number of Elements vs. Number of Edges')\n",
    "ax[1][0].set_xlabel('Number of Elements')\n",
    "ax[1][0].set_ylabel('Number of Edges')\n",
    "\n",
    "ax[1][1].plot(num_elements1, num_nodes1)\n",
    "ax[1][1].set_title('Number of Elements vs. Number of Nodes')\n",
    "ax[1][1].set_xlabel('Number of Elements')\n",
    "ax[1][1].set_ylabel('Number of Nodes')\n",
    "\n",
    "plt.suptitle(\"Recall: 100%\")\n",
    "plt.tight_layout()\n",
    "plt.show()"
   ]
  },
  {
   "cell_type": "code",
   "execution_count": null,
   "id": "cd55c6e5",
   "metadata": {},
   "outputs": [],
   "source": [
    "random_dps = random.sample(paper_id_pool, 100)\n",
    "num_elements, num_nodes, edges, adj_eig, lap_eig = get_eigens_from_results_runtime(random_dps)\n",
    "\n",
    "fig, ax = plt.subplots(2, 2, figsize=(9, 5.5))\n",
    "\n",
    "ax[0][0].plot(num_elements, lap_eig)\n",
    "ax[0][0].set_title('Number of Elements vs. Max Eigenvalues\\n(Laplacian Matrix)')\n",
    "ax[0][0].set_xlabel('Number of Elements')\n",
    "ax[0][0].set_ylabel('Real Max Eigenvalues')\n",
    "\n",
    "ax[0][1].plot(num_elements, adj_eig)\n",
    "ax[0][1].set_title('Number of Elements vs. Max Eigenvalues\\n(Adjacency Matrix)')\n",
    "ax[0][1].set_xlabel('Number of Elements')\n",
    "ax[0][1].set_ylabel('Real Max Eigenvalues')\n",
    "\n",
    "ax[1][0].plot(num_elements, edges)\n",
    "ax[1][0].set_title('Number of Elements vs. Number of Edges')\n",
    "ax[1][0].set_xlabel('Number of Elements')\n",
    "ax[1][0].set_ylabel('Number of Edges')\n",
    "\n",
    "ax[1][1].plot(num_elements, num_nodes)\n",
    "ax[1][1].set_title('Number of Elements vs. Number of Nodes')\n",
    "ax[1][1].set_xlabel('Number of Elements')\n",
    "ax[1][1].set_ylabel('Number of Nodes')\n",
    "\n",
    "plt.suptitle(\"Random Data Points\")\n",
    "plt.tight_layout()\n",
    "plt.show()"
   ]
  },
  {
   "cell_type": "code",
   "execution_count": null,
   "id": "e4b09331-5af4-4381-8168-184fad4a3734",
   "metadata": {},
   "outputs": [],
   "source": [
    "plt.plot(num_elements, lap_eig)   \n",
    "plt.plot(num_elements1, lap_eig1)"
   ]
  },
  {
   "cell_type": "markdown",
   "id": "9db88777-8a14-421c-9ab6-51661a01a189",
   "metadata": {},
   "source": [
    "## Avg workload adding elements plot"
   ]
  },
  {
   "cell_type": "code",
   "execution_count": null,
   "id": "51b7f0f1-3d4f-4315-9209-d5336193eab8",
   "metadata": {},
   "outputs": [],
   "source": [
    "# tmp = results['0']['arxiv_abstract']\n",
    "# num_elements1, num_nodes1, edges1, adj_eig1, lap_eig1 = get_eigens_from_results_runtime(tmp)"
   ]
  },
  {
   "cell_type": "code",
   "execution_count": null,
   "id": "3d0a5a3a-c81a-45a8-aef5-9be7b49505c4",
   "metadata": {},
   "outputs": [],
   "source": [
    "res_key_key = 'arxiv_abstract'\n",
    "\n",
    "num_elements_list = []\n",
    "num_nodes_list = []\n",
    "num_edges_list = []\n",
    "adj_eig_list = []\n",
    "lap_eig_list = []\n",
    "\n",
    "rd_num_elements_list = []\n",
    "rd_num_nodes_list = []\n",
    "rd_num_edges_list = []\n",
    "rd_adj_eig_list = []\n",
    "rd_lap_eig_list = []\n",
    "\n",
    "# loop through dict keys\n",
    "counter = 1\n",
    "for k in tqdm(results):\n",
    "    num_elements1, num_nodes1, edges1, adj_eig1, lap_eig1 = get_eigens_from_results_runtime(results[k][res_key_key])\n",
    "    num_elements_list.append(num_elements1)\n",
    "    num_nodes_list.append(num_nodes1)\n",
    "    num_edges_list.append(edges1)\n",
    "    adj_eig_list.append(adj_eig1)\n",
    "    lap_eig_list.append(lap_eig1)\n",
    "\n",
    "    random_dps = random.sample(paper_id_pool, 100)\n",
    "    rd_num_elements, rd_num_nodes, rd_edges, rd_adj_eig, rd_lap_eig = get_eigens_from_results_runtime(random_dps)\n",
    "    rd_num_elements_list.append(rd_num_elements)\n",
    "    rd_num_nodes_list.append(rd_num_nodes)\n",
    "    rd_num_edges_list.append(rd_edges)\n",
    "    rd_adj_eig_list.append(rd_adj_eig)\n",
    "    rd_lap_eig_list.append(rd_lap_eig)\n",
    "    \n",
    "    # if counter==3: break\n",
    "    counter+=1"
   ]
  },
  {
   "cell_type": "code",
   "execution_count": null,
   "id": "869002fc-dc37-4e86-a5bf-aeb99e9106d2",
   "metadata": {},
   "outputs": [],
   "source": [
    "# workload avg\n",
    "num_elements_list = np.array(num_elements_list)\n",
    "num_nodes_list = np.array(num_nodes_list)\n",
    "num_edges_list = np.array(numbers_of_edges)\n",
    "adj_eig_list = np.array(adj_eig_list)\n",
    "lap_eig_list = np.array(lap_eig_list)\n",
    "\n",
    "# compute mean\n",
    "avg_num_elements = num_elements_list.mean(axis=0)\n",
    "avg_num_nodes = num_nodes_list.mean(axis=0)\n",
    "avg_num_edges = num_edges_list.mean(axis=0)\n",
    "avg_adj_eig = adj_eig_list.mean(axis=0)\n",
    "avg_lap_eig = lap_eig_list.mean(axis=0)\n",
    "\n",
    "\n",
    "# do the same for rd\n",
    "rd_num_elements_list = np.array(rd_num_elements_list)\n",
    "rd_num_nodes_list = np.array(rd_num_nodes_list)\n",
    "rd_num_edges_list = np.array(rd_num_edges_list)\n",
    "rd_adj_eig_list = np.array(rd_adj_eig_list)\n",
    "rd_lap_eig_list = np.array(rd_lap_eig_list)\n",
    "\n",
    "rd_avg_num_elements = rd_num_elements_list.mean(axis=0)\n",
    "rd_avg_num_nodes = rd_num_nodes_list.mean(axis=0)\n",
    "rd_avg_num_edges = rd_num_edges_list.mean(axis=0)\n",
    "rd_avg_adj_eig = rd_adj_eig_list.mean(axis=0)\n",
    "rd_avg_lap_eig = rd_lap_eig_list.mean(axis=0)"
   ]
  },
  {
   "cell_type": "code",
   "execution_count": null,
   "id": "f9e4f055-edd5-4595-ad75-feeece751639",
   "metadata": {},
   "outputs": [],
   "source": [
    "# plot avg with min max shade range, 2 plots: adj and lap eig\n",
    "fig, ax = plt.subplots(1, 2, figsize=(11, 3.5))\n",
    "ax[0].plot(avg_num_elements, avg_adj_eig, label='GT data points')\n",
    "# ax[0].fill_between(avg_num_elements, adj_eig_list.min(axis=0), adj_eig_list.max(axis=0), alpha=0.3)\n",
    "\n",
    "ax[1].plot(avg_num_elements, avg_lap_eig, label='GT data points')\n",
    "ax[1].fill_between(avg_num_elements, lap_eig_list.min(axis=0), lap_eig_list.max(axis=0), alpha=0.3)\n",
    "\n",
    "# add rd_line\n",
    "ax[0].plot(rd_num_elements, rd_avg_adj_eig, label='Random data points', color='red', linestyle='--')\n",
    "ax[1].plot(rd_num_elements, rd_avg_lap_eig, label='Random data points', color='red', linestyle='--')\n",
    "\n",
    "ax[0].set_title('Eigenvalue (Adjacency)')\n",
    "ax[0].set_xlabel('Number of Elements')\n",
    "ax[0].set_ylabel('Real Max Eigenvalues')\n",
    "ax[0].legend(loc='lower right')\n",
    "\n",
    "ax[1].set_title('Eigenvalues (Laplacian)')\n",
    "ax[1].set_xlabel('Number of Elements')\n",
    "ax[1].set_ylabel('Real Max Eigenvalues')\n",
    "ax[1].legend(loc='lower right')\n",
    "\n",
    "plt.tight_layout()\n",
    "# plt.savefig(\"avg_eigen_adding_elements2.png\")\n",
    "plt.show()"
   ]
  },
  {
   "cell_type": "code",
   "execution_count": null,
   "id": "a289be3f-d001-412f-b64e-917bb395d407",
   "metadata": {},
   "outputs": [],
   "source": []
  }
 ],
 "metadata": {
  "kernelspec": {
   "display_name": "Python 3 (ipykernel)",
   "language": "python",
   "name": "python3"
  },
  "language_info": {
   "codemirror_mode": {
    "name": "ipython",
    "version": 3
   },
   "file_extension": ".py",
   "mimetype": "text/x-python",
   "name": "python",
   "nbconvert_exporter": "python",
   "pygments_lexer": "ipython3",
   "version": "3.9.18"
  }
 },
 "nbformat": 4,
 "nbformat_minor": 5
}
