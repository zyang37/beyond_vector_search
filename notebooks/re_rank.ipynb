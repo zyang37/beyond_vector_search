{
 "cells": [
  {
   "cell_type": "code",
   "execution_count": 1,
   "id": "f42442e9-7811-4d24-8f11-f7519eaf4584",
   "metadata": {},
   "outputs": [
    {
     "name": "stderr",
     "output_type": "stream",
     "text": [
      "/data/zyang/miniconda3/envs/pt/lib/python3.9/site-packages/tqdm/auto.py:21: TqdmWarning: IProgress not found. Please update jupyter and ipywidgets. See https://ipywidgets.readthedocs.io/en/stable/user_install.html\n",
      "  from .autonotebook import tqdm as notebook_tqdm\n"
     ]
    },
    {
     "data": {
      "text/plain": [
       "[Collection(name=cnn_headline),\n",
       " Collection(name=arxiv_title),\n",
       " Collection(name=arxiv_abstract),\n",
       " Collection(name=wiki_plot),\n",
       " Collection(name=wiki_plot_summary),\n",
       " Collection(name=cnn_article)]"
      ]
     },
     "execution_count": 1,
     "metadata": {},
     "output_type": "execute_result"
    }
   ],
   "source": [
    "%matplotlib inline\n",
    "\n",
    "import sys\n",
    "import random\n",
    "import pickle\n",
    "import chromadb\n",
    "import numpy as np\n",
    "from pprint import pprint\n",
    "from tqdm.auto import tqdm\n",
    "from matplotlib import pyplot as plt\n",
    "import networkx as nx\n",
    "import json\n",
    "from pyvis.network import Network\n",
    "from sklearn.metrics import ndcg_score\n",
    "\n",
    "sys.path.append(\"../\")\n",
    "from utils.metadata_graph import *\n",
    "from utils.vector_search_utils import *\n",
    "from utils.parse_arxiv import *\n",
    "from compute_metrics import batch_compute_percent_include, compute_percent_include\n",
    "\n",
    "chroma_client = chromadb.PersistentClient(path=\"../data/chroma_dbs/\")\n",
    "chroma_client.list_collections()"
   ]
  },
  {
   "cell_type": "code",
   "execution_count": 2,
   "id": "e94bc8b0",
   "metadata": {},
   "outputs": [],
   "source": [
    "test_coll = chroma_client.get_collection(\"arxiv_title\")\n",
    "gt_coll = chroma_client.get_collection(\"arxiv_abstract\")\n",
    "\n",
    "# read workload csv\n",
    "workload_csv = \"../data/arxiv/arxiv_workloads/pn1000_n1.csv\"\n",
    "workload_df = pd.read_csv(workload_csv)\n",
    "\n",
    "text_queries = workload_df[\"query\"].tolist()"
   ]
  },
  {
   "cell_type": "code",
   "execution_count": 7,
   "id": "c6515690",
   "metadata": {},
   "outputs": [],
   "source": [
    "# k = 10\n",
    "# test_k = k \n",
    "\n",
    "# gt_res = vector_search(coll=gt_coll, text_queries=text_queries, k=k, batch_size=100)\n",
    "# test_res = vector_search(coll=test_coll, text_queries=text_queries, k=test_k, batch_size=100)"
   ]
  },
  {
   "cell_type": "code",
   "execution_count": 8,
   "id": "87db26be",
   "metadata": {},
   "outputs": [],
   "source": [
    "def exp(gt_coll, test_coll, k, kps, text_queries, gt_res, test_res):\n",
    "    mean_recalls = []\n",
    "    gt_res = vector_search(coll=gt_coll, text_queries=text_queries, k=k, batch_size=100)\n",
    "    for kp in kps:\n",
    "        # increase test k\n",
    "        test_k = int( (1 + kp) * k)\n",
    "        test_res = vector_search(coll=test_coll, text_queries=text_queries, k=test_k, batch_size=100)\n",
    "        recalls = batch_compute_percent_include(gt_res, test_res)\n",
    "        mean_recalls.append(np.mean(recalls))\n",
    "    return mean_recalls"
   ]
  },
  {
   "cell_type": "code",
   "execution_count": null,
   "id": "3f7ab485",
   "metadata": {},
   "outputs": [],
   "source": [
    "# make plot mean-recalls vs. % of extra k (0 to 100% increase)\n",
    "ks = [5, 10, 50, 100, 500]\n",
    "kps = np.arange(0, 1.2, 0.2)\n",
    "\n",
    "mean_recall_dict = {}\n",
    "for k in ks:\n",
    "    mean_recalls = exp(gt_coll, test_coll, k, kps, text_queries, gt_res, test_res)\n",
    "    mean_recall_dict[k] = mean_recalls"
   ]
  },
  {
   "cell_type": "code",
   "execution_count": null,
   "id": "88ab56a5",
   "metadata": {},
   "outputs": [],
   "source": [
    "# plot all\n",
    "fig, ax = plt.subplots(figsize=(5, 3))\n",
    "for k in ks:\n",
    "    ax.plot(kps, mean_recall_dict[k], label=f\"k={k}\")\n",
    "    ax.set_xlabel(\"Extra k (%)\")\n",
    "    ax.set_ylabel(\"Mean Recall\")\n",
    "# ax.set_title(\"Mean recall vs. percentage of extra k\")\n",
    "ax.legend()\n",
    "plt.show()"
   ]
  },
  {
   "cell_type": "markdown",
   "id": "7ac434be",
   "metadata": {},
   "source": [
    "# Exp"
   ]
  },
  {
   "cell_type": "code",
   "execution_count": 9,
   "id": "2174b6b9",
   "metadata": {},
   "outputs": [
    {
     "name": "stdout",
     "output_type": "stream",
     "text": [
      "{'author:RaymondH.Y.Louie',\n",
      " 'author:YonghuiLi',\n",
      " 'author:andBrankaVucetic',\n",
      " 'category:cs.IT',\n",
      " 'category:math.IT',\n",
      " 'journal:IEEE Transactions on Vehicular Technology, 2010',\n",
      " 'year:2016'}\n",
      "\n",
      "{'id_2106.02811', 'id_1009.5145'}\n"
     ]
    }
   ],
   "source": [
    " # load pickle\n",
    "g_data = pickle.load(open('../data/arxiv/graph.pickle', 'rb'))\n",
    "\n",
    "pprint(g_data.data_dict['id_1009.5145'])\n",
    "print()\n",
    "print(g_data.keyword_dict['author:YonghuiLi'])"
   ]
  },
  {
   "cell_type": "markdown",
   "id": "e38a60bb",
   "metadata": {},
   "source": [
    "## GT Distribution in 2*k"
   ]
  },
  {
   "cell_type": "code",
   "execution_count": 17,
   "id": "86ce761a",
   "metadata": {},
   "outputs": [
    {
     "name": "stdout",
     "output_type": "stream",
     "text": [
      "[2, 3]\n"
     ]
    }
   ],
   "source": [
    "def find_elements_in_list(elements, l):\n",
    "    # find elements in list, return a list of index of l\n",
    "    idxs = []\n",
    "    for e in elements:\n",
    "        if e not in l: continue\n",
    "        idx = l.index(e)\n",
    "        idxs.append(idx)\n",
    "    return idxs\n",
    "\n",
    "# test\n",
    "l = [1, 2, 3, 4, 5]\n",
    "elements = [3, 4, 10]\n",
    "print(find_elements_in_list(elements, l))"
   ]
  },
  {
   "cell_type": "code",
   "execution_count": 38,
   "id": "ae18d93c",
   "metadata": {},
   "outputs": [
    {
     "name": "stderr",
     "output_type": "stream",
     "text": [
      "100%|██████████| 10/10 [00:11<00:00,  1.12s/it]\n",
      "100%|██████████| 10/10 [00:11<00:00,  1.12s/it]\n"
     ]
    }
   ],
   "source": [
    "k = 10\n",
    "test_k = k * 2\n",
    "\n",
    "gt_res = vector_search(coll=gt_coll, text_queries=text_queries, k=k, batch_size=100)\n",
    "test_res = vector_search(coll=test_coll, text_queries=text_queries, k=test_k, batch_size=100)"
   ]
  },
  {
   "cell_type": "code",
   "execution_count": 79,
   "id": "998737f6",
   "metadata": {},
   "outputs": [
    {
     "data": {
      "image/png": "[encoded data removed]",
      "text/plain": [
       "<Figure size 600x300 with 1 Axes>"
      ]
     },
     "metadata": {},
     "output_type": "display_data"
    }
   ],
   "source": [
    "# For each res, For each posistion of k, count the number of dp that is in GT\n",
    "\n",
    "kpos_count_dict = {}\n",
    "\n",
    "for res_index, one_t_res in enumerate(test_res):\n",
    "    one_gt_res = gt_res[res_index]\n",
    "    idxs = find_elements_in_list(one_gt_res, one_t_res)\n",
    "    for i in idxs:\n",
    "        if i not in kpos_count_dict: kpos_count_dict[i] = 0\n",
    "        kpos_count_dict[i] += 1\n",
    "\n",
    "# plot kpos_count_dict\n",
    "fig, ax = plt.subplots(figsize=(6, 3))\n",
    "ax.bar(kpos_count_dict.keys(), np.array(list(kpos_count_dict.values()))/1)\n",
    "ax.set_xlabel(\"k position\")\n",
    "# ax.set_ylabel(\"Count\")\n",
    "ax.set_title(\"Count of dp in GT for each k position\")\n",
    "plt.show()"
   ]
  },
  {
   "cell_type": "code",
   "execution_count": 48,
   "id": "f84a7678",
   "metadata": {},
   "outputs": [],
   "source": [
    "def construct_metagraph_from_ids(id_list, g_data):\n",
    "    mg = MetadataGraph()\n",
    "    metadata_sets = []\n",
    "    for id in id_list:\n",
    "        metadata_sets.append(g_data.data_dict[id])\n",
    "    mg.build_from_metadata_set_list(metadata_sets)\n",
    "    return mg\n",
    "\n",
    "def compute_avg_degree_centrality_for_ids(id_list, mg, g_data):\n",
    "    dc = nx.degree_centrality(mg.G)\n",
    "    # sorted_dc = dict(sorted(dc.items(), key=lambda x: x[1], reverse=True))\n",
    "    dp_meta_score = {}\n",
    "    for dp_id in id_list:\n",
    "        metadata = g_data.data_dict[dp_id]\n",
    "        # compute metadata score (avg degree centrality of metadata)\n",
    "        dp_meta_score[dp_id] = np.mean([dc[md] for md in metadata])\n",
    "    return dp_meta_score"
   ]
  },
  {
   "cell_type": "code",
   "execution_count": 67,
   "id": "409e3a6e",
   "metadata": {},
   "outputs": [
    {
     "data": {
      "text/plain": [
       "[0, 1]"
      ]
     },
     "execution_count": 67,
     "metadata": {},
     "output_type": "execute_result"
    }
   ],
   "source": [
    "query_idx = 10\n",
    "tmp_sample = test_res[query_idx]\n",
    "tmp_gt_sample = gt_res[query_idx]\n",
    "\n",
    "# construct metagraph\n",
    "mg = construct_metagraph_from_ids(tmp_sample, g_data)\n",
    "dp_meta_score = compute_avg_degree_centrality_for_ids(tmp_sample, mg, g_data)\n",
    "\n",
    "find_elements_in_list(tmp_gt_sample, tmp_sample)"
   ]
  },
  {
   "cell_type": "code",
   "execution_count": 10,
   "id": "54bef83a",
   "metadata": {},
   "outputs": [
    {
     "name": "stderr",
     "output_type": "stream",
     "text": [
      "100%|██████████| 10/10 [00:11<00:00,  1.17s/it]\n",
      "100%|██████████| 10/10 [00:11<00:00,  1.17s/it]\n"
     ]
    }
   ],
   "source": [
    "k = 10\n",
    "test_k = k * 2\n",
    "\n",
    "gt_res = vector_search(coll=gt_coll, text_queries=text_queries, k=k, batch_size=100)\n",
    "test_res = vector_search(coll=test_coll, text_queries=text_queries, k=test_k, batch_size=100)"
   ]
  },
  {
   "cell_type": "code",
   "execution_count": null,
   "id": "3343c819",
   "metadata": {},
   "outputs": [],
   "source": [
    "query_idx = 10\n",
    "tmp_sample = test_res[query_idx]\n",
    "\n",
    "mg = construct_metagraph_from_ids(tmp_sample, g_data)"
   ]
  },
  {
   "cell_type": "code",
   "execution_count": null,
   "id": "20d15f86",
   "metadata": {},
   "outputs": [],
   "source": [
    "dc = nx.degree_centrality(mg.G)\n",
    "\n",
    "# sort by degree centrality\n",
    "sorted_dc = dict(sorted(dc.items(), key=lambda x: x[1], reverse=True))\n",
    "# sorted_dc"
   ]
  },
  {
   "cell_type": "code",
   "execution_count": null,
   "id": "15ae0345",
   "metadata": {},
   "outputs": [],
   "source": [
    "dp_meta_score = {}\n",
    "for dp_id in tmp_sample:\n",
    "    # print(dp)\n",
    "    metadata = g_data.data_dict[dp_id]\n",
    "    # compute metadata score (avg degree centrality of metadata)\n",
    "    dp_meta_score[dp_id] = np.mean([dc[md] for md in metadata])"
   ]
  },
  {
   "cell_type": "code",
   "execution_count": null,
   "id": "c0b348d6",
   "metadata": {},
   "outputs": [],
   "source": [
    "print(\"precent include\")\n",
    "print(\"before  :\", compute_percent_include(gt_res[0], tmp_sample[:10]))\n",
    "\n",
    "# re-rank by metadata score\n",
    "sorted_dp_meta_score = dict(sorted(dp_meta_score.items(), key=lambda x: x[1], reverse=True))\n",
    "re_ranked_dps = list(sorted_dp_meta_score.keys())\n",
    "\n",
    "print(\"re-rank :\", compute_percent_include(gt_res[query_idx], re_ranked_dps[:10]))\n",
    "\n",
    "print(\"upper-bound:\", compute_percent_include(gt_res[query_idx], re_ranked_dps[:]))"
   ]
  },
  {
   "cell_type": "code",
   "execution_count": null,
   "id": "59b09e07",
   "metadata": {},
   "outputs": [],
   "source": []
  },
  {
   "cell_type": "markdown",
   "id": "1274c454",
   "metadata": {},
   "source": [
    "# re-rank workloads"
   ]
  },
  {
   "cell_type": "code",
   "execution_count": 68,
   "id": "db648fce",
   "metadata": {},
   "outputs": [
    {
     "name": "stderr",
     "output_type": "stream",
     "text": [
      "100%|██████████| 10/10 [00:10<00:00,  1.09s/it]\n",
      "100%|██████████| 10/10 [00:11<00:00,  1.12s/it]\n"
     ]
    }
   ],
   "source": [
    "k = 10\n",
    "test_k = k * 2\n",
    "\n",
    "gt_res = vector_search(coll=gt_coll, text_queries=text_queries, k=k, batch_size=100)\n",
    "test_res = vector_search(coll=test_coll, text_queries=text_queries, k=test_k, batch_size=100)"
   ]
  },
  {
   "cell_type": "markdown",
   "id": "cc630a96",
   "metadata": {},
   "source": [
    "## Degree_centrality"
   ]
  },
  {
   "cell_type": "code",
   "execution_count": 69,
   "id": "41fdbdd1",
   "metadata": {},
   "outputs": [
    {
     "name": "stderr",
     "output_type": "stream",
     "text": [
      "100%|██████████| 1000/1000 [00:11<00:00, 88.65it/s]\n"
     ]
    }
   ],
   "source": [
    "befores = []\n",
    "afters = []\n",
    "upper_bounds = []\n",
    "\n",
    "for query_idx in tqdm(range(len(text_queries))):\n",
    "    tmp_sample = test_res[query_idx]\n",
    "    mg = construct_metagraph_from_ids(tmp_sample, g_data)\n",
    "    \n",
    "    dc = nx.degree_centrality(mg.G)\n",
    "    # sort by degree centrality\n",
    "    sorted_dc = dict(sorted(dc.items(), key=lambda x: x[1], reverse=True))\n",
    "\n",
    "    dp_meta_score = {}\n",
    "    for i, dp_id in enumerate(tmp_sample):\n",
    "        metadata = g_data.data_dict[dp_id]\n",
    "        # compute metadata score (avg degree centrality of metadata)\n",
    "        dp_meta_score[dp_id] = np.mean([dc[md] for md in metadata]) * (1 - i/len(tmp_sample))\n",
    "\n",
    "    # re-rank by metadata score\n",
    "    sorted_dp_meta_score = dict(sorted(dp_meta_score.items(), key=lambda x: x[1], reverse=True))\n",
    "    re_ranked_dps = list(sorted_dp_meta_score.keys())\n",
    "\n",
    "    # befores.append(ndcg_score([gt_res[query_idx]], [tmp_sample[:k]]))\n",
    "    # afters.append(ndcg_score([gt_res[query_idx]], [re_ranked_dps[:k]]))\n",
    "    befores.append(compute_percent_include(gt_res[query_idx], tmp_sample[:k]))\n",
    "    afters.append(compute_percent_include(gt_res[query_idx], re_ranked_dps[:k]))\n",
    "    upper_bounds.append(compute_percent_include(gt_res[query_idx], re_ranked_dps[:]))\n",
    "    # print(\"precent include\")\n",
    "    # print(\"before  :\", compute_percent_include(gt_res[0], tmp_sample[:10]))\n",
    "    # print(\"re-rank :\", compute_percent_include(gt_res[query_idx], re_ranked_dps[:10]))\n",
    "    # print(\"upper-bound:\", compute_percent_include(gt_res[query_idx], re_ranked_dps[:]))"
   ]
  },
  {
   "cell_type": "code",
   "execution_count": 70,
   "id": "0997e43f",
   "metadata": {},
   "outputs": [
    {
     "name": "stdout",
     "output_type": "stream",
     "text": [
      "before  : 0.2833\n",
      "re-rank : 0.2825\n",
      "upper-bound: 0.3987\n"
     ]
    }
   ],
   "source": [
    "print(\"before  :\", np.mean(befores))\n",
    "print(\"re-rank :\", np.mean(afters))\n",
    "print(\"upper-bound:\", np.mean(upper_bounds))"
   ]
  },
  {
   "cell_type": "code",
   "execution_count": null,
   "id": "94c97e77",
   "metadata": {},
   "outputs": [],
   "source": []
  },
  {
   "cell_type": "markdown",
   "id": "413e2eac",
   "metadata": {},
   "source": [
    "## closeness_centrality"
   ]
  },
  {
   "cell_type": "code",
   "execution_count": 71,
   "id": "b72d6058",
   "metadata": {},
   "outputs": [
    {
     "name": "stderr",
     "output_type": "stream",
     "text": [
      "100%|██████████| 1000/1000 [08:00<00:00,  2.08it/s]\n"
     ]
    }
   ],
   "source": [
    "befores = []\n",
    "afters = []\n",
    "upper_bounds = []\n",
    "\n",
    "for query_idx in tqdm(range(len(text_queries))):\n",
    "    tmp_sample = test_res[query_idx]\n",
    "    mg = construct_metagraph_from_ids(tmp_sample, g_data)\n",
    "    \n",
    "    dc = nx.closeness_centrality(mg.G)\n",
    "    # sort by degree centrality\n",
    "    sorted_dc = dict(sorted(dc.items(), key=lambda x: x[1], reverse=True))\n",
    "\n",
    "    dp_meta_score = {}\n",
    "    for i, dp_id in enumerate(tmp_sample):\n",
    "        metadata = g_data.data_dict[dp_id]\n",
    "        # compute metadata score (avg degree centrality of metadata)\n",
    "        dp_meta_score[dp_id] = np.mean([dc[md] for md in metadata]) * (1 - i/len(tmp_sample))\n",
    "\n",
    "    # re-rank by metadata score\n",
    "    sorted_dp_meta_score = dict(sorted(dp_meta_score.items(), key=lambda x: x[1], reverse=True))\n",
    "    re_ranked_dps = list(sorted_dp_meta_score.keys())\n",
    "\n",
    "    # befores.append(ndcg_score([gt_res[query_idx]], [tmp_sample[:k]]))\n",
    "    # afters.append(ndcg_score([gt_res[query_idx]], [re_ranked_dps[:k]]))\n",
    "    befores.append(compute_percent_include(gt_res[query_idx], tmp_sample[:k]))\n",
    "    afters.append(compute_percent_include(gt_res[query_idx], re_ranked_dps[:k]))\n",
    "    upper_bounds.append(compute_percent_include(gt_res[query_idx], re_ranked_dps[:]))\n",
    "    # print(\"precent include\")\n",
    "    # print(\"before  :\", compute_percent_include(gt_res[0], tmp_sample[:10]))\n",
    "    # print(\"re-rank :\", compute_percent_include(gt_res[query_idx], re_ranked_dps[:10]))\n",
    "    # print(\"upper-bound:\", compute_percent_include(gt_res[query_idx], re_ranked_dps[:]))"
   ]
  },
  {
   "cell_type": "code",
   "execution_count": 72,
   "id": "ace280b1",
   "metadata": {},
   "outputs": [
    {
     "name": "stdout",
     "output_type": "stream",
     "text": [
      "before  : 0.2833\n",
      "re-rank : 0.2849\n",
      "upper-bound: 0.3987\n"
     ]
    }
   ],
   "source": [
    "print(\"before  :\", np.mean(befores))\n",
    "print(\"re-rank :\", np.mean(afters))\n",
    "print(\"upper-bound:\", np.mean(upper_bounds))"
   ]
  },
  {
   "cell_type": "code",
   "execution_count": null,
   "id": "d73fa6a1",
   "metadata": {},
   "outputs": [],
   "source": []
  },
  {
   "cell_type": "code",
   "execution_count": null,
   "id": "51519820",
   "metadata": {},
   "outputs": [],
   "source": []
  },
  {
   "cell_type": "markdown",
   "id": "09aa74af",
   "metadata": {},
   "source": [
    "## laplacian_centrality"
   ]
  },
  {
   "cell_type": "code",
   "execution_count": 73,
   "id": "1ffae1ae",
   "metadata": {},
   "outputs": [
    {
     "name": "stderr",
     "output_type": "stream",
     "text": [
      "100%|██████████| 1000/1000 [54:09<00:00,  3.25s/it]   \n"
     ]
    }
   ],
   "source": [
    "befores = []\n",
    "afters = []\n",
    "upper_bounds = []\n",
    "\n",
    "for query_idx in tqdm(range(len(text_queries))):\n",
    "    tmp_sample = test_res[query_idx]\n",
    "    mg = construct_metagraph_from_ids(tmp_sample, g_data)\n",
    "    \n",
    "    dc = nx.laplacian_centrality(mg.G)\n",
    "    # sort by degree centrality\n",
    "    sorted_dc = dict(sorted(dc.items(), key=lambda x: x[1], reverse=True))\n",
    "\n",
    "    dp_meta_score = {}\n",
    "    for i, dp_id in enumerate(tmp_sample):\n",
    "        metadata = g_data.data_dict[dp_id]\n",
    "        # compute metadata score (avg degree centrality of metadata)\n",
    "        dp_meta_score[dp_id] = np.mean([dc[md] for md in metadata]) * (1 - i/len(tmp_sample))\n",
    "\n",
    "    # re-rank by metadata score\n",
    "    sorted_dp_meta_score = dict(sorted(dp_meta_score.items(), key=lambda x: x[1], reverse=True))\n",
    "    re_ranked_dps = list(sorted_dp_meta_score.keys())\n",
    "\n",
    "    # befores.append(ndcg_score([gt_res[query_idx]], [tmp_sample[:k]]))\n",
    "    # afters.append(ndcg_score([gt_res[query_idx]], [re_ranked_dps[:k]]))\n",
    "    befores.append(compute_percent_include(gt_res[query_idx], tmp_sample[:k]))\n",
    "    afters.append(compute_percent_include(gt_res[query_idx], re_ranked_dps[:k]))\n",
    "    upper_bounds.append(compute_percent_include(gt_res[query_idx], re_ranked_dps[:]))\n",
    "    # print(\"precent include\")\n",
    "    # print(\"before  :\", compute_percent_include(gt_res[0], tmp_sample[:10]))\n",
    "    # print(\"re-rank :\", compute_percent_include(gt_res[query_idx], re_ranked_dps[:10]))\n",
    "    # print(\"upper-bound:\", compute_percent_include(gt_res[query_idx], re_ranked_dps[:]))"
   ]
  },
  {
   "cell_type": "code",
   "execution_count": 74,
   "id": "b9445240",
   "metadata": {},
   "outputs": [
    {
     "name": "stdout",
     "output_type": "stream",
     "text": [
      "before  : 0.2833\n",
      "re-rank : 0.2745\n",
      "upper-bound: 0.3987\n"
     ]
    }
   ],
   "source": [
    "print(\"before  :\", np.mean(befores))\n",
    "print(\"re-rank :\", np.mean(afters))\n",
    "print(\"upper-bound:\", np.mean(upper_bounds))"
   ]
  },
  {
   "cell_type": "code",
   "execution_count": null,
   "id": "100097a8",
   "metadata": {},
   "outputs": [],
   "source": []
  },
  {
   "cell_type": "code",
   "execution_count": null,
   "id": "4d202a4d",
   "metadata": {},
   "outputs": [],
   "source": []
  },
  {
   "cell_type": "code",
   "execution_count": null,
   "id": "7e58c091",
   "metadata": {},
   "outputs": [],
   "source": []
  },
  {
   "cell_type": "code",
   "execution_count": null,
   "id": "39d6470c",
   "metadata": {},
   "outputs": [],
   "source": []
  },
  {
   "cell_type": "markdown",
   "id": "0bc81dc7",
   "metadata": {},
   "source": [
    "# metadata analysis on GT"
   ]
  },
  {
   "cell_type": "code",
   "execution_count": 77,
   "id": "7b4e909f",
   "metadata": {},
   "outputs": [],
   "source": [
    "sample_gt = gt_res[0]\n",
    "\n",
    "mg = construct_metagraph_from_ids(sample_gt, g_data)\n",
    "dc = nx.closeness_centrality(mg.G)"
   ]
  },
  {
   "cell_type": "code",
   "execution_count": 20,
   "id": "4cef4e2b",
   "metadata": {},
   "outputs": [],
   "source": [
    "# dc"
   ]
  },
  {
   "cell_type": "markdown",
   "id": "eec7b99c",
   "metadata": {},
   "source": [
    "# beyond topk GT analysis"
   ]
  },
  {
   "cell_type": "code",
   "execution_count": 3,
   "id": "c42e32d6",
   "metadata": {},
   "outputs": [
    {
     "name": "stderr",
     "output_type": "stream",
     "text": [
      "100%|██████████████████████████████████████████████████████████████████████████████████████████████████████████████████████████████████████████████████████████████████████████████████| 10/10 [00:11<00:00,  1.14s/it]\n",
      "100%|██████████████████████████████████████████████████████████████████████████████████████████████████████████████████████████████████████████████████████████████████████████████████| 10/10 [00:12<00:00,  1.22s/it]\n"
     ]
    }
   ],
   "source": [
    "# Get a workload results\n",
    "test_coll = chroma_client.get_collection(\"arxiv_title\")\n",
    "gt_coll = chroma_client.get_collection(\"arxiv_abstract\")\n",
    "workload_csv = \"../data/arxiv/arxiv_workloads/pn1000_n1.csv\"\n",
    "workload_df = pd.read_csv(workload_csv)\n",
    "text_queries = workload_df[\"query\"].tolist()\n",
    "\n",
    " # load pickle\n",
    "g_data = pickle.load(open('../data/arxiv/graph.pickle', 'rb'))\n",
    "\n",
    "k = 10\n",
    "test_k = k * 5\n",
    "\n",
    "gt_res = vector_search(coll=gt_coll, text_queries=text_queries, k=k, batch_size=100)\n",
    "test_res = vector_search(coll=test_coll, text_queries=text_queries, k=test_k, batch_size=100)"
   ]
  },
  {
   "cell_type": "code",
   "execution_count": 4,
   "id": "cb9e496c",
   "metadata": {},
   "outputs": [],
   "source": [
    "'''\n",
    "GT positions\n",
    "\n",
    "For gt in gt_res, find the position of gt in test_res, return a list of positions matches the shape of gt_res\n",
    "'''\n",
    "\n",
    "def find_gt_positions(one_gt_res, one_test_res):\n",
    "    gt_positions = []\n",
    "    for gt in one_gt_res:\n",
    "        if gt not in one_test_res:\n",
    "            gt_positions.append(-1)\n",
    "        else:\n",
    "            gt_positions.append(one_test_res.index(gt))\n",
    "    return gt_positions\n",
    "\n",
    "def find_gt_positions_for_all(gt_res, test_res):\n",
    "    gt_positions = []\n",
    "    for i in range(len(gt_res)):\n",
    "        gt_positions.append(find_gt_positions(gt_res[i], test_res[i]))\n",
    "    return gt_positions"
   ]
  },
  {
   "cell_type": "code",
   "execution_count": 5,
   "id": "6b6f967b",
   "metadata": {},
   "outputs": [],
   "source": [
    "gt_pos_in_test = find_gt_positions_for_all(gt_res, test_res)\n",
    "# gt_pos_in_test"
   ]
  },
  {
   "cell_type": "code",
   "execution_count": 6,
   "id": "fc21b14c",
   "metadata": {},
   "outputs": [
    {
     "name": "stderr",
     "output_type": "stream",
     "text": [
      " 10%|█████████████████▎                                                                                                                                                             | 99/1000 [00:00<00:08, 105.73it/s]\n"
     ]
    },
    {
     "data": {
      "image/png": "[encoded data removed]",
      "text/plain": [
       "<Figure size 700x350 with 1 Axes>"
      ]
     },
     "metadata": {},
     "output_type": "display_data"
    }
   ],
   "source": [
    "# plot gt pos (index in l) vs. test pos (val, -1 means not found)\n",
    "counter = 0\n",
    "\n",
    "fig, ax = plt.subplots(figsize=(7, 3.5))\n",
    "for one_gt_pos in tqdm(gt_pos_in_test):\n",
    "    counter += 1\n",
    "    for i, pos in enumerate(one_gt_pos):\n",
    "        if pos == -1: continue\n",
    "        # randomly wiggly the i for better visualization\n",
    "        i = i + random.uniform(-0.3, 0.3)\n",
    "        pos = pos + random.uniform(-0.3, 0.3)\n",
    "        ax.scatter(pos, i, s=(1/(i+1))*100, marker='.', color='green', alpha=0.5)\n",
    "    if counter==100: break\n",
    "\n",
    "# add vertical line at k\n",
    "ax.axvline(x=k, color='red', linestyle='--')\n",
    "    \n",
    "# add horizontal line at k\n",
    "# ax.axhline(y=k, color='red', linestyle='--')\n",
    "\n",
    "ax.set_ylabel(\"Position in GT\")\n",
    "ax.set_xlabel(\"Position in Test\")\n",
    "# ax.set_title(\"GT Position in Test\")\n",
    "plt.savefig(\"gt_pos_in_test.png\")\n",
    "plt.show()"
   ]
  },
  {
   "cell_type": "code",
   "execution_count": 8,
   "id": "810586c5",
   "metadata": {},
   "outputs": [
    {
     "data": {
      "image/png": "[encoded data removed]",
      "text/plain": [
       "<Figure size 600x300 with 1 Axes>"
      ]
     },
     "metadata": {},
     "output_type": "display_data"
    }
   ],
   "source": [
    "# make a bar plot count number of dp in GT for each test position\n",
    "\n",
    "test_pos_numGT_dict = {}\n",
    "for sample_res in gt_pos_in_test:\n",
    "    for i, pos in enumerate(sample_res):\n",
    "        if pos not in test_pos_numGT_dict and pos != -1:\n",
    "            test_pos_numGT_dict[pos] = 1\n",
    "        if pos != -1: test_pos_numGT_dict[pos] += 1\n",
    "\n",
    "# plot test_pos_numGT_dict\n",
    "fig, ax = plt.subplots(figsize=(6, 3))\n",
    "ax.bar(test_pos_numGT_dict.keys(), np.array(list(test_pos_numGT_dict.values()))/1)\n",
    "ax.set_xlabel(\"Test position\")\n",
    "ax.set_ylabel(\"Count\")\n",
    "ax.set_title(\"Count of dp in GT for each test position\")\n",
    "# add vertical line at k\n",
    "ax.axvline(x=k, color='red', linestyle='--')\n",
    "plt.savefig(\"gt_study_plot/test_pos_numGT.pdf\")\n",
    "\n",
    "plt.show()"
   ]
  },
  {
   "cell_type": "code",
   "execution_count": 9,
   "id": "99bfc584",
   "metadata": {},
   "outputs": [],
   "source": [
    "# centrality for GT outside of top k\n",
    "def construct_metagraph_from_ids(id_list, g_data):\n",
    "    mg = MetadataGraph()\n",
    "    metadata_sets = []\n",
    "    for id in id_list:\n",
    "        metadata_sets.append(g_data.data_dict[id])\n",
    "    mg.build_from_metadata_set_list(metadata_sets)\n",
    "    return mg\n",
    "\n",
    "def compute_avg_degree_centrality_for_ids(id_list, mg, g_data):\n",
    "    dc = nx.degree_centrality(mg.G)\n",
    "    # sorted_dc = dict(sorted(dc.items(), key=lambda x: x[1], reverse=True))\n",
    "    dp_meta_score = {}\n",
    "    for dp_id in id_list:\n",
    "        metadata = g_data.data_dict[dp_id]\n",
    "        # compute metadata score (avg degree centrality of metadata)\n",
    "        dp_meta_score[dp_id] = np.mean([dc[md] for md in metadata])\n",
    "    return dp_meta_score"
   ]
  },
  {
   "cell_type": "code",
   "execution_count": 10,
   "id": "ff2a3c36",
   "metadata": {},
   "outputs": [
    {
     "data": {
      "image/png": "[encoded data removed]",
      "text/plain": [
       "<Figure size 600x300 with 1 Axes>"
      ]
     },
     "metadata": {},
     "output_type": "display_data"
    }
   ],
   "source": [
    "sample_idx = 500\n",
    "\n",
    "# print(gt_res[sample_idx])\n",
    "# print(test_res[sample_idx])\n",
    "# print(gt_pos_in_test[sample_idx])\n",
    "\n",
    "# create metadata graph, get degree centrality\n",
    "mg = construct_metagraph_from_ids(test_res[sample_idx], g_data)\n",
    "dc = nx.degree_centrality(mg.G)\n",
    "\n",
    "# for dp in test_res[sample_idx] and in GT, compute metadata score\n",
    "dp_meta_score = {}\n",
    "for i, dp_id in enumerate(test_res[sample_idx]):\n",
    "    metadata = g_data.data_dict[dp_id]\n",
    "    dp_meta_score[dp_id] = np.mean([dc[md] for md in metadata])\n",
    "\n",
    "'''\n",
    "plot dp_meta_score bar plot\n",
    "\n",
    "x-axis: dp position in test_res\n",
    "y-axis: metadata score\n",
    "color: green for GT, red for not in GT\n",
    "'''\n",
    "\n",
    "fig, ax = plt.subplots(figsize=(6, 3))\n",
    "for i, dp_id in enumerate(test_res[sample_idx]):\n",
    "    if dp_id in gt_res[sample_idx]:\n",
    "        ax.bar(i, dp_meta_score[dp_id], color='green', alpha=0.5, label='GT')\n",
    "    else:\n",
    "        ax.bar(i, dp_meta_score[dp_id], color='red', alpha=0.8)\n",
    "ax.set_xlabel(\"Position in Test\")\n",
    "ax.set_ylabel(\"Metadata Score\")\n",
    "\n",
    "# add vertical line at k\n",
    "ax.axvline(x=k, color='black', linestyle='--')\n",
    "ax.set_title(\"Degree Centrality (idx: %d)\" % sample_idx)\n",
    "plt.tight_layout()\n",
    "plt.show()"
   ]
  },
  {
   "cell_type": "markdown",
   "id": "058cc5d4",
   "metadata": {},
   "source": [
    "## Degree_centrality"
   ]
  },
  {
   "cell_type": "code",
   "execution_count": 56,
   "id": "6b57c0de",
   "metadata": {},
   "outputs": [],
   "source": [
    "def plot_degree_centrality_for_idx(sample_idx, test_res, gt_res, g_data, k, account_for_position=False, ax=None):\n",
    "    mg = construct_metagraph_from_ids(test_res[sample_idx], g_data)\n",
    "    dc = nx.degree_centrality(mg.G)\n",
    "\n",
    "    # for dp in test_res[sample_idx] and in GT, compute metadata score\n",
    "    dp_meta_score = {}\n",
    "    for i, dp_id in enumerate(test_res[sample_idx]):\n",
    "        metadata = g_data.data_dict[dp_id]\n",
    "        if account_for_position:\n",
    "            dp_meta_score[dp_id] = np.mean([dc[md] for md in metadata]) * (1 - i/len(test_res[sample_idx]))\n",
    "        else:\n",
    "            dp_meta_score[dp_id] = np.mean([dc[md] for md in metadata])\n",
    "    \n",
    "    if ax is None:\n",
    "        fig, ax = plt.subplots(figsize=(5.5, 2.5))\n",
    "        \n",
    "    for i, dp_id in enumerate(test_res[sample_idx]):\n",
    "        if dp_id in gt_res[sample_idx]:\n",
    "            ax.bar(i, dp_meta_score[dp_id], color='green', alpha=0.9, label='GT')\n",
    "            ax.axhline(dp_meta_score[dp_id], color='green', linestyle='--', alpha=0.35, linewidth=0.7)\n",
    "        else:\n",
    "            ax.bar(i, dp_meta_score[dp_id], color='red', alpha=0.65)\n",
    "    ax.set_xlabel(\"Position in Test\")\n",
    "    ax.set_ylabel(\"Metadata Score\")\n",
    "    # add vertical line at k\n",
    "    ax.axvline(x=k, color='black', linestyle='--', linewidth=2)\n",
    "    ax.set_title(\"Degree Centrality (idx: %d) \\n AccountPosition: %s\" % (sample_idx, account_for_position))\n",
    "    # set x-limit to k\n",
    "    ax.set_xlim([0, len(test_res[sample_idx])])\n",
    "    # plt.tight_layout()\n",
    "    # plt.show()\n",
    "    return ax"
   ]
  },
  {
   "cell_type": "code",
   "execution_count": null,
   "id": "899db8f5",
   "metadata": {},
   "outputs": [],
   "source": [
    "# depend on number of random idx, make subplots, in 2 columns: accout for position and not\n",
    "\n",
    "number_of_plots = 50\n",
    "random_idx_list = [random.randint(0, len(test_res)) for _ in range(number_of_plots)]\n",
    "\n",
    "fig, axs = plt.subplots(number_of_plots, 2, figsize=(13, 3*number_of_plots))\n",
    "\n",
    "for i, random_idx in enumerate(random_idx_list):\n",
    "    plot_degree_centrality_for_idx(random_idx, test_res, gt_res, g_data, k, account_for_position=False, ax=axs[i][0])\n",
    "    plot_degree_centrality_for_idx(random_idx, test_res, gt_res, g_data, k, account_for_position=True, ax=axs[i][1])\n",
    "plt.tight_layout()\n",
    "plt.savefig(\"gt_study_plot/degree_centrality.pdf\")\n",
    "plt.show()"
   ]
  },
  {
   "cell_type": "markdown",
   "id": "cf98cdce",
   "metadata": {},
   "source": [
    "## closeness_centrality"
   ]
  },
  {
   "cell_type": "code",
   "execution_count": null,
   "id": "a287c4a2",
   "metadata": {},
   "outputs": [],
   "source": [
    "def plot_closeness_centrality_for_idx(sample_idx, test_res, gt_res, g_data, k, account_for_position=False, ax=None):\n",
    "    mg = construct_metagraph_from_ids(test_res[sample_idx], g_data)\n",
    "    dc = nx.closeness_centrality(mg.G)\n",
    "\n",
    "    # for dp in test_res[sample_idx] and in GT, compute metadata score\n",
    "    dp_meta_score = {}\n",
    "    for i, dp_id in enumerate(test_res[sample_idx]):\n",
    "        metadata = g_data.data_dict[dp_id]\n",
    "        if account_for_position:\n",
    "            dp_meta_score[dp_id] = np.mean([dc[md] for md in metadata]) * (1 - i/len(test_res[sample_idx]))\n",
    "        else:\n",
    "            dp_meta_score[dp_id] = np.mean([dc[md] for md in metadata])\n",
    "    \n",
    "    if ax is None:\n",
    "        fig, ax = plt.subplots(figsize=(5.5, 2.5))\n",
    "        \n",
    "    for i, dp_id in enumerate(test_res[sample_idx]):\n",
    "        if dp_id in gt_res[sample_idx]:\n",
    "            ax.bar(i, dp_meta_score[dp_id], color='green', alpha=0.9, label='GT')\n",
    "            ax.axhline(dp_meta_score[dp_id], color='green', linestyle='--', alpha=0.35, linewidth=0.7)\n",
    "        else:\n",
    "            ax.bar(i, dp_meta_score[dp_id], color='red', alpha=0.65)\n",
    "    ax.set_xlabel(\"Position in Test\")\n",
    "    ax.set_ylabel(\"Metadata Score\")\n",
    "    # add vertical line at k\n",
    "    ax.axvline(x=k, color='black', linestyle='--', linewidth=2)\n",
    "    ax.set_title(\"Closeness Centrality (idx: %d) \\n AccountPosition: %s\" % (sample_idx, account_for_position))\n",
    "    # set x-limit to k\n",
    "    ax.set_xlim([0, len(test_res[sample_idx])])\n",
    "    # plt.tight_layout()\n",
    "    # plt.show()\n",
    "    return ax"
   ]
  },
  {
   "cell_type": "code",
   "execution_count": null,
   "id": "333b4b07",
   "metadata": {},
   "outputs": [],
   "source": [
    "number_of_plots = len(random_idx_list)\n",
    "\n",
    "fig, axs = plt.subplots(number_of_plots, 2, figsize=(13, 3*number_of_plots))\n",
    "\n",
    "for i, random_idx in enumerate(random_idx_list):\n",
    "    plot_closeness_centrality_for_idx(random_idx, test_res, gt_res, g_data, k, account_for_position=False, ax=axs[i][0])\n",
    "    plot_closeness_centrality_for_idx(random_idx, test_res, gt_res, g_data, k, account_for_position=True, ax=axs[i][1])\n",
    "plt.tight_layout()\n",
    "plt.savefig(\"gt_study_plot/closeness_centrality.pdf\")\n",
    "plt.show()"
   ]
  },
  {
   "cell_type": "markdown",
   "id": "1ac92e7c",
   "metadata": {},
   "source": [
    "## laplacian_centrality"
   ]
  },
  {
   "cell_type": "code",
   "execution_count": null,
   "id": "dd3cd052",
   "metadata": {},
   "outputs": [],
   "source": [
    "def plot_laplacian_centrality_for_idx(sample_idx, test_res, gt_res, g_data, k, account_for_position=False, ax=None):\n",
    "    mg = construct_metagraph_from_ids(test_res[sample_idx], g_data)\n",
    "    dc = nx.laplacian_centrality(mg.G)\n",
    "\n",
    "    # for dp in test_res[sample_idx] and in GT, compute metadata score\n",
    "    dp_meta_score = {}\n",
    "    for i, dp_id in enumerate(test_res[sample_idx]):\n",
    "        metadata = g_data.data_dict[dp_id]\n",
    "        if account_for_position:\n",
    "            dp_meta_score[dp_id] = np.mean([dc[md] for md in metadata]) * (1 - i/len(test_res[sample_idx]))\n",
    "        else:\n",
    "            dp_meta_score[dp_id] = np.mean([dc[md] for md in metadata])\n",
    "    \n",
    "    if ax is None:\n",
    "        fig, ax = plt.subplots(figsize=(5.5, 2.5))\n",
    "        \n",
    "    for i, dp_id in enumerate(test_res[sample_idx]):\n",
    "        if dp_id in gt_res[sample_idx]:\n",
    "            ax.bar(i, dp_meta_score[dp_id], color='green', alpha=0.9, label='GT')\n",
    "            ax.axhline(dp_meta_score[dp_id], color='green', linestyle='--', alpha=0.35, linewidth=0.7)\n",
    "        else:\n",
    "            ax.bar(i, dp_meta_score[dp_id], color='red', alpha=0.65)\n",
    "    ax.set_xlabel(\"Position in Test\")\n",
    "    ax.set_ylabel(\"Metadata Score\")\n",
    "    # add vertical line at k\n",
    "    ax.axvline(x=k, color='black', linestyle='--', linewidth=2)\n",
    "    ax.set_title(\"Laplacian Centrality (idx: %d) \\n AccountPosition: %s\" % (sample_idx, account_for_position))\n",
    "    # set x-limit to k\n",
    "    ax.set_xlim([0, len(test_res[sample_idx])])\n",
    "    # plt.tight_layout()\n",
    "    # plt.show()\n",
    "    return ax"
   ]
  },
  {
   "cell_type": "code",
   "execution_count": null,
   "id": "61971435",
   "metadata": {},
   "outputs": [],
   "source": [
    "number_of_plots = len(random_idx_list)\n",
    "\n",
    "fig, axs = plt.subplots(number_of_plots, 2, figsize=(13, 3*number_of_plots))\n",
    "\n",
    "for i, random_idx in enumerate(random_idx_list):\n",
    "    plot_laplacian_centrality_for_idx(random_idx, test_res, gt_res, g_data, k, account_for_position=False, ax=axs[i][0])\n",
    "    plot_laplacian_centrality_for_idx(random_idx, test_res, gt_res, g_data, k, account_for_position=True, ax=axs[i][1])\n",
    "plt.tight_layout()\n",
    "plt.savefig(\"gt_study_plot/laplacian_centrality.pdf\")\n",
    "plt.show()"
   ]
  },
  {
   "cell_type": "code",
   "execution_count": null,
   "id": "54e218ed",
   "metadata": {},
   "outputs": [],
   "source": []
  }
 ],
 "metadata": {
  "kernelspec": {
   "display_name": "Python 3 (ipykernel)",
   "language": "python",
   "name": "python3"
  },
  "language_info": {
   "codemirror_mode": {
    "name": "ipython",
    "version": 3
   },
   "file_extension": ".py",
   "mimetype": "text/x-python",
   "name": "python",
   "nbconvert_exporter": "python",
   "pygments_lexer": "ipython3",
   "version": "3.9.19"
  }
 },
 "nbformat": 4,
 "nbformat_minor": 5
}
