{
 "cells": [
  {
   "cell_type": "code",
   "execution_count": 5,
   "id": "f42442e9-7811-4d24-8f11-f7519eaf4584",
   "metadata": {},
   "outputs": [
    {
     "data": {
      "text/plain": [
       "[Collection(name=cnn_headline),\n",
       " Collection(name=arxiv_title),\n",
       " Collection(name=arxiv_abstract),\n",
       " Collection(name=wiki_plot),\n",
       " Collection(name=wiki_plot_summary),\n",
       " Collection(name=cnn_article)]"
      ]
     },
     "execution_count": 5,
     "metadata": {},
     "output_type": "execute_result"
    }
   ],
   "source": [
    "%matplotlib inline\n",
    "\n",
    "import sys\n",
    "import random\n",
    "import pickle\n",
    "import chromadb\n",
    "import numpy as np\n",
    "from pprint import pprint\n",
    "from tqdm.auto import tqdm\n",
    "from matplotlib import pyplot as plt\n",
    "import networkx as nx\n",
    "import json\n",
    "from pyvis.network import Network\n",
    "from sklearn.metrics import ndcg_score\n",
    "\n",
    "sys.path.append(\"../\")\n",
    "from utils.metadata_graph import *\n",
    "from utils.vector_search_utils import *\n",
    "from utils.parse_arxiv import *\n",
    "from compute_metrics import batch_compute_percent_include, compute_percent_include\n",
    "\n",
    "chroma_client = chromadb.PersistentClient(path=\"../data/chroma_dbs/\")\n",
    "chroma_client.list_collections()"
   ]
  },
  {
   "cell_type": "code",
   "execution_count": 6,
   "id": "e94bc8b0",
   "metadata": {},
   "outputs": [],
   "source": [
    "test_coll = chroma_client.get_collection(\"arxiv_title\")\n",
    "gt_coll = chroma_client.get_collection(\"arxiv_abstract\")\n",
    "\n",
    "# read workload csv\n",
    "workload_csv = \"../data/arxiv/arxiv_workloads/pn1000_n1.csv\"\n",
    "workload_df = pd.read_csv(workload_csv)\n",
    "\n",
    "text_queries = workload_df[\"query\"].tolist()"
   ]
  },
  {
   "cell_type": "code",
   "execution_count": 7,
   "id": "c6515690",
   "metadata": {},
   "outputs": [],
   "source": [
    "# k = 10\n",
    "# test_k = k \n",
    "\n",
    "# gt_res = vector_search(coll=gt_coll, text_queries=text_queries, k=k, batch_size=100)\n",
    "# test_res = vector_search(coll=test_coll, text_queries=text_queries, k=test_k, batch_size=100)"
   ]
  },
  {
   "cell_type": "code",
   "execution_count": 8,
   "id": "87db26be",
   "metadata": {},
   "outputs": [],
   "source": [
    "def exp(gt_coll, test_coll, k, kps, text_queries, gt_res, test_res):\n",
    "    mean_recalls = []\n",
    "    gt_res = vector_search(coll=gt_coll, text_queries=text_queries, k=k, batch_size=100)\n",
    "    for kp in kps:\n",
    "        # increase test k\n",
    "        test_k = int( (1 + kp) * k)\n",
    "        test_res = vector_search(coll=test_coll, text_queries=text_queries, k=test_k, batch_size=100)\n",
    "        recalls = batch_compute_percent_include(gt_res, test_res)\n",
    "        mean_recalls.append(np.mean(recalls))\n",
    "    return mean_recalls"
   ]
  },
  {
   "cell_type": "code",
   "execution_count": null,
   "id": "3f7ab485",
   "metadata": {},
   "outputs": [],
   "source": [
    "# make plot mean-recalls vs. % of extra k (0 to 100% increase)\n",
    "ks = [5, 10, 50, 100, 500]\n",
    "kps = np.arange(0, 1.2, 0.2)\n",
    "\n",
    "mean_recall_dict = {}\n",
    "for k in ks:\n",
    "    mean_recalls = exp(gt_coll, test_coll, k, kps, text_queries, gt_res, test_res)\n",
    "    mean_recall_dict[k] = mean_recalls"
   ]
  },
  {
   "cell_type": "code",
   "execution_count": null,
   "id": "88ab56a5",
   "metadata": {},
   "outputs": [],
   "source": [
    "# plot all\n",
    "fig, ax = plt.subplots(figsize=(5, 3))\n",
    "for k in ks:\n",
    "    ax.plot(kps, mean_recall_dict[k], label=f\"k={k}\")\n",
    "    ax.set_xlabel(\"Extra k (%)\")\n",
    "    ax.set_ylabel(\"Mean Recall\")\n",
    "# ax.set_title(\"Mean recall vs. percentage of extra k\")\n",
    "ax.legend()\n",
    "plt.show()"
   ]
  },
  {
   "cell_type": "markdown",
   "id": "7ac434be",
   "metadata": {},
   "source": [
    "# Exp"
   ]
  },
  {
   "cell_type": "code",
   "execution_count": 9,
   "id": "2174b6b9",
   "metadata": {},
   "outputs": [
    {
     "name": "stdout",
     "output_type": "stream",
     "text": [
      "{'author:RaymondH.Y.Louie',\n",
      " 'author:YonghuiLi',\n",
      " 'author:andBrankaVucetic',\n",
      " 'category:cs.IT',\n",
      " 'category:math.IT',\n",
      " 'journal:IEEE Transactions on Vehicular Technology, 2010',\n",
      " 'year:2016'}\n",
      "\n",
      "{'id_2106.02811', 'id_1009.5145'}\n"
     ]
    }
   ],
   "source": [
    " # load pickle\n",
    "g_data = pickle.load(open('../data/arxiv/graph.pickle', 'rb'))\n",
    "\n",
    "pprint(g_data.data_dict['id_1009.5145'])\n",
    "print()\n",
    "print(g_data.keyword_dict['author:YonghuiLi'])"
   ]
  },
  {
   "cell_type": "markdown",
   "id": "e38a60bb",
   "metadata": {},
   "source": [
    "## GT Distribution in 2*k"
   ]
  },
  {
   "cell_type": "code",
   "execution_count": 17,
   "id": "86ce761a",
   "metadata": {},
   "outputs": [
    {
     "name": "stdout",
     "output_type": "stream",
     "text": [
      "[2, 3]\n"
     ]
    }
   ],
   "source": [
    "def find_elements_in_list(elements, l):\n",
    "    # find elements in list, return a list of index of l\n",
    "    idxs = []\n",
    "    for e in elements:\n",
    "        if e not in l: continue\n",
    "        idx = l.index(e)\n",
    "        idxs.append(idx)\n",
    "    return idxs\n",
    "\n",
    "# test\n",
    "l = [1, 2, 3, 4, 5]\n",
    "elements = [3, 4, 10]\n",
    "print(find_elements_in_list(elements, l))"
   ]
  },
  {
   "cell_type": "code",
   "execution_count": 38,
   "id": "ae18d93c",
   "metadata": {},
   "outputs": [
    {
     "name": "stderr",
     "output_type": "stream",
     "text": [
      "100%|██████████| 10/10 [00:11<00:00,  1.12s/it]\n",
      "100%|██████████| 10/10 [00:11<00:00,  1.12s/it]\n"
     ]
    }
   ],
   "source": [
    "k = 10\n",
    "test_k = k * 2\n",
    "\n",
    "gt_res = vector_search(coll=gt_coll, text_queries=text_queries, k=k, batch_size=100)\n",
    "test_res = vector_search(coll=test_coll, text_queries=text_queries, k=test_k, batch_size=100)"
   ]
  },
  {
   "cell_type": "code",
   "execution_count": 79,
   "id": "998737f6",
   "metadata": {},
   "outputs": [
    {
     "data": {
      "image/png": "[encoded data removed]",
      "text/plain": [
       "<Figure size 600x300 with 1 Axes>"
      ]
     },
     "metadata": {},
     "output_type": "display_data"
    }
   ],
   "source": [
    "# For each res, For each posistion of k, count the number of dp that is in GT\n",
    "\n",
    "kpos_count_dict = {}\n",
    "\n",
    "for res_index, one_t_res in enumerate(test_res):\n",
    "    one_gt_res = gt_res[res_index]\n",
    "    idxs = find_elements_in_list(one_gt_res, one_t_res)\n",
    "    for i in idxs:\n",
    "        if i not in kpos_count_dict: kpos_count_dict[i] = 0\n",
    "        kpos_count_dict[i] += 1\n",
    "\n",
    "# plot kpos_count_dict\n",
    "fig, ax = plt.subplots(figsize=(6, 3))\n",
    "ax.bar(kpos_count_dict.keys(), np.array(list(kpos_count_dict.values()))/1)\n",
    "ax.set_xlabel(\"k position\")\n",
    "# ax.set_ylabel(\"Count\")\n",
    "ax.set_title(\"Count of dp in GT for each k position\")\n",
    "plt.show()"
   ]
  },
  {
   "cell_type": "code",
   "execution_count": 48,
   "id": "f84a7678",
   "metadata": {},
   "outputs": [],
   "source": [
    "def construct_metagraph_from_ids(id_list, g_data):\n",
    "    mg = MetadataGraph()\n",
    "    metadata_sets = []\n",
    "    for id in id_list:\n",
    "        metadata_sets.append(g_data.data_dict[id])\n",
    "    mg.build_from_metadata_set_list(metadata_sets)\n",
    "    return mg\n",
    "\n",
    "def compute_avg_degree_centrality_for_ids(id_list, mg, g_data):\n",
    "    dc = nx.degree_centrality(mg.G)\n",
    "    # sorted_dc = dict(sorted(dc.items(), key=lambda x: x[1], reverse=True))\n",
    "    dp_meta_score = {}\n",
    "    for dp_id in id_list:\n",
    "        metadata = g_data.data_dict[dp_id]\n",
    "        # compute metadata score (avg degree centrality of metadata)\n",
    "        dp_meta_score[dp_id] = np.mean([dc[md] for md in metadata])\n",
    "    return dp_meta_score"
   ]
  },
  {
   "cell_type": "code",
   "execution_count": 67,
   "id": "409e3a6e",
   "metadata": {},
   "outputs": [
    {
     "data": {
      "text/plain": [
       "[0, 1]"
      ]
     },
     "execution_count": 67,
     "metadata": {},
     "output_type": "execute_result"
    }
   ],
   "source": [
    "query_idx = 10\n",
    "tmp_sample = test_res[query_idx]\n",
    "tmp_gt_sample = gt_res[query_idx]\n",
    "\n",
    "# construct metagraph\n",
    "mg = construct_metagraph_from_ids(tmp_sample, g_data)\n",
    "dp_meta_score = compute_avg_degree_centrality_for_ids(tmp_sample, mg, g_data)\n",
    "\n",
    "find_elements_in_list(tmp_gt_sample, tmp_sample)"
   ]
  },
  {
   "cell_type": "code",
   "execution_count": 10,
   "id": "54bef83a",
   "metadata": {},
   "outputs": [
    {
     "name": "stderr",
     "output_type": "stream",
     "text": [
      "100%|██████████| 10/10 [00:11<00:00,  1.17s/it]\n",
      "100%|██████████| 10/10 [00:11<00:00,  1.17s/it]\n"
     ]
    }
   ],
   "source": [
    "k = 10\n",
    "test_k = k * 2\n",
    "\n",
    "gt_res = vector_search(coll=gt_coll, text_queries=text_queries, k=k, batch_size=100)\n",
    "test_res = vector_search(coll=test_coll, text_queries=text_queries, k=test_k, batch_size=100)"
   ]
  },
  {
   "cell_type": "code",
   "execution_count": null,
   "id": "3343c819",
   "metadata": {},
   "outputs": [],
   "source": [
    "query_idx = 10\n",
    "tmp_sample = test_res[query_idx]\n",
    "\n",
    "mg = construct_metagraph_from_ids(tmp_sample, g_data)"
   ]
  },
  {
   "cell_type": "code",
   "execution_count": null,
   "id": "20d15f86",
   "metadata": {},
   "outputs": [],
   "source": [
    "dc = nx.degree_centrality(mg.G)\n",
    "\n",
    "# sort by degree centrality\n",
    "sorted_dc = dict(sorted(dc.items(), key=lambda x: x[1], reverse=True))\n",
    "# sorted_dc"
   ]
  },
  {
   "cell_type": "code",
   "execution_count": null,
   "id": "15ae0345",
   "metadata": {},
   "outputs": [],
   "source": [
    "dp_meta_score = {}\n",
    "for dp_id in tmp_sample:\n",
    "    # print(dp)\n",
    "    metadata = g_data.data_dict[dp_id]\n",
    "    # compute metadata score (avg degree centrality of metadata)\n",
    "    dp_meta_score[dp_id] = np.mean([dc[md] for md in metadata])"
   ]
  },
  {
   "cell_type": "code",
   "execution_count": null,
   "id": "c0b348d6",
   "metadata": {},
   "outputs": [],
   "source": [
    "print(\"precent include\")\n",
    "print(\"before  :\", compute_percent_include(gt_res[0], tmp_sample[:10]))\n",
    "\n",
    "# re-rank by metadata score\n",
    "sorted_dp_meta_score = dict(sorted(dp_meta_score.items(), key=lambda x: x[1], reverse=True))\n",
    "re_ranked_dps = list(sorted_dp_meta_score.keys())\n",
    "\n",
    "print(\"re-rank :\", compute_percent_include(gt_res[query_idx], re_ranked_dps[:10]))\n",
    "\n",
    "print(\"upper-bound:\", compute_percent_include(gt_res[query_idx], re_ranked_dps[:]))"
   ]
  },
  {
   "cell_type": "code",
   "execution_count": null,
   "id": "59b09e07",
   "metadata": {},
   "outputs": [],
   "source": []
  },
  {
   "cell_type": "markdown",
   "id": "1274c454",
   "metadata": {},
   "source": [
    "# re-rank workloads"
   ]
  },
  {
   "cell_type": "code",
   "execution_count": 68,
   "id": "db648fce",
   "metadata": {},
   "outputs": [
    {
     "name": "stderr",
     "output_type": "stream",
     "text": [
      "100%|██████████| 10/10 [00:10<00:00,  1.09s/it]\n",
      "100%|██████████| 10/10 [00:11<00:00,  1.12s/it]\n"
     ]
    }
   ],
   "source": [
    "k = 10\n",
    "test_k = k * 2\n",
    "\n",
    "gt_res = vector_search(coll=gt_coll, text_queries=text_queries, k=k, batch_size=100)\n",
    "test_res = vector_search(coll=test_coll, text_queries=text_queries, k=test_k, batch_size=100)"
   ]
  },
  {
   "cell_type": "markdown",
   "id": "cc630a96",
   "metadata": {},
   "source": [
    "## Degree_centrality"
   ]
  },
  {
   "cell_type": "code",
   "execution_count": 69,
   "id": "41fdbdd1",
   "metadata": {},
   "outputs": [
    {
     "name": "stderr",
     "output_type": "stream",
     "text": [
      "100%|██████████| 1000/1000 [00:11<00:00, 88.65it/s]\n"
     ]
    }
   ],
   "source": [
    "befores = []\n",
    "afters = []\n",
    "upper_bounds = []\n",
    "\n",
    "for query_idx in tqdm(range(len(text_queries))):\n",
    "    tmp_sample = test_res[query_idx]\n",
    "    mg = construct_metagraph_from_ids(tmp_sample, g_data)\n",
    "    \n",
    "    dc = nx.degree_centrality(mg.G)\n",
    "    # sort by degree centrality\n",
    "    sorted_dc = dict(sorted(dc.items(), key=lambda x: x[1], reverse=True))\n",
    "\n",
    "    dp_meta_score = {}\n",
    "    for i, dp_id in enumerate(tmp_sample):\n",
    "        metadata = g_data.data_dict[dp_id]\n",
    "        # compute metadata score (avg degree centrality of metadata)\n",
    "        dp_meta_score[dp_id] = np.mean([dc[md] for md in metadata]) * (1 - i/len(tmp_sample))\n",
    "\n",
    "    # re-rank by metadata score\n",
    "    sorted_dp_meta_score = dict(sorted(dp_meta_score.items(), key=lambda x: x[1], reverse=True))\n",
    "    re_ranked_dps = list(sorted_dp_meta_score.keys())\n",
    "\n",
    "    # befores.append(ndcg_score([gt_res[query_idx]], [tmp_sample[:k]]))\n",
    "    # afters.append(ndcg_score([gt_res[query_idx]], [re_ranked_dps[:k]]))\n",
    "    befores.append(compute_percent_include(gt_res[query_idx], tmp_sample[:k]))\n",
    "    afters.append(compute_percent_include(gt_res[query_idx], re_ranked_dps[:k]))\n",
    "    upper_bounds.append(compute_percent_include(gt_res[query_idx], re_ranked_dps[:]))\n",
    "    # print(\"precent include\")\n",
    "    # print(\"before  :\", compute_percent_include(gt_res[0], tmp_sample[:10]))\n",
    "    # print(\"re-rank :\", compute_percent_include(gt_res[query_idx], re_ranked_dps[:10]))\n",
    "    # print(\"upper-bound:\", compute_percent_include(gt_res[query_idx], re_ranked_dps[:]))"
   ]
  },
  {
   "cell_type": "code",
   "execution_count": 70,
   "id": "0997e43f",
   "metadata": {},
   "outputs": [
    {
     "name": "stdout",
     "output_type": "stream",
     "text": [
      "before  : 0.2833\n",
      "re-rank : 0.2825\n",
      "upper-bound: 0.3987\n"
     ]
    }
   ],
   "source": [
    "print(\"before  :\", np.mean(befores))\n",
    "print(\"re-rank :\", np.mean(afters))\n",
    "print(\"upper-bound:\", np.mean(upper_bounds))"
   ]
  },
  {
   "cell_type": "code",
   "execution_count": null,
   "id": "94c97e77",
   "metadata": {},
   "outputs": [],
   "source": []
  },
  {
   "cell_type": "markdown",
   "id": "413e2eac",
   "metadata": {},
   "source": [
    "## closeness_centrality"
   ]
  },
  {
   "cell_type": "code",
   "execution_count": 71,
   "id": "b72d6058",
   "metadata": {},
   "outputs": [
    {
     "name": "stderr",
     "output_type": "stream",
     "text": [
      "100%|██████████| 1000/1000 [08:00<00:00,  2.08it/s]\n"
     ]
    }
   ],
   "source": [
    "befores = []\n",
    "afters = []\n",
    "upper_bounds = []\n",
    "\n",
    "for query_idx in tqdm(range(len(text_queries))):\n",
    "    tmp_sample = test_res[query_idx]\n",
    "    mg = construct_metagraph_from_ids(tmp_sample, g_data)\n",
    "    \n",
    "    dc = nx.closeness_centrality(mg.G)\n",
    "    # sort by degree centrality\n",
    "    sorted_dc = dict(sorted(dc.items(), key=lambda x: x[1], reverse=True))\n",
    "\n",
    "    dp_meta_score = {}\n",
    "    for i, dp_id in enumerate(tmp_sample):\n",
    "        metadata = g_data.data_dict[dp_id]\n",
    "        # compute metadata score (avg degree centrality of metadata)\n",
    "        dp_meta_score[dp_id] = np.mean([dc[md] for md in metadata]) * (1 - i/len(tmp_sample))\n",
    "\n",
    "    # re-rank by metadata score\n",
    "    sorted_dp_meta_score = dict(sorted(dp_meta_score.items(), key=lambda x: x[1], reverse=True))\n",
    "    re_ranked_dps = list(sorted_dp_meta_score.keys())\n",
    "\n",
    "    # befores.append(ndcg_score([gt_res[query_idx]], [tmp_sample[:k]]))\n",
    "    # afters.append(ndcg_score([gt_res[query_idx]], [re_ranked_dps[:k]]))\n",
    "    befores.append(compute_percent_include(gt_res[query_idx], tmp_sample[:k]))\n",
    "    afters.append(compute_percent_include(gt_res[query_idx], re_ranked_dps[:k]))\n",
    "    upper_bounds.append(compute_percent_include(gt_res[query_idx], re_ranked_dps[:]))\n",
    "    # print(\"precent include\")\n",
    "    # print(\"before  :\", compute_percent_include(gt_res[0], tmp_sample[:10]))\n",
    "    # print(\"re-rank :\", compute_percent_include(gt_res[query_idx], re_ranked_dps[:10]))\n",
    "    # print(\"upper-bound:\", compute_percent_include(gt_res[query_idx], re_ranked_dps[:]))"
   ]
  },
  {
   "cell_type": "code",
   "execution_count": 72,
   "id": "ace280b1",
   "metadata": {},
   "outputs": [
    {
     "name": "stdout",
     "output_type": "stream",
     "text": [
      "before  : 0.2833\n",
      "re-rank : 0.2849\n",
      "upper-bound: 0.3987\n"
     ]
    }
   ],
   "source": [
    "print(\"before  :\", np.mean(befores))\n",
    "print(\"re-rank :\", np.mean(afters))\n",
    "print(\"upper-bound:\", np.mean(upper_bounds))"
   ]
  },
  {
   "cell_type": "code",
   "execution_count": null,
   "id": "d73fa6a1",
   "metadata": {},
   "outputs": [],
   "source": []
  },
  {
   "cell_type": "code",
   "execution_count": null,
   "id": "51519820",
   "metadata": {},
   "outputs": [],
   "source": []
  },
  {
   "cell_type": "markdown",
   "id": "09aa74af",
   "metadata": {},
   "source": [
    "## laplacian_centrality"
   ]
  },
  {
   "cell_type": "code",
   "execution_count": 73,
   "id": "1ffae1ae",
   "metadata": {},
   "outputs": [
    {
     "name": "stderr",
     "output_type": "stream",
     "text": [
      "100%|██████████| 1000/1000 [54:09<00:00,  3.25s/it]   \n"
     ]
    }
   ],
   "source": [
    "befores = []\n",
    "afters = []\n",
    "upper_bounds = []\n",
    "\n",
    "for query_idx in tqdm(range(len(text_queries))):\n",
    "    tmp_sample = test_res[query_idx]\n",
    "    mg = construct_metagraph_from_ids(tmp_sample, g_data)\n",
    "    \n",
    "    dc = nx.laplacian_centrality(mg.G)\n",
    "    # sort by degree centrality\n",
    "    sorted_dc = dict(sorted(dc.items(), key=lambda x: x[1], reverse=True))\n",
    "\n",
    "    dp_meta_score = {}\n",
    "    for i, dp_id in enumerate(tmp_sample):\n",
    "        metadata = g_data.data_dict[dp_id]\n",
    "        # compute metadata score (avg degree centrality of metadata)\n",
    "        dp_meta_score[dp_id] = np.mean([dc[md] for md in metadata]) * (1 - i/len(tmp_sample))\n",
    "\n",
    "    # re-rank by metadata score\n",
    "    sorted_dp_meta_score = dict(sorted(dp_meta_score.items(), key=lambda x: x[1], reverse=True))\n",
    "    re_ranked_dps = list(sorted_dp_meta_score.keys())\n",
    "\n",
    "    # befores.append(ndcg_score([gt_res[query_idx]], [tmp_sample[:k]]))\n",
    "    # afters.append(ndcg_score([gt_res[query_idx]], [re_ranked_dps[:k]]))\n",
    "    befores.append(compute_percent_include(gt_res[query_idx], tmp_sample[:k]))\n",
    "    afters.append(compute_percent_include(gt_res[query_idx], re_ranked_dps[:k]))\n",
    "    upper_bounds.append(compute_percent_include(gt_res[query_idx], re_ranked_dps[:]))\n",
    "    # print(\"precent include\")\n",
    "    # print(\"before  :\", compute_percent_include(gt_res[0], tmp_sample[:10]))\n",
    "    # print(\"re-rank :\", compute_percent_include(gt_res[query_idx], re_ranked_dps[:10]))\n",
    "    # print(\"upper-bound:\", compute_percent_include(gt_res[query_idx], re_ranked_dps[:]))"
   ]
  },
  {
   "cell_type": "code",
   "execution_count": 74,
   "id": "b9445240",
   "metadata": {},
   "outputs": [
    {
     "name": "stdout",
     "output_type": "stream",
     "text": [
      "before  : 0.2833\n",
      "re-rank : 0.2745\n",
      "upper-bound: 0.3987\n"
     ]
    }
   ],
   "source": [
    "print(\"before  :\", np.mean(befores))\n",
    "print(\"re-rank :\", np.mean(afters))\n",
    "print(\"upper-bound:\", np.mean(upper_bounds))"
   ]
  },
  {
   "cell_type": "code",
   "execution_count": null,
   "id": "100097a8",
   "metadata": {},
   "outputs": [],
   "source": []
  },
  {
   "cell_type": "code",
   "execution_count": null,
   "id": "4d202a4d",
   "metadata": {},
   "outputs": [],
   "source": []
  },
  {
   "cell_type": "code",
   "execution_count": null,
   "id": "7e58c091",
   "metadata": {},
   "outputs": [],
   "source": []
  },
  {
   "cell_type": "code",
   "execution_count": null,
   "id": "39d6470c",
   "metadata": {},
   "outputs": [],
   "source": []
  },
  {
   "cell_type": "markdown",
   "id": "0bc81dc7",
   "metadata": {},
   "source": [
    "# metadata analysis on GT"
   ]
  },
  {
   "cell_type": "code",
   "execution_count": 77,
   "id": "7b4e909f",
   "metadata": {},
   "outputs": [],
   "source": [
    "sample_gt = gt_res[0]\n",
    "\n",
    "mg = construct_metagraph_from_ids(sample_gt, g_data)\n",
    "dc = nx.closeness_centrality(mg.G)"
   ]
  },
  {
   "cell_type": "code",
   "execution_count": 78,
   "id": "4cef4e2b",
   "metadata": {},
   "outputs": [
    {
     "data": {
      "text/plain": [
       "{'journal:Journal of Functional Analysis, 2018': 0.08888888888888889,\n",
       " 'year:2019': 0.08888888888888889,\n",
       " 'author:BiswarupDas': 0.08888888888888889,\n",
       " 'category:math.OA': 0.08888888888888889,\n",
       " 'author:MatthewDawsandPekkaSalmi': 0.08888888888888889,\n",
       " 'category:hep-th': 0.3361111111111111,\n",
       " 'author:Yao-ZhongZhangandMarkD.Gould': 0.23381642512077294,\n",
       " 'journal:Bull. Austral. Math. Soc. 51 (1995) 177': 0.23381642512077294,\n",
       " 'category:math.QA': 0.3841269841269841,\n",
       " 'year:2008': 0.23381642512077294,\n",
       " 'category:math.MP': 0.43022222222222223,\n",
       " 'category:math.CO': 0.2688888888888889,\n",
       " 'year:2020': 0.2688888888888889,\n",
       " 'author:EugeneStrahov': 0.2688888888888889,\n",
       " 'journal:Int. Math. Res. Notices (2019)': 0.2688888888888889,\n",
       " 'category:math-ph': 0.43022222222222223,\n",
       " 'author:VadimGorin': 0.2688888888888889,\n",
       " 'author:AlexeiBorodin': 0.2688888888888889,\n",
       " 'author:LinChen': 0.24700854700854702,\n",
       " 'journal:Journal of Physics A: Mathematical and Theoretical, 2021': 0.22936507936507933,\n",
       " 'year:2022': 0.32111111111111107,\n",
       " 'author:FeiShi': 0.24700854700854702,\n",
       " 'author:Mao-ShengLi': 0.22936507936507933,\n",
       " 'author:andXiandeZhang': 0.24700854700854702,\n",
       " 'category:quant-ph': 0.3058201058201058,\n",
       " 'journal:Physical Review A 61 (6): Art. No. 064301 (2000)': 0.18349206349206348,\n",
       " 'author:M.A.Nielsen': 0.18349206349206348,\n",
       " 'year:2009': 0.18349206349206348,\n",
       " 'journal:Proc. Amer. Math. Soc. 2022': 0.1946127946127946,\n",
       " 'category:math.RA': 0.1946127946127946,\n",
       " 'author:ChangzhengLiandRyanM.ShiflerandMingzhiYangandChiZhang': 0.1946127946127946,\n",
       " 'category:math.AG': 0.1946127946127946,\n",
       " 'author:RouvenFrassek': 0.3073015873015873,\n",
       " 'year:2023': 0.3073015873015873,\n",
       " 'author:AlexanderTsymbaliuk': 0.3073015873015873,\n",
       " 'category:math.RT': 0.34695340501792116,\n",
       " 'journal:Communications in Mathematical Physics (2023)': 0.3073015873015873,\n",
       " 'author:IvanKarpov': 0.3073015873015873,\n",
       " 'year:2021': 0.2906906906906907,\n",
       " 'author:EvgenyMukhin': 0.2906906906906907,\n",
       " 'author:KangLu': 0.2906906906906907,\n",
       " 'journal:International Mathematics Research Notices, 2021': 0.2906906906906907,\n",
       " 'author:SatvikSinghandIonNechita': 0.20716845878136197,\n",
       " \"journal:Annales Henri Poincar\\\\'e (2022)\": 0.20716845878136197,\n",
       " 'author:ZuoYe': 0.22936507936507933,\n",
       " 'journal:Physical Review A (2022)': 0.22936507936507933}"
      ]
     },
     "execution_count": 78,
     "metadata": {},
     "output_type": "execute_result"
    }
   ],
   "source": [
    "dc"
   ]
  },
  {
   "cell_type": "code",
   "execution_count": null,
   "id": "c42e32d6",
   "metadata": {},
   "outputs": [],
   "source": []
  }
 ],
 "metadata": {
  "kernelspec": {
   "display_name": "Python 3 (ipykernel)",
   "language": "python",
   "name": "python3"
  },
  "language_info": {
   "codemirror_mode": {
    "name": "ipython",
    "version": 3
   },
   "file_extension": ".py",
   "mimetype": "text/x-python",
   "name": "python",
   "nbconvert_exporter": "python",
   "pygments_lexer": "ipython3",
   "version": "3.9.18"
  }
 },
 "nbformat": 4,
 "nbformat_minor": 5
}
