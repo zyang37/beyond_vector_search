{
 "cells": [
  {
   "cell_type": "code",
   "execution_count": 84,
   "id": "f42442e9-7811-4d24-8f11-f7519eaf4584",
   "metadata": {},
   "outputs": [
    {
     "data": {
      "text/plain": [
       "[Collection(name=cnn_headline),\n",
       " Collection(name=arxiv_title),\n",
       " Collection(name=arxiv_abstract),\n",
       " Collection(name=wiki_plot),\n",
       " Collection(name=wiki_plot_summary),\n",
       " Collection(name=cnn_article)]"
      ]
     },
     "execution_count": 84,
     "metadata": {},
     "output_type": "execute_result"
    }
   ],
   "source": [
    "%matplotlib inline\n",
    "\n",
    "import sys\n",
    "import random\n",
    "import pickle\n",
    "import chromadb\n",
    "import numpy as np\n",
    "from pprint import pprint\n",
    "from tqdm.auto import tqdm\n",
    "from matplotlib import pyplot as plt\n",
    "import networkx as nx\n",
    "import json\n",
    "from pyvis.network import Network\n",
    "\n",
    "sys.path.append(\"../\")\n",
    "from utils.metadata_graph import *\n",
    "from utils.vector_search_utils import *\n",
    "from utils.parse_arxiv import *\n",
    "from compute_metrics import batch_compute_percent_include, compute_percent_include\n",
    "\n",
    "chroma_client = chromadb.PersistentClient(path=\"../data/chroma_dbs/\")\n",
    "chroma_client.list_collections()"
   ]
  },
  {
   "cell_type": "code",
   "execution_count": 11,
   "id": "e94bc8b0",
   "metadata": {},
   "outputs": [],
   "source": [
    "test_coll = chroma_client.get_collection(\"arxiv_title\")\n",
    "gt_coll = chroma_client.get_collection(\"arxiv_abstract\")\n",
    "\n",
    "# read workload csv\n",
    "workload_csv = \"../data/arxiv/arxiv_workloads/pn1000_n1.csv\"\n",
    "workload_df = pd.read_csv(workload_csv)\n",
    "\n",
    "text_queries = workload_df[\"query\"].tolist()"
   ]
  },
  {
   "cell_type": "code",
   "execution_count": 16,
   "id": "c6515690",
   "metadata": {},
   "outputs": [
    {
     "name": "stderr",
     "output_type": "stream",
     "text": [
      "100%|██████████| 10/10 [00:10<00:00,  1.08s/it]\n",
      "100%|██████████| 10/10 [00:10<00:00,  1.06s/it]\n"
     ]
    }
   ],
   "source": [
    "# k = 10\n",
    "# test_k = k \n",
    "\n",
    "# gt_res = vector_search(coll=gt_coll, text_queries=text_queries, k=k, batch_size=100)\n",
    "# test_res = vector_search(coll=test_coll, text_queries=text_queries, k=test_k, batch_size=100)"
   ]
  },
  {
   "cell_type": "code",
   "execution_count": 23,
   "id": "87db26be",
   "metadata": {},
   "outputs": [],
   "source": [
    "def exp(gt_coll, test_coll, k, kps, text_queries, gt_res, test_res):\n",
    "    mean_recalls = []\n",
    "    gt_res = vector_search(coll=gt_coll, text_queries=text_queries, k=k, batch_size=100)\n",
    "    for kp in kps:\n",
    "        # increase test k\n",
    "        test_k = int( (1 + kp) * k)\n",
    "        test_res = vector_search(coll=test_coll, text_queries=text_queries, k=test_k, batch_size=100)\n",
    "        recalls = batch_compute_percent_include(gt_res, test_res)\n",
    "        mean_recalls.append(np.mean(recalls))\n",
    "    return mean_recalls"
   ]
  },
  {
   "cell_type": "code",
   "execution_count": 29,
   "id": "3f7ab485",
   "metadata": {},
   "outputs": [
    {
     "name": "stderr",
     "output_type": "stream",
     "text": [
      "100%|██████████| 10/10 [00:10<00:00,  1.03s/it]\n",
      "100%|██████████| 10/10 [00:10<00:00,  1.07s/it]\n",
      "100%|██████████| 10/10 [00:10<00:00,  1.06s/it]\n",
      "100%|██████████| 10/10 [00:10<00:00,  1.05s/it]\n",
      "100%|██████████| 10/10 [00:10<00:00,  1.06s/it]\n",
      "100%|██████████| 10/10 [00:10<00:00,  1.09s/it]\n",
      "100%|██████████| 10/10 [00:10<00:00,  1.07s/it]\n",
      "100%|██████████| 10/10 [00:10<00:00,  1.03s/it]\n",
      "100%|██████████| 10/10 [00:10<00:00,  1.06s/it]\n",
      "100%|██████████| 10/10 [00:10<00:00,  1.06s/it]\n",
      "100%|██████████| 10/10 [00:10<00:00,  1.05s/it]\n",
      "100%|██████████| 10/10 [00:10<00:00,  1.06s/it]\n",
      "100%|██████████| 10/10 [00:10<00:00,  1.08s/it]\n",
      "100%|██████████| 10/10 [00:10<00:00,  1.07s/it]\n",
      "100%|██████████| 10/10 [00:11<00:00,  1.17s/it]\n",
      "100%|██████████| 10/10 [00:11<00:00,  1.15s/it]\n",
      "100%|██████████| 10/10 [00:11<00:00,  1.19s/it]\n",
      "100%|██████████| 10/10 [00:12<00:00,  1.24s/it]\n",
      "100%|██████████| 10/10 [00:12<00:00,  1.23s/it]\n",
      "100%|██████████| 10/10 [00:12<00:00,  1.27s/it]\n",
      "100%|██████████| 10/10 [00:12<00:00,  1.29s/it]\n",
      "100%|██████████| 10/10 [00:13<00:00,  1.30s/it]\n",
      "100%|██████████| 10/10 [00:12<00:00,  1.29s/it]\n",
      "100%|██████████| 10/10 [00:13<00:00,  1.31s/it]\n",
      "100%|██████████| 10/10 [00:13<00:00,  1.34s/it]\n",
      "100%|██████████| 10/10 [00:13<00:00,  1.37s/it]\n",
      "100%|██████████| 10/10 [00:14<00:00,  1.41s/it]\n",
      "100%|██████████| 10/10 [00:14<00:00,  1.43s/it]\n",
      "100%|██████████| 10/10 [00:17<00:00,  1.73s/it]\n",
      "100%|██████████| 10/10 [00:16<00:00,  1.70s/it]\n",
      "100%|██████████| 10/10 [00:17<00:00,  1.77s/it]\n",
      "100%|██████████| 10/10 [00:18<00:00,  1.89s/it]\n",
      "100%|██████████| 10/10 [00:19<00:00,  1.92s/it]\n",
      "100%|██████████| 10/10 [00:19<00:00,  1.99s/it]\n",
      "100%|██████████| 10/10 [00:20<00:00,  2.07s/it]\n"
     ]
    }
   ],
   "source": [
    "# make plot mean-recalls vs. % of extra k (0 to 100% increase)\n",
    "ks = [5, 10, 50, 100, 500]\n",
    "kps = np.arange(0, 1.2, 0.2)\n",
    "\n",
    "mean_recall_dict = {}\n",
    "for k in ks:\n",
    "    mean_recalls = exp(gt_coll, test_coll, k, kps, text_queries, gt_res, test_res)\n",
    "    mean_recall_dict[k] = mean_recalls"
   ]
  },
  {
   "cell_type": "code",
   "execution_count": 35,
   "id": "88ab56a5",
   "metadata": {},
   "outputs": [
    {
     "data": {
      "image/png": "[encoded data removed]",
      "text/plain": [
       "<Figure size 500x300 with 1 Axes>"
      ]
     },
     "metadata": {},
     "output_type": "display_data"
    }
   ],
   "source": [
    "# plot all\n",
    "fig, ax = plt.subplots(figsize=(5, 3))\n",
    "for k in ks:\n",
    "    ax.plot(kps, mean_recall_dict[k], label=f\"k={k}\")\n",
    "    ax.set_xlabel(\"Extra k (%)\")\n",
    "    ax.set_ylabel(\"Mean Recall\")\n",
    "# ax.set_title(\"Mean recall vs. percentage of extra k\")\n",
    "ax.legend()\n",
    "plt.show()"
   ]
  },
  {
   "cell_type": "code",
   "execution_count": 63,
   "id": "2174b6b9",
   "metadata": {},
   "outputs": [
    {
     "name": "stdout",
     "output_type": "stream",
     "text": [
      "{'author:RaymondH.Y.Louie',\n",
      " 'author:YonghuiLi',\n",
      " 'author:andBrankaVucetic',\n",
      " 'category:cs.IT',\n",
      " 'category:math.IT',\n",
      " 'journal:IEEE Transactions on Vehicular Technology, 2010',\n",
      " 'year:2016'}\n",
      "\n",
      "{'id_1009.5145', 'id_2106.02811'}\n"
     ]
    }
   ],
   "source": [
    " # load pickle\n",
    "g_data = pickle.load(open('../data/arxiv/graph.pickle', 'rb'))\n",
    "\n",
    "pprint(g_data.data_dict['id_1009.5145'])\n",
    "print()\n",
    "print(g_data.keyword_dict['author:YonghuiLi'])"
   ]
  },
  {
   "cell_type": "code",
   "execution_count": 40,
   "id": "54bef83a",
   "metadata": {},
   "outputs": [
    {
     "name": "stderr",
     "output_type": "stream",
     "text": [
      "100%|██████████| 10/10 [00:10<00:00,  1.05s/it]\n",
      "100%|██████████| 10/10 [00:11<00:00,  1.12s/it]\n"
     ]
    }
   ],
   "source": [
    "k = 10\n",
    "test_k = k * 2\n",
    "\n",
    "gt_res = vector_search(coll=gt_coll, text_queries=text_queries, k=k, batch_size=100)\n",
    "test_res = vector_search(coll=test_coll, text_queries=text_queries, k=test_k, batch_size=100)"
   ]
  },
  {
   "cell_type": "code",
   "execution_count": 110,
   "id": "3343c819",
   "metadata": {},
   "outputs": [],
   "source": [
    "query_idx = 10\n",
    "tmp_sample = test_res[query_idx]\n",
    "\n",
    "mg = MetadataGraph()\n",
    "metadata_sets = []\n",
    "for id in tmp_sample:\n",
    "    metadata_sets.append(g_data.data_dict[id])\n",
    "\n",
    "mg.build_from_metadata_set_list(metadata_sets)"
   ]
  },
  {
   "cell_type": "code",
   "execution_count": 111,
   "id": "20d15f86",
   "metadata": {},
   "outputs": [],
   "source": [
    "dc = nx.degree_centrality(mg.G)\n",
    "\n",
    "# sort by degree centrality\n",
    "sorted_dc = dict(sorted(dc.items(), key=lambda x: x[1], reverse=True))\n",
    "# sorted_dc"
   ]
  },
  {
   "cell_type": "code",
   "execution_count": 112,
   "id": "15ae0345",
   "metadata": {},
   "outputs": [],
   "source": [
    "dp_meta_score = {}\n",
    "for dp_id in tmp_sample:\n",
    "    # print(dp)\n",
    "    metadata = g_data.data_dict[dp_id]\n",
    "    # compute metadata score (avg degree centrality of metadata)\n",
    "    dp_meta_score[dp_id] = np.mean([dc[md] for md in metadata])"
   ]
  },
  {
   "cell_type": "code",
   "execution_count": null,
   "id": "d966ccc7",
   "metadata": {},
   "outputs": [],
   "source": []
  },
  {
   "cell_type": "code",
   "execution_count": 124,
   "id": "c0b348d6",
   "metadata": {},
   "outputs": [
    {
     "name": "stdout",
     "output_type": "stream",
     "text": [
      "precent include\n",
      "before  : 0.0\n",
      "re-rank : 0.1\n",
      "upper-bound: 0.2\n"
     ]
    }
   ],
   "source": [
    "print(\"precent include\")\n",
    "print(\"before  :\", compute_percent_include(gt_res[0], tmp_sample[:10]))\n",
    "\n",
    "# re-rank by metadata score\n",
    "sorted_dp_meta_score = dict(sorted(dp_meta_score.items(), key=lambda x: x[1], reverse=True))\n",
    "re_ranked_dps = list(sorted_dp_meta_score.keys())\n",
    "\n",
    "print(\"re-rank :\", compute_percent_include(gt_res[query_idx], re_ranked_dps[:10]))\n",
    "\n",
    "print(\"upper-bound:\", compute_percent_include(gt_res[query_idx], re_ranked_dps[:]))"
   ]
  },
  {
   "cell_type": "code",
   "execution_count": null,
   "id": "59b09e07",
   "metadata": {},
   "outputs": [],
   "source": []
  }
 ],
 "metadata": {
  "kernelspec": {
   "display_name": "Python 3 (ipykernel)",
   "language": "python",
   "name": "python3"
  },
  "language_info": {
   "codemirror_mode": {
    "name": "ipython",
    "version": 3
   },
   "file_extension": ".py",
   "mimetype": "text/x-python",
   "name": "python",
   "nbconvert_exporter": "python",
   "pygments_lexer": "ipython3",
   "version": "3.9.18"
  }
 },
 "nbformat": 4,
 "nbformat_minor": 5
}
