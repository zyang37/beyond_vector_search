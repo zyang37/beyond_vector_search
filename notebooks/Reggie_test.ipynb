{
 "cells": [
  {
   "cell_type": "code",
   "execution_count": 3,
   "id": "a9895ea6-af2b-4063-be2f-b430c20a9729",
   "metadata": {},
   "outputs": [],
   "source": [
    "import pandas as pd\n",
    "import chromadb\n",
    "import argparse\n",
    "import pickle\n",
    "from tqdm import tqdm\n",
    "import os\n",
    "import sys\n",
    "import math\n"
   ]
  },
  {
   "cell_type": "code",
   "execution_count": 4,
   "id": "ae2572bf-74a6-4489-a175-b908cdb67cc1",
   "metadata": {},
   "outputs": [],
   "source": [
    "sys.path.append(\"../\")\n",
    "\n",
    "from workloads.inference import infer, create_id_to_abstract_dict\n",
    "from utils.build_graph import build_graph\n"
   ]
  },
  {
   "cell_type": "code",
   "execution_count": 5,
   "id": "ec015c52-6996-428a-ad7e-2c114c29332a",
   "metadata": {},
   "outputs": [
    {
     "name": "stdout",
     "output_type": "stream",
     "text": [
      "Building graph...\n"
     ]
    }
   ],
   "source": [
    "graph_path = \"../data/graph.pickle\"\n",
    "print(\"Building graph...\")\n",
    "\n",
    "\n",
    "filtered_data_path = \"../data/filtered_data.pickle\"\n",
    "\n",
    "with open(filtered_data_path, \"rb\") as f:\n",
    "    filtered_data = pickle.load(f)\n",
    "\n",
    "graph = build_graph(filtered_data)\n",
    "\n",
    "with open(graph_path, \"wb\") as f:\n",
    "    pickle.dump(graph, f)\n"
   ]
  },
  {
   "cell_type": "code",
   "execution_count": 7,
   "id": "d80cbc07-9d5b-4523-8992-c14c8a12ba51",
   "metadata": {},
   "outputs": [],
   "source": [
    "id2abstract_dict = create_id_to_abstract_dict(filtered_data)\n"
   ]
  },
  {
   "cell_type": "code",
   "execution_count": 8,
   "id": "d0198cbb-2322-4874-b40a-061ef8f9916d",
   "metadata": {},
   "outputs": [
    {
     "name": "stderr",
     "output_type": "stream",
     "text": [
      "100%|███████████████████████████████████████████████████████████████████████████| 1/1 [00:01<00:00,  1.99s/it]\n",
      "100%|███████████████████████████████████████████████████████████████████████████| 1/1 [00:01<00:00,  1.56s/it]\n",
      "100%|███████████████████████████████████████████████████████████████████████████| 1/1 [00:01<00:00,  1.25s/it]\n"
     ]
    }
   ],
   "source": [
    "result_df = infer(\n",
    "    \"../data/chroma_dbs/\",\n",
    "    graph,\n",
    "    \"../workloads/workload.csv\",\n",
    "    \"arxiv_vector\",\n",
    "    \"abstracts\",\n",
    "    id2abstract_dict,\n",
    "    10\n",
    ")"
   ]
  },
  {
   "cell_type": "code",
   "execution_count": 12,
   "id": "4868760e-fb2a-4c25-b0ec-ca2977da1072",
   "metadata": {},
   "outputs": [
    {
     "data": {
      "text/html": [
       "<div>\n",
       "<style scoped>\n",
       "    .dataframe tbody tr th:only-of-type {\n",
       "        vertical-align: middle;\n",
       "    }\n",
       "\n",
       "    .dataframe tbody tr th {\n",
       "        vertical-align: top;\n",
       "    }\n",
       "\n",
       "    .dataframe thead th {\n",
       "        text-align: right;\n",
       "    }\n",
       "</style>\n",
       "<table border=\"1\" class=\"dataframe\">\n",
       "  <thead>\n",
       "    <tr style=\"text-align: right;\">\n",
       "      <th></th>\n",
       "      <th>paper_id</th>\n",
       "      <th>query</th>\n",
       "      <th>arxiv_vector</th>\n",
       "      <th>abstracts</th>\n",
       "      <th>hybrid</th>\n",
       "    </tr>\n",
       "  </thead>\n",
       "  <tbody>\n",
       "    <tr>\n",
       "      <th>0</th>\n",
       "      <td>1802.07896</td>\n",
       "      <td>find papers written by &lt; MarkN.Wegman &gt; on &lt; c...</td>\n",
       "      <td>[2009.02383, 2302.04419, 2102.11271, 2106.0348...</td>\n",
       "      <td>[1802.07896, 1906.02896, 2102.11935, 2105.1467...</td>\n",
       "      <td>[2009.02383, 2302.04419, 2102.11271, 2106.0348...</td>\n",
       "    </tr>\n",
       "    <tr>\n",
       "      <th>1</th>\n",
       "      <td>1802.07896</td>\n",
       "      <td>find papers from year 2019 on &lt; cs.AI &gt; about ...</td>\n",
       "      <td>[2007.06007, 2304.09802, 1712.04473, 2011.0810...</td>\n",
       "      <td>[1802.07896, 1906.02896, 2102.11935, 2105.1467...</td>\n",
       "      <td>[2007.06007, 2304.09802, 1712.04473, 2011.0810...</td>\n",
       "    </tr>\n",
       "    <tr>\n",
       "      <th>2</th>\n",
       "      <td>1901.03019</td>\n",
       "      <td>find papers written by &lt; KenzoIshikawa &gt; on &lt; ...</td>\n",
       "      <td>[1607.02058, 2104.1412, 1611.06118, 1607.01429...</td>\n",
       "      <td>[1901.03019, 1907.01264, 2301.0455, 1810.0328,...</td>\n",
       "      <td>[1607.02058, 2104.1412, 1611.06118, 1607.01429...</td>\n",
       "    </tr>\n",
       "    <tr>\n",
       "      <th>3</th>\n",
       "      <td>1901.03019</td>\n",
       "      <td>find papers written by &lt; ArisaKubota &gt; from ye...</td>\n",
       "      <td>[1510.02332, 1909.00123, 2210.04203, hep-ph/94...</td>\n",
       "      <td>[1901.03019, 1907.01264, 2301.0455, 1810.0328,...</td>\n",
       "      <td>[1510.02332, 1909.00123, 2210.04203, hep-ph/94...</td>\n",
       "    </tr>\n",
       "    <tr>\n",
       "      <th>4</th>\n",
       "      <td>1911.08350</td>\n",
       "      <td>find papers titled &lt; Solar Event Tracking with...</td>\n",
       "      <td>[1911.0835, 2206.05561, astro-ph/0510377, 1812...</td>\n",
       "      <td>[1911.0835, 2210.04122, 2104.1395, 2211.02278,...</td>\n",
       "      <td>[1911.0835, 2206.05561, astro-ph/0510377, 1812...</td>\n",
       "    </tr>\n",
       "    <tr>\n",
       "      <th>5</th>\n",
       "      <td>1911.08350</td>\n",
       "      <td>find papers written by &lt; ToqiTahamidSarkerandJ...</td>\n",
       "      <td>[2204.02828, 2302.12837, 2307.04285, 2303.0604...</td>\n",
       "      <td>[1911.0835, 2210.04122, 2104.1395, 2211.02278,...</td>\n",
       "      <td>[2204.02828, 2302.12837, 2307.04285, 2303.0604...</td>\n",
       "    </tr>\n",
       "    <tr>\n",
       "      <th>6</th>\n",
       "      <td>2108.06554</td>\n",
       "      <td>find papers from year 2021 on &lt; cs.CV &gt; about ...</td>\n",
       "      <td>[2009.12015, 1610.01924, 2003.13958, 1912.0719...</td>\n",
       "      <td>[2108.06554, 2203.02533, 1902.0867, 2006.13011...</td>\n",
       "      <td>[2009.12015, 1610.01924, 2003.13958, 1912.0719...</td>\n",
       "    </tr>\n",
       "    <tr>\n",
       "      <th>7</th>\n",
       "      <td>2108.06554</td>\n",
       "      <td>find papers titled &lt; Stacked Hourglass Network...</td>\n",
       "      <td>[2108.06554, 2002.05773, 2002.05049, 2006.0793...</td>\n",
       "      <td>[2108.06554, 2203.02533, 1902.0867, 2006.13011...</td>\n",
       "      <td>[2108.06554, 2002.05773, 2002.05049, 2006.0793...</td>\n",
       "    </tr>\n",
       "    <tr>\n",
       "      <th>8</th>\n",
       "      <td>1807.04394</td>\n",
       "      <td>find papers written by &lt; MomonariKudo &gt; from y...</td>\n",
       "      <td>[2101.09632, hep-th/0107251, 2103.16309, 2111....</td>\n",
       "      <td>[1807.04394, 1804.09063, 1911.05653, 1902.0637...</td>\n",
       "      <td>[2101.09632, hep-th/0107251, 2103.16309, 2111....</td>\n",
       "    </tr>\n",
       "    <tr>\n",
       "      <th>9</th>\n",
       "      <td>1807.04394</td>\n",
       "      <td>find papers about &lt; pmod &gt;</td>\n",
       "      <td>[2302.12854, hep-ph/0301030, 1310.4904, hep-ph...</td>\n",
       "      <td>[1807.04394, 1804.09063, 1911.05653, 1902.0637...</td>\n",
       "      <td>[2302.12854, hep-ph/0301030, 1310.4904, hep-ph...</td>\n",
       "    </tr>\n",
       "  </tbody>\n",
       "</table>\n",
       "</div>"
      ],
      "text/plain": [
       "     paper_id                                              query  \\\n",
       "0  1802.07896  find papers written by < MarkN.Wegman > on < c...   \n",
       "1  1802.07896  find papers from year 2019 on < cs.AI > about ...   \n",
       "2  1901.03019  find papers written by < KenzoIshikawa > on < ...   \n",
       "3  1901.03019  find papers written by < ArisaKubota > from ye...   \n",
       "4  1911.08350  find papers titled < Solar Event Tracking with...   \n",
       "5  1911.08350  find papers written by < ToqiTahamidSarkerandJ...   \n",
       "6  2108.06554  find papers from year 2021 on < cs.CV > about ...   \n",
       "7  2108.06554  find papers titled < Stacked Hourglass Network...   \n",
       "8  1807.04394  find papers written by < MomonariKudo > from y...   \n",
       "9  1807.04394                         find papers about < pmod >   \n",
       "\n",
       "                                        arxiv_vector  \\\n",
       "0  [2009.02383, 2302.04419, 2102.11271, 2106.0348...   \n",
       "1  [2007.06007, 2304.09802, 1712.04473, 2011.0810...   \n",
       "2  [1607.02058, 2104.1412, 1611.06118, 1607.01429...   \n",
       "3  [1510.02332, 1909.00123, 2210.04203, hep-ph/94...   \n",
       "4  [1911.0835, 2206.05561, astro-ph/0510377, 1812...   \n",
       "5  [2204.02828, 2302.12837, 2307.04285, 2303.0604...   \n",
       "6  [2009.12015, 1610.01924, 2003.13958, 1912.0719...   \n",
       "7  [2108.06554, 2002.05773, 2002.05049, 2006.0793...   \n",
       "8  [2101.09632, hep-th/0107251, 2103.16309, 2111....   \n",
       "9  [2302.12854, hep-ph/0301030, 1310.4904, hep-ph...   \n",
       "\n",
       "                                           abstracts  \\\n",
       "0  [1802.07896, 1906.02896, 2102.11935, 2105.1467...   \n",
       "1  [1802.07896, 1906.02896, 2102.11935, 2105.1467...   \n",
       "2  [1901.03019, 1907.01264, 2301.0455, 1810.0328,...   \n",
       "3  [1901.03019, 1907.01264, 2301.0455, 1810.0328,...   \n",
       "4  [1911.0835, 2210.04122, 2104.1395, 2211.02278,...   \n",
       "5  [1911.0835, 2210.04122, 2104.1395, 2211.02278,...   \n",
       "6  [2108.06554, 2203.02533, 1902.0867, 2006.13011...   \n",
       "7  [2108.06554, 2203.02533, 1902.0867, 2006.13011...   \n",
       "8  [1807.04394, 1804.09063, 1911.05653, 1902.0637...   \n",
       "9  [1807.04394, 1804.09063, 1911.05653, 1902.0637...   \n",
       "\n",
       "                                              hybrid  \n",
       "0  [2009.02383, 2302.04419, 2102.11271, 2106.0348...  \n",
       "1  [2007.06007, 2304.09802, 1712.04473, 2011.0810...  \n",
       "2  [1607.02058, 2104.1412, 1611.06118, 1607.01429...  \n",
       "3  [1510.02332, 1909.00123, 2210.04203, hep-ph/94...  \n",
       "4  [1911.0835, 2206.05561, astro-ph/0510377, 1812...  \n",
       "5  [2204.02828, 2302.12837, 2307.04285, 2303.0604...  \n",
       "6  [2009.12015, 1610.01924, 2003.13958, 1912.0719...  \n",
       "7  [2108.06554, 2002.05773, 2002.05049, 2006.0793...  \n",
       "8  [2101.09632, hep-th/0107251, 2103.16309, 2111....  \n",
       "9  [2302.12854, hep-ph/0301030, 1310.4904, hep-ph...  "
      ]
     },
     "execution_count": 12,
     "metadata": {},
     "output_type": "execute_result"
    }
   ],
   "source": [
    "result_df.head(10)"
   ]
  },
  {
   "cell_type": "code",
   "execution_count": null,
   "id": "6af28f64-3abe-46a0-99d6-8d203563d256",
   "metadata": {},
   "outputs": [],
   "source": []
  }
 ],
 "metadata": {
  "kernelspec": {
   "display_name": "Python 3 (ipykernel)",
   "language": "python",
   "name": "python3"
  },
  "language_info": {
   "codemirror_mode": {
    "name": "ipython",
    "version": 3
   },
   "file_extension": ".py",
   "mimetype": "text/x-python",
   "name": "python",
   "nbconvert_exporter": "python",
   "pygments_lexer": "ipython3",
   "version": "3.9.13"
  }
 },
 "nbformat": 4,
 "nbformat_minor": 5
}
