{
 "cells": [
  {
   "cell_type": "code",
   "execution_count": 1,
   "metadata": {
    "tags": []
   },
   "outputs": [
    {
     "name": "stderr",
     "output_type": "stream",
     "text": [
      "c:\\Users\\mmart\\Programming\\VectorDB_playground\\venv\\lib\\site-packages\\tqdm\\auto.py:21: TqdmWarning: IProgress not found. Please update jupyter and ipywidgets. See https://ipywidgets.readthedocs.io/en/stable/user_install.html\n",
      "  from .autonotebook import tqdm as notebook_tqdm\n"
     ]
    }
   ],
   "source": [
    "%load_ext autoreload\n",
    "%autoreload 2\n",
    "\n",
    "import os \n",
    "import sys\n",
    "sys.path.append(\"../\")\n",
    "\n",
    "from vector_graph.bipartite_graph_dict import BipartiteGraphDict\n",
    "from utils.parse_arxiv import *\n",
    "import pandas as pd\n",
    "import pdb\n",
    "import pickle"
   ]
  },
  {
   "cell_type": "code",
   "execution_count": 3,
   "metadata": {},
   "outputs": [
    {
     "name": "stdout",
     "output_type": "stream",
     "text": [
      "         id  cat_freq  journal_freq  date_freq\n",
      "0   704.002     17311           2.0        536\n",
      "1  704.2033     66088           2.0      25981\n",
      "2  704.2088     25554           2.0        992\n",
      "3   704.211     16424           2.0        211\n",
      "4  704.2977      4078           2.0      10119\n"
     ]
    },
    {
     "ename": "KeyError",
     "evalue": "'authors'",
     "output_type": "error",
     "traceback": [
      "\u001b[1;31m---------------------------------------------------------------------------\u001b[0m",
      "\u001b[1;31mKeyError\u001b[0m                                  Traceback (most recent call last)",
      "File \u001b[1;32mc:\\Users\\mmart\\Programming\\VectorDB_playground\\venv\\lib\\site-packages\\pandas\\core\\indexes\\base.py:3802\u001b[0m, in \u001b[0;36mIndex.get_loc\u001b[1;34m(self, key, method, tolerance)\u001b[0m\n\u001b[0;32m   3801\u001b[0m \u001b[38;5;28;01mtry\u001b[39;00m:\n\u001b[1;32m-> 3802\u001b[0m     \u001b[38;5;28;01mreturn\u001b[39;00m \u001b[38;5;28;43mself\u001b[39;49m\u001b[38;5;241;43m.\u001b[39;49m\u001b[43m_engine\u001b[49m\u001b[38;5;241;43m.\u001b[39;49m\u001b[43mget_loc\u001b[49m\u001b[43m(\u001b[49m\u001b[43mcasted_key\u001b[49m\u001b[43m)\u001b[49m\n\u001b[0;32m   3803\u001b[0m \u001b[38;5;28;01mexcept\u001b[39;00m \u001b[38;5;167;01mKeyError\u001b[39;00m \u001b[38;5;28;01mas\u001b[39;00m err:\n",
      "File \u001b[1;32mc:\\Users\\mmart\\Programming\\VectorDB_playground\\venv\\lib\\site-packages\\pandas\\_libs\\index.pyx:138\u001b[0m, in \u001b[0;36mpandas._libs.index.IndexEngine.get_loc\u001b[1;34m()\u001b[0m\n",
      "File \u001b[1;32mc:\\Users\\mmart\\Programming\\VectorDB_playground\\venv\\lib\\site-packages\\pandas\\_libs\\index.pyx:165\u001b[0m, in \u001b[0;36mpandas._libs.index.IndexEngine.get_loc\u001b[1;34m()\u001b[0m\n",
      "File \u001b[1;32mpandas\\_libs\\hashtable_class_helper.pxi:5745\u001b[0m, in \u001b[0;36mpandas._libs.hashtable.PyObjectHashTable.get_item\u001b[1;34m()\u001b[0m\n",
      "File \u001b[1;32mpandas\\_libs\\hashtable_class_helper.pxi:5753\u001b[0m, in \u001b[0;36mpandas._libs.hashtable.PyObjectHashTable.get_item\u001b[1;34m()\u001b[0m\n",
      "\u001b[1;31mKeyError\u001b[0m: 'authors'",
      "\nThe above exception was the direct cause of the following exception:\n",
      "\u001b[1;31mKeyError\u001b[0m                                  Traceback (most recent call last)",
      "Cell \u001b[1;32mIn[3], line 22\u001b[0m\n\u001b[0;32m     19\u001b[0m data_ids\u001b[38;5;241m.\u001b[39madd(data_id)\n\u001b[0;32m     21\u001b[0m \u001b[38;5;66;03m# Add author metadata to the graph\u001b[39;00m\n\u001b[1;32m---> 22\u001b[0m authors \u001b[38;5;241m=\u001b[39m parse_authors(\u001b[43mrow\u001b[49m\u001b[43m[\u001b[49m\u001b[38;5;124;43m\"\u001b[39;49m\u001b[38;5;124;43mauthors\u001b[39;49m\u001b[38;5;124;43m\"\u001b[39;49m\u001b[43m]\u001b[49m)\n\u001b[0;32m     23\u001b[0m \u001b[38;5;28;01mfor\u001b[39;00m author \u001b[38;5;129;01min\u001b[39;00m authors:\n\u001b[0;32m     24\u001b[0m     keyword_author_id \u001b[38;5;241m=\u001b[39m make_keyword_id(\u001b[38;5;124m\"\u001b[39m\u001b[38;5;124mauthor\u001b[39m\u001b[38;5;124m\"\u001b[39m, author)\n",
      "File \u001b[1;32mc:\\Users\\mmart\\Programming\\VectorDB_playground\\venv\\lib\\site-packages\\pandas\\core\\series.py:981\u001b[0m, in \u001b[0;36mSeries.__getitem__\u001b[1;34m(self, key)\u001b[0m\n\u001b[0;32m    978\u001b[0m     \u001b[38;5;28;01mreturn\u001b[39;00m \u001b[38;5;28mself\u001b[39m\u001b[38;5;241m.\u001b[39m_values[key]\n\u001b[0;32m    980\u001b[0m \u001b[38;5;28;01melif\u001b[39;00m key_is_scalar:\n\u001b[1;32m--> 981\u001b[0m     \u001b[38;5;28;01mreturn\u001b[39;00m \u001b[38;5;28;43mself\u001b[39;49m\u001b[38;5;241;43m.\u001b[39;49m\u001b[43m_get_value\u001b[49m\u001b[43m(\u001b[49m\u001b[43mkey\u001b[49m\u001b[43m)\u001b[49m\n\u001b[0;32m    983\u001b[0m \u001b[38;5;28;01mif\u001b[39;00m is_hashable(key):\n\u001b[0;32m    984\u001b[0m     \u001b[38;5;66;03m# Otherwise index.get_value will raise InvalidIndexError\u001b[39;00m\n\u001b[0;32m    985\u001b[0m     \u001b[38;5;28;01mtry\u001b[39;00m:\n\u001b[0;32m    986\u001b[0m         \u001b[38;5;66;03m# For labels that don't resolve as scalars like tuples and frozensets\u001b[39;00m\n",
      "File \u001b[1;32mc:\\Users\\mmart\\Programming\\VectorDB_playground\\venv\\lib\\site-packages\\pandas\\core\\series.py:1089\u001b[0m, in \u001b[0;36mSeries._get_value\u001b[1;34m(self, label, takeable)\u001b[0m\n\u001b[0;32m   1086\u001b[0m     \u001b[38;5;28;01mreturn\u001b[39;00m \u001b[38;5;28mself\u001b[39m\u001b[38;5;241m.\u001b[39m_values[label]\n\u001b[0;32m   1088\u001b[0m \u001b[38;5;66;03m# Similar to Index.get_value, but we do not fall back to positional\u001b[39;00m\n\u001b[1;32m-> 1089\u001b[0m loc \u001b[38;5;241m=\u001b[39m \u001b[38;5;28;43mself\u001b[39;49m\u001b[38;5;241;43m.\u001b[39;49m\u001b[43mindex\u001b[49m\u001b[38;5;241;43m.\u001b[39;49m\u001b[43mget_loc\u001b[49m\u001b[43m(\u001b[49m\u001b[43mlabel\u001b[49m\u001b[43m)\u001b[49m\n\u001b[0;32m   1090\u001b[0m \u001b[38;5;28;01mreturn\u001b[39;00m \u001b[38;5;28mself\u001b[39m\u001b[38;5;241m.\u001b[39mindex\u001b[38;5;241m.\u001b[39m_get_values_for_loc(\u001b[38;5;28mself\u001b[39m, loc, label)\n",
      "File \u001b[1;32mc:\\Users\\mmart\\Programming\\VectorDB_playground\\venv\\lib\\site-packages\\pandas\\core\\indexes\\base.py:3804\u001b[0m, in \u001b[0;36mIndex.get_loc\u001b[1;34m(self, key, method, tolerance)\u001b[0m\n\u001b[0;32m   3802\u001b[0m     \u001b[38;5;28;01mreturn\u001b[39;00m \u001b[38;5;28mself\u001b[39m\u001b[38;5;241m.\u001b[39m_engine\u001b[38;5;241m.\u001b[39mget_loc(casted_key)\n\u001b[0;32m   3803\u001b[0m \u001b[38;5;28;01mexcept\u001b[39;00m \u001b[38;5;167;01mKeyError\u001b[39;00m \u001b[38;5;28;01mas\u001b[39;00m err:\n\u001b[1;32m-> 3804\u001b[0m     \u001b[38;5;28;01mraise\u001b[39;00m \u001b[38;5;167;01mKeyError\u001b[39;00m(key) \u001b[38;5;28;01mfrom\u001b[39;00m \u001b[38;5;21;01merr\u001b[39;00m\n\u001b[0;32m   3805\u001b[0m \u001b[38;5;28;01mexcept\u001b[39;00m \u001b[38;5;167;01mTypeError\u001b[39;00m:\n\u001b[0;32m   3806\u001b[0m     \u001b[38;5;66;03m# If we have a listlike key, _check_indexing_error will raise\u001b[39;00m\n\u001b[0;32m   3807\u001b[0m     \u001b[38;5;66;03m#  InvalidIndexError. Otherwise we fall through and re-raise\u001b[39;00m\n\u001b[0;32m   3808\u001b[0m     \u001b[38;5;66;03m#  the TypeError.\u001b[39;00m\n\u001b[0;32m   3809\u001b[0m     \u001b[38;5;28mself\u001b[39m\u001b[38;5;241m.\u001b[39m_check_indexing_error(key)\n",
      "\u001b[1;31mKeyError\u001b[0m: 'authors'"
     ]
    }
   ],
   "source": [
    "# chunks = pd.read_json(\n",
    "#     \"../data/arxiv-metadata-oai-snapshot.json\", lines=True, chunksize=50000\n",
    "# )\n",
    "file = open(\"./filtered_data.pickle\", \"rb\")\n",
    "data = pickle.load(file)\n",
    "file.close()\n",
    "data.reset_index(drop=True, inplace=True)\n",
    "\n",
    "keyword_author_ids = set()\n",
    "keyword_category_ids = set()\n",
    "data_ids = set()\n",
    "edges = []\n",
    "\n",
    "# for row in data.iterrows():\n",
    "# df = chunk[[\"id\", \"authors\", \"categories\"]]\n",
    "print(data.head())\n",
    "for i, row in data.iterrows():\n",
    "    data_id = str(row[\"id\"])\n",
    "    data_ids.add(data_id)\n",
    "\n",
    "    # Add author metadata to the graph\n",
    "    authors = parse_authors(row[\"authors\"])\n",
    "    for author in authors:\n",
    "        keyword_author_id = make_keyword_id(\"author\", author)\n",
    "        edges.append((data_id, keyword_author_id))\n",
    "        keyword_author_ids.add(keyword_author_id)\n",
    "\n",
    "    # Add category metadata to the graph\n",
    "    categories = parse_categories(row[\"categories\"])\n",
    "\n",
    "    for category in categories:\n",
    "        keyword_category_id = make_keyword_id(\"category\", category)\n",
    "        edges.append((data_id, keyword_category_id))\n",
    "        keyword_category_ids.add(keyword_category_id)\n",
    "\n",
    "    # Add year metadata to the graph\n",
    "    keyword_year_id = make_keyword_id(\"year\", parse_year(row[\"update_date\"]))\n",
    "    edges.append((data_id, keyword_year_id))\n",
    "    keyword_category_ids.add(keyword_year_id)\n",
    "\n",
    "    if i == 100:\n",
    "        break"
   ]
  },
  {
   "cell_type": "code",
   "execution_count": 43,
   "metadata": {},
   "outputs": [],
   "source": [
    "G = BipartiteGraphDict()\n",
    "G.add_data_nodes(data_ids)\n",
    "G.add_keyword_nodes(keyword_author_ids)\n",
    "G.add_raw_edges(edges)"
   ]
  },
  {
   "cell_type": "code",
   "execution_count": 88,
   "metadata": {},
   "outputs": [
    {
     "name": "stdout",
     "output_type": "stream",
     "text": [
      "Num data points:  2358543\n",
      "Num Authors:  990452\n",
      "['2206.02196', 'math/9803042', 'q-alg/9602017', '1208.5337']\n",
      "num search rounds: 2\n",
      "1203.6769, keywords shared with input:[('authors:MajidHamzavi', 1)] discovery chain: ['1203.6769', 'authors:MajidHamzavi', '1208.5337']\n",
      "1307.8309, keywords shared with input:[('authors:MajidHamzavi', 1)] discovery chain: ['1307.8309', 'authors:MajidHamzavi', '1208.5337']\n",
      "1207.0687, keywords shared with input:[('authors:MajidHamzavi', 1)] discovery chain: ['1207.0687', 'authors:MajidHamzavi', '1208.5337']\n",
      "1203.1747, keywords shared with input:[('authors:MajidHamzavi', 1)] discovery chain: ['1203.1747', 'authors:MajidHamzavi', '1208.5337']\n",
      "1205.6088, keywords shared with input:[('authors:MajidHamzavi', 1)] discovery chain: ['1205.6088', 'authors:MajidHamzavi', '1208.5337']\n",
      "1208.0453, keywords shared with input:[('authors:MajidHamzavi', 1)] discovery chain: ['1208.0453', 'authors:MajidHamzavi', '1208.5337']\n",
      "math/9807119, keywords shared with input:[('authors:ArturoMagidin', 1)] discovery chain: ['math/9807119', 'authors:ArturoMagidin', 'math/9803042']\n",
      "708.2391, keywords shared with input:[('authors:ArturoMagidin', 1)] discovery chain: ['708.2391', 'authors:ArturoMagidin', 'math/9803042']\n",
      "math/0404499, keywords shared with input:[('authors:ArturoMagidin', 1)] discovery chain: ['math/0404499', 'authors:ArturoMagidin', 'math/9803042']\n",
      "math/9807116, keywords shared with input:[('authors:ArturoMagidin', 1)] discovery chain: ['math/9807116', 'authors:ArturoMagidin', 'math/9803042']\n",
      "math/0606093, keywords shared with input:[('authors:ArturoMagidin', 1)] discovery chain: ['math/0606093', 'authors:ArturoMagidin', 'math/9803042']\n",
      "math/0403188, keywords shared with input:[('authors:ArturoMagidin', 1)] discovery chain: ['math/0403188', 'authors:ArturoMagidin', 'math/9803042']\n",
      "805.4, keywords shared with input:[('authors:ArturoMagidin', 1)] discovery chain: ['805.4', 'authors:ArturoMagidin', 'math/9803042']\n",
      "math/9807118, keywords shared with input:[('authors:ArturoMagidin', 1)] discovery chain: ['math/9807118', 'authors:ArturoMagidin', 'math/9803042']\n",
      "math/9807117, keywords shared with input:[('authors:ArturoMagidin', 1)] discovery chain: ['math/9807117', 'authors:ArturoMagidin', 'math/9803042']\n",
      "math/0412413, keywords shared with input:[('authors:ArturoMagidin', 1)] discovery chain: ['math/0412413', 'authors:ArturoMagidin', 'math/9803042']\n",
      "math/9804072, keywords shared with input:[('authors:ArturoMagidin', 1)] discovery chain: ['math/9804072', 'authors:ArturoMagidin', 'math/9803042']\n",
      "math/9807115, keywords shared with input:[('authors:ArturoMagidin', 1)] discovery chain: ['math/9807115', 'authors:ArturoMagidin', 'math/9803042']\n",
      "math/0006065, keywords shared with input:[('authors:ArturoMagidin', 1)] discovery chain: ['math/0006065', 'authors:ArturoMagidin', 'math/9803042']\n",
      "math/9807120, keywords shared with input:[('authors:ArturoMagidin', 1)] discovery chain: ['math/9807120', 'authors:ArturoMagidin', 'math/9803042']\n",
      "math/0405087, keywords shared with input:[('authors:ArturoMagidin', 1)] discovery chain: ['math/0405087', 'authors:ArturoMagidin', 'math/9803042']\n",
      "math/9802066, keywords shared with input:[('authors:ArturoMagidin', 1)] discovery chain: ['math/9802066', 'authors:ArturoMagidin', 'math/9803042']\n",
      "math/0102215, keywords shared with input:[('authors:ArturoMagidin', 1)] discovery chain: ['math/0102215', 'authors:ArturoMagidin', 'math/9803042']\n",
      "math/0506578, keywords shared with input:[('authors:ArturoMagidin', 1)] discovery chain: ['math/0506578', 'authors:ArturoMagidin', 'math/9803042']\n",
      "math/0401423, keywords shared with input:[('authors:ArturoMagidin', 1)] discovery chain: ['math/0401423', 'authors:ArturoMagidin', 'math/9803042']\n",
      "math/9807114, keywords shared with input:[('authors:ArturoMagidin', 1)] discovery chain: ['math/9807114', 'authors:ArturoMagidin', 'math/9803042']\n",
      "math/0105233, keywords shared with input:[('authors:ArturoMagidin', 1)] discovery chain: ['math/0105233', 'authors:ArturoMagidin', 'math/9803042']\n",
      "math/0307345, keywords shared with input:[('authors:ArturoMagidin', 1)] discovery chain: ['math/0307345', 'authors:ArturoMagidin', 'math/9803042']\n",
      "1911.01203, keywords shared with input:[('authors:AlexanderJ.M.Kell', 1)] discovery chain: ['1911.01203', 'authors:AlexanderJ.M.Kell', '2206.02196']\n",
      "2103.04327, keywords shared with input:[('authors:AlexanderJ.M.Kell', 1)] discovery chain: ['2103.04327', 'authors:AlexanderJ.M.Kell', '2206.02196']\n",
      "2109.05024, keywords shared with input:[('authors:AlexanderJ.M.Kell', 1)] discovery chain: ['2109.05024', 'authors:AlexanderJ.M.Kell', '2206.02196']\n",
      "2005.10346, keywords shared with input:[('authors:AlexanderJ.M.Kell', 1)] discovery chain: ['2005.10346', 'authors:AlexanderJ.M.Kell', '2206.02196']\n",
      "2006.01601, keywords shared with input:[('authors:AlexanderJ.M.Kell', 1)] discovery chain: ['2006.01601', 'authors:AlexanderJ.M.Kell', '2206.02196']\n",
      "2011.02342, keywords shared with input:[('authors:AlexanderJ.M.Kell', 1)] discovery chain: ['2011.02342', 'authors:AlexanderJ.M.Kell', '2206.02196']\n",
      "2011.04079, keywords shared with input:[('authors:AlexanderJ.M.Kell', 1)] discovery chain: ['2011.04079', 'authors:AlexanderJ.M.Kell', '2206.02196']\n",
      "35\n",
      "['1203.6769', '1307.8309', '1207.0687', '1203.1747', '1205.6088', '1208.0453', 'math/9807119', '708.2391', 'math/0404499', 'math/9807116', 'math/0606093', 'math/0403188', '805.4', 'math/9807118', 'math/9807117', 'math/0412413', 'math/9804072', 'math/9807115', 'math/0006065', 'math/9807120', 'math/0405087', 'math/9802066', 'math/0102215', 'math/0506578', 'math/0401423', 'math/9807114', 'math/0105233', 'math/0307345', '1911.01203', '2103.04327', '2109.05024', '2005.10346', '2006.01601', '2011.02342', '2011.04079']\n",
      "[('authors:ArturoMagidin', 22), ('authors:AlexanderJ.M.Kell', 7), ('authors:MajidHamzavi', 6)]\n"
     ]
    }
   ],
   "source": [
    "# Perform a Simple Test\n",
    "print(\"Num data points: \", len(data_ids))\n",
    "print(\"Num Authors: \", len(keyword_author_ids))\n",
    "\n",
    "query_list = G.get_data_ids_sorted_by_num_edges()[:4]\n",
    "print(query_list)\n",
    "most_relevant_res = G.find_relevant(query_list, 100, method=\"debug\")\n",
    "print(len(most_relevant_res))\n",
    "# add metadata to most_relevant res results so that can see keywords in common with query, keywords and nodes traversed to find result\n",
    "print(most_relevant_res)\n",
    "print(G.get_common_keywords_from_id_list(most_relevant_res))\n",
    "\n",
    "# Try different types of data\n",
    "# Try multiple authors\n",
    "\n",
    "# make vector_db you create the persistent database\n",
    "# run query_gen, inference, compute_metrics\n",
    "\n",
    "# pass the database name to inference script\n",
    "# Update the infer function and read in all of the values from the database"
   ]
  }
 ],
 "metadata": {
  "kernelspec": {
   "display_name": "Python 3 (ipykernel)",
   "language": "python",
   "name": "python3"
  },
  "language_info": {
   "codemirror_mode": {
    "name": "ipython",
    "version": 3
   },
   "file_extension": ".py",
   "mimetype": "text/x-python",
   "name": "python",
   "nbconvert_exporter": "python",
   "pygments_lexer": "ipython3",
   "version": "3.10.11"
  }
 },
 "nbformat": 4,
 "nbformat_minor": 4
}
