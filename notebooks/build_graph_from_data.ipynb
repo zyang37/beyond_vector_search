{
 "cells": [
  {
   "cell_type": "code",
   "execution_count": 41,
   "metadata": {
    "tags": []
   },
   "outputs": [
    {
     "name": "stdout",
     "output_type": "stream",
     "text": [
      "The autoreload extension is already loaded. To reload it, use:\n",
      "  %reload_ext autoreload\n"
     ]
    }
   ],
   "source": [
    "%load_ext autoreload\n",
    "%autoreload 2\n",
    "\n",
    "import os \n",
    "import sys\n",
    "sys.path.append(\"../\")\n",
    "\n",
    "from vector_graph.bipartite_graph_dict import BipartiteGraphDict\n",
    "from utils.parse_arxiv import make_keyword_id, parse_authors, parse_categories\n",
    "import pandas as pd\n",
    "import pdb"
   ]
  },
  {
   "cell_type": "code",
   "execution_count": 42,
   "metadata": {},
   "outputs": [],
   "source": [
    "chunks = pd.read_json(\n",
    "    \"../data/arxiv-metadata-oai-snapshot.json\", lines=True, chunksize=50000\n",
    ")\n",
    "\n",
    "keyword_author_ids = set()\n",
    "\n",
    "\n",
    "\n",
    "keyword_category_ids = set()\n",
    "data_ids = set()\n",
    "edges = []\n",
    "\n",
    "for chunk in chunks:\n",
    "    df = chunk[[\"id\", \"authors\", \"categories\"]]\n",
    "    for i, row in df.iterrows():\n",
    "        data_id = str(row[\"id\"])\n",
    "        # print(parse_authors(row[\"authors\"])[0])\n",
    "        # print(data_id)\n",
    "        # print(parse_categories(row['categories']))\n",
    "        keyword_author_id = make_keyword_id(\"authors\", parse_authors(row[\"authors\"])[0])\n",
    "        # keyword_category_id = make_keyword_id(\"categories\", parse_categories(row['categories']))\n",
    "        edges.append((data_id, keyword_author_id))\n",
    "\n",
    "        # edges.append((data_id, keyword_category_id))\n",
    "\n",
    "        keyword_author_ids.add(keyword_author_id)\n",
    "\n",
    "        data_ids.add(data_id)\n",
    "\n",
    "        # keyword_category_ids.add(keyword_category_id)"
   ]
  },
  {
   "cell_type": "code",
   "execution_count": 43,
   "metadata": {},
   "outputs": [],
   "source": [
    "G = BipartiteGraphDict()\n",
    "G.add_data_nodes(data_ids)\n",
    "G.add_keyword_nodes(keyword_author_ids)\n",
    "G.add_raw_edges(edges)"
   ]
  },
  {
   "cell_type": "code",
   "execution_count": 76,
   "metadata": {},
   "outputs": [
    {
     "name": "stdout",
     "output_type": "stream",
     "text": [
      "Num data points:  2358543\n",
      "Num Authors:  990452\n",
      "['2206.02196', 'math/9803042', 'q-alg/9602017', '1208.5337']\n",
      "num rounds 2\n",
      "35\n",
      "['1203.6769', '1307.8309', '1207.0687', '1203.1747', '1205.6088', '1208.0453', 'math/9807119', '708.2391', 'math/0404499', 'math/9807116', 'math/0606093', 'math/0403188', '805.4', 'math/9807118', 'math/9807117', 'math/0412413', 'math/9804072', 'math/9807115', 'math/0006065', 'math/9807120', 'math/0405087', 'math/9802066', 'math/0102215', 'math/0506578', 'math/0401423', 'math/9807114', 'math/0105233', 'math/0307345', '1911.01203', '2103.04327', '2109.05024', '2005.10346', '2006.01601', '2011.02342', '2011.04079']\n",
      "[('authors:ArturoMagidin', 22), ('authors:AlexanderJ.M.Kell', 7), ('authors:MajidHamzavi', 6)]\n"
     ]
    }
   ],
   "source": [
    "# Perform a Simple Test\n",
    "print(\"Num data points: \", len(data_ids))\n",
    "print(\"Num Authors: \", len(keyword_author_ids))\n",
    "\n",
    "query_list = G.get_data_ids_sorted_by_num_edges()[:4]\n",
    "print(query_list)\n",
    "most_relevant_res = G.find_relevant(\n",
    "    query_list,\n",
    "    100,\n",
    ")\n",
    "print(len(most_relevant_res))\n",
    "# add metadata to most_relevant res results so that can see keywords in common with query, keywords and nodes traversed to find result\n",
    "print(most_relevant_res)\n",
    "print(G.get_common_keywords_from_id_list(most_relevant_res))"
   ]
  }
 ],
 "metadata": {
  "kernelspec": {
   "display_name": "Python 3 (ipykernel)",
   "language": "python",
   "name": "python3"
  },
  "language_info": {
   "codemirror_mode": {
    "name": "ipython",
    "version": 3
   },
   "file_extension": ".py",
   "mimetype": "text/x-python",
   "name": "python",
   "nbconvert_exporter": "python",
   "pygments_lexer": "ipython3",
   "version": "3.10.11"
  }
 },
 "nbformat": 4,
 "nbformat_minor": 4
}
