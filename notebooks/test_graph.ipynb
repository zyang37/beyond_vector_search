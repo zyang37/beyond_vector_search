{
 "cells": [
  {
   "cell_type": "code",
   "execution_count": 25,
   "metadata": {
    "tags": []
   },
   "outputs": [
    {
     "name": "stdout",
     "output_type": "stream",
     "text": [
      "The autoreload extension is already loaded. To reload it, use:\n",
      "  %reload_ext autoreload\n"
     ]
    }
   ],
   "source": [
    "%load_ext autoreload\n",
    "%autoreload 2\n",
    "\n",
    "import os \n",
    "import sys\n",
    "sys.path.append(\"../\")\n",
    "\n",
    "from vector_graph.bipartite_graph_networkx import BipartiteGraphNetworkx\n",
    "from vector_graph.bipartite_graph_dict import BipartiteGraphDict\n",
    "from utils.parse_arxiv import make_keyword_id, parse_authors, parse_categories"
   ]
  },
  {
   "cell_type": "code",
   "execution_count": 26,
   "metadata": {},
   "outputs": [],
   "source": [
    "# Setup the Data\n",
    "data_ids = [\"A\", \"B\", \"C\", \"D\"]\n",
    "categories = [\"1\", \"2\", \"3\", \"4\"]\n",
    "values = categories\n",
    "keyword_ids = []\n",
    "for i in range(len(categories)):\n",
    "    keyword_ids.append(make_keyword_id(categories[i], values[i]))"
   ]
  },
  {
   "cell_type": "code",
   "execution_count": 27,
   "metadata": {},
   "outputs": [
    {
     "name": "stdout",
     "output_type": "stream",
     "text": [
      "[('A', '1:1'), ('A', '2:2'), ('B', '1:1'), ('B', '2:2'), ('B', '3:3'), ('C', '4:4'), ('D', '4:4'), ('C', '3:3')]\n"
     ]
    }
   ],
   "source": [
    "# Put the data in the graph\n",
    "G = BipartiteGraphNetworkx()\n",
    "G.add_data_nodes(data_ids)\n",
    "G.add_keyword_nodes(keyword_ids)\n",
    "G.add_edges(\n",
    "    [\"A\", \"A\", \"B\", \"B\", \"B\", \"C\", \"D\", \"C\"],\n",
    "    [\"1:1\", \"2:2\", \"1:1\", \"2:2\", \"3:3\", \"4:4\", \"4:4\", \"3:3\"],\n",
    ")"
   ]
  },
  {
   "cell_type": "code",
   "execution_count": 28,
   "metadata": {},
   "outputs": [
    {
     "name": "stdout",
     "output_type": "stream",
     "text": [
      "True\n"
     ]
    },
    {
     "data": {
      "image/png": "[encoded data removed]",
      "text/plain": [
       "<Figure size 640x480 with 1 Axes>"
      ]
     },
     "metadata": {},
     "output_type": "display_data"
    }
   ],
   "source": [
    "# Print the graph\n",
    "print(G.is_bipartite())\n",
    "G.draw_graph()"
   ]
  },
  {
   "cell_type": "code",
   "execution_count": 29,
   "metadata": {},
   "outputs": [
    {
     "name": "stdout",
     "output_type": "stream",
     "text": [
      "num search rounds: 2\n",
      "['B', 'D']\n"
     ]
    }
   ],
   "source": [
    "# Put the data in the graph\n",
    "G_Dict = BipartiteGraphDict()\n",
    "G_Dict.add_data_nodes(data_ids)\n",
    "G_Dict.add_keyword_nodes(keyword_ids)\n",
    "G_Dict.add_edges(\n",
    "    [\"A\", \"A\", \"B\", \"B\", \"B\", \"C\", \"D\", \"C\"],\n",
    "    [\"1:1\", \"2:2\", \"1:1\", \"2:2\", \"3:3\", \"4:4\", \"4:4\", \"3:3\"],\n",
    ")\n",
    "print(G_Dict.find_relevant([\"A\", \"C\"], 6))"
   ]
  },
  {
   "cell_type": "code",
   "execution_count": 32,
   "metadata": {},
   "outputs": [
    {
     "name": "stdout",
     "output_type": "stream",
     "text": [
      "Num data points:  4\n",
      "['B']\n",
      "num search rounds: 3\n",
      "A, keywords shared with input:[('2:2', 1), ('1:1', 1)] discovery chain: ['A', '1:1', 'B']\n",
      "C, keywords shared with input:[('3:3', 1)] discovery chain: ['C', '3:3', 'B']\n",
      "D, keywords shared with input:[] discovery chain: ['D', '4:4', 'C', '3:3', 'B']\n",
      "3\n",
      "['A', 'C', 'D']\n",
      "[('4:4', 2), ('2:2', 1), ('1:1', 1), ('3:3', 1)]\n"
     ]
    }
   ],
   "source": [
    "# Perform a Simple Test\n",
    "print(\"Num data points: \", len(data_ids))\n",
    "\n",
    "query_list = G_Dict.get_data_ids_sorted_by_num_edges()[:1]\n",
    "print(query_list)\n",
    "most_relevant_res = G_Dict.find_relevant(query_list, 100, method=\"debug\")\n",
    "print(len(most_relevant_res))\n",
    "# add metadata to most_relevant res results so that can see keywords in common with query, keywords and nodes traversed to find result\n",
    "print(most_relevant_res)\n",
    "print(G_Dict.get_keyword_totals_of_id_list(most_relevant_res))"
   ]
  }
 ],
 "metadata": {
  "kernelspec": {
   "display_name": "Python 3 (ipykernel)",
   "language": "python",
   "name": "python3"
  },
  "language_info": {
   "codemirror_mode": {
    "name": "ipython",
    "version": 3
   },
   "file_extension": ".py",
   "mimetype": "text/x-python",
   "name": "python",
   "nbconvert_exporter": "python",
   "pygments_lexer": "ipython3",
   "version": "3.10.11"
  }
 },
 "nbformat": 4,
 "nbformat_minor": 4
}
