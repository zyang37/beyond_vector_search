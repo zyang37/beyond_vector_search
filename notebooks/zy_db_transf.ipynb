{
 "cells": [
  {
   "cell_type": "code",
   "execution_count": 1,
   "id": "f42442e9-7811-4d24-8f11-f7519eaf4584",
   "metadata": {},
   "outputs": [
    {
     "name": "stderr",
     "output_type": "stream",
     "text": [
      "[nltk_data] Downloading package punkt to /home/zyang37/nltk_data...\n",
      "[nltk_data]   Package punkt is already up-to-date!\n"
     ]
    }
   ],
   "source": [
    "%matplotlib inline\n",
    "\n",
    "import pickle\n",
    "import chromadb\n",
    "import numpy as np\n",
    "from pprint import pprint\n",
    "from tqdm.auto import tqdm\n",
    "import sys\n",
    "from matplotlib import pyplot as plt\n",
    "import random\n",
    "\n",
    "sys.path.append(\"../\")\n",
    "from utils.parse_arxiv import *\n",
    "from make_vectordb import get_embedding_model"
   ]
  },
  {
   "cell_type": "code",
   "execution_count": 2,
   "id": "81ba7b50-c2a1-473d-99df-dd27923a60f8",
   "metadata": {},
   "outputs": [
    {
     "data": {
      "text/plain": [
       "[Collection(name=arxiv_title_meta),\n",
       " Collection(name=cnn_headline),\n",
       " Collection(name=arxiv_title),\n",
       " Collection(name=arxiv_abstract),\n",
       " Collection(name=arxiv_abstract_meta),\n",
       " Collection(name=cnn_article)]"
      ]
     },
     "execution_count": 2,
     "metadata": {},
     "output_type": "execute_result"
    }
   ],
   "source": [
    "chroma_client = chromadb.PersistentClient(path=\"../data/chroma_dbs/\")\n",
    "chroma_client.list_collections()"
   ]
  },
  {
   "cell_type": "code",
   "execution_count": 4,
   "id": "8d11efa4-777c-4a28-80be-369ad7f71ddc",
   "metadata": {},
   "outputs": [],
   "source": [
    "coll_name = \"arxiv_title\"\n",
    "collection = chroma_client.get_collection(name=coll_name)\n",
    "\n",
    "results = collection.query(query_texts=\"testing\", n_results=5, include=['embeddings'])\n",
    "res_embeds = np.array(results['embeddings'][0])"
   ]
  },
  {
   "cell_type": "code",
   "execution_count": 4,
   "id": "a17e33e1-916e-4f5a-b214-74616c6f3872",
   "metadata": {},
   "outputs": [],
   "source": [
    "graph_path = \"../data/arxiv/graph.pickle\"\n",
    "\n",
    "graph = pickle.load(open(graph_path, \"rb\"))"
   ]
  },
  {
   "cell_type": "code",
   "execution_count": 7,
   "id": "8e28e6f7-506e-4438-9b46-7135a9fab684",
   "metadata": {},
   "outputs": [
    {
     "data": {
      "text/plain": [
       "{'id_astro-ph/9411001'}"
      ]
     },
     "execution_count": 7,
     "metadata": {},
     "output_type": "execute_result"
    }
   ],
   "source": [
    "graph.keyword_dict['author:&JeremiahP.Ostriker']"
   ]
  },
  {
   "cell_type": "code",
   "execution_count": 10,
   "id": "05426cbd",
   "metadata": {},
   "outputs": [
    {
     "data": {
      "text/plain": [
       "{'author:AhmedBendary',\n",
       " 'author:AmrAbdelazizandC.EmreKoksal',\n",
       " 'category:cs.IT',\n",
       " 'category:eess.SP',\n",
       " 'category:math.IT',\n",
       " 'journal:IEEE Journal on Selected Areas in Information Theory 2021',\n",
       " 'year:2021'}"
      ]
     },
     "execution_count": 10,
     "metadata": {},
     "output_type": "execute_result"
    }
   ],
   "source": [
    "graph.data_dict['id_1910.13652']"
   ]
  },
  {
   "cell_type": "code",
   "execution_count": null,
   "id": "8841eab9",
   "metadata": {},
   "outputs": [],
   "source": []
  }
 ],
 "metadata": {
  "kernelspec": {
   "display_name": "Python 3 (ipykernel)",
   "language": "python",
   "name": "python3"
  },
  "language_info": {
   "codemirror_mode": {
    "name": "ipython",
    "version": 3
   },
   "file_extension": ".py",
   "mimetype": "text/x-python",
   "name": "python",
   "nbconvert_exporter": "python",
   "pygments_lexer": "ipython3",
   "version": "3.9.18"
  }
 },
 "nbformat": 4,
 "nbformat_minor": 5
}
