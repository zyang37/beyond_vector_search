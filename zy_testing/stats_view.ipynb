{
 "cells": [
  {
   "cell_type": "code",
   "execution_count": 1,
   "metadata": {},
   "outputs": [],
   "source": [
    "import pandas as pd"
   ]
  },
  {
   "cell_type": "code",
   "execution_count": 5,
   "metadata": {},
   "outputs": [
    {
     "data": {
      "text/html": [
       "<div>\n",
       "<style scoped>\n",
       "    .dataframe tbody tr th:only-of-type {\n",
       "        vertical-align: middle;\n",
       "    }\n",
       "\n",
       "    .dataframe tbody tr th {\n",
       "        vertical-align: top;\n",
       "    }\n",
       "\n",
       "    .dataframe thead th {\n",
       "        text-align: right;\n",
       "    }\n",
       "</style>\n",
       "<table border=\"1\" class=\"dataframe\">\n",
       "  <thead>\n",
       "    <tr style=\"text-align: right;\">\n",
       "      <th></th>\n",
       "      <th>filename</th>\n",
       "      <th>distances_title_vector_mean</th>\n",
       "      <th>distances_hybrid_mean</th>\n",
       "      <th>distances_weighted_hybrid_mean</th>\n",
       "    </tr>\n",
       "  </thead>\n",
       "  <tbody>\n",
       "    <tr>\n",
       "      <th>0</th>\n",
       "      <td>k5_gk1_tmp_workload.csv</td>\n",
       "      <td>0.699592</td>\n",
       "      <td>0.702138</td>\n",
       "      <td>0.702493</td>\n",
       "    </tr>\n",
       "  </tbody>\n",
       "</table>\n",
       "</div>"
      ],
      "text/plain": [
       "                  filename  distances_title_vector_mean  \\\n",
       "0  k5_gk1_tmp_workload.csv                     0.699592   \n",
       "\n",
       "   distances_hybrid_mean  distances_weighted_hybrid_mean  \n",
       "0               0.702138                        0.702493  "
      ]
     },
     "execution_count": 5,
     "metadata": {},
     "output_type": "execute_result"
    }
   ],
   "source": [
    "# df = pd.read_csv(\"/data/zyang/beyond_vector_search/data/workloads/inference_results_stats.csv\")\n",
    "df = pd.read_csv(\"stats.csv\")\n",
    "\n",
    "\n",
    "# pd.set_option(\"display.max_rows\", None)\n",
    "\n",
    "\n",
    "\n",
    "mean_columns = [col for col in df.columns if \"mean\" in col or \"filename\" in col]\n",
    "\n",
    "\n",
    "\n",
    "df_mean = df[mean_columns]\n",
    "df_mean"
   ]
  }
 ],
 "metadata": {
  "kernelspec": {
   "display_name": "venv",
   "language": "python",
   "name": "python3"
  },
  "language_info": {
   "codemirror_mode": {
    "name": "ipython",
    "version": 3
   },
   "file_extension": ".py",
   "mimetype": "text/x-python",
   "name": "python",
   "nbconvert_exporter": "python",
   "pygments_lexer": "ipython3",
   "version": "3.10.11"
  }
 },
 "nbformat": 4,
 "nbformat_minor": 2
}
