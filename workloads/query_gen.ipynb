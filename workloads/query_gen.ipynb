{
 "cells": [
  {
   "cell_type": "code",
   "execution_count": 1,
   "id": "76ac430d-6907-43f2-9ff1-46dfa6dd3efd",
   "metadata": {
    "tags": []
   },
   "outputs": [],
   "source": [
    "import sys\n",
    "import random\n",
    "import pickle\n",
    "import argparse\n",
    "import numpy as np\n",
    "import pandas as pd\n",
    "from tqdm.auto import tqdm\n",
    "from pprint import pprint\n",
    "\n",
    "sys.path.append(\"../\")\n",
    "\n",
    "from utils.parse_arxiv import *\n",
    "from keyword_extractor import *\n",
    "from workloads.query_gen import *"
   ]
  },
  {
   "cell_type": "code",
   "execution_count": 2,
   "id": "81344f9b-63e3-400e-bdfd-95a12627e98e",
   "metadata": {
    "tags": []
   },
   "outputs": [],
   "source": [
    "file = open('../data/filtered_data.pickle', 'rb')\n",
    "data = pickle.load(file)\n",
    "file.close()\n",
    "\n",
    "data.reset_index(drop=True, inplace=True)\n",
    "\n",
    "# data.head(3)"
   ]
  },
  {
   "cell_type": "code",
   "execution_count": 3,
   "id": "8f22b7ba-2fa3-48a2-b8d8-314c948c6f3d",
   "metadata": {
    "tags": []
   },
   "outputs": [],
   "source": [
    "save_path = None\n",
    "k = 1\n",
    "paper_num = 2\n",
    "num_queries_per_paper = 10"
   ]
  },
  {
   "cell_type": "code",
   "execution_count": 4,
   "id": "3288ba20",
   "metadata": {
    "tags": []
   },
   "outputs": [
    {
     "data": {
      "text/html": [
       "<div>\n",
       "<style scoped>\n",
       "    .dataframe tbody tr th:only-of-type {\n",
       "        vertical-align: middle;\n",
       "    }\n",
       "\n",
       "    .dataframe tbody tr th {\n",
       "        vertical-align: top;\n",
       "    }\n",
       "\n",
       "    .dataframe thead th {\n",
       "        text-align: right;\n",
       "    }\n",
       "</style>\n",
       "<table border=\"1\" class=\"dataframe\">\n",
       "  <thead>\n",
       "    <tr style=\"text-align: right;\">\n",
       "      <th></th>\n",
       "      <th>id</th>\n",
       "      <th>submitter</th>\n",
       "      <th>authors</th>\n",
       "      <th>title</th>\n",
       "      <th>comments</th>\n",
       "      <th>journal-ref</th>\n",
       "      <th>doi</th>\n",
       "      <th>report-no</th>\n",
       "      <th>categories</th>\n",
       "      <th>license</th>\n",
       "      <th>abstract</th>\n",
       "      <th>versions</th>\n",
       "      <th>update_date</th>\n",
       "      <th>authors_parsed</th>\n",
       "      <th>cat_freq</th>\n",
       "      <th>journal_freq</th>\n",
       "      <th>date_freq</th>\n",
       "    </tr>\n",
       "  </thead>\n",
       "  <tbody>\n",
       "    <tr>\n",
       "      <th>11629</th>\n",
       "      <td>2303.08207</td>\n",
       "      <td>Arslan Chaudhry</td>\n",
       "      <td>Jiefeng Chen, Timothy Nguyen, Dilan Gorur, Ars...</td>\n",
       "      <td>Is forgetting less a good inductive bias for f...</td>\n",
       "      <td>Published as a conference paper at ICLR 2023</td>\n",
       "      <td>ICLR 2023</td>\n",
       "      <td>None</td>\n",
       "      <td>None</td>\n",
       "      <td>cs.LG cs.AI</td>\n",
       "      <td>http://creativecommons.org/licenses/by/4.0/</td>\n",
       "      <td>One of the main motivations of studying cont...</td>\n",
       "      <td>[{'version': 'v1', 'created': 'Tue, 14 Mar 202...</td>\n",
       "      <td>2023-03-16</td>\n",
       "      <td>[[Chen, Jiefeng, ], [Nguyen, Timothy, ], [Goru...</td>\n",
       "      <td>6910</td>\n",
       "      <td>17.0</td>\n",
       "      <td>747</td>\n",
       "    </tr>\n",
       "    <tr>\n",
       "      <th>5508</th>\n",
       "      <td>1911.04417</td>\n",
       "      <td>Agisilaos Chartsias</td>\n",
       "      <td>Agisilaos Chartsias, Giorgos Papanastasiou, Ch...</td>\n",
       "      <td>Disentangle, align and fuse for multimodal and...</td>\n",
       "      <td>None</td>\n",
       "      <td>IEEE Transactions on Medical Imaging (2020)</td>\n",
       "      <td>10.1109/TMI.2020.3036584</td>\n",
       "      <td>None</td>\n",
       "      <td>cs.CV</td>\n",
       "      <td>http://arxiv.org/licenses/nonexclusive-distrib...</td>\n",
       "      <td>Magnetic resonance (MR) protocols rely on se...</td>\n",
       "      <td>[{'version': 'v1', 'created': 'Mon, 11 Nov 201...</td>\n",
       "      <td>2020-11-11</td>\n",
       "      <td>[[Chartsias, Agisilaos, ], [Papanastasiou, Gio...</td>\n",
       "      <td>50512</td>\n",
       "      <td>4.0</td>\n",
       "      <td>993</td>\n",
       "    </tr>\n",
       "  </tbody>\n",
       "</table>\n",
       "</div>"
      ],
      "text/plain": [
       "               id            submitter  \\\n",
       "11629  2303.08207      Arslan Chaudhry   \n",
       "5508   1911.04417  Agisilaos Chartsias   \n",
       "\n",
       "                                                 authors  \\\n",
       "11629  Jiefeng Chen, Timothy Nguyen, Dilan Gorur, Ars...   \n",
       "5508   Agisilaos Chartsias, Giorgos Papanastasiou, Ch...   \n",
       "\n",
       "                                                   title  \\\n",
       "11629  Is forgetting less a good inductive bias for f...   \n",
       "5508   Disentangle, align and fuse for multimodal and...   \n",
       "\n",
       "                                           comments  \\\n",
       "11629  Published as a conference paper at ICLR 2023   \n",
       "5508                                           None   \n",
       "\n",
       "                                       journal-ref                       doi  \\\n",
       "11629                                    ICLR 2023                      None   \n",
       "5508   IEEE Transactions on Medical Imaging (2020)  10.1109/TMI.2020.3036584   \n",
       "\n",
       "      report-no   categories  \\\n",
       "11629      None  cs.LG cs.AI   \n",
       "5508       None        cs.CV   \n",
       "\n",
       "                                                 license  \\\n",
       "11629        http://creativecommons.org/licenses/by/4.0/   \n",
       "5508   http://arxiv.org/licenses/nonexclusive-distrib...   \n",
       "\n",
       "                                                abstract  \\\n",
       "11629    One of the main motivations of studying cont...   \n",
       "5508     Magnetic resonance (MR) protocols rely on se...   \n",
       "\n",
       "                                                versions update_date  \\\n",
       "11629  [{'version': 'v1', 'created': 'Tue, 14 Mar 202...  2023-03-16   \n",
       "5508   [{'version': 'v1', 'created': 'Mon, 11 Nov 201...  2020-11-11   \n",
       "\n",
       "                                          authors_parsed  cat_freq  \\\n",
       "11629  [[Chen, Jiefeng, ], [Nguyen, Timothy, ], [Goru...      6910   \n",
       "5508   [[Chartsias, Agisilaos, ], [Papanastasiou, Gio...     50512   \n",
       "\n",
       "       journal_freq  date_freq  \n",
       "11629          17.0        747  \n",
       "5508            4.0        993  "
      ]
     },
     "execution_count": 4,
     "metadata": {},
     "output_type": "execute_result"
    }
   ],
   "source": [
    "file = open('../data/filtered_data.pickle', 'rb')\n",
    "data = pickle.load(file)\n",
    "file.close()\n",
    "data.reset_index(drop=True, inplace=True)\n",
    "\n",
    "# sample rows from the data\n",
    "samples = data.sample(paper_num)\n",
    "# sample = data.sample(1).iloc[0]\n",
    "samples"
   ]
  },
  {
   "cell_type": "code",
   "execution_count": 6,
   "id": "d720f3d3",
   "metadata": {
    "tags": []
   },
   "outputs": [],
   "source": [
    "sample_dict_list = []\n",
    "for index, row in samples.iterrows():\n",
    "    one_sample = dict(row)\n",
    "    sample_dict_list.append(one_sample)\n",
    "    \n",
    "paper_id_list = []\n",
    "queries_list = []\n",
    "for d in sample_dict_list:\n",
    "    query_template = QueryTemplate()\n",
    "    query_template.parse_info(one_sample)\n",
    "    queries_list.extend(query_template.generate_queries(num=num_queries_per_paper))\n",
    "    paper_id_list.extend([d['id']]*num_queries_per_paper)"
   ]
  },
  {
   "cell_type": "code",
   "execution_count": 21,
   "id": "55d2d319-cf42-47be-a4b7-579bd2c17d46",
   "metadata": {
    "tags": []
   },
   "outputs": [
    {
     "name": "stdout",
     "output_type": "stream",
     "text": [
      "       1. 2303.08207: find papers written by < ScottSemple > about < t2 abdominal segmentation > published at < IEEE Transactions on Medical Imaging (2020) >\n",
      "       2. 2303.08207: find papers from year 2020 on < cs.CV > about < blood oxygenation level dependent > published at < IEEE Transactions on Medical Imaging (2020) >\n",
      "       3. 2303.08207: find papers written by < DavidE.Newby > from year 2020 published at < IEEE Transactions on Medical Imaging (2020) >\n",
      "       4. 2303.08207: find papers from year 2020 on < cs.CV > published at < IEEE Transactions on Medical Imaging (2020) >\n",
      "       5. 2303.08207: find papers on < cs.CV > about < accurate segmentation masks > published at < IEEE Transactions on Medical Imaging (2020) >\n",
      "       6. 2303.08207: find papers from year 2020 on < cs.CV > published at < IEEE Transactions on Medical Imaging (2020) >\n",
      "       7. 2303.08207: find papers from year 2020 on < cs.CV > published at < IEEE Transactions on Medical Imaging (2020) >\n",
      "       8. 2303.08207: find papers from year 2020 on < cs.CV > about < slice pairing > published at < IEEE Transactions on Medical Imaging (2020) >\n",
      "       9. 2303.08207: find papers written by < RohanDharmakumar > from year 2020 published at < IEEE Transactions on Medical Imaging (2020) >\n",
      "      10. 2303.08207: find papers written by < AgisilaosChartsias > on < cs.CV > published at < IEEE Transactions on Medical Imaging (2020) >\n",
      "      11. 1911.04417: find papers on < cs.CV > published at < IEEE Transactions on Medical Imaging (2020) >\n",
      "      12. 1911.04417: find papers written by < RohanDharmakumar > from year 2020 on < cs.CV > about < cardiac segmentation > published at < IEEE Transactions on Medical Imaging (2020) >\n",
      "      13. 1911.04417: find papers from year 2020 on < cs.CV > published at < IEEE Transactions on Medical Imaging (2020) >\n",
      "      14. 1911.04417: find papers from year 2020\n",
      "      15. 1911.04417: find papers from year 2020 on < cs.CV > published at < IEEE Transactions on Medical Imaging (2020) >\n",
      "      16. 1911.04417: find papers on < cs.CV > about < imaging factors > published at < IEEE Transactions on Medical Imaging (2020) >\n",
      "      17. 1911.04417: find papers written by < GiorgosPapanastasiou > on < cs.CV > about < modality processing >\n",
      "      18. 1911.04417: find papers from year 2020\n",
      "      19. 1911.04417: find papers from year 2020 on < cs.CV > about < modality processing > published at < IEEE Transactions on Medical Imaging (2020) >\n",
      "      20. 1911.04417: find papers written by < SotiriosA.Tsaftaris > from year 2020 on < cs.CV >\n"
     ]
    }
   ],
   "source": [
    "for i, q in enumerate(queries_list):\n",
    "    # print(\"{}; {}. : {}\".format(paper_id_list[i], i+1, q))\n",
    "    # format print \"query_num. id: query\" fix space\n",
    "    print(\"{:8d}. {:10}: {}\".format(i+1, paper_id_list[i], q))"
   ]
  },
  {
   "cell_type": "code",
   "execution_count": null,
   "id": "edd30479-740f-49cd-b8b2-af8436219833",
   "metadata": {},
   "outputs": [],
   "source": []
  },
  {
   "cell_type": "code",
   "execution_count": null,
   "id": "5192636c-e769-4874-b465-d98992909414",
   "metadata": {},
   "outputs": [],
   "source": []
  },
  {
   "cell_type": "code",
   "execution_count": null,
   "id": "b7226c6a-e1a7-4b84-9b66-26b7fc2ec420",
   "metadata": {
    "tags": []
   },
   "outputs": [],
   "source": []
  },
  {
   "cell_type": "code",
   "execution_count": null,
   "id": "74df2991-543d-4813-a410-4930ff67bba9",
   "metadata": {},
   "outputs": [],
   "source": []
  }
 ],
 "metadata": {
  "kernelspec": {
   "display_name": "Python 3 (ipykernel)",
   "language": "python",
   "name": "python3"
  },
  "language_info": {
   "codemirror_mode": {
    "name": "ipython",
    "version": 3
   },
   "file_extension": ".py",
   "mimetype": "text/x-python",
   "name": "python",
   "nbconvert_exporter": "python",
   "pygments_lexer": "ipython3",
   "version": "3.9.18"
  }
 },
 "nbformat": 4,
 "nbformat_minor": 5
}
