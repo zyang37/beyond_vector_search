{
 "cells": [
  {
   "cell_type": "code",
   "execution_count": 1,
   "id": "76ac430d-6907-43f2-9ff1-46dfa6dd3efd",
   "metadata": {
    "tags": []
   },
   "outputs": [],
   "source": [
    "import os\n",
    "import sys\n",
    "import json\n",
    "import random\n",
    "import pickle\n",
    "import argparse\n",
    "import numpy as np\n",
    "import pandas as pd\n",
    "from tqdm.auto import tqdm\n",
    "from pprint import pprint\n",
    "\n",
    "sys.path.append(\"../\")\n",
    "\n",
    "from utils.parse_arxiv import *\n",
    "from keyword_extractor import *\n",
    "from workloads.query_gen import *"
   ]
  },
  {
   "cell_type": "code",
   "execution_count": 2,
   "id": "3288ba20",
   "metadata": {
    "tags": []
   },
   "outputs": [
    {
     "data": {
      "text/html": [
       "<div>\n",
       "<style scoped>\n",
       "    .dataframe tbody tr th:only-of-type {\n",
       "        vertical-align: middle;\n",
       "    }\n",
       "\n",
       "    .dataframe tbody tr th {\n",
       "        vertical-align: top;\n",
       "    }\n",
       "\n",
       "    .dataframe thead th {\n",
       "        text-align: right;\n",
       "    }\n",
       "</style>\n",
       "<table border=\"1\" class=\"dataframe\">\n",
       "  <thead>\n",
       "    <tr style=\"text-align: right;\">\n",
       "      <th></th>\n",
       "      <th>id</th>\n",
       "      <th>submitter</th>\n",
       "      <th>authors</th>\n",
       "      <th>title</th>\n",
       "      <th>comments</th>\n",
       "      <th>journal-ref</th>\n",
       "      <th>doi</th>\n",
       "      <th>report-no</th>\n",
       "      <th>categories</th>\n",
       "      <th>license</th>\n",
       "      <th>abstract</th>\n",
       "      <th>versions</th>\n",
       "      <th>update_date</th>\n",
       "      <th>authors_parsed</th>\n",
       "      <th>cat_freq</th>\n",
       "      <th>journal_freq</th>\n",
       "      <th>date_freq</th>\n",
       "    </tr>\n",
       "  </thead>\n",
       "  <tbody>\n",
       "    <tr>\n",
       "      <th>2305</th>\n",
       "      <td>1610.02975</td>\n",
       "      <td>Jiuzu Hong</td>\n",
       "      <td>Jiuzu Hong</td>\n",
       "      <td>Conformal blocks, Verlinde formula and diagram...</td>\n",
       "      <td>To appear in Advances in mathematics. 44 pages</td>\n",
       "      <td>Adv. Math. (2019)</td>\n",
       "      <td>10.1016/j.aim.2019.106731</td>\n",
       "      <td>None</td>\n",
       "      <td>math.RT math-ph math.AG math.MP math.QA</td>\n",
       "      <td>http://arxiv.org/licenses/nonexclusive-distrib...</td>\n",
       "      <td>The Verlinde formula computes the dimension ...</td>\n",
       "      <td>[{'version': 'v1', 'created': 'Mon, 10 Oct 201...</td>\n",
       "      <td>2019-07-16</td>\n",
       "      <td>[[Hong, Jiuzu, ]]</td>\n",
       "      <td>11</td>\n",
       "      <td>2.0</td>\n",
       "      <td>618</td>\n",
       "    </tr>\n",
       "  </tbody>\n",
       "</table>\n",
       "</div>"
      ],
      "text/plain": [
       "              id   submitter     authors  \\\n",
       "2305  1610.02975  Jiuzu Hong  Jiuzu Hong   \n",
       "\n",
       "                                                  title  \\\n",
       "2305  Conformal blocks, Verlinde formula and diagram...   \n",
       "\n",
       "                                            comments        journal-ref  \\\n",
       "2305  To appear in Advances in mathematics. 44 pages  Adv. Math. (2019)   \n",
       "\n",
       "                            doi report-no  \\\n",
       "2305  10.1016/j.aim.2019.106731      None   \n",
       "\n",
       "                                   categories  \\\n",
       "2305  math.RT math-ph math.AG math.MP math.QA   \n",
       "\n",
       "                                                license  \\\n",
       "2305  http://arxiv.org/licenses/nonexclusive-distrib...   \n",
       "\n",
       "                                               abstract  \\\n",
       "2305    The Verlinde formula computes the dimension ...   \n",
       "\n",
       "                                               versions update_date  \\\n",
       "2305  [{'version': 'v1', 'created': 'Mon, 10 Oct 201...  2019-07-16   \n",
       "\n",
       "         authors_parsed  cat_freq  journal_freq  date_freq  \n",
       "2305  [[Hong, Jiuzu, ]]        11           2.0        618  "
      ]
     },
     "execution_count": 2,
     "metadata": {},
     "output_type": "execute_result"
    }
   ],
   "source": [
    "save_path = None\n",
    "k = 1\n",
    "paper_num = 1\n",
    "num_queries_per_paper = 10\n",
    "\n",
    "file = open(\"../data/filtered_data.pickle\", \"rb\")\n",
    "data = pickle.load(file)\n",
    "file.close()\n",
    "data.reset_index(drop=True, inplace=True)\n",
    "\n",
    "# sample rows from the data\n",
    "samples = data.sample(paper_num)\n",
    "# sample = data.sample(1).iloc[0]\n",
    "samples"
   ]
  },
  {
   "cell_type": "code",
   "execution_count": 3,
   "id": "d720f3d3",
   "metadata": {
    "tags": []
   },
   "outputs": [
    {
     "ename": "NameError",
     "evalue": "name 'infor_prob' is not defined",
     "output_type": "error",
     "traceback": [
      "\u001b[0;31m---------------------------------------------------------------------------\u001b[0m",
      "\u001b[0;31mNameError\u001b[0m                                 Traceback (most recent call last)",
      "Cell \u001b[0;32mIn[3], line 9\u001b[0m\n\u001b[1;32m      7\u001b[0m queries_list \u001b[38;5;241m=\u001b[39m []\n\u001b[1;32m      8\u001b[0m \u001b[38;5;28;01mfor\u001b[39;00m d \u001b[38;5;129;01min\u001b[39;00m sample_dict_list:\n\u001b[0;32m----> 9\u001b[0m     query_template \u001b[38;5;241m=\u001b[39m QueryTemplate(\u001b[43minfor_prob\u001b[49m)\n\u001b[1;32m     10\u001b[0m     query_template\u001b[38;5;241m.\u001b[39mparse_info(one_sample)\n\u001b[1;32m     11\u001b[0m     queries_list\u001b[38;5;241m.\u001b[39mextend(query_template\u001b[38;5;241m.\u001b[39mgenerate_queries(num\u001b[38;5;241m=\u001b[39mnum_queries_per_paper))\n",
      "\u001b[0;31mNameError\u001b[0m: name 'infor_prob' is not defined"
     ]
    }
   ],
   "source": [
    "sample_dict_list = []\n",
    "for index, row in samples.iterrows():\n",
    "    one_sample = dict(row)\n",
    "    sample_dict_list.append(one_sample)\n",
    "\n",
    "paper_id_list = []\n",
    "queries_list = []\n",
    "for d in sample_dict_list:\n",
    "    query_template = QueryTemplate(infor_prob)\n",
    "    query_template.parse_info(one_sample)\n",
    "    queries_list.extend(query_template.generate_queries(num=num_queries_per_paper))\n",
    "    paper_id_list.extend([d[\"id\"]] * num_queries_per_paper)"
   ]
  },
  {
   "cell_type": "code",
   "execution_count": 10,
   "id": "55d2d319-cf42-47be-a4b7-579bd2c17d46",
   "metadata": {
    "tags": []
   },
   "outputs": [
    {
     "name": "stdout",
     "output_type": "stream",
     "text": [
      "       1.    709.184: find papers written by < J.-G.BijDeVaate and F.Schreuder > about < 6 bondwires and optimal thermal isolation and whole system > published at < Dans Proceedings of 12th International Workshop on Thermal investigations of ICs - THERMINIC 2006, Nice : France (2006) >\n",
      "       2.    709.184: find papers written by < J.-G.BijDeVaate and F.Schreuder > on < cond-mat.mtrl-sci > about < necessary power since and optimal thermal isolation and whole system and necessary active area >\n",
      "       3.    709.184: find papers written by < F.Schreuder > on < cond-mat.mtrl-sci > about < 61 mw and needs 6 bondwires > published at < Dans Proceedings of 12th International Workshop on Thermal investigations of ICs - THERMINIC 2006, Nice : France (2006) >\n",
      "       4.    709.184: find papers from year 2007 about < noise temperature and lna locally would significantly decrease > published at < Dans Proceedings of 12th International Workshop on Thermal investigations of ICs - THERMINIC 2006, Nice : France (2006) >\n",
      "       5.    709.184: find papers from year 2007 about < lna locally would significantly decrease > published at < Dans Proceedings of 12th International Workshop on Thermal investigations of ICs - THERMINIC 2006, Nice : France (2006) >\n",
      "       6.    709.184: find papers written by < F.Schreuder and J.-G.BijDeVaate > on < cond-mat.mtrl-sci > about < 31 mw > published at < Dans Proceedings of 12th International Workshop on Thermal investigations of ICs - THERMINIC 2006, Nice : France (2006) >\n",
      "       7.    709.184: find papers from year 2007 about < first lna must > published at < Dans Proceedings of 12th International Workshop on Thermal investigations of ICs - THERMINIC 2006, Nice : France (2006) >\n",
      "       8.    709.184: find papers written by < J.-G.BijDeVaate and F.Schreuder > from year 2007 on < cond-mat.mtrl-sci > about < power consumption and lna locally would significantly decrease and 61 mw and optimal thermal isolation and 6 bondwires > published at < Dans Proceedings of 12th International Workshop on Thermal investigations of ICs - THERMINIC 2006, Nice : France (2006) >\n",
      "       9.    709.184: find papers on < cond-mat.mtrl-sci > about < optimal thermal isolation and lna locally would significantly decrease and necessary active area > published at < Dans Proceedings of 12th International Workshop on Thermal investigations of ICs - THERMINIC 2006, Nice : France (2006) >\n",
      "      10.    709.184: find papers written by < F.Schreuder > on < cond-mat.mtrl-sci > about < square kilometre array and necessary power since and whole system and lna locally would significantly decrease >\n"
     ]
    }
   ],
   "source": [
    "for i, q in enumerate(queries_list):\n",
    "    # print(\"{}; {}. : {}\".format(paper_id_list[i], i+1, q))\n",
    "    # format print \"query_num. id: query\" fix space\n",
    "    print(\"{:8d}. {:10}: {}\".format(i + 1, paper_id_list[i], q))"
   ]
  },
  {
   "cell_type": "code",
   "execution_count": null,
   "id": "edd30479-740f-49cd-b8b2-af8436219833",
   "metadata": {},
   "outputs": [],
   "source": []
  },
  {
   "cell_type": "markdown",
   "metadata": {},
   "source": [
    "# Workloads\n",
    "- different prob cfg\n",
    "    - heavy infor from abstract vs light (0.3, 0.5, 1)\n",
    "- different data coverage\n",
    "    - covering papers (5%, 10%, 30%, 50%, 70%)"
   ]
  },
  {
   "cell_type": "code",
   "execution_count": 23,
   "id": "b7226c6a-e1a7-4b84-9b66-26b7fc2ec420",
   "metadata": {
    "tags": []
   },
   "outputs": [],
   "source": [
    "for p in [0.1, 0.3, 0.5, 1.0]:\n",
    "    file_path = \"cfgs/prob_{}.json\".format(p)\n",
    "    infor_prob = {\n",
    "        \"author\": 0.5,\n",
    "        \"year\": 0.5,\n",
    "        \"categories\": 0.5,\n",
    "        \"keywords\": p,\n",
    "        \"journal\": 0.5,\n",
    "    }\n",
    "\n",
    "    # save prob to a json file\n",
    "    with open(file_path, \"w\") as f:\n",
    "        json.dump(infor_prob, f)"
   ]
  },
  {
   "cell_type": "code",
   "execution_count": 4,
   "id": "74df2991-543d-4813-a410-4930ff67bba9",
   "metadata": {},
   "outputs": [
    {
     "name": "stdout",
     "output_type": "stream",
     "text": [
      "#!/bin/bash\n",
      "python query_gen.py -pn 646 -n 20 -s ../data/arxiv_workloads/cv0_05_num20_prob0_1.csv --prob cfgs/prob_0.1.json\n",
      "python query_gen.py -pn 646 -n 20 -s ../data/arxiv_workloads/cv0_05_num20_prob0_3.csv --prob cfgs/prob_0.3.json\n",
      "python query_gen.py -pn 646 -n 20 -s ../data/arxiv_workloads/cv0_05_num20_prob0_5.csv --prob cfgs/prob_0.5.json\n",
      "python query_gen.py -pn 646 -n 20 -s ../data/arxiv_workloads/cv0_05_num20_prob1_0.csv --prob cfgs/prob_1.0.json\n",
      "python query_gen.py -pn 1292 -n 10 -s ../data/arxiv_workloads/cv0_1_num10_prob0_1.csv --prob cfgs/prob_0.1.json\n",
      "python query_gen.py -pn 1292 -n 10 -s ../data/arxiv_workloads/cv0_1_num10_prob0_3.csv --prob cfgs/prob_0.3.json\n",
      "python query_gen.py -pn 1292 -n 10 -s ../data/arxiv_workloads/cv0_1_num10_prob0_5.csv --prob cfgs/prob_0.5.json\n",
      "python query_gen.py -pn 1292 -n 10 -s ../data/arxiv_workloads/cv0_1_num10_prob1_0.csv --prob cfgs/prob_1.0.json\n",
      "python query_gen.py -pn 3877 -n 5 -s ../data/arxiv_workloads/cv0_3_num5_prob0_1.csv --prob cfgs/prob_0.1.json\n",
      "python query_gen.py -pn 3877 -n 5 -s ../data/arxiv_workloads/cv0_3_num5_prob0_3.csv --prob cfgs/prob_0.3.json\n",
      "python query_gen.py -pn 3877 -n 5 -s ../data/arxiv_workloads/cv0_3_num5_prob0_5.csv --prob cfgs/prob_0.5.json\n",
      "python query_gen.py -pn 3877 -n 5 -s ../data/arxiv_workloads/cv0_3_num5_prob1_0.csv --prob cfgs/prob_1.0.json\n",
      "python query_gen.py -pn 6463 -n 3 -s ../data/arxiv_workloads/cv0_5_num3_prob0_1.csv --prob cfgs/prob_0.1.json\n",
      "python query_gen.py -pn 6463 -n 3 -s ../data/arxiv_workloads/cv0_5_num3_prob0_3.csv --prob cfgs/prob_0.3.json\n",
      "python query_gen.py -pn 6463 -n 3 -s ../data/arxiv_workloads/cv0_5_num3_prob0_5.csv --prob cfgs/prob_0.5.json\n",
      "python query_gen.py -pn 6463 -n 3 -s ../data/arxiv_workloads/cv0_5_num3_prob1_0.csv --prob cfgs/prob_1.0.json\n",
      "python query_gen.py -pn 9048 -n 2 -s ../data/arxiv_workloads/cv0_7_num2_prob0_1.csv --prob cfgs/prob_0.1.json\n",
      "python query_gen.py -pn 9048 -n 2 -s ../data/arxiv_workloads/cv0_7_num2_prob0_3.csv --prob cfgs/prob_0.3.json\n",
      "python query_gen.py -pn 9048 -n 2 -s ../data/arxiv_workloads/cv0_7_num2_prob0_5.csv --prob cfgs/prob_0.5.json\n",
      "python query_gen.py -pn 9048 -n 2 -s ../data/arxiv_workloads/cv0_7_num2_prob1_0.csv --prob cfgs/prob_1.0.json\n"
     ]
    }
   ],
   "source": [
    "# print bash script lines\n",
    "# example: python query_gen.py -pn 20 -n 2 -s workload.csv\n",
    "\n",
    "save_root = \"../data/arxiv_workloads/\"\n",
    "\n",
    "# bash script header\n",
    "print(\"#!/bin/bash\")\n",
    "for cv, num in zip([0.05, 0.1, 0.3, 0.5, 0.7], [20, 10, 5, 3, 2]):\n",
    "    # print(len(data) * cv * num)\n",
    "    for p in [0.1, 0.3, 0.5, 1.0]:\n",
    "        cfg_file_path = \"cfgs/prob_{}.json\".format(p)\n",
    "        save_csv_path = \"cv{}_num{}_prob{}.csv\".format(\n",
    "            str(cv).replace(\".\", \"_\"), int(num), str(p).replace(\".\", \"_\")\n",
    "        )\n",
    "        full_save_csv_path = os.path.join(save_root, save_csv_path)\n",
    "        print(\n",
    "            \"python query_gen.py -pn {} -n {} -s {} --prob {}\".format(\n",
    "                int(len(data) * cv), num, full_save_csv_path, cfg_file_path\n",
    "            )\n",
    "        )"
   ]
  },
  {
   "cell_type": "code",
   "execution_count": 14,
   "metadata": {},
   "outputs": [
    {
     "name": "stdout",
     "output_type": "stream",
     "text": [
      "#!/bin/bash\n",
      "python query_gen.py -pn 50 -n 20 -s ../data/arxiv_workloads/pn50_n20.csv\n",
      "python query_gen.py -pn 100 -n 10 -s ../data/arxiv_workloads/pn100_n10.csv\n",
      "python query_gen.py -pn 200 -n 5 -s ../data/arxiv_workloads/pn200_n5.csv\n",
      "python query_gen.py -pn 1000 -n 1 -s ../data/arxiv_workloads/pn1000_n1.csv\n"
     ]
    }
   ],
   "source": [
    "# NEW\n",
    "\n",
    "# print bash script lines\n",
    "# example: python query_gen.py -pn 20 -n 2 -s workload.csv\n",
    "\n",
    "save_root = \"../data/arxiv_workloads/\"\n",
    "\n",
    "# bash script header\n",
    "print(\"#!/bin/bash\")\n",
    "for cv, num in zip([50, 100, 200, 1000], [20, 10, 5, 1]):\n",
    "    # print(len(data) * cv * num)\n",
    "    save_csv_path = \"pn{}_n{}.csv\".format(\n",
    "        str(cv).replace(\".\", \"_\"), int(num)\n",
    "    )\n",
    "    full_save_csv_path = os.path.join(save_root, save_csv_path)\n",
    "    print(\n",
    "        \"python query_gen.py -pn {} -n {} -s {}\".format(int(cv), num, full_save_csv_path)\n",
    "    )"
   ]
  },
  {
   "cell_type": "code",
   "execution_count": null,
   "id": "45e22c8a",
   "metadata": {},
   "outputs": [],
   "source": []
  },
  {
   "cell_type": "code",
   "execution_count": null,
   "id": "c0b6e7da",
   "metadata": {},
   "outputs": [],
   "source": []
  }
 ],
 "metadata": {
  "kernelspec": {
   "display_name": "Python 3 (ipykernel)",
   "language": "python",
   "name": "python3"
  },
  "language_info": {
   "codemirror_mode": {
    "name": "ipython",
    "version": 3
   },
   "file_extension": ".py",
   "mimetype": "text/x-python",
   "name": "python",
   "nbconvert_exporter": "python",
   "pygments_lexer": "ipython3",
   "version": "3.9.18"
  }
 },
 "nbformat": 4,
 "nbformat_minor": 5
}
