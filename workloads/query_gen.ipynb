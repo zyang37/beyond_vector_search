{
 "cells": [
  {
   "cell_type": "code",
   "execution_count": 1,
   "id": "76ac430d-6907-43f2-9ff1-46dfa6dd3efd",
   "metadata": {
    "tags": []
   },
   "outputs": [],
   "source": [
    "import sys\n",
    "import random\n",
    "import pickle\n",
    "import argparse\n",
    "import numpy as np\n",
    "import pandas as pd\n",
    "from tqdm.auto import tqdm\n",
    "from pprint import pprint\n",
    "\n",
    "sys.path.append(\"../\")\n",
    "\n",
    "from utils.parse_arxiv import *\n",
    "from keyword_extractor import *\n",
    "from workloads.query_gen import *"
   ]
  },
  {
   "cell_type": "code",
   "execution_count": 2,
   "id": "81344f9b-63e3-400e-bdfd-95a12627e98e",
   "metadata": {
    "tags": []
   },
   "outputs": [],
   "source": [
    "file = open('../data/filtered_data.pickle', 'rb')\n",
    "data = pickle.load(file)\n",
    "file.close()\n",
    "\n",
    "data.reset_index(drop=True, inplace=True)\n",
    "\n",
    "# data.head(3)"
   ]
  },
  {
   "cell_type": "code",
   "execution_count": 3,
   "id": "a71a5c75-0033-4221-9fc0-50e4261c2e50",
   "metadata": {
    "tags": []
   },
   "outputs": [
    {
     "data": {
      "text/plain": [
       "'  The shape of the hadronic form factor f+(q2) in the decay D0 --> K- e+ nue has been measured in a model independent analysis and compared with theoretical calculations. We use 75 fb(-1) of data recorded by the BABAR detector at the PEPII electron-positron collider. The corresponding decay branching fraction, relative to the decay D0 --> K- pi+, has also been measured to be RD = BR(D0 --> K- e+ nue)/BR(D0 --> K- pi+) = 0.927 +/- 0.007 +/- 0.012. From these results, and using the present world average value for BR(D0 --> K- pi+), the normalization of the form factor at q2=0 is determined to be f+(0)=0.727 +/- 0.007 +/- 0.005 +/- 0.007 where the uncertainties are statistical, systematic, and from external inputs, respectively. '"
      ]
     },
     "execution_count": 3,
     "metadata": {},
     "output_type": "execute_result"
    }
   ],
   "source": [
    "tmp = dict(data.iloc[0])\n",
    "tmp['abstract'].replace('\\n', ' ')"
   ]
  },
  {
   "cell_type": "code",
   "execution_count": 4,
   "metadata": {},
   "outputs": [
    {
     "data": {
      "text/plain": [
       "'  A network identification by deconvolution (NID) method is applied to the\\nthermal transient response of packaged and unpackaged microcoolers. A thin film\\nresistor on top of the device is used as the heat source and the temperature\\nsensor. The package and the bonding thermal resistances can be easily\\nidentified by comparing structure functions. High-speed coplanar probes are\\nused to achieve a short time resolution of roughly 100ns in the transient\\ntemperature response. This is used to separate the thermal properties of the\\nthin film from the substrate. The obtained thermal resistances of the buffer\\nlayer and Silicon substrate are consistent with the theoretical calculations.\\nIn order to estimate the superlattice thermal resistance and separate it from\\nthe thin SiNx layer deposited underneath the thin film resistive sensor, an\\norder of magnitude faster thermal transient response is needed.\\n'"
      ]
     },
     "execution_count": 4,
     "metadata": {},
     "output_type": "execute_result"
    }
   ],
   "source": [
    "data.iloc[100]['abstract']"
   ]
  },
  {
   "cell_type": "code",
   "execution_count": 5,
   "id": "5097f1d1-07a0-478b-858c-dbdc31181d04",
   "metadata": {},
   "outputs": [
    {
     "name": "stdout",
     "output_type": "stream",
     "text": [
      "title       :None\n",
      "abstract    :None\n",
      "author      :[]\n",
      "year        :None\n",
      "categories  :None\n",
      "keywords    :[]\n",
      "journal     :None\n"
     ]
    }
   ],
   "source": [
    "qd = QueryTemplate()\n",
    "qd.print_info()"
   ]
  },
  {
   "cell_type": "code",
   "execution_count": 6,
   "id": "a9c7135b-08d1-4796-b733-b8ca8c92dd8c",
   "metadata": {
    "tags": []
   },
   "outputs": [
    {
     "name": "stdout",
     "output_type": "stream",
     "text": [
      "title       :Measurement of the Hadronic Form Factor in D0 --> K- e+ nue Decays\n",
      "abstract    :The shape of the hadronic form factor f+(q2) in the decay D0 --> K- e+ nue has been measured in a model independent analysis and compared with theoretical calculations. We use 75 fb(-1) of data recorded by the BABAR detector at the PEPII electron-positron collider. The corresponding decay branching fraction, relative to the decay D0 --> K- pi+, has also been measured to be RD = BR(D0 --> K- e+ nue)/BR(D0 --> K- pi+) = 0.927 +/- 0.007 +/- 0.012. From these results, and using the present world average value for BR(D0 --> K- pi+), the normalization of the form factor at q2=0 is determined to be f+(0)=0.727 +/- 0.007 +/- 0.005 +/- 0.007 where the uncertainties are statistical, systematic, and from external inputs, respectively.\n",
      "author      :['TheBABARCollaboration', 'B.Aubert', 'etal']\n",
      "year        :2015\n",
      "categories  :['hep-ex']\n",
      "keywords    :['present world average value', 'corresponding decay branching fraction', 'model independent analysis', 'form factor', 'theoretical calculations', 'positron collider', 'pepii electron', 'external inputs', 'data recorded', 'babar detector', 'q2', '0', '0']\n",
      "journal     :Phys.Rev.D76:052005,2007\n"
     ]
    }
   ],
   "source": [
    "qd.parse_info(tmp)\n",
    "qd.print_info()"
   ]
  },
  {
   "cell_type": "code",
   "execution_count": 7,
   "id": "a6be699b-a906-4bf9-861d-be58ad8bf57b",
   "metadata": {},
   "outputs": [
    {
     "data": {
      "text/plain": [
       "'find papers titled < Measurement of the Hadronic Form Factor in D0 --> K- e+ nue Decays >'"
      ]
     },
     "execution_count": 7,
     "metadata": {},
     "output_type": "execute_result"
    }
   ],
   "source": [
    "qd.generate_query(title=True)"
   ]
  },
  {
   "cell_type": "code",
   "execution_count": 8,
   "metadata": {},
   "outputs": [
    {
     "name": "stdout",
     "output_type": "stream",
     "text": [
      "find papers related to < data recorded > published at < Phys.Rev.D76:052005,2007 >\n",
      "find papers written by < TheBABARCollaboration > from year 2015 about < hep-ex > related to < 0 >\n",
      "find papers written by < TheBABARCollaboration > from year 2015 about < hep-ex > related to < theoretical calculations >\n",
      "find papers written by < etal > about < hep-ex > published at < Phys.Rev.D76:052005,2007 >\n",
      "find papers about < hep-ex > published at < Phys.Rev.D76:052005,2007 >\n",
      "find papers about < hep-ex > published at < Phys.Rev.D76:052005,2007 >\n",
      "find papers related to < 0 >\n",
      "find papers written by < B.Aubert > from year 2015 published at < Phys.Rev.D76:052005,2007 >\n",
      "find papers written by < B.Aubert > from year 2015 about < hep-ex > published at < Phys.Rev.D76:052005,2007 >\n",
      "find papers written by < TheBABARCollaboration > from year 2015 related to < theoretical calculations > published at < Phys.Rev.D76:052005,2007 >\n"
     ]
    }
   ],
   "source": [
    "for i in range(10):\n",
    "    print(qd.generate_query())"
   ]
  },
  {
   "cell_type": "code",
   "execution_count": null,
   "metadata": {},
   "outputs": [],
   "source": []
  },
  {
   "cell_type": "code",
   "execution_count": null,
   "metadata": {},
   "outputs": [],
   "source": []
  }
 ],
 "metadata": {
  "kernelspec": {
   "display_name": "Python 3 (ipykernel)",
   "language": "python",
   "name": "python3"
  },
  "language_info": {
   "codemirror_mode": {
    "name": "ipython",
    "version": 3
   },
   "file_extension": ".py",
   "mimetype": "text/x-python",
   "name": "python",
   "nbconvert_exporter": "python",
   "pygments_lexer": "ipython3",
   "version": "3.9.18"
  }
 },
 "nbformat": 4,
 "nbformat_minor": 5
}
